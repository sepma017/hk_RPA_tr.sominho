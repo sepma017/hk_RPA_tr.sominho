{
  "nbformat": 4,
  "nbformat_minor": 0,
  "metadata": {
    "colab": {
      "name": "01. numpy",
      "provenance": [],
      "collapsed_sections": []
    },
    "kernelspec": {
      "name": "python3",
      "display_name": "Python 3"
    },
    "language_info": {
      "name": "python"
    }
  },
  "cells": [
    {
      "cell_type": "markdown",
      "metadata": {
        "id": "zm1_QEC6bgSU"
      },
      "source": [
        "# numpy란?\n",
        "* `!pip install numpy`\n",
        "* Numerical Python의 약자\n",
        "* 수치 계산을 하기 위한 파이썬 모듈\n",
        "* 벡터, 행렬, 텐서 단위의 대용량 수치 연산이 빠르게 진행\n",
        "  * 행렬 병렬 연산\n",
        "  \n",
        "**배열 병렬 연산에 특화 되어 있다.**"
      ]
    },
    {
      "cell_type": "markdown",
      "metadata": {
        "id": "UTICWa8Wb_uQ"
      },
      "source": [
        "# #1. numpy의 배열을 `ndarray`라고 합니다.\n"
      ]
    },
    {
      "cell_type": "code",
      "metadata": {
        "colab": {
          "base_uri": "https://localhost:8080/"
        },
        "id": "RqDya0Asdr9D",
        "outputId": "df15052f-e4dd-4f3c-dafc-5121fc95ff1c"
      },
      "source": [
        "import numpy as np\n",
        "\n",
        "# 1. 파이썬의 list를 ndarray화 하기\n",
        "py_list = [1, 2, 3]\n",
        "arr1 = np.array(py_list)\n",
        "arr1"
      ],
      "execution_count": null,
      "outputs": [
        {
          "output_type": "execute_result",
          "data": {
            "text/plain": [
              "array([1, 2, 3])"
            ]
          },
          "metadata": {},
          "execution_count": 1
        }
      ]
    },
    {
      "cell_type": "code",
      "metadata": {
        "colab": {
          "base_uri": "https://localhost:8080/"
        },
        "id": "52eHDaFZd4eG",
        "outputId": "e25c4505-6bdc-4ccd-8ee6-b922b0199cf4"
      },
      "source": [
        "type(arr1)"
      ],
      "execution_count": null,
      "outputs": [
        {
          "output_type": "execute_result",
          "data": {
            "text/plain": [
              "numpy.ndarray"
            ]
          },
          "metadata": {},
          "execution_count": 2
        }
      ]
    },
    {
      "cell_type": "code",
      "metadata": {
        "colab": {
          "base_uri": "https://localhost:8080/"
        },
        "id": "9bj1ml-1eNZn",
        "outputId": "ab1756a9-384d-4c26-f2fa-83e47d5acd9a"
      },
      "source": [
        "arr1[1]"
      ],
      "execution_count": null,
      "outputs": [
        {
          "output_type": "execute_result",
          "data": {
            "text/plain": [
              "2"
            ]
          },
          "metadata": {},
          "execution_count": 3
        }
      ]
    },
    {
      "cell_type": "markdown",
      "metadata": {
        "id": "qEm0fxKZeUVm"
      },
      "source": [
        "# #2. 배열의 종류\n",
        "1. 스칼라(scalar)\n",
        "  * 0차원 데이터\n",
        "  * 단순하게 측정한 하나의 값\n",
        "2. 벡터(vector)\n",
        "  * 1차원 데이터( 1차원 배열 )\n",
        "  * **스칼라가 연속적으로 여러 개 모여 있는 것**\n",
        "  * 백터 내에 데이터가 `N`개가 있으면 `N 차원 벡터`라고 한다.\n",
        "    * 수학적인 표현\n",
        "3. 행렬(Matrix)\n",
        "  * 2차원 데이터( 2차원 배열 )\n",
        "  * 1차원 배열인 벡터가 여러 개 모여 있는 것\n",
        "4. 텐서(Tensor)\n",
        "  * 3차원 이상의 데이터 ( 3차원 이상의 배열 )\n",
        "  * `N 차원 배열`을 그냥 텐서라고 한다.\n",
        "    * `0 Rank Tensor` - 스칼라\n",
        "    * `1 Rank Tensor` - 벡터\n",
        "    * **`2 Rank Tensor` - 행렬**\n",
        "    * `3 Rank Tensor` - 텐서\n",
        "**2 Rank Tensor(행렬) 부터 머신러닝 라이브러리 및 딥러닝 프레임워크에 넣을 수 있음**"
      ]
    },
    {
      "cell_type": "markdown",
      "metadata": {
        "id": "qp6A0kEyexMe"
      },
      "source": [
        "### [번외] 라이브러리와 프레임워크\n",
        "1. 모듈 == 라이브러리\n",
        "  * 모듈 : 프로그램의 작은 한 조각을 사용할 수 있도록 준비해 놓은 것\n",
        "  * 라이브러리 : 부품의 기능들을 모아 놓은 것\n",
        "2. 프레임워크\n",
        "  * 경기장 같은 느낌\n",
        "  * 허허벌판에서 축구를 하려고 한다.\n",
        "    * 선도 그어야 하고, 축구 골대 세워야 하고, 풀도 뽑고, 돌도 치우고, 평탄화도 해야 하고....\n",
        "  * 축구장 가서 축구하면 훨씬 편하게 축구를 할 수 있다\n",
        "  * `Tensorflow` 프레임워크는?\n",
        "    * 딥러닝을 손쉽게 하기 위한 환경"
      ]
    },
    {
      "cell_type": "markdown",
      "metadata": {
        "id": "VJPKSEfiiWy-"
      },
      "source": [
        "## 3. numpy 함수 알아보기"
      ]
    },
    {
      "cell_type": "markdown",
      "metadata": {
        "id": "0xw_uQiQjnut"
      },
      "source": [
        "## 3-1. `np.arange`\n",
        "* 파이썬의 `range`함수와 매우 흡사"
      ]
    },
    {
      "cell_type": "code",
      "metadata": {
        "colab": {
          "base_uri": "https://localhost:8080/"
        },
        "id": "I9Yi2uXdjwUH",
        "outputId": "b3dbf58a-8905-4cdb-f6ba-c117bfb0d6ac"
      },
      "source": [
        "arr = np.arange(10) # 0 ~ 9까지 들어있는 정수 배열을 생성\n",
        "arr"
      ],
      "execution_count": null,
      "outputs": [
        {
          "output_type": "execute_result",
          "data": {
            "text/plain": [
              "array([0, 1, 2, 3, 4, 5, 6, 7, 8, 9])"
            ]
          },
          "metadata": {},
          "execution_count": 4
        }
      ]
    },
    {
      "cell_type": "code",
      "metadata": {
        "colab": {
          "base_uri": "https://localhost:8080/"
        },
        "id": "JQimmJGLj4LV",
        "outputId": "30d21d6b-86ce-4923-cffb-19e7e9565e03"
      },
      "source": [
        "np.arange(1, 10, 2)"
      ],
      "execution_count": null,
      "outputs": [
        {
          "output_type": "execute_result",
          "data": {
            "text/plain": [
              "array([1, 3, 5, 7, 9])"
            ]
          },
          "metadata": {},
          "execution_count": 6
        }
      ]
    },
    {
      "cell_type": "markdown",
      "metadata": {
        "id": "wowhOVlnj8o1"
      },
      "source": [
        "리스트와 배열의 차이점\n",
        "* 리스트는 파이썬에 존재하는 모든 것을 담아낼 수가 있다.\n",
        "  * `[\"Hello\", 10, 3.14, True, 함수, 클래스]`\n",
        "* 배열은 보통 숫자 데이터만 들어가 있을 때 배열이라고 한다."
      ]
    },
    {
      "cell_type": "markdown",
      "metadata": {
        "id": "OF-g_RRakOzf"
      },
      "source": [
        "## 3-2. 다차원 배열 만들기\n",
        "* 2차원 이상의 배열 (행렬 이상)을 다차원 배열이라고 한다.\n",
        "  * `np.arange()` : 1차원 정수 배열 만들기\n",
        "  * `np.zeros()` : 0으로 채워진 0 행렬(`zero-vector`)를 만들 때 사용\n",
        "  * `np.ones()` : 1로 채워진 1 행렬(`ones-vector`)를 만들 때 사용\n",
        "  * `np.full()` : 지정한 숫자로 채워진 행렬를 만들 때 사용"
      ]
    },
    {
      "cell_type": "code",
      "metadata": {
        "colab": {
          "base_uri": "https://localhost:8080/"
        },
        "id": "sUzY7ff6lJF3",
        "outputId": "baf4b941-e308-48e1-99c7-b3bd178059e4"
      },
      "source": [
        "np.zeros(5) # 0으로 채워진 5차원 벡터를 생성 - 1차원 배열"
      ],
      "execution_count": null,
      "outputs": [
        {
          "output_type": "execute_result",
          "data": {
            "text/plain": [
              "array([0., 0., 0., 0., 0.])"
            ]
          },
          "metadata": {},
          "execution_count": 7
        }
      ]
    },
    {
      "cell_type": "code",
      "metadata": {
        "colab": {
          "base_uri": "https://localhost:8080/"
        },
        "id": "d1qJNdZ1laGn",
        "outputId": "afd2bbac-6914-443e-a7ae-9d748945b80c"
      },
      "source": [
        "np.zeros((2, 3))"
      ],
      "execution_count": null,
      "outputs": [
        {
          "output_type": "execute_result",
          "data": {
            "text/plain": [
              "array([[0., 0., 0.],\n",
              "       [0., 0., 0.]])"
            ]
          },
          "metadata": {},
          "execution_count": 8
        }
      ]
    },
    {
      "cell_type": "code",
      "metadata": {
        "colab": {
          "base_uri": "https://localhost:8080/"
        },
        "id": "WlY2xTExl6y_",
        "outputId": "fdf35729-62f6-4ac8-c5d0-7a2808611224"
      },
      "source": [
        "np.zeros((3, 2, 3, 4)) # 4차원 배열\n",
        "                       # 3차원 배열의 개수 : 3개씩\n",
        "                       # 2차원 배열의 개수 : 2개씩\n",
        "                       # 1차원 배열의 개수 : 3개씩\n",
        "                       # 0차원 데이터 개수 : 4개씩"
      ],
      "execution_count": null,
      "outputs": [
        {
          "output_type": "execute_result",
          "data": {
            "text/plain": [
              "array([[[[0., 0., 0., 0.],\n",
              "         [0., 0., 0., 0.],\n",
              "         [0., 0., 0., 0.]],\n",
              "\n",
              "        [[0., 0., 0., 0.],\n",
              "         [0., 0., 0., 0.],\n",
              "         [0., 0., 0., 0.]]],\n",
              "\n",
              "\n",
              "       [[[0., 0., 0., 0.],\n",
              "         [0., 0., 0., 0.],\n",
              "         [0., 0., 0., 0.]],\n",
              "\n",
              "        [[0., 0., 0., 0.],\n",
              "         [0., 0., 0., 0.],\n",
              "         [0., 0., 0., 0.]]],\n",
              "\n",
              "\n",
              "       [[[0., 0., 0., 0.],\n",
              "         [0., 0., 0., 0.],\n",
              "         [0., 0., 0., 0.]],\n",
              "\n",
              "        [[0., 0., 0., 0.],\n",
              "         [0., 0., 0., 0.],\n",
              "         [0., 0., 0., 0.]]]])"
            ]
          },
          "metadata": {},
          "execution_count": 9
        }
      ]
    },
    {
      "cell_type": "code",
      "metadata": {
        "colab": {
          "base_uri": "https://localhost:8080/"
        },
        "id": "EgRDQqvnnlrf",
        "outputId": "406dd922-8a4a-4d0d-9e47-d68d4dbc1afd"
      },
      "source": [
        "np.ones(5)"
      ],
      "execution_count": null,
      "outputs": [
        {
          "output_type": "execute_result",
          "data": {
            "text/plain": [
              "array([1., 1., 1., 1., 1.])"
            ]
          },
          "metadata": {},
          "execution_count": 10
        }
      ]
    },
    {
      "cell_type": "code",
      "metadata": {
        "colab": {
          "base_uri": "https://localhost:8080/"
        },
        "id": "4VS32YiioSQW",
        "outputId": "eb06e971-e340-4d07-e254-a3cf040ab739"
      },
      "source": [
        "np.ones((2, 3, 4))"
      ],
      "execution_count": null,
      "outputs": [
        {
          "output_type": "execute_result",
          "data": {
            "text/plain": [
              "array([[[1., 1., 1., 1.],\n",
              "        [1., 1., 1., 1.],\n",
              "        [1., 1., 1., 1.]],\n",
              "\n",
              "       [[1., 1., 1., 1.],\n",
              "        [1., 1., 1., 1.],\n",
              "        [1., 1., 1., 1.]]])"
            ]
          },
          "metadata": {},
          "execution_count": 11
        }
      ]
    },
    {
      "cell_type": "markdown",
      "metadata": {
        "id": "OXioSlJNoaAF"
      },
      "source": [
        "5로 채워진 배열을 만들고 싶다"
      ]
    },
    {
      "cell_type": "code",
      "metadata": {
        "colab": {
          "base_uri": "https://localhost:8080/"
        },
        "id": "xCBRPnMVosIl",
        "outputId": "dcece84e-5d87-4ccf-c1c1-fbc582c1b839"
      },
      "source": [
        "np.ones(5) * 5"
      ],
      "execution_count": null,
      "outputs": [
        {
          "output_type": "execute_result",
          "data": {
            "text/plain": [
              "array([5., 5., 5., 5., 5.])"
            ]
          },
          "metadata": {},
          "execution_count": 12
        }
      ]
    },
    {
      "cell_type": "code",
      "metadata": {
        "colab": {
          "base_uri": "https://localhost:8080/"
        },
        "id": "l0DP4cwHovIm",
        "outputId": "c2081493-7cb0-47e6-a912-b4e5ca71ef34"
      },
      "source": [
        "# np.full을 이용하면 지정한 숫자로 채워진 N차원 배열을 만들어 낼 수 있다.\n",
        "np.full((2, 3), 7)"
      ],
      "execution_count": null,
      "outputs": [
        {
          "output_type": "execute_result",
          "data": {
            "text/plain": [
              "array([[7, 7, 7],\n",
              "       [7, 7, 7]])"
            ]
          },
          "metadata": {},
          "execution_count": 22
        }
      ]
    },
    {
      "cell_type": "markdown",
      "metadata": {
        "id": "cvy3x_f8o9IU"
      },
      "source": [
        "## 3-3 단위 행렬(항등 행렬) 만들기\n",
        "* `np.eye`, `np.identity`\n"
      ]
    },
    {
      "cell_type": "code",
      "metadata": {
        "colab": {
          "base_uri": "https://localhost:8080/"
        },
        "id": "ePkNWToQpl4c",
        "outputId": "b0b79c94-d5ea-4574-c983-30a88fdc02d1"
      },
      "source": [
        "np.eye(3)"
      ],
      "execution_count": null,
      "outputs": [
        {
          "output_type": "execute_result",
          "data": {
            "text/plain": [
              "array([[1., 0., 0.],\n",
              "       [0., 1., 0.],\n",
              "       [0., 0., 1.]])"
            ]
          },
          "metadata": {},
          "execution_count": 15
        }
      ]
    },
    {
      "cell_type": "code",
      "metadata": {
        "colab": {
          "base_uri": "https://localhost:8080/"
        },
        "id": "6wsyLJd1prqW",
        "outputId": "24cad434-49eb-4fb6-e77d-4ec058858659"
      },
      "source": [
        "# 대각 행렬(np.diag 사용하면 만들 수 있어요)도 생성 가능!\n",
        "np.eye(3) * 5.5"
      ],
      "execution_count": null,
      "outputs": [
        {
          "output_type": "execute_result",
          "data": {
            "text/plain": [
              "array([[5.5, 0. , 0. ],\n",
              "       [0. , 5.5, 0. ],\n",
              "       [0. , 0. , 5.5]])"
            ]
          },
          "metadata": {},
          "execution_count": 16
        }
      ]
    },
    {
      "cell_type": "code",
      "metadata": {
        "colab": {
          "base_uri": "https://localhost:8080/"
        },
        "id": "1ckHM2H0p6Z8",
        "outputId": "a45f680a-357a-48a4-b670-85104fa573f2"
      },
      "source": [
        "np.eye(3, 4)"
      ],
      "execution_count": null,
      "outputs": [
        {
          "output_type": "execute_result",
          "data": {
            "text/plain": [
              "array([[1., 0., 0., 0.],\n",
              "       [0., 1., 0., 0.],\n",
              "       [0., 0., 1., 0.]])"
            ]
          },
          "metadata": {},
          "execution_count": 17
        }
      ]
    },
    {
      "cell_type": "markdown",
      "metadata": {
        "id": "JFtinMghqCQl"
      },
      "source": [
        "## 대각 행렬 만들기\n",
        "* `np.diag`\n",
        "* 주 대각 방향에 채울 값을 만들어 주시면 됩니다."
      ]
    },
    {
      "cell_type": "code",
      "metadata": {
        "colab": {
          "base_uri": "https://localhost:8080/"
        },
        "id": "69cGxfg9qQ_1",
        "outputId": "6f8ca906-d9dc-4a76-cb02-47e4b2467447"
      },
      "source": [
        "np.diag( np.arange(1, 10, 2) )"
      ],
      "execution_count": null,
      "outputs": [
        {
          "output_type": "execute_result",
          "data": {
            "text/plain": [
              "array([[1, 0, 0, 0, 0],\n",
              "       [0, 3, 0, 0, 0],\n",
              "       [0, 0, 5, 0, 0],\n",
              "       [0, 0, 0, 7, 0],\n",
              "       [0, 0, 0, 0, 9]])"
            ]
          },
          "metadata": {},
          "execution_count": 18
        }
      ]
    },
    {
      "cell_type": "markdown",
      "metadata": {
        "id": "OzPBPkqPqVi1"
      },
      "source": [
        "## 점구간 만들기 ( 사잇값 만들기 )\n",
        "* `np.linspace`\n",
        "* 시각화 진행할 때 사용\n",
        "* 지정한 범위 내에 균등한 격차를 가지는 숫자를 생성"
      ]
    },
    {
      "cell_type": "code",
      "metadata": {
        "colab": {
          "base_uri": "https://localhost:8080/"
        },
        "id": "nP3a2J9KqpTc",
        "outputId": "dd4c5cda-96a1-4968-9fc5-902150aa803a"
      },
      "source": [
        "np.linspace(1, 10, 3) # 1부터 10까지 3개의 숫자를 균등한 구간으로 만든다. -> 2개의 구간이 만들어 진다."
      ],
      "execution_count": null,
      "outputs": [
        {
          "output_type": "execute_result",
          "data": {
            "text/plain": [
              "array([ 1. ,  5.5, 10. ])"
            ]
          },
          "metadata": {},
          "execution_count": 19
        }
      ]
    },
    {
      "cell_type": "code",
      "metadata": {
        "colab": {
          "base_uri": "https://localhost:8080/"
        },
        "id": "_LLAIuGSrJuF",
        "outputId": "b6cff45c-9dcf-435d-bdb1-a5b261cd727b"
      },
      "source": [
        "np.linspace(1, 10, 4)"
      ],
      "execution_count": null,
      "outputs": [
        {
          "output_type": "execute_result",
          "data": {
            "text/plain": [
              "array([ 1.,  4.,  7., 10.])"
            ]
          },
          "metadata": {},
          "execution_count": 20
        }
      ]
    },
    {
      "cell_type": "code",
      "metadata": {
        "colab": {
          "base_uri": "https://localhost:8080/"
        },
        "id": "WdoG6cH3rUW8",
        "outputId": "dc3acdc2-ea69-483f-c702-d58c758f4bf4"
      },
      "source": [
        "np.linspace(1, 10, 5)"
      ],
      "execution_count": null,
      "outputs": [
        {
          "output_type": "execute_result",
          "data": {
            "text/plain": [
              "array([ 1.  ,  3.25,  5.5 ,  7.75, 10.  ])"
            ]
          },
          "metadata": {},
          "execution_count": 21
        }
      ]
    },
    {
      "cell_type": "markdown",
      "metadata": {
        "id": "McqDiYzjraRE"
      },
      "source": [
        "# #3. Random을 사용하기 위한 numpy\n",
        "* 랜덤 배열을 **딥러닝**에서 매개변수(`가중치`, `편향`)을 초기화 하기 위해 사용"
      ]
    },
    {
      "cell_type": "markdown",
      "metadata": {
        "id": "ucONU15Arxw-"
      },
      "source": [
        "## 완전 랜덤 만들기\n",
        "`np.random.rand` : 정규분포나 균등분포가 아닌 완벽한 랜덤"
      ]
    },
    {
      "cell_type": "code",
      "metadata": {
        "colab": {
          "base_uri": "https://localhost:8080/"
        },
        "id": "6gKMh5Ma9b6x",
        "outputId": "7d04b014-7b71-436e-e347-137ac9b7dc99"
      },
      "source": [
        "np.random.rand(2, 3)"
      ],
      "execution_count": null,
      "outputs": [
        {
          "output_type": "execute_result",
          "data": {
            "text/plain": [
              "array([[ 0.24391547, -1.6040582 ,  0.74059615],\n",
              "       [ 1.4322543 ,  1.07570244, -0.9436375 ]])"
            ]
          },
          "metadata": {},
          "execution_count": 32
        }
      ]
    },
    {
      "cell_type": "code",
      "metadata": {
        "colab": {
          "base_uri": "https://localhost:8080/"
        },
        "id": "sao_mcm29qwK",
        "outputId": "33a627b0-98d9-4ea3-9607-72fef8882f11"
      },
      "source": [
        "np.random.rand(2, 3, 4)"
      ],
      "execution_count": null,
      "outputs": [
        {
          "output_type": "execute_result",
          "data": {
            "text/plain": [
              "array([[[-0.18741445, -1.10123416, -0.72928324, -0.77660986],\n",
              "        [-1.26727193,  0.37544061, -0.264862  , -0.36792271],\n",
              "        [-1.29910523, -1.2143027 ,  0.88176248,  0.56899411]],\n",
              "\n",
              "       [[ 0.98022243,  1.9637215 , -1.25389082,  0.72917003],\n",
              "        [ 2.15665723,  0.0535532 ,  1.0172864 , -1.93415708],\n",
              "        [-1.65450499,  1.51892896,  0.30276434, -1.14117003]]])"
            ]
          },
          "metadata": {},
          "execution_count": 33
        }
      ]
    },
    {
      "cell_type": "markdown",
      "metadata": {
        "id": "6MRpB4B99wTp"
      },
      "source": [
        "## 정규분포 랜덤값 만들기\n",
        "* `np.random.randn`\n",
        "* 평균 근처에 데이터가 가장 많고 최솟값, 최댓값으로 갈 수록 그 빈도수가 적어는 형태의 데이터"
      ]
    },
    {
      "cell_type": "code",
      "metadata": {
        "colab": {
          "base_uri": "https://localhost:8080/"
        },
        "id": "l3DjJQgT-BrA",
        "outputId": "18307aa3-a10b-4495-a226-14857f99d0ca"
      },
      "source": [
        "np.random.randn(16)"
      ],
      "execution_count": null,
      "outputs": [
        {
          "output_type": "execute_result",
          "data": {
            "text/plain": [
              "array([ 0.0919507 , -0.3055908 , -0.30329229,  1.79322661, -0.06635374,\n",
              "        0.05437032,  0.64601162,  0.17779126,  0.56452492, -0.98901595,\n",
              "       -0.0667235 ,  1.50026578,  1.21270715,  1.27052171,  0.71122393,\n",
              "        1.10310642])"
            ]
          },
          "metadata": {},
          "execution_count": 34
        }
      ]
    },
    {
      "cell_type": "markdown",
      "metadata": {
        "id": "4qNpoj8J-iLS"
      },
      "source": [
        "#### 표준 정규 분포\n",
        "* 평균이 0인 정규분포이면서 표준편차가 1인 정규분포\n",
        "\n"
      ]
    },
    {
      "cell_type": "code",
      "metadata": {
        "colab": {
          "base_uri": "https://localhost:8080/"
        },
        "id": "i4Uy1_Pv_RTb",
        "outputId": "d59e0e23-cb7b-46ec-8d95-e3039facfcd6"
      },
      "source": [
        "# loc : 0.0 - 평균\n",
        "# scale : 1 - 표준편차\n",
        "nums = np.random.normal(loc=0.0, scale=0.01, size=(100, 100))\n",
        "print(nums.mean()) # 평균\n",
        "print(nums.std())  # 표준편차\n",
        "print(nums.sum())  # 총 합"
      ],
      "execution_count": null,
      "outputs": [
        {
          "output_type": "stream",
          "name": "stdout",
          "text": [
            "-0.01002001820926683\n",
            "0.9939971862848124\n",
            "-100.2001820926683\n"
          ]
        }
      ]
    },
    {
      "cell_type": "markdown",
      "metadata": {
        "id": "1tY51vNlAIsy"
      },
      "source": [
        "딥러닝 알고리즘에 따라 적절한 표준편차를 찾는 기법이 존재한다. "
      ]
    },
    {
      "cell_type": "markdown",
      "metadata": {
        "id": "YQbtAb5XBEDR"
      },
      "source": [
        "### 균등분포 랜덤값 만들기\n",
        "* `np.random.uniform`"
      ]
    },
    {
      "cell_type": "code",
      "metadata": {
        "colab": {
          "base_uri": "https://localhost:8080/"
        },
        "id": "ZEj5RgngBPA6",
        "outputId": "9568856e-3e03-4632-8927-6af1301814a2"
      },
      "source": [
        "# 최소 한도값, 최대 한도값이 필요하다.\n",
        "# -한도값 ~ +한도값 사이에서 랜덤한 데이터를 균등하게 분포되도록 만든다.\n",
        "\n",
        "np.random.uniform(1.0, 3.0, size=(4, 5))"
      ],
      "execution_count": null,
      "outputs": [
        {
          "output_type": "execute_result",
          "data": {
            "text/plain": [
              "array([[2.88122516, 2.70421397, 2.80733272, 2.92980141, 2.88945116],\n",
              "       [1.20154166, 2.59310103, 1.19891147, 2.15569067, 1.3062761 ],\n",
              "       [1.83311501, 2.39877506, 2.96373031, 2.80137451, 2.70119515],\n",
              "       [2.4833047 , 1.82116072, 1.13010522, 1.06701941, 2.15609164]])"
            ]
          },
          "metadata": {},
          "execution_count": 49
        }
      ]
    },
    {
      "cell_type": "markdown",
      "metadata": {
        "id": "Guy9qkJaCDVy"
      },
      "source": [
        "텐서플로우의 경우 모든 가중치의 초기화를 균등 분포를 따라가는 glorot uniform을 따라간다. (기본값)"
      ]
    },
    {
      "cell_type": "markdown",
      "metadata": {
        "id": "J80btHJdCZTp"
      },
      "source": [
        "#### `np.random.seed`\n",
        "* 그냥 랜덤을 사용하면 실행 할때마다 값이 바뀐다.\n",
        "* 랜덤값을 고정하는 역할. 몇번 재현을 해도 항상 같은 랜덤이 나올 수 있도록 설정"
      ]
    },
    {
      "cell_type": "code",
      "metadata": {
        "colab": {
          "base_uri": "https://localhost:8080/"
        },
        "id": "Eku7IT2BDA2D",
        "outputId": "44eb8a5b-7138-4647-8359-0ad612a45ae6"
      },
      "source": [
        "np.random.seed(42) # argument로 사용되는 정수는 내 맘대로 정해주시면 됩니다. 관례상 42\n",
        "np.random.randn(3)"
      ],
      "execution_count": null,
      "outputs": [
        {
          "output_type": "execute_result",
          "data": {
            "text/plain": [
              "array([ 0.49671415, -0.1382643 ,  0.64768854])"
            ]
          },
          "metadata": {},
          "execution_count": 61
        }
      ]
    },
    {
      "cell_type": "markdown",
      "metadata": {
        "id": "lT0aYd_oDGiE"
      },
      "source": [
        "## 정수 랜덤 샘플링\n",
        "* `np.random.choice`\n",
        "* 샘플링 : 전체에서 표본을 추출하는 행위"
      ]
    },
    {
      "cell_type": "code",
      "metadata": {
        "colab": {
          "base_uri": "https://localhost:8080/"
        },
        "id": "HKFKxBSGD7ti",
        "outputId": "a227dd2f-1d48-451f-a654-af641fcab845"
      },
      "source": [
        "# 숫자 범위 내에서 정수를 랜덤하게 (2, 3) 형태의 배열로 추출\n",
        "np.random.choice(10, size=(2, 3))"
      ],
      "execution_count": null,
      "outputs": [
        {
          "output_type": "execute_result",
          "data": {
            "text/plain": [
              "array([[6, 4, 8],\n",
              "       [6, 1, 3]])"
            ]
          },
          "metadata": {},
          "execution_count": 67
        }
      ]
    },
    {
      "cell_type": "code",
      "metadata": {
        "colab": {
          "base_uri": "https://localhost:8080/"
        },
        "id": "J7V3FsAzEZAx",
        "outputId": "1e3f025a-3d61-4b1a-c690-4b1579478645"
      },
      "source": [
        "# 배열 내에서 원소를 랜덤하게 추출\n",
        "arr = np.arange(1, 6)\n",
        "\n",
        "np.random.choice(arr, size=(2, 2))"
      ],
      "execution_count": null,
      "outputs": [
        {
          "output_type": "execute_result",
          "data": {
            "text/plain": [
              "array([[4, 2],\n",
              "       [2, 4]])"
            ]
          },
          "metadata": {},
          "execution_count": 74
        }
      ]
    },
    {
      "cell_type": "code",
      "metadata": {
        "colab": {
          "base_uri": "https://localhost:8080/"
        },
        "id": "kHQ51iLQE6JT",
        "outputId": "9ab4e915-a774-4570-8971-369ebf2e4046"
      },
      "source": [
        "# 중복 추출 하지 않기 replace=False\n",
        "np.random.choice(arr, size=(2, 2), replace=False)"
      ],
      "execution_count": null,
      "outputs": [
        {
          "output_type": "execute_result",
          "data": {
            "text/plain": [
              "array([[3, 2],\n",
              "       [1, 4]])"
            ]
          },
          "metadata": {},
          "execution_count": 76
        }
      ]
    },
    {
      "cell_type": "markdown",
      "metadata": {
        "id": "zGi_rTgVFAE5"
      },
      "source": [
        "### 랜럼 정수 배열 만들기\n",
        "* `np.random.randint`"
      ]
    },
    {
      "cell_type": "code",
      "metadata": {
        "colab": {
          "base_uri": "https://localhost:8080/"
        },
        "id": "y6c3MwtpFKeR",
        "outputId": "f2761167-7dd1-462d-b27b-58b6b04ba93c"
      },
      "source": [
        "np.random.randint(1, 100, size=(5, )) # (5, ) == (5) == 5 1차원 배열, 5차원 벡터"
      ],
      "execution_count": null,
      "outputs": [
        {
          "output_type": "execute_result",
          "data": {
            "text/plain": [
              "array([53, 24, 26, 89, 60])"
            ]
          },
          "metadata": {},
          "execution_count": 77
        }
      ]
    },
    {
      "cell_type": "code",
      "metadata": {
        "colab": {
          "base_uri": "https://localhost:8080/"
        },
        "id": "KtXqHHIpFcp5",
        "outputId": "45177a45-4965-4be7-8e90-e83aa8a47b13"
      },
      "source": [
        "np.random.randint(1, 100, size=(5, 1)) # 2차원 배열, 5차원 벡터"
      ],
      "execution_count": null,
      "outputs": [
        {
          "output_type": "execute_result",
          "data": {
            "text/plain": [
              "array([[89],\n",
              "       [71],\n",
              "       [ 9],\n",
              "       [88],\n",
              "       [ 1]])"
            ]
          },
          "metadata": {},
          "execution_count": 79
        }
      ]
    },
    {
      "cell_type": "markdown",
      "metadata": {
        "id": "sHsQOKjpHayT"
      },
      "source": [
        "머신러닝, 딥러닝 모델에 데이터를 집어 넣을 때는 데이터의 종류(columns)와 데이터의 개수(rows)에 대한 정보가 반드시 필요하다."
      ]
    },
    {
      "cell_type": "code",
      "metadata": {
        "colab": {
          "base_uri": "https://localhost:8080/"
        },
        "id": "GfHmCkBaHfRx",
        "outputId": "a3d81d9d-0d16-43b2-fbb4-d0e24904f592"
      },
      "source": [
        "# 3명에 대한 키를 수집함. - row가 3개, column이 1개\n",
        "heights = np.array([[180.1],\n",
        "                    [175.3],\n",
        "                    [180.5]])\n",
        "heights"
      ],
      "execution_count": null,
      "outputs": [
        {
          "output_type": "execute_result",
          "data": {
            "text/plain": [
              "array([[180.1],\n",
              "       [175.3],\n",
              "       [180.5]])"
            ]
          },
          "metadata": {},
          "execution_count": 81
        }
      ]
    },
    {
      "cell_type": "code",
      "metadata": {
        "colab": {
          "base_uri": "https://localhost:8080/"
        },
        "id": "UN4ToNFGHpj4",
        "outputId": "a80a6cca-1e21-4e80-fce4-2457c0e01f61"
      },
      "source": [
        "# 1명에 대한 키, 몸무게, 나이를 수집\n",
        "# 데이터의 개수 1개, 데이터의 종류가 3개\n",
        "# row - 1개, column - 3개\n",
        "person_info = np.array([[180.1, 88, 34]])\n",
        "person_info"
      ],
      "execution_count": null,
      "outputs": [
        {
          "output_type": "execute_result",
          "data": {
            "text/plain": [
              "array([[180.1,  88. ,  34. ]])"
            ]
          },
          "metadata": {},
          "execution_count": 83
        }
      ]
    },
    {
      "cell_type": "markdown",
      "metadata": {
        "id": "Cg5r0Z2kIAhI"
      },
      "source": [
        "* `heights`, `person_info`은 같은 배열\n",
        "* 행렬로써 의미하는 바가 달라요!\n",
        "* `heights`는 데이터가 3개, 종류가 1개\n",
        "  * $x \\in \\mathbb{R}^{3 \\times 1}$\n",
        "* `person_info`는 데이터가 1개, 종류가 3개\n",
        "  * $x \\in \\mathbb{R}^{1 \\times 3}$\n",
        "\n"
      ]
    },
    {
      "cell_type": "markdown",
      "metadata": {
        "id": "sQllTuCMLC1R"
      },
      "source": [
        "# axis 이해하기 ★★★\n",
        "axis : 축. 데이터가 추가되는 방향. 그 방향에 대한 **인덱스**\n",
        "\n",
        "예를 들어 3차원 배열 `(3, 4, 5)`\n",
        "* 3차원 배열에 추가되는건 2차원 배열 -> `axis : 0`\n",
        "* 2차원 배열에 추가되는건 1차원 배열 -> `axis : 1`\n",
        "* 1차원 배열에 추가되는건 0차원 스칼라 -> `axis : 2`"
      ]
    },
    {
      "cell_type": "code",
      "metadata": {
        "colab": {
          "base_uri": "https://localhost:8080/"
        },
        "id": "iHvrfJTcY8AI",
        "outputId": "feb76940-ecd9-44dd-da13-8c4cc2ab6632"
      },
      "source": [
        "np.random.seed(42)\n",
        "arr = np.random.randint(1, 37, (3, 2, 3))\n",
        "arr"
      ],
      "execution_count": null,
      "outputs": [
        {
          "output_type": "execute_result",
          "data": {
            "text/plain": [
              "array([[[29, 15,  8],\n",
              "        [21, 19, 23]],\n",
              "\n",
              "       [[11, 11, 24],\n",
              "        [36, 24,  3]],\n",
              "\n",
              "       [[22,  2, 24],\n",
              "        [30,  2, 21]]])"
            ]
          },
          "metadata": {},
          "execution_count": 88
        }
      ]
    },
    {
      "cell_type": "code",
      "metadata": {
        "colab": {
          "base_uri": "https://localhost:8080/"
        },
        "id": "d9E0MSepZvPG",
        "outputId": "b60ada67-493f-4bc4-cba5-a0ac82f948a6"
      },
      "source": [
        "# 축별 최댓값을 추출(max)\n",
        "np.max(arr, axis=2)"
      ],
      "execution_count": null,
      "outputs": [
        {
          "output_type": "execute_result",
          "data": {
            "text/plain": [
              "array([[29, 23],\n",
              "       [24, 36],\n",
              "       [24, 30]])"
            ]
          },
          "metadata": {},
          "execution_count": 91
        }
      ]
    },
    {
      "cell_type": "code",
      "metadata": {
        "colab": {
          "base_uri": "https://localhost:8080/"
        },
        "id": "gHnfg-s-cYap",
        "outputId": "3e35b8c6-0d8d-4070-ade4-50540eed6d1a"
      },
      "source": [
        "np.random.seed(42)\n",
        "arr = np.random.randint(1, 37, (2, 2, 3, 2))\n",
        "arr"
      ],
      "execution_count": null,
      "outputs": [
        {
          "output_type": "execute_result",
          "data": {
            "text/plain": [
              "array([[[[29, 15],\n",
              "         [ 8, 21],\n",
              "         [19, 23]],\n",
              "\n",
              "        [[11, 11],\n",
              "         [24, 36],\n",
              "         [24,  3]]],\n",
              "\n",
              "\n",
              "       [[[22,  2],\n",
              "         [24, 30],\n",
              "         [ 2, 21]],\n",
              "\n",
              "        [[33, 12],\n",
              "         [22, 25],\n",
              "         [27, 28]]]])"
            ]
          },
          "metadata": {},
          "execution_count": 93
        }
      ]
    },
    {
      "cell_type": "code",
      "metadata": {
        "colab": {
          "base_uri": "https://localhost:8080/"
        },
        "id": "SmBH1htGcazW",
        "outputId": "3bf959f0-25bf-4b6f-cda7-f94a3b737f73"
      },
      "source": [
        "np.max(arr, axis=1)"
      ],
      "execution_count": null,
      "outputs": [
        {
          "output_type": "execute_result",
          "data": {
            "text/plain": [
              "array([[[29, 15],\n",
              "        [24, 36],\n",
              "        [24, 23]],\n",
              "\n",
              "       [[33, 12],\n",
              "        [24, 30],\n",
              "        [27, 28]]])"
            ]
          },
          "metadata": {},
          "execution_count": 95
        }
      ]
    },
    {
      "cell_type": "markdown",
      "metadata": {
        "id": "ng-VA1KUehvP"
      },
      "source": [
        "# 인덱스와 슬라이싱 ✨\n",
        "* 기본적으로는 파이썬에서 사용되는 인덱스, 슬라이싱 기법을 그대로 따라간다."
      ]
    },
    {
      "cell_type": "code",
      "metadata": {
        "colab": {
          "base_uri": "https://localhost:8080/"
        },
        "id": "SpZ_w0F4erO2",
        "outputId": "9fcf823f-c90d-47be-e042-0b79660a0807"
      },
      "source": [
        "np.random.seed(42)\n",
        "arr = np.random.randint(1, 11, (2, 5))\n",
        "arr"
      ],
      "execution_count": null,
      "outputs": [
        {
          "output_type": "execute_result",
          "data": {
            "text/plain": [
              "array([[ 7,  4,  8,  5,  7],\n",
              "       [10,  3,  7,  8,  5]])"
            ]
          },
          "metadata": {},
          "execution_count": 96
        }
      ]
    },
    {
      "cell_type": "code",
      "metadata": {
        "colab": {
          "base_uri": "https://localhost:8080/"
        },
        "id": "QW-4SMoce3Su",
        "outputId": "20565be3-0ced-4166-c6be-9f4d3cdf76d0"
      },
      "source": [
        "arr[0]"
      ],
      "execution_count": null,
      "outputs": [
        {
          "output_type": "execute_result",
          "data": {
            "text/plain": [
              "array([7, 4, 8, 5, 7])"
            ]
          },
          "metadata": {},
          "execution_count": 98
        }
      ]
    },
    {
      "cell_type": "code",
      "metadata": {
        "colab": {
          "base_uri": "https://localhost:8080/"
        },
        "id": "pXGL7eU7fIi1",
        "outputId": "b7b68d16-b15c-424a-e3f4-7c9a2a32cfcd"
      },
      "source": [
        "arr[0][3]"
      ],
      "execution_count": null,
      "outputs": [
        {
          "output_type": "execute_result",
          "data": {
            "text/plain": [
              "5"
            ]
          },
          "metadata": {},
          "execution_count": 99
        }
      ]
    },
    {
      "cell_type": "code",
      "metadata": {
        "colab": {
          "base_uri": "https://localhost:8080/"
        },
        "id": "Syc-pzhMfLM9",
        "outputId": "72119a29-81a3-463b-f114-980e2445d894"
      },
      "source": [
        "arr[0, 3]"
      ],
      "execution_count": null,
      "outputs": [
        {
          "output_type": "execute_result",
          "data": {
            "text/plain": [
              "5"
            ]
          },
          "metadata": {},
          "execution_count": 100
        }
      ]
    },
    {
      "cell_type": "markdown",
      "metadata": {
        "id": "ricu-nAGfSAq"
      },
      "source": [
        "특정 차원의 배열을 일부만 선택하기 위한 연산자 `:`"
      ]
    },
    {
      "cell_type": "code",
      "metadata": {
        "colab": {
          "base_uri": "https://localhost:8080/"
        },
        "id": "ZrocvhXUfrVl",
        "outputId": "6341f477-2427-4f2f-8daa-afdd2403f58c"
      },
      "source": [
        "arr"
      ],
      "execution_count": null,
      "outputs": [
        {
          "output_type": "execute_result",
          "data": {
            "text/plain": [
              "array([[ 7,  4,  8,  5,  7],\n",
              "       [10,  3,  7,  8,  5]])"
            ]
          },
          "metadata": {},
          "execution_count": 101
        }
      ]
    },
    {
      "cell_type": "code",
      "metadata": {
        "colab": {
          "base_uri": "https://localhost:8080/"
        },
        "id": "2_OfziVXfw02",
        "outputId": "652cf5d9-ad36-4262-b5de-9ca944f5c5a3"
      },
      "source": [
        "arr[:]"
      ],
      "execution_count": null,
      "outputs": [
        {
          "output_type": "execute_result",
          "data": {
            "text/plain": [
              "array([[ 7,  4,  8,  5,  7],\n",
              "       [10,  3,  7,  8,  5]])"
            ]
          },
          "metadata": {},
          "execution_count": 102
        }
      ]
    },
    {
      "cell_type": "code",
      "metadata": {
        "colab": {
          "base_uri": "https://localhost:8080/"
        },
        "id": "b4Pwyi8Lf5gV",
        "outputId": "a3e4081e-8e53-4bd8-dce3-ebc4d9bdfb06"
      },
      "source": [
        "arr[:, 2]"
      ],
      "execution_count": null,
      "outputs": [
        {
          "output_type": "execute_result",
          "data": {
            "text/plain": [
              "array([8, 7])"
            ]
          },
          "metadata": {},
          "execution_count": 103
        }
      ]
    },
    {
      "cell_type": "markdown",
      "metadata": {
        "id": "PrhyVBzrkK4V"
      },
      "source": [
        "# 차원수 관리\n",
        "* 컴퓨터의 이미지 데이터는 3차원\n",
        "  * `(H, W, C)`\n",
        "    * `H` : 이미지의 세로 px\n",
        "    * `W` : 이미지의 가로 px\n",
        "    * `C` : 이미지의 채널 개수\n",
        "      * `C=3` : `RGB, HSV`. RGB가 컴퓨터 시스템의 기본\n",
        "      * `C=1` : `GRAYSCALE`. 흑백사진\n",
        "  * 세로길이가 28px, 가로길이가 28px인 흑백 사진의 형상?\n",
        "    * `(28, 28, 1)`\n",
        "\n",
        "## 컬러이미지와 흑백이미지의 시각화 기법이 약간 달라요\n",
        "* 컬러 이미지 : `(H, W, C)` 모두 사용\n",
        "* 흑백 이미지 : `(H, W)` 사용\n",
        "\n",
        "## CNN이라는 이미지 분석용 모델 알고리즘에 이미지를 넣기 위해서는?\n",
        "* `(N, H, W, C)` \n",
        "  * `N` : 이미지의 장수\n",
        "\n",
        "## 흑백이미지를 모았는데 그냥 `(H, W)` 정보만 있다면?\n",
        "`(H, W)`만 있는 상태에서 CNN 모델에 집어 넣고 싶어요\n",
        "\n",
        "## `(H, W)`는 1장의 이미지 이며, 1채널 이미지 이기 때문에 `(1, H, W, 1)`로 바꿔야만 한다\n",
        "      "
      ]
    },
    {
      "cell_type": "code",
      "metadata": {
        "colab": {
          "base_uri": "https://localhost:8080/"
        },
        "id": "sI-rCdnJq_fm",
        "outputId": "313cdf2d-505d-4520-c3f7-2bf8da784565"
      },
      "source": [
        "image = np.random.randint(0, 256, size=(28, 28))\n",
        "image.shape # 배열의 형상 확인 shape"
      ],
      "execution_count": null,
      "outputs": [
        {
          "output_type": "execute_result",
          "data": {
            "text/plain": [
              "(28, 28)"
            ]
          },
          "metadata": {},
          "execution_count": 104
        }
      ]
    },
    {
      "cell_type": "code",
      "metadata": {
        "colab": {
          "base_uri": "https://localhost:8080/",
          "height": 265
        },
        "id": "H2Y62a40u44r",
        "outputId": "0597159f-54d6-4b42-f4e6-d31dc041fc99"
      },
      "source": [
        "import matplotlib.pyplot as plt\n",
        "\n",
        "plt.imshow(image, cmap='gray')\n",
        "plt.show()"
      ],
      "execution_count": null,
      "outputs": [
        {
          "output_type": "display_data",
          "data": {
            "image/png": "[encoded data removed]",
            "text/plain": [
              "<Figure size 432x288 with 1 Axes>"
            ]
          },
          "metadata": {
            "needs_background": "light"
          }
        }
      ]
    },
    {
      "cell_type": "markdown",
      "metadata": {
        "id": "1N3VWX4Lu_ij"
      },
      "source": [
        "`image`는 시각화는 가능하나, CNN 모델에 집어 넣긴 힘들다.\n",
        "\n",
        "* `image.shape` : `(28, 28)`\n",
        "* `CNN`에 입력 해야 할 shape은 : `(1, 28, 28, 1)`"
      ]
    },
    {
      "cell_type": "code",
      "metadata": {
        "colab": {
          "base_uri": "https://localhost:8080/"
        },
        "id": "15LMsA0Zvd86",
        "outputId": "39524234-0166-4bed-b784-c49839d2aa22"
      },
      "source": [
        "image_for_cnn = image[np.newaxis, :, :, np.newaxis ]\n",
        "image_for_cnn.shape"
      ],
      "execution_count": null,
      "outputs": [
        {
          "output_type": "execute_result",
          "data": {
            "text/plain": [
              "(1, 28, 28, 1)"
            ]
          },
          "metadata": {},
          "execution_count": 107
        }
      ]
    },
    {
      "cell_type": "code",
      "metadata": {
        "colab": {
          "base_uri": "https://localhost:8080/"
        },
        "id": "r1EcgFq4wj4n",
        "outputId": "d1be302e-4a08-4801-f757-1b64f3efa7c1"
      },
      "source": [
        "image_for_cnn2 = image[np.newaxis, ... , np.newaxis]\n",
        "image_for_cnn2.shape"
      ],
      "execution_count": null,
      "outputs": [
        {
          "output_type": "execute_result",
          "data": {
            "text/plain": [
              "(1, 28, 28, 1)"
            ]
          },
          "metadata": {},
          "execution_count": 108
        }
      ]
    },
    {
      "cell_type": "markdown",
      "metadata": {
        "id": "lULxI8wWw910"
      },
      "source": [
        "## 차원수 쥐어짜기\n",
        "개수가 1인 차원의 내용을 없애는 기법"
      ]
    },
    {
      "cell_type": "code",
      "metadata": {
        "colab": {
          "base_uri": "https://localhost:8080/"
        },
        "id": "l7an9aNLxTjG",
        "outputId": "4c38eda4-8834-4de7-8369-e8b6517249d3"
      },
      "source": [
        "temp_squeeze = np.squeeze(image_for_cnn)\n",
        "temp_squeeze.shape"
      ],
      "execution_count": null,
      "outputs": [
        {
          "output_type": "execute_result",
          "data": {
            "text/plain": [
              "(28, 28)"
            ]
          },
          "metadata": {},
          "execution_count": 109
        }
      ]
    },
    {
      "cell_type": "code",
      "metadata": {
        "colab": {
          "base_uri": "https://localhost:8080/"
        },
        "id": "L4RKMy54xcN2",
        "outputId": "3c188c60-c891-49e3-9303-cd89e2d6bd7b"
      },
      "source": [
        "# squeeze 안쓰면..?\n",
        "temp_no_squeeze = image_for_cnn[0, :, :, 0]\n",
        "temp_no_squeeze.shape"
      ],
      "execution_count": null,
      "outputs": [
        {
          "output_type": "execute_result",
          "data": {
            "text/plain": [
              "(28, 28)"
            ]
          },
          "metadata": {},
          "execution_count": 110
        }
      ]
    },
    {
      "cell_type": "code",
      "metadata": {
        "colab": {
          "base_uri": "https://localhost:8080/"
        },
        "id": "pMHw4z_0xpAF",
        "outputId": "7d84e7f7-4ba9-4f08-b066-a1413c778555"
      },
      "source": [
        "temp_no_squeeze = image_for_cnn[0, ..., 0]\n",
        "temp_no_squeeze.shape"
      ],
      "execution_count": null,
      "outputs": [
        {
          "output_type": "execute_result",
          "data": {
            "text/plain": [
              "(28, 28)"
            ]
          },
          "metadata": {},
          "execution_count": 111
        }
      ]
    },
    {
      "cell_type": "markdown",
      "metadata": {
        "id": "7CeO1hydxr98"
      },
      "source": [
        "# 평탄화 ★★★\n",
        "다차원 배열을 1차원 배열로 평평하게 펴 주는 작업\n",
        "\n",
        "* `ravel`\n",
        "  - 경험상 `ravel`은 값을 보여주기만 할 때 사용\n",
        "  - 예를 들어 시각화 같은 것들 할 때\n",
        "* `flatten`\n",
        "  - 평탄화가 필요한 순간 거의 대부분 사용\n"
      ]
    },
    {
      "cell_type": "markdown",
      "metadata": {
        "id": "2CXJOHOg0N9j"
      },
      "source": [
        "## `ravel`\n",
        "다차원 배열이 평평하게 **펴진 모습(View 또는 Reference)**만을 봅니다."
      ]
    },
    {
      "cell_type": "code",
      "metadata": {
        "colab": {
          "base_uri": "https://localhost:8080/"
        },
        "id": "V5I2UE2lPxbE",
        "outputId": "8da1919a-78d4-4325-c604-6981cab55e8c"
      },
      "source": [
        "import numpy as np\n",
        "np.random.seed(42)\n",
        "x = np.random.randint(1, 100, (2, 3, 2))\n",
        "x"
      ],
      "execution_count": null,
      "outputs": [
        {
          "output_type": "execute_result",
          "data": {
            "text/plain": [
              "array([[[52, 93],\n",
              "        [15, 72],\n",
              "        [61, 21]],\n",
              "\n",
              "       [[83, 87],\n",
              "        [75, 75],\n",
              "        [88, 24]]])"
            ]
          },
          "metadata": {},
          "execution_count": 2
        }
      ]
    },
    {
      "cell_type": "code",
      "metadata": {
        "colab": {
          "base_uri": "https://localhost:8080/"
        },
        "id": "aLxTGecHRshG",
        "outputId": "e1821d5b-e4ce-445a-ab50-3100b0782669"
      },
      "source": [
        "temp_ravel = np.ravel(x)\n",
        "temp_ravel"
      ],
      "execution_count": null,
      "outputs": [
        {
          "output_type": "execute_result",
          "data": {
            "text/plain": [
              "array([52, 93, 15, 72, 61, 21, 83, 87, 75, 75, 88, 24])"
            ]
          },
          "metadata": {},
          "execution_count": 3
        }
      ]
    },
    {
      "cell_type": "code",
      "metadata": {
        "colab": {
          "base_uri": "https://localhost:8080/"
        },
        "id": "SrXHAifkSAEN",
        "outputId": "3237a973-fc02-4257-e5c6-ab21aa8a402b"
      },
      "source": [
        "temp_ravel[0] = 9999\n",
        "temp_ravel"
      ],
      "execution_count": null,
      "outputs": [
        {
          "output_type": "execute_result",
          "data": {
            "text/plain": [
              "array([9999,   93,   15,   72,   61,   21,   83,   87,   75,   75,   88,\n",
              "         24])"
            ]
          },
          "metadata": {},
          "execution_count": 4
        }
      ]
    },
    {
      "cell_type": "code",
      "metadata": {
        "colab": {
          "base_uri": "https://localhost:8080/"
        },
        "id": "dsXs53-rSXoT",
        "outputId": "0b6efa90-fd70-4b84-a57d-f271d2ef6dbb"
      },
      "source": [
        "x"
      ],
      "execution_count": null,
      "outputs": [
        {
          "output_type": "execute_result",
          "data": {
            "text/plain": [
              "array([[[9999,   93],\n",
              "        [  15,   72],\n",
              "        [  61,   21]],\n",
              "\n",
              "       [[  83,   87],\n",
              "        [  75,   75],\n",
              "        [  88,   24]]])"
            ]
          },
          "metadata": {},
          "execution_count": 5
        }
      ]
    },
    {
      "cell_type": "code",
      "metadata": {
        "colab": {
          "base_uri": "https://localhost:8080/"
        },
        "id": "BqJOQ9faSbwN",
        "outputId": "4f497cdb-1701-484d-d13d-85402512089e"
      },
      "source": [
        "# x를 ravel로 평탄화 해서 temp_ravel\n",
        "hex(id(x)), hex(id(temp_ravel)) # 주소값이 다르니까 서로 다른 객체 ( 원본 : 원본에 가면을 씌운)"
      ],
      "execution_count": null,
      "outputs": [
        {
          "output_type": "execute_result",
          "data": {
            "text/plain": [
              "('0x7f5ac0a4b4e0', '0x7f5ac0a17da0')"
            ]
          },
          "metadata": {},
          "execution_count": 6
        }
      ]
    },
    {
      "cell_type": "code",
      "metadata": {
        "colab": {
          "base_uri": "https://localhost:8080/"
        },
        "id": "heM32nYoStr9",
        "outputId": "26dcc6e1-f8e1-4514-8076-9ec45ff7f5e6"
      },
      "source": [
        "# x를 구성하고 있는 원본 배열과, temp_ravel을 구성하고 있는 원본 배열\n",
        "hex(id(x)), hex(id(temp_ravel.base))"
      ],
      "execution_count": null,
      "outputs": [
        {
          "output_type": "execute_result",
          "data": {
            "text/plain": [
              "('0x7f5ac0a4b4e0', '0x7f5ac0a4b4e0')"
            ]
          },
          "metadata": {},
          "execution_count": 14
        }
      ]
    },
    {
      "cell_type": "markdown",
      "metadata": {
        "id": "GRVaJ6uxTCTF"
      },
      "source": [
        "## `flatten`\n",
        "다차원 배열이 평탄화된 **복사된 배열**을 새로 만들어 낸다."
      ]
    },
    {
      "cell_type": "code",
      "metadata": {
        "colab": {
          "base_uri": "https://localhost:8080/"
        },
        "id": "J4sInrIbVIe1",
        "outputId": "e1fe8b0e-6e18-4cca-f90b-e532da6cfc2b"
      },
      "source": [
        "np.random.seed(42)\n",
        "x = np.random.randint(1, 100, (2, 3, 2))\n",
        "x"
      ],
      "execution_count": null,
      "outputs": [
        {
          "output_type": "execute_result",
          "data": {
            "text/plain": [
              "array([[[52, 93],\n",
              "        [15, 72],\n",
              "        [61, 21]],\n",
              "\n",
              "       [[83, 87],\n",
              "        [75, 75],\n",
              "        [88, 24]]])"
            ]
          },
          "metadata": {},
          "execution_count": 15
        }
      ]
    },
    {
      "cell_type": "code",
      "metadata": {
        "colab": {
          "base_uri": "https://localhost:8080/"
        },
        "id": "YnthI2GjVZqN",
        "outputId": "9b218f13-c6ff-4508-8919-aa4bbddc3176"
      },
      "source": [
        "temp_flatten = x.flatten()\n",
        "temp_flatten"
      ],
      "execution_count": null,
      "outputs": [
        {
          "output_type": "execute_result",
          "data": {
            "text/plain": [
              "array([52, 93, 15, 72, 61, 21, 83, 87, 75, 75, 88, 24])"
            ]
          },
          "metadata": {},
          "execution_count": 16
        }
      ]
    },
    {
      "cell_type": "code",
      "metadata": {
        "colab": {
          "base_uri": "https://localhost:8080/"
        },
        "id": "5m7JSX3QVmE_",
        "outputId": "abc72883-f9e3-43cf-e8cb-529cde8dcb58"
      },
      "source": [
        "temp_flatten[0] = 9999\n",
        "temp_flatten"
      ],
      "execution_count": null,
      "outputs": [
        {
          "output_type": "execute_result",
          "data": {
            "text/plain": [
              "array([9999,   93,   15,   72,   61,   21,   83,   87,   75,   75,   88,\n",
              "         24])"
            ]
          },
          "metadata": {},
          "execution_count": 17
        }
      ]
    },
    {
      "cell_type": "code",
      "metadata": {
        "colab": {
          "base_uri": "https://localhost:8080/"
        },
        "id": "sUqe96k1Vv6d",
        "outputId": "849c3408-f72b-440b-a3f7-662d8903b8ae"
      },
      "source": [
        "x"
      ],
      "execution_count": null,
      "outputs": [
        {
          "output_type": "execute_result",
          "data": {
            "text/plain": [
              "array([[[52, 93],\n",
              "        [15, 72],\n",
              "        [61, 21]],\n",
              "\n",
              "       [[83, 87],\n",
              "        [75, 75],\n",
              "        [88, 24]]])"
            ]
          },
          "metadata": {},
          "execution_count": 18
        }
      ]
    },
    {
      "cell_type": "markdown",
      "metadata": {
        "id": "xOTUZ0QyVxpc"
      },
      "source": [
        "# 재구성 ★★★★\n",
        "배열의 형상을 재구성하는 것\n",
        "* `reshape`\n",
        "\n",
        "reshape 함수 내의 모든 숫자를 곱했을 때 스칼라 원소의 개수와 같아야 한다.\n",
        "\n",
        "* `shape`에 있는 모든 숫자의 곱 == `size`"
      ]
    },
    {
      "cell_type": "markdown",
      "metadata": {
        "id": "BtCibcmLXKtm"
      },
      "source": [
        "### `shape`, `size`, `ndim`"
      ]
    },
    {
      "cell_type": "code",
      "metadata": {
        "colab": {
          "base_uri": "https://localhost:8080/"
        },
        "id": "U0ShhQ2SWYS8",
        "outputId": "ef49791b-1c85-4fa7-ddde-cb660d8b7b51"
      },
      "source": [
        "np.random.seed(42)\n",
        "x = np.random.randint(1, 13, (2, 3, 2))\n",
        "x"
      ],
      "execution_count": null,
      "outputs": [
        {
          "output_type": "execute_result",
          "data": {
            "text/plain": [
              "array([[[ 7,  4],\n",
              "        [11,  8],\n",
              "        [ 5,  7]],\n",
              "\n",
              "       [[10,  3],\n",
              "        [ 7, 11],\n",
              "        [11,  8]]])"
            ]
          },
          "metadata": {},
          "execution_count": 19
        }
      ]
    },
    {
      "cell_type": "code",
      "metadata": {
        "colab": {
          "base_uri": "https://localhost:8080/"
        },
        "id": "LD9m62nsXKH1",
        "outputId": "a9071eb5-28db-44ab-e519-ff3b730c7995"
      },
      "source": [
        "# shape : 배열의 형상 정보를 의미. 각 차원에 데이터가 몇 개가 있는지\n",
        "x.shape"
      ],
      "execution_count": null,
      "outputs": [
        {
          "output_type": "execute_result",
          "data": {
            "text/plain": [
              "(2, 3, 2)"
            ]
          },
          "metadata": {},
          "execution_count": 26
        }
      ]
    },
    {
      "cell_type": "code",
      "metadata": {
        "colab": {
          "base_uri": "https://localhost:8080/"
        },
        "id": "c05-xW-7XTLN",
        "outputId": "a8a3adef-5004-4f62-9433-bf88fc07b1be"
      },
      "source": [
        "# ndim : 배열이 몇 차원인지?\n",
        "x.ndim"
      ],
      "execution_count": null,
      "outputs": [
        {
          "output_type": "execute_result",
          "data": {
            "text/plain": [
              "3"
            ]
          },
          "metadata": {},
          "execution_count": 27
        }
      ]
    },
    {
      "cell_type": "code",
      "metadata": {
        "colab": {
          "base_uri": "https://localhost:8080/"
        },
        "id": "8bRfqDJ3Xwjc",
        "outputId": "c7b9571b-a1e5-43e4-da43-fa016d01e37d"
      },
      "source": [
        "# size : 배열에 스칼라가 몇 개인가?\n",
        "x.size"
      ],
      "execution_count": null,
      "outputs": [
        {
          "output_type": "execute_result",
          "data": {
            "text/plain": [
              "12"
            ]
          },
          "metadata": {},
          "execution_count": 28
        }
      ]
    },
    {
      "cell_type": "markdown",
      "metadata": {
        "id": "ztS4YzKRYGMF"
      },
      "source": [
        "## reshape 사용하기"
      ]
    },
    {
      "cell_type": "code",
      "metadata": {
        "colab": {
          "base_uri": "https://localhost:8080/"
        },
        "id": "1-_36BA0YJ_X",
        "outputId": "c3e2776a-6b64-4e17-8a65-a87a8758a5a1"
      },
      "source": [
        "x"
      ],
      "execution_count": null,
      "outputs": [
        {
          "output_type": "execute_result",
          "data": {
            "text/plain": [
              "array([[[ 7,  4],\n",
              "        [11,  8],\n",
              "        [ 5,  7]],\n",
              "\n",
              "       [[10,  3],\n",
              "        [ 7, 11],\n",
              "        [11,  8]]])"
            ]
          },
          "metadata": {},
          "execution_count": 29
        }
      ]
    },
    {
      "cell_type": "code",
      "metadata": {
        "colab": {
          "base_uri": "https://localhost:8080/"
        },
        "id": "zNRDUgglYLO0",
        "outputId": "7f0e79fc-cd93-4962-ef90-ca3a64b815ed"
      },
      "source": [
        "x.reshape(4, 3)"
      ],
      "execution_count": null,
      "outputs": [
        {
          "output_type": "execute_result",
          "data": {
            "text/plain": [
              "array([[ 7,  4, 11],\n",
              "       [ 8,  5,  7],\n",
              "       [10,  3,  7],\n",
              "       [11, 11,  8]])"
            ]
          },
          "metadata": {},
          "execution_count": 30
        }
      ]
    },
    {
      "cell_type": "code",
      "metadata": {
        "colab": {
          "base_uri": "https://localhost:8080/"
        },
        "id": "mUeibUtXYRIx",
        "outputId": "5664cec6-e279-44d8-fe0b-6f65998bfff5"
      },
      "source": [
        "x.reshape(2, 6)"
      ],
      "execution_count": null,
      "outputs": [
        {
          "output_type": "execute_result",
          "data": {
            "text/plain": [
              "array([[ 7,  4, 11,  8,  5,  7],\n",
              "       [10,  3,  7, 11, 11,  8]])"
            ]
          },
          "metadata": {},
          "execution_count": 31
        }
      ]
    },
    {
      "cell_type": "code",
      "metadata": {
        "colab": {
          "base_uri": "https://localhost:8080/"
        },
        "id": "ptEKhEvPYw4t",
        "outputId": "a34cbbb2-da0e-4252-e6a4-f160ac032256"
      },
      "source": [
        "x.reshape(1, 4, 3, 1).shape"
      ],
      "execution_count": null,
      "outputs": [
        {
          "output_type": "execute_result",
          "data": {
            "text/plain": [
              "(1, 4, 3, 1)"
            ]
          },
          "metadata": {},
          "execution_count": 33
        }
      ]
    },
    {
      "cell_type": "markdown",
      "metadata": {
        "id": "E_Ze9RgUY7TF"
      },
      "source": [
        "와일드 카드( 조커 ) 사용하기\n",
        "  * 원하는 차원에 `-1`을 입력하면 알아서 계산이 된다.\n",
        "  * `-1`은 reshape 함수 내에서 한번 밖에 사용 할 수 없다."
      ]
    },
    {
      "cell_type": "code",
      "metadata": {
        "colab": {
          "base_uri": "https://localhost:8080/"
        },
        "id": "zQXeEn0bZNLF",
        "outputId": "b1205551-5e2f-449d-e5e6-5286b9f9c081"
      },
      "source": [
        "x.reshape(-1, 3)"
      ],
      "execution_count": null,
      "outputs": [
        {
          "output_type": "execute_result",
          "data": {
            "text/plain": [
              "array([[ 7,  4, 11],\n",
              "       [ 8,  5,  7],\n",
              "       [10,  3,  7],\n",
              "       [11, 11,  8]])"
            ]
          },
          "metadata": {},
          "execution_count": 34
        }
      ]
    },
    {
      "cell_type": "code",
      "metadata": {
        "id": "pWDe8IeGZcBM"
      },
      "source": [
        "# x.reshape(3, -1, -1) # error"
      ],
      "execution_count": null,
      "outputs": []
    },
    {
      "cell_type": "code",
      "metadata": {
        "colab": {
          "base_uri": "https://localhost:8080/",
          "height": 170
        },
        "id": "vM9Ym_NLZxLT",
        "outputId": "39677230-da5e-4155-91cc-c19d6d6b41e3"
      },
      "source": [
        "x.reshape(5, -1) # error! : 5랑 뭘 곱해야 12가 됩니까..."
      ],
      "execution_count": null,
      "outputs": [
        {
          "output_type": "error",
          "ename": "ValueError",
          "evalue": "ignored",
          "traceback": [
            "\u001b[0;31m---------------------------------------------------------------------------\u001b[0m",
            "\u001b[0;31mValueError\u001b[0m                                Traceback (most recent call last)",
            "\u001b[0;32m<ipython-input-36-512f4d9bc0b3>\u001b[0m in \u001b[0;36m<module>\u001b[0;34m()\u001b[0m\n\u001b[0;32m----> 1\u001b[0;31m \u001b[0mx\u001b[0m\u001b[0;34m.\u001b[0m\u001b[0mreshape\u001b[0m\u001b[0;34m(\u001b[0m\u001b[0;36m5\u001b[0m\u001b[0;34m,\u001b[0m \u001b[0;34m-\u001b[0m\u001b[0;36m1\u001b[0m\u001b[0;34m)\u001b[0m \u001b[0;31m# error! : 5랑 뭘 곱해야 12가 됩니까...\u001b[0m\u001b[0;34m\u001b[0m\u001b[0;34m\u001b[0m\u001b[0m\n\u001b[0m",
            "\u001b[0;31mValueError\u001b[0m: cannot reshape array of size 12 into shape (5,newaxis)"
          ]
        }
      ]
    },
    {
      "cell_type": "markdown",
      "metadata": {
        "id": "DFY5AXiCZ84T"
      },
      "source": [
        "# 브로드 캐스팅\n",
        "* 차원 수가 서로 다른 배열끼리의 연산\n",
        "* 저차원 배열을 고차원 배열로 확장\n",
        "  * 저차원 배열에 고차원 배열의 모양(shape)을 하고 있는 **1벡터**를 곱해서 모양을 맞춰 준다."
      ]
    },
    {
      "cell_type": "code",
      "metadata": {
        "id": "z5yrVxWEd8rK"
      },
      "source": [
        "A = np.arange(12).reshape(4, 3)   # ( 4, 3 )\n",
        "B = np.arange(100, 103)           # ( 3, )\n",
        "C = np.arange(1000, 1004)         # ( 4, )\n",
        "D = B.reshape(1, 3)               # ( 1, 3 )\n",
        "E = np.arange(0, 4).reshape(4, 1) # ( 4, 1 )"
      ],
      "execution_count": null,
      "outputs": []
    },
    {
      "cell_type": "code",
      "metadata": {
        "colab": {
          "base_uri": "https://localhost:8080/"
        },
        "id": "42esAOr1ec49",
        "outputId": "d53548bd-9db3-48ae-aaec-bacf95b3bb3d"
      },
      "source": [
        "A + B"
      ],
      "execution_count": null,
      "outputs": [
        {
          "output_type": "execute_result",
          "data": {
            "text/plain": [
              "array([[100, 102, 104],\n",
              "       [103, 105, 107],\n",
              "       [106, 108, 110],\n",
              "       [109, 111, 113]])"
            ]
          },
          "metadata": {},
          "execution_count": 41
        }
      ]
    },
    {
      "cell_type": "code",
      "metadata": {
        "colab": {
          "base_uri": "https://localhost:8080/",
          "height": 170
        },
        "id": "f-Mo3ry6eldT",
        "outputId": "ef719b75-ca24-4208-ce1f-179694b92678"
      },
      "source": [
        "A + C"
      ],
      "execution_count": null,
      "outputs": [
        {
          "output_type": "error",
          "ename": "ValueError",
          "evalue": "ignored",
          "traceback": [
            "\u001b[0;31m---------------------------------------------------------------------------\u001b[0m",
            "\u001b[0;31mValueError\u001b[0m                                Traceback (most recent call last)",
            "\u001b[0;32m<ipython-input-42-c3cb66996588>\u001b[0m in \u001b[0;36m<module>\u001b[0;34m()\u001b[0m\n\u001b[0;32m----> 1\u001b[0;31m \u001b[0mA\u001b[0m \u001b[0;34m+\u001b[0m \u001b[0mC\u001b[0m\u001b[0;34m\u001b[0m\u001b[0;34m\u001b[0m\u001b[0m\n\u001b[0m",
            "\u001b[0;31mValueError\u001b[0m: operands could not be broadcast together with shapes (4,3) (4,) "
          ]
        }
      ]
    },
    {
      "cell_type": "code",
      "metadata": {
        "colab": {
          "base_uri": "https://localhost:8080/"
        },
        "id": "b5hst3wygMNj",
        "outputId": "330af161-c85c-43d3-cc80-296550a7921e"
      },
      "source": [
        "A + D"
      ],
      "execution_count": null,
      "outputs": [
        {
          "output_type": "execute_result",
          "data": {
            "text/plain": [
              "array([[100, 102, 104],\n",
              "       [103, 105, 107],\n",
              "       [106, 108, 110],\n",
              "       [109, 111, 113]])"
            ]
          },
          "metadata": {},
          "execution_count": 45
        }
      ]
    },
    {
      "cell_type": "code",
      "metadata": {
        "id": "pfHF0F_hihal",
        "colab": {
          "base_uri": "https://localhost:8080/"
        },
        "outputId": "3d974859-723d-4f89-9106-860d46ef07a5"
      },
      "source": [
        "A + E"
      ],
      "execution_count": null,
      "outputs": [
        {
          "output_type": "execute_result",
          "data": {
            "text/plain": [
              "array([[ 0,  1,  2],\n",
              "       [ 4,  5,  6],\n",
              "       [ 8,  9, 10],\n",
              "       [12, 13, 14]])"
            ]
          },
          "metadata": {},
          "execution_count": 48
        }
      ]
    },
    {
      "cell_type": "code",
      "metadata": {
        "colab": {
          "base_uri": "https://localhost:8080/",
          "height": 188
        },
        "id": "5ezrpoIhrD3U",
        "outputId": "7620005d-bc64-4cf3-b0f1-1084e970af70"
      },
      "source": [
        "F = np.arange(0, 8).reshape(4, 2)\n",
        "A + F"
      ],
      "execution_count": null,
      "outputs": [
        {
          "output_type": "error",
          "ename": "ValueError",
          "evalue": "ignored",
          "traceback": [
            "\u001b[0;31m---------------------------------------------------------------------------\u001b[0m",
            "\u001b[0;31mValueError\u001b[0m                                Traceback (most recent call last)",
            "\u001b[0;32m<ipython-input-55-2c8f00f4fc14>\u001b[0m in \u001b[0;36m<module>\u001b[0;34m()\u001b[0m\n\u001b[1;32m      1\u001b[0m \u001b[0mF\u001b[0m \u001b[0;34m=\u001b[0m \u001b[0mnp\u001b[0m\u001b[0;34m.\u001b[0m\u001b[0marange\u001b[0m\u001b[0;34m(\u001b[0m\u001b[0;36m0\u001b[0m\u001b[0;34m,\u001b[0m \u001b[0;36m8\u001b[0m\u001b[0;34m)\u001b[0m\u001b[0;34m.\u001b[0m\u001b[0mreshape\u001b[0m\u001b[0;34m(\u001b[0m\u001b[0;36m4\u001b[0m\u001b[0;34m,\u001b[0m \u001b[0;36m2\u001b[0m\u001b[0;34m)\u001b[0m\u001b[0;34m\u001b[0m\u001b[0;34m\u001b[0m\u001b[0m\n\u001b[0;32m----> 2\u001b[0;31m \u001b[0mA\u001b[0m \u001b[0;34m+\u001b[0m \u001b[0mF\u001b[0m\u001b[0;34m\u001b[0m\u001b[0;34m\u001b[0m\u001b[0m\n\u001b[0m",
            "\u001b[0;31mValueError\u001b[0m: operands could not be broadcast together with shapes (4,3) (4,2) "
          ]
        }
      ]
    },
    {
      "cell_type": "markdown",
      "metadata": {
        "id": "_obzc-Q-idYP"
      },
      "source": [
        "![브로드캐스팅.png](data:image/png;base64,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)"
      ]
    },
    {
      "cell_type": "markdown",
      "metadata": {
        "id": "saKuawPhhlJc"
      },
      "source": [
        "# 전치행렬 만들기\n",
        "* 행렬 $A$의 행과 열의 인덱스를 서로 바꾼 것을 전치행렬이라고 한다.\n",
        "* $A_{ij}$의 인덱스를 $A_{ji}$로 바꾸는 것\n",
        "* Transpose 라고 한다."
      ]
    },
    {
      "cell_type": "code",
      "metadata": {
        "colab": {
          "base_uri": "https://localhost:8080/"
        },
        "id": "RdVMm0vCi4ns",
        "outputId": "be02331d-a772-4e76-98f2-3cc54a6e87f7"
      },
      "source": [
        "A = np.arange(6).reshape(2, 3)\n",
        "A"
      ],
      "execution_count": null,
      "outputs": [
        {
          "output_type": "execute_result",
          "data": {
            "text/plain": [
              "array([[0, 1, 2],\n",
              "       [3, 4, 5]])"
            ]
          },
          "metadata": {},
          "execution_count": 49
        }
      ]
    },
    {
      "cell_type": "code",
      "metadata": {
        "colab": {
          "base_uri": "https://localhost:8080/"
        },
        "id": "eTNNpv6_jLjs",
        "outputId": "0bca3972-39e4-46b4-dbc5-f135c275f5bc"
      },
      "source": [
        "A.T"
      ],
      "execution_count": null,
      "outputs": [
        {
          "output_type": "execute_result",
          "data": {
            "text/plain": [
              "array([[0, 3],\n",
              "       [1, 4],\n",
              "       [2, 5]])"
            ]
          },
          "metadata": {},
          "execution_count": 50
        }
      ]
    }
  ]
}