{
  "nbformat": 4,
  "nbformat_minor": 0,
  "metadata": {
    "colab": {
      "name": "02. pandas",
      "provenance": []
    },
    "kernelspec": {
      "name": "python3",
      "display_name": "Python 3"
    },
    "language_info": {
      "name": "python"
    }
  },
  "cells": [
    {
      "cell_type": "markdown",
      "metadata": {
        "id": "DQma-CZAr6SL"
      },
      "source": [
        "# Pandas\n",
        "파이썬에서 데이터를 시각적으로 간편하게 다룰 수 있도록 만들어진 라이브러리\n",
        "\n",
        "2차원 배열 데이터에 대한 집계, 시각화, 편집 등등을 굉장히 쉽게 할 수 있게 해 준다.\n",
        "\n",
        "**정형 데이터**를 다루는 라이브러리"
      ]
    },
    {
      "cell_type": "markdown",
      "metadata": {
        "id": "Mi-ZwwL9sQD3"
      },
      "source": [
        "## 데이터의 종류\n",
        "* 정형 데이터(Structured Data)\n",
        "  - 규칙에 의해서 정확하게 데이터가 존재하는 식의 데이터 형태\n",
        "  - 정해진 형태(정형)\n",
        "    - 엑셀, `csv`, RDBMS\n",
        "  - 대부분의 정형 데이터는 2차원 형식\n",
        "* 반 정형 데이터(Semi Structured Data)\n",
        "  - 약한 정형 데이터\n",
        "  - 규칙은 존재하지만 반드시 지킬 필요는 없는 데이터의 형식\n",
        "  - 없는 데이터는 없도록 설정한다.\n",
        "  - 반 정형 데이터의 종류\n",
        "    - `JSON`, `XML`, `HTML`, `NoSQL` 등 문서의 형식으로 존재하는 데이터\n",
        "    - ```python\n",
        "    person_infos = [\n",
        "        { \"name\" : \"A\", \"age\": 30 },\n",
        "        { \"age\" : 34 },\n",
        "        { \"name\" : \"C\", \"job\" : \"Programmer\" }\n",
        "  ]\n",
        "    ```\n",
        "* 비 정형 데이터(Unstructured Data)\n",
        "  - 정형 데이터의 반대 개념\n",
        "  - 정해진 규칙이 없어서 값의 의미를 파악하기 힘든 데이터\n",
        "  - 영상, 자연어, 음성, 주파수 등등 비정형 데이터에 포함된다.\n"
      ]
    },
    {
      "cell_type": "markdown",
      "metadata": {
        "id": "_n077fY1tDwR"
      },
      "source": [
        "# Series, DataFrame\n",
        "* `Series` : 한 종류의 데이터를 여러 개 모아 놓은 것 \n",
        "  * $\\mathbb{R}^{N \\times 1}$\n",
        "* `DataFrame` : `Series`가 여러 개 모이면 `DataFrame`이 된다.\n",
        "  * `RDBMS`의 테이블과 같은 개념\n",
        "  * $\\mathbb{R}^{N \\times M}$"
      ]
    },
    {
      "cell_type": "markdown",
      "metadata": {
        "id": "GUG9v7BAv6pK"
      },
      "source": [
        "## Series"
      ]
    },
    {
      "cell_type": "code",
      "metadata": {
        "colab": {
          "base_uri": "https://localhost:8080/"
        },
        "id": "pD-yN1eTwbvZ",
        "outputId": "a9080a3d-8c6c-4c7c-c1d0-a600d66238cc"
      },
      "source": [
        "import pandas as pd\n",
        "import numpy as np\n",
        "\n",
        "np.random.seed(42)\n",
        "data = np.random.randn(4)\n",
        "\n",
        "temp_series = pd.Series(data)\n",
        "temp_series"
      ],
      "execution_count": null,
      "outputs": [
        {
          "output_type": "execute_result",
          "data": {
            "text/plain": [
              "0    0.496714\n",
              "1   -0.138264\n",
              "2    0.647689\n",
              "3    1.523030\n",
              "dtype: float64"
            ]
          },
          "metadata": {},
          "execution_count": 4
        }
      ]
    },
    {
      "cell_type": "code",
      "metadata": {
        "colab": {
          "base_uri": "https://localhost:8080/"
        },
        "id": "FU-E7xIlwwPR",
        "outputId": "b7b6a315-6fdf-48f8-aae0-dd0d2c82b2a2"
      },
      "source": [
        "type(temp_series)"
      ],
      "execution_count": null,
      "outputs": [
        {
          "output_type": "execute_result",
          "data": {
            "text/plain": [
              "pandas.core.series.Series"
            ]
          },
          "metadata": {},
          "execution_count": 5
        }
      ]
    },
    {
      "cell_type": "markdown",
      "metadata": {
        "id": "JMjca8_WxHvi"
      },
      "source": [
        "## DataFrame\n",
        "* `Series`가 여러 개 모여서 하나의 데이터 시트를 표현하면 `DataFrame`이 된다."
      ]
    },
    {
      "cell_type": "markdown",
      "metadata": {
        "id": "NVS1qHTMxaYR"
      },
      "source": [
        "### 1. 리스트로 데이터 프레임 만들기"
      ]
    },
    {
      "cell_type": "code",
      "metadata": {
        "colab": {
          "base_uri": "https://localhost:8080/"
        },
        "id": "95MQj9bCx82A",
        "outputId": "8b220151-d8af-4e15-a975-4239bc24a871"
      },
      "source": [
        "# HTML에서 데이터를 크롤링 했을 때 많이 사용되는 방법\n",
        "sample_data = [[\"A\", \"마케팅\", 30],\n",
        "               [\"B\", \"프로그래머\", 27],\n",
        "               [\"C\", \"요리사\", 34]]\n",
        "\n",
        "\n",
        "pd.DataFrame(sample_data)"
      ],
      "execution_count": null,
      "outputs": [
        {
          "output_type": "execute_result",
          "data": {
            "text/html": [
              "<div>\n",
              "<style scoped>\n",
              "    .dataframe tbody tr th:only-of-type {\n",
              "        vertical-align: middle;\n",
              "    }\n",
              "\n",
              "    .dataframe tbody tr th {\n",
              "        vertical-align: top;\n",
              "    }\n",
              "\n",
              "    .dataframe thead th {\n",
              "        text-align: right;\n",
              "    }\n",
              "</style>\n",
              "<table border=\"1\" class=\"dataframe\">\n",
              "  <thead>\n",
              "    <tr style=\"text-align: right;\">\n",
              "      <th></th>\n",
              "      <th>0</th>\n",
              "      <th>1</th>\n",
              "      <th>2</th>\n",
              "    </tr>\n",
              "  </thead>\n",
              "  <tbody>\n",
              "    <tr>\n",
              "      <th>0</th>\n",
              "      <td>A</td>\n",
              "      <td>마케팅</td>\n",
              "      <td>30</td>\n",
              "    </tr>\n",
              "    <tr>\n",
              "      <th>1</th>\n",
              "      <td>B</td>\n",
              "      <td>프로그래머</td>\n",
              "      <td>27</td>\n",
              "    </tr>\n",
              "    <tr>\n",
              "      <th>2</th>\n",
              "      <td>C</td>\n",
              "      <td>요리사</td>\n",
              "      <td>34</td>\n",
              "    </tr>\n",
              "  </tbody>\n",
              "</table>\n",
              "</div>"
            ],
            "text/plain": [
              "   0      1   2\n",
              "0  A    마케팅  30\n",
              "1  B  프로그래머  27\n",
              "2  C    요리사  34"
            ]
          },
          "metadata": {},
          "execution_count": 7
        }
      ]
    },
    {
      "cell_type": "code",
      "metadata": {
        "id": "29Gg0_ocy0ZC"
      },
      "source": [
        ""
      ],
      "execution_count": null,
      "outputs": []
    }
  ]
}