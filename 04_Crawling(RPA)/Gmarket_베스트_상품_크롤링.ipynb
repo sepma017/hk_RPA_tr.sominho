{
  "cells": [
    {
      "cell_type": "code",
      "execution_count": null,
      "id": "76871ce3",
      "metadata": {
        "id": "76871ce3"
      },
      "outputs": [],
      "source": [
        "import requests\n",
        "from bs4 import BeautifulSoup\n",
        "import pandas as pd"
      ]
    },
    {
      "cell_type": "code",
      "execution_count": null,
      "id": "8e7e760f",
      "metadata": {
        "id": "8e7e760f"
      },
      "outputs": [],
      "source": [
        "GMARKET_BEST_URL = \"http://corners.gmarket.co.kr/Bestsellers\""
      ]
    },
    {
      "cell_type": "markdown",
      "id": "5b9c99a1",
      "metadata": {
        "id": "5b9c99a1"
      },
      "source": [
        "`Response [200]` 확인"
      ]
    },
    {
      "cell_type": "code",
      "execution_count": null,
      "id": "2cc22cb6",
      "metadata": {
        "id": "2cc22cb6",
        "outputId": "56ec5a95-ec34-4473-d1c1-788cb1272c4b"
      },
      "outputs": [
        {
          "data": {
            "text/plain": [
              "<Response [200]>"
            ]
          },
          "execution_count": 3,
          "metadata": {},
          "output_type": "execute_result"
        }
      ],
      "source": [
        "response = requests.get(GMARKET_BEST_URL)\n",
        "response"
      ]
    },
    {
      "cell_type": "markdown",
      "id": "b77d9e2c",
      "metadata": {
        "id": "b77d9e2c"
      },
      "source": [
        "`BeautifulSoup`으로 parsing"
      ]
    },
    {
      "cell_type": "code",
      "execution_count": null,
      "id": "9b845197",
      "metadata": {
        "id": "9b845197"
      },
      "outputs": [],
      "source": [
        "dom = BeautifulSoup(response.content, 'html.parser')"
      ]
    },
    {
      "cell_type": "markdown",
      "id": "ba765fcb",
      "metadata": {
        "id": "ba765fcb"
      },
      "source": [
        "일단 한 개의 아이템만 크롤링 해 본다."
      ]
    },
    {
      "cell_type": "markdown",
      "id": "760e032e",
      "metadata": {
        "id": "760e032e"
      },
      "source": [
        "`!pip install beautifulsoup4==4.8.1`"
      ]
    },
    {
      "cell_type": "code",
      "execution_count": null,
      "id": "e7928733",
      "metadata": {
        "id": "e7928733",
        "outputId": "92c4f34a-01e2-4463-8c75-a135775cfc00"
      },
      "outputs": [
        {
          "data": {
            "text/plain": [
              "<li class=\"first\">\n",
              "<p class=\"no1\" id=\"no1\">1</p>\n",
              "<div class=\"thumb\">\n",
              "<a href=\"http://item.gmarket.co.kr/Item?goodscode=1537492125&amp;ver=637743928094188364\" onclick=\"pdsClickLog('200000680', 'Item', {'ASN': 1, 'goodsCode': '1537492125'});\"><img alt=\"[아트릭스]아트릭스 핸드크림 75mlX4개+립밤 / 쿠폰가 7670원\" class=\"lazy\" data-original=\"http://gdimg.gmarket.co.kr/1537492125/still/300?ver=2021120613\" height=\"210\" src=\"http://image.gmarket.co.kr/challenge/neo_image/no_image.gif\" width=\"210\"/></a>\n",
              "</div>\n",
              "<!--div class=\"goods-view\">\n",
              "\t\t\t\t\t\t\t\t\t<a href=\"http://minishop.gmarket.co.kr/nivea01\"><span class=\"view\">판매자 다른상품 보기</span>바이어스도르프 공식</a>\n",
              "\t\t\t\t\t\t\t\t</div-->\n",
              "<a class=\"itemname\" href=\"http://item.gmarket.co.kr/Item?goodscode=1537492125&amp;ver=637743928094188364\" onclick=\"pdsClickLog('200000680', 'Item', {'ASN': 1, 'goodsCode': '1537492125'});\">[아트릭스]아트릭스 핸드크림 75mlX4개+립밤 / 쿠폰가 7670원</a>\n",
              "<div class=\"item_price\">\n",
              "<div class=\"o-price\"><span><span>35,400원</span></span></div>\n",
              "<div class=\"s-price\">\n",
              "<strong><span><span>11,800원</span></span></strong>\n",
              "<span><span class=\"sale\"></span><em>66%</em></span>\n",
              "</div>\n",
              "<div class=\"icon\">\n",
              "<img alt=\"무료배송\" src=\"http://pics.gmkt.kr/pc/ko/corner/gbest/ic_freeshipping.gif\"/>\n",
              "</div>\n",
              "</div>\n",
              "</li>"
            ]
          },
          "execution_count": 42,
          "metadata": {},
          "output_type": "execute_result"
        }
      ],
      "source": [
        "best_item1 = dom.select_one(\"#gBestWrap > div > div:nth-child(5) > div:nth-child(3) > ul > li:nth-child(1)\")\n",
        "best_item1"
      ]
    },
    {
      "cell_type": "markdown",
      "id": "be4742d3",
      "metadata": {
        "id": "be4742d3"
      },
      "source": [
        "`nth-child`를 쓰지 않고 하려면..?"
      ]
    },
    {
      "cell_type": "code",
      "execution_count": null,
      "id": "28eb2eb4",
      "metadata": {
        "id": "28eb2eb4",
        "outputId": "91d6bda0-cbae-4fbf-85e0-3c5df7687b3d"
      },
      "outputs": [
        {
          "data": {
            "text/plain": [
              "<li class=\"first\">\n",
              "<p class=\"no1\" id=\"no1\">1</p>\n",
              "<div class=\"thumb\">\n",
              "<a href=\"http://item.gmarket.co.kr/Item?goodscode=1537492125&amp;ver=637743928094188364\" onclick=\"pdsClickLog('200000680', 'Item', {'ASN': 1, 'goodsCode': '1537492125'});\"><img alt=\"[아트릭스]아트릭스 핸드크림 75mlX4개+립밤 / 쿠폰가 7670원\" class=\"lazy\" data-original=\"http://gdimg.gmarket.co.kr/1537492125/still/300?ver=2021120613\" height=\"210\" src=\"http://image.gmarket.co.kr/challenge/neo_image/no_image.gif\" width=\"210\"/></a>\n",
              "</div>\n",
              "<!--div class=\"goods-view\">\n",
              "\t\t\t\t\t\t\t\t\t<a href=\"http://minishop.gmarket.co.kr/nivea01\"><span class=\"view\">판매자 다른상품 보기</span>바이어스도르프 공식</a>\n",
              "\t\t\t\t\t\t\t\t</div-->\n",
              "<a class=\"itemname\" href=\"http://item.gmarket.co.kr/Item?goodscode=1537492125&amp;ver=637743928094188364\" onclick=\"pdsClickLog('200000680', 'Item', {'ASN': 1, 'goodsCode': '1537492125'});\">[아트릭스]아트릭스 핸드크림 75mlX4개+립밤 / 쿠폰가 7670원</a>\n",
              "<div class=\"item_price\">\n",
              "<div class=\"o-price\"><span><span>35,400원</span></span></div>\n",
              "<div class=\"s-price\">\n",
              "<strong><span><span>11,800원</span></span></strong>\n",
              "<span><span class=\"sale\"></span><em>66%</em></span>\n",
              "</div>\n",
              "<div class=\"icon\">\n",
              "<img alt=\"무료배송\" src=\"http://pics.gmkt.kr/pc/ko/corner/gbest/ic_freeshipping.gif\"/>\n",
              "</div>\n",
              "</div>\n",
              "</li>"
            ]
          },
          "execution_count": 37,
          "metadata": {},
          "output_type": "execute_result"
        }
      ],
      "source": [
        "g_best_top = dom.select(\"#gBestWrap > .gbest-top > div\")\n",
        "best_list = g_best_top[2].select(\"div.best-list\")\n",
        "best_list = best_list[1]\n",
        "\n",
        "item_best1 = best_list.select(\"li\")[0]\n",
        "item_best1"
      ]
    },
    {
      "cell_type": "code",
      "execution_count": null,
      "id": "6e2f0e56",
      "metadata": {
        "id": "6e2f0e56",
        "outputId": "defd65d2-0ca9-40c9-ad1b-dcffcd4bbb5d"
      },
      "outputs": [
        {
          "data": {
            "text/plain": [
              "'[아트릭스]아트릭스 핸드크림 75mlX4개+립밤 / 쿠폰가 7670원'"
            ]
          },
          "execution_count": 44,
          "metadata": {},
          "output_type": "execute_result"
        }
      ],
      "source": [
        "item_best1.select_one(\"a.itemname\").text"
      ]
    },
    {
      "cell_type": "code",
      "execution_count": null,
      "id": "9c9887be",
      "metadata": {
        "id": "9c9887be",
        "outputId": "2142fa69-723c-4c62-84a2-656771fe4730"
      },
      "outputs": [
        {
          "data": {
            "text/plain": [
              "'11,800원'"
            ]
          },
          "execution_count": 52,
          "metadata": {},
          "output_type": "execute_result"
        }
      ],
      "source": [
        "item_best1.select_one(\"div.item_price > div.s-price span\").text"
      ]
    },
    {
      "cell_type": "markdown",
      "id": "7571e3c3",
      "metadata": {
        "id": "7571e3c3"
      },
      "source": [
        "`goodscode` 찾기\n",
        "- href에 들어있는 `goodscode`를 찾아보자\n",
        "- `attribute`에 있는 값을 가져오기 위해서는 `get(attribute name)`"
      ]
    },
    {
      "cell_type": "code",
      "execution_count": null,
      "id": "031931d8",
      "metadata": {
        "id": "031931d8",
        "outputId": "5ef94440-3a8b-4d6b-b30e-02a09edca4a0"
      },
      "outputs": [
        {
          "name": "stdout",
          "output_type": "stream",
          "text": [
            "http://item.gmarket.co.kr/Item?goodscode=1537492125&ver=637743928094188364\n"
          ]
        }
      ],
      "source": [
        "link_item1 = item_best1.select_one(\"a.itemname\").get(\"href\")\n",
        "print(link_item1)"
      ]
    },
    {
      "cell_type": "code",
      "execution_count": null,
      "id": "27ab649f",
      "metadata": {
        "id": "27ab649f",
        "outputId": "95b5bafc-6fbb-468e-babe-b80d32612b1d"
      },
      "outputs": [
        {
          "data": {
            "text/plain": [
              "'1537492125'"
            ]
          },
          "execution_count": 68,
          "metadata": {},
          "output_type": "execute_result"
        }
      ],
      "source": [
        "params = link_item1.split(\"?\")\n",
        "params = params[1]\n",
        "param_list = params.split(\"&\")\n",
        "goodscode_param = param_list[0]\n",
        "goodscode = goodscode_param.split(\"=\")[1]\n",
        "goodscode"
      ]
    },
    {
      "cell_type": "markdown",
      "id": "fa3d411f",
      "metadata": {
        "id": "fa3d411f"
      },
      "source": [
        "`urllib` 라이브러리\n",
        "- 기본적인 웹 통신 및 url을 관리하기 위한 여러 기능들이 들어있는 모듈\n",
        "- `urlparse`, `parse_qs`"
      ]
    },
    {
      "cell_type": "code",
      "execution_count": null,
      "id": "9a4f7bbb",
      "metadata": {
        "id": "9a4f7bbb"
      },
      "outputs": [],
      "source": [
        "from urllib.parse import urlparse, parse_qs"
      ]
    },
    {
      "cell_type": "code",
      "execution_count": null,
      "id": "dd5a0993",
      "metadata": {
        "id": "dd5a0993",
        "outputId": "7f855f91-83c1-4a56-8f87-2d07136ce3cc"
      },
      "outputs": [
        {
          "data": {
            "text/plain": [
              "ParseResult(scheme='http', netloc='item.gmarket.co.kr', path='/Item', params='', query='goodscode=1537492125&ver=637743928094188364', fragment='')"
            ]
          },
          "execution_count": 71,
          "metadata": {},
          "output_type": "execute_result"
        }
      ],
      "source": [
        "# urlparse\n",
        "parsed_url = urlparse(link_item1)\n",
        "parsed_url"
      ]
    },
    {
      "cell_type": "code",
      "execution_count": null,
      "id": "fa2e40c5",
      "metadata": {
        "id": "fa2e40c5",
        "outputId": "202e26b1-d35b-4a6c-ac66-6e1288cf1119"
      },
      "outputs": [
        {
          "data": {
            "text/plain": [
              "'goodscode=1537492125&ver=637743928094188364'"
            ]
          },
          "execution_count": 72,
          "metadata": {},
          "output_type": "execute_result"
        }
      ],
      "source": [
        "url_query = parsed_url.query\n",
        "url_query"
      ]
    },
    {
      "cell_type": "code",
      "execution_count": null,
      "id": "99cd0d1d",
      "metadata": {
        "id": "99cd0d1d",
        "outputId": "1cf9714f-7c4f-4168-b309-51e6d3e53b1e"
      },
      "outputs": [
        {
          "data": {
            "text/plain": [
              "{'goodscode': ['1537492125'], 'ver': ['637743928094188364']}"
            ]
          },
          "execution_count": 73,
          "metadata": {},
          "output_type": "execute_result"
        }
      ],
      "source": [
        "# parse_qs url의 쿼리 부분을 딕셔너리 형태로 바꿔준다.\n",
        "parsed_query = parse_qs(url_query)\n",
        "parsed_query"
      ]
    },
    {
      "cell_type": "code",
      "execution_count": null,
      "id": "7cb9dc77",
      "metadata": {
        "id": "7cb9dc77",
        "outputId": "2757e3a7-cf91-4ac9-e22d-a54f0ba88a08"
      },
      "outputs": [
        {
          "data": {
            "text/plain": [
              "'1537492125'"
            ]
          },
          "execution_count": 74,
          "metadata": {},
          "output_type": "execute_result"
        }
      ],
      "source": [
        "item1_goodscode = parsed_query['goodscode'][0]\n",
        "item1_goodscode"
      ]
    },
    {
      "cell_type": "markdown",
      "id": "d75c1963",
      "metadata": {
        "id": "d75c1963"
      },
      "source": [
        "`image` url 가져오기"
      ]
    },
    {
      "cell_type": "code",
      "execution_count": null,
      "id": "5bb332a4",
      "metadata": {
        "id": "5bb332a4",
        "outputId": "77dd8a10-be6a-447f-988b-abe226256277"
      },
      "outputs": [
        {
          "data": {
            "text/plain": [
              "'http://gdimg.gmarket.co.kr/1537492125/still/300?ver=2021120613'"
            ]
          },
          "execution_count": 78,
          "metadata": {},
          "output_type": "execute_result"
        }
      ],
      "source": [
        "img_url = item_best1.select_one(\"div.thumb > a > img\").get(\"data-original\")\n",
        "img_url"
      ]
    },
    {
      "cell_type": "markdown",
      "id": "d6e7725f",
      "metadata": {
        "id": "d6e7725f"
      },
      "source": [
        "`img` 저장 라이브러리 - `urllib.request.urlretrieve`"
      ]
    },
    {
      "cell_type": "code",
      "execution_count": null,
      "id": "6f097bb0",
      "metadata": {
        "id": "6f097bb0",
        "outputId": "f6cafb1c-7d82-470d-fa21-5b4e06593c0e"
      },
      "outputs": [
        {
          "data": {
            "text/plain": [
              "('1537492125.png', <http.client.HTTPMessage at 0x1853b8bfdc0>)"
            ]
          },
          "execution_count": 79,
          "metadata": {},
          "output_type": "execute_result"
        }
      ],
      "source": [
        "from urllib.request import urlretrieve\n",
        "\n",
        "# urlretrieve(이미지 링크, 저장할 파일명)\n",
        " # 임의로 png라고 적어준다. 이미지 확장자가 있으면 그냥 그거 그대로 쓰는게 좋음.\n",
        "urlretrieve(img_url, item1_goodscode+\".png\")"
      ]
    },
    {
      "cell_type": "markdown",
      "id": "ae101246",
      "metadata": {
        "id": "ae101246"
      },
      "source": [
        "모든 아이템 가져오기"
      ]
    },
    {
      "cell_type": "code",
      "execution_count": null,
      "id": "8a251c84",
      "metadata": {
        "id": "8a251c84"
      },
      "outputs": [],
      "source": [
        "!mkdir gmarket_images"
      ]
    },
    {
      "cell_type": "code",
      "execution_count": null,
      "id": "b38a5e23",
      "metadata": {
        "id": "b38a5e23"
      },
      "outputs": [],
      "source": [
        "for item in best_list.select(\"li\"):\n",
        "    item_name  = item.select_one(\"a.itemname\").text\n",
        "    item_price = item.select_one(\"div.item_price > div.s-price span\").text\n",
        "    item_link  = item.select_one(\"a.itemname\").get(\"href\")\n",
        "    \n",
        "    parsed_url = urlparse(item_link)\n",
        "    parsed_query = parse_qs(parsed_url.query)\n",
        "    item_code = parsed_query['goodscode'][0]\n",
        "    \n",
        "    img_url = item.select_one(\"div.thumb > a > img\").get(\"data-original\")\n",
        "    urlretrieve(img_url, \"./gmarket_images/\"+item_code+\".png\")"
      ]
    },
    {
      "cell_type": "code",
      "execution_count": null,
      "id": "f3541cd9",
      "metadata": {
        "id": "f3541cd9"
      },
      "outputs": [],
      "source": [
        ""
      ]
    }
  ],
  "metadata": {
    "kernelspec": {
      "display_name": "Python 3",
      "language": "python",
      "name": "python3"
    },
    "language_info": {
      "codemirror_mode": {
        "name": "ipython",
        "version": 3
      },
      "file_extension": ".py",
      "mimetype": "text/x-python",
      "name": "python",
      "nbconvert_exporter": "python",
      "pygments_lexer": "ipython3",
      "version": "3.8.8"
    },
    "colab": {
      "name": "Gmarket 베스트 상품 크롤링.ipynb",
      "provenance": []
    }
  },
  "nbformat": 4,
  "nbformat_minor": 5
}