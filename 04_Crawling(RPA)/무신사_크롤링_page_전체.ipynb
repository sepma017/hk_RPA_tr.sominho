{
  "cells": [
    {
      "cell_type": "markdown",
      "metadata": {
        "id": "MGuP5OQwJq_k"
      },
      "source": [
        "# 무신사 크롤링 모듈 생성"
      ]
    },
    {
      "cell_type": "code",
      "execution_count": null,
      "metadata": {
        "id": "F_1mU9YA4Ii8",
        "outputId": "aa25f2e2-fd02-4af7-d945-eb0bb883d39d"
      },
      "outputs": [
        {
          "name": "stdout",
          "output_type": "stream",
          "text": [
            "Overwriting musinsa.py\n"
          ]
        }
      ],
      "source": [
        "%%writefile musinsa.py\n",
        "import requests\n",
        "from bs4 import BeautifulSoup\n",
        "from tqdm import tqdm_notebook\n",
        "\n",
        "all_page_products = []\n",
        "\n",
        "def get_total_page(category=\"002\"):\n",
        "    url = \"https://search.musinsa.com/ranking/best?u_cat_cd={}\".format(category)\n",
        "    html_page = requests.get(url).content\n",
        "    soup = BeautifulSoup(html_page, 'html.parser')\n",
        "    total_page = soup.select_one(\"#goodsRankForm > div.right_contents.hover_box > div.boxed-list-wrapper.rank-shop > div.thumbType_box.box > span.pagingNumber > span.totalPagingNum\").text\n",
        "    total_page = int(total_page)\n",
        "    return total_page\n",
        "\n",
        "def get_musinsa_product(category=\"002\"):\n",
        "    total_page = get_total_page()\n",
        "    for page in tqdm_notebook(range(1, total_page+1)):\n",
        "        url = \"https://search.musinsa.com/ranking/best?mainCategory={}&page={}\".format(category, page)\n",
        "\n",
        "        html_page = requests.get(url.format(page)).content\n",
        "        soup = BeautifulSoup(html_page, 'html.parser')\n",
        "        products = soup.select(\"#goodsRankList > li\")\n",
        "        \n",
        "        for product in products:\n",
        "\n",
        "            # 상품 id\n",
        "            product_id = product['data-goods-no']\n",
        "            img_url = product.select_one(\"img.lazyload\").get(\"data-original\")\n",
        "            product_brand = product.select_one(\"p.item_title\").text\n",
        "            product_detail_url = product.select_one(\"p.list_info > a\").get(\"href\")\n",
        "            product_name = product.select_one(\"p.list_info\").text.strip()\n",
        "            product_price = product.select_one(\"p.price\").text.split()\n",
        "            product_price = float(product_price[-1].replace(\",\", \"\").replace(\"원\", \"\"))\n",
        "            start_count_elem = product.select_one(\"p.point > span.count\")\n",
        "            if start_count_elem:\n",
        "                star_count = int(start_count_elem.text.replace(\",\", \"\"))\n",
        "            else:\n",
        "                star_count = 0\n",
        "\n",
        "            item = {\n",
        "                \"product_id\": product_id,\n",
        "                \"img_url\": img_url,\n",
        "                \"product_brand\":product_brand.strip(),\n",
        "                \"product_detail_url\":product_detail_url,\n",
        "                \"product_name\":product_name.strip(),\n",
        "                \"product_price\":product_price,\n",
        "                \"star_count\":star_count\n",
        "            }\n",
        "\n",
        "            all_page_products.append(item)\n",
        "            \n",
        "    return all_page_products"
      ]
    },
    {
      "cell_type": "markdown",
      "metadata": {
        "id": "ZxPz9Nso4Ii-"
      },
      "source": [
        "# 무신사 모듈 로딩 및 크롤링 함수 호출"
      ]
    },
    {
      "cell_type": "code",
      "execution_count": null,
      "metadata": {
        "id": "thl8wAzcaXZW",
        "outputId": "3013441d-79da-4682-e369-50437d95e8da",
        "colab": {
          "referenced_widgets": [
            "050892d0b82c4caa8963566e22166a87"
          ]
        }
      },
      "outputs": [
        {
          "data": {
            "application/vnd.jupyter.widget-view+json": {
              "model_id": "050892d0b82c4caa8963566e22166a87",
              "version_major": 2,
              "version_minor": 0
            },
            "text/plain": [
              "  0%|          | 0/100 [00:00<?, ?it/s]"
            ]
          },
          "metadata": {},
          "output_type": "display_data"
        }
      ],
      "source": [
        "from musinsa import get_musinsa_product\n",
        "\n",
        "all_products = get_musinsa_product()"
      ]
    },
    {
      "cell_type": "markdown",
      "metadata": {
        "id": "LgAg70ab4Ii_"
      },
      "source": [
        "# mongodb 연결 및 db, collection 연결"
      ]
    },
    {
      "cell_type": "code",
      "execution_count": null,
      "metadata": {
        "id": "Uv5uB5ls4Ii_",
        "outputId": "42d460e0-3ce7-4505-c5da-a14961be5e7e"
      },
      "outputs": [
        {
          "data": {
            "text/plain": [
              "MongoClient('3.37.184.54', 27017)"
            ]
          },
          "execution_count": 3,
          "metadata": {},
          "output_type": "execute_result"
        }
      ],
      "source": [
        "import pymongo\n",
        "client = pymongo.MongoClient(\"mongodb://3.37.184.54:27017/\")\n",
        "client"
      ]
    },
    {
      "cell_type": "markdown",
      "metadata": {
        "id": "rQg-Zyd54IjA"
      },
      "source": [
        "기존 db 삭제"
      ]
    },
    {
      "cell_type": "code",
      "execution_count": null,
      "metadata": {
        "id": "XRieH0h44IjA"
      },
      "outputs": [],
      "source": [
        "client.crawling.musinsa.drop()"
      ]
    },
    {
      "cell_type": "markdown",
      "metadata": {
        "id": "yO7SVJWf4IjA"
      },
      "source": [
        "insert"
      ]
    },
    {
      "cell_type": "code",
      "execution_count": null,
      "metadata": {
        "id": "jOXCjmBI4IjA"
      },
      "outputs": [],
      "source": [
        "musinsa = client.crawling.musinsa\n",
        "insert_result = musinsa.insert(all_products)"
      ]
    },
    {
      "cell_type": "markdown",
      "metadata": {
        "id": "jvesM5lm4IjB"
      },
      "source": [
        "# 데이터 프레임 생성( 크롤링 데이터로 )"
      ]
    },
    {
      "cell_type": "code",
      "execution_count": null,
      "metadata": {
        "id": "MSCYCA754IjB",
        "outputId": "d9f51e22-6a59-47c0-f7ba-ac03d61494ea"
      },
      "outputs": [
        {
          "data": {
            "text/html": [
              "<div>\n",
              "<style scoped>\n",
              "    .dataframe tbody tr th:only-of-type {\n",
              "        vertical-align: middle;\n",
              "    }\n",
              "\n",
              "    .dataframe tbody tr th {\n",
              "        vertical-align: top;\n",
              "    }\n",
              "\n",
              "    .dataframe thead th {\n",
              "        text-align: right;\n",
              "    }\n",
              "</style>\n",
              "<table border=\"1\" class=\"dataframe\">\n",
              "  <thead>\n",
              "    <tr style=\"text-align: right;\">\n",
              "      <th></th>\n",
              "      <th>product_id</th>\n",
              "      <th>img_url</th>\n",
              "      <th>product_brand</th>\n",
              "      <th>product_detail_url</th>\n",
              "      <th>product_name</th>\n",
              "      <th>product_price</th>\n",
              "      <th>star_count</th>\n",
              "      <th>_id</th>\n",
              "    </tr>\n",
              "  </thead>\n",
              "  <tbody>\n",
              "    <tr>\n",
              "      <th>0</th>\n",
              "      <td>2081554</td>\n",
              "      <td>https://image.msscdn.net/images/goods_img/2021...</td>\n",
              "      <td>노스페이스</td>\n",
              "      <td>https://store.musinsa.com/app/goods/2081554?lo...</td>\n",
              "      <td>NJ1DM62A 남성 1996 에코 눕시 자켓</td>\n",
              "      <td>299000.0</td>\n",
              "      <td>1932</td>\n",
              "      <td>61b041c5c28c300318f4fbf3</td>\n",
              "    </tr>\n",
              "    <tr>\n",
              "      <th>1</th>\n",
              "      <td>865862</td>\n",
              "      <td>https://image.msscdn.net/images/goods_img/2018...</td>\n",
              "      <td>무신사 스탠다드</td>\n",
              "      <td>https://store.musinsa.com/app/goods/865862?loc...</td>\n",
              "      <td>캐시미어 블렌드 오버사이즈 싱글 코트 [블랙]</td>\n",
              "      <td>139900.0</td>\n",
              "      <td>16135</td>\n",
              "      <td>61b041c5c28c300318f4fbf4</td>\n",
              "    </tr>\n",
              "    <tr>\n",
              "      <th>2</th>\n",
              "      <td>2014490</td>\n",
              "      <td>https://image.msscdn.net/images/goods_img/2021...</td>\n",
              "      <td>후아유</td>\n",
              "      <td>https://store.musinsa.com/app/goods/2014490?lo...</td>\n",
              "      <td>리버서블 후드 웜업 [아메리카 블랙] WHJJB4T02U</td>\n",
              "      <td>79920.0</td>\n",
              "      <td>1642</td>\n",
              "      <td>61b041c5c28c300318f4fbf5</td>\n",
              "    </tr>\n",
              "    <tr>\n",
              "      <th>3</th>\n",
              "      <td>1575618</td>\n",
              "      <td>https://image.msscdn.net/images/goods_img/2020...</td>\n",
              "      <td>쿠어</td>\n",
              "      <td>https://store.musinsa.com/app/goods/1575618?lo...</td>\n",
              "      <td>MTR 발마칸 코트 (딥브라운)</td>\n",
              "      <td>279650.0</td>\n",
              "      <td>422</td>\n",
              "      <td>61b041c5c28c300318f4fbf6</td>\n",
              "    </tr>\n",
              "    <tr>\n",
              "      <th>4</th>\n",
              "      <td>2105483</td>\n",
              "      <td>https://image.msscdn.net/images/goods_img/2021...</td>\n",
              "      <td>노스페이스</td>\n",
              "      <td>https://store.musinsa.com/app/goods/2105483?lo...</td>\n",
              "      <td>NC1DM73A 고 프리 하이브리드 다운 코트 EX</td>\n",
              "      <td>269100.0</td>\n",
              "      <td>285</td>\n",
              "      <td>61b041c5c28c300318f4fbf7</td>\n",
              "    </tr>\n",
              "  </tbody>\n",
              "</table>\n",
              "</div>"
            ],
            "text/plain": [
              "  product_id                                            img_url product_brand  \\\n",
              "0    2081554  https://image.msscdn.net/images/goods_img/2021...         노스페이스   \n",
              "1     865862  https://image.msscdn.net/images/goods_img/2018...      무신사 스탠다드   \n",
              "2    2014490  https://image.msscdn.net/images/goods_img/2021...           후아유   \n",
              "3    1575618  https://image.msscdn.net/images/goods_img/2020...            쿠어   \n",
              "4    2105483  https://image.msscdn.net/images/goods_img/2021...         노스페이스   \n",
              "\n",
              "                                  product_detail_url  \\\n",
              "0  https://store.musinsa.com/app/goods/2081554?lo...   \n",
              "1  https://store.musinsa.com/app/goods/865862?loc...   \n",
              "2  https://store.musinsa.com/app/goods/2014490?lo...   \n",
              "3  https://store.musinsa.com/app/goods/1575618?lo...   \n",
              "4  https://store.musinsa.com/app/goods/2105483?lo...   \n",
              "\n",
              "                      product_name  product_price  star_count  \\\n",
              "0        NJ1DM62A 남성 1996 에코 눕시 자켓       299000.0        1932   \n",
              "1        캐시미어 블렌드 오버사이즈 싱글 코트 [블랙]       139900.0       16135   \n",
              "2  리버서블 후드 웜업 [아메리카 블랙] WHJJB4T02U        79920.0        1642   \n",
              "3                MTR 발마칸 코트 (딥브라운)       279650.0         422   \n",
              "4     NC1DM73A 고 프리 하이브리드 다운 코트 EX       269100.0         285   \n",
              "\n",
              "                        _id  \n",
              "0  61b041c5c28c300318f4fbf3  \n",
              "1  61b041c5c28c300318f4fbf4  \n",
              "2  61b041c5c28c300318f4fbf5  \n",
              "3  61b041c5c28c300318f4fbf6  \n",
              "4  61b041c5c28c300318f4fbf7  "
            ]
          },
          "execution_count": 6,
          "metadata": {},
          "output_type": "execute_result"
        }
      ],
      "source": [
        "import pandas as pd\n",
        "df_musinsa = pd.DataFrame(all_products)\n",
        "df_musinsa.head()"
      ]
    },
    {
      "cell_type": "code",
      "execution_count": null,
      "metadata": {
        "id": "EhrxIG2O4IjB",
        "outputId": "202c1ab1-2177-4191-9c23-ca6fef452082"
      },
      "outputs": [
        {
          "data": {
            "text/plain": [
              "195757.43633333335"
            ]
          },
          "execution_count": 7,
          "metadata": {},
          "output_type": "execute_result"
        }
      ],
      "source": [
        "product_mean = df_musinsa['product_price'].mean()\n",
        "product_mean"
      ]
    },
    {
      "cell_type": "markdown",
      "metadata": {
        "id": "p8_uGCMj4IjC"
      },
      "source": [
        "# 평균 구하고 다시 조회 및 데이터 프레임 생성하기"
      ]
    },
    {
      "cell_type": "code",
      "execution_count": null,
      "metadata": {
        "id": "Z0JKPShs4IjC",
        "outputId": "46743a34-0760-4f0d-fd72-5a42f234957c"
      },
      "outputs": [
        {
          "data": {
            "text/html": [
              "<div>\n",
              "<style scoped>\n",
              "    .dataframe tbody tr th:only-of-type {\n",
              "        vertical-align: middle;\n",
              "    }\n",
              "\n",
              "    .dataframe tbody tr th {\n",
              "        vertical-align: top;\n",
              "    }\n",
              "\n",
              "    .dataframe thead th {\n",
              "        text-align: right;\n",
              "    }\n",
              "</style>\n",
              "<table border=\"1\" class=\"dataframe\">\n",
              "  <thead>\n",
              "    <tr style=\"text-align: right;\">\n",
              "      <th></th>\n",
              "      <th>_id</th>\n",
              "      <th>product_id</th>\n",
              "      <th>img_url</th>\n",
              "      <th>product_brand</th>\n",
              "      <th>product_detail_url</th>\n",
              "      <th>product_name</th>\n",
              "      <th>product_price</th>\n",
              "      <th>star_count</th>\n",
              "    </tr>\n",
              "  </thead>\n",
              "  <tbody>\n",
              "    <tr>\n",
              "      <th>0</th>\n",
              "      <td>61b041c5c28c300318f4fbf4</td>\n",
              "      <td>865862</td>\n",
              "      <td>https://image.msscdn.net/images/goods_img/2018...</td>\n",
              "      <td>무신사 스탠다드</td>\n",
              "      <td>https://store.musinsa.com/app/goods/865862?loc...</td>\n",
              "      <td>캐시미어 블렌드 오버사이즈 싱글 코트 [블랙]</td>\n",
              "      <td>139900.0</td>\n",
              "      <td>16135</td>\n",
              "    </tr>\n",
              "    <tr>\n",
              "      <th>1</th>\n",
              "      <td>61b041c5c28c300318f4fbf5</td>\n",
              "      <td>2014490</td>\n",
              "      <td>https://image.msscdn.net/images/goods_img/2021...</td>\n",
              "      <td>후아유</td>\n",
              "      <td>https://store.musinsa.com/app/goods/2014490?lo...</td>\n",
              "      <td>리버서블 후드 웜업 [아메리카 블랙] WHJJB4T02U</td>\n",
              "      <td>79920.0</td>\n",
              "      <td>1642</td>\n",
              "    </tr>\n",
              "    <tr>\n",
              "      <th>2</th>\n",
              "      <td>61b041c5c28c300318f4fbfa</td>\n",
              "      <td>2037171</td>\n",
              "      <td>https://image.msscdn.net/images/goods_img/2021...</td>\n",
              "      <td>스파오</td>\n",
              "      <td>https://store.musinsa.com/app/goods/2037171?lo...</td>\n",
              "      <td>[허니푸퍼] 리버서블 푸퍼_SPJDB4VC14</td>\n",
              "      <td>69900.0</td>\n",
              "      <td>4207</td>\n",
              "    </tr>\n",
              "    <tr>\n",
              "      <th>3</th>\n",
              "      <td>61b041c5c28c300318f4fbfb</td>\n",
              "      <td>1535337</td>\n",
              "      <td>https://image.msscdn.net/images/goods_img/2020...</td>\n",
              "      <td>코드그라피</td>\n",
              "      <td>https://store.musinsa.com/app/goods/1535337?lo...</td>\n",
              "      <td>[PRAUDEN] 유틸리티 덕다운 푸파 숏패딩_쿨그레이</td>\n",
              "      <td>124000.0</td>\n",
              "      <td>4317</td>\n",
              "    </tr>\n",
              "    <tr>\n",
              "      <th>4</th>\n",
              "      <td>61b041c5c28c300318f4fbfd</td>\n",
              "      <td>1611891</td>\n",
              "      <td>https://image.msscdn.net/images/goods_img/2020...</td>\n",
              "      <td>라퍼지 포 우먼</td>\n",
              "      <td>https://store.musinsa.com/app/goods/1611891?lo...</td>\n",
              "      <td>울리치 트렌치 맥코트_Black</td>\n",
              "      <td>108000.0</td>\n",
              "      <td>2693</td>\n",
              "    </tr>\n",
              "  </tbody>\n",
              "</table>\n",
              "</div>"
            ],
            "text/plain": [
              "                        _id product_id  \\\n",
              "0  61b041c5c28c300318f4fbf4     865862   \n",
              "1  61b041c5c28c300318f4fbf5    2014490   \n",
              "2  61b041c5c28c300318f4fbfa    2037171   \n",
              "3  61b041c5c28c300318f4fbfb    1535337   \n",
              "4  61b041c5c28c300318f4fbfd    1611891   \n",
              "\n",
              "                                             img_url product_brand  \\\n",
              "0  https://image.msscdn.net/images/goods_img/2018...      무신사 스탠다드   \n",
              "1  https://image.msscdn.net/images/goods_img/2021...           후아유   \n",
              "2  https://image.msscdn.net/images/goods_img/2021...           스파오   \n",
              "3  https://image.msscdn.net/images/goods_img/2020...         코드그라피   \n",
              "4  https://image.msscdn.net/images/goods_img/2020...      라퍼지 포 우먼   \n",
              "\n",
              "                                  product_detail_url  \\\n",
              "0  https://store.musinsa.com/app/goods/865862?loc...   \n",
              "1  https://store.musinsa.com/app/goods/2014490?lo...   \n",
              "2  https://store.musinsa.com/app/goods/2037171?lo...   \n",
              "3  https://store.musinsa.com/app/goods/1535337?lo...   \n",
              "4  https://store.musinsa.com/app/goods/1611891?lo...   \n",
              "\n",
              "                      product_name  product_price  star_count  \n",
              "0        캐시미어 블렌드 오버사이즈 싱글 코트 [블랙]       139900.0       16135  \n",
              "1  리버서블 후드 웜업 [아메리카 블랙] WHJJB4T02U        79920.0        1642  \n",
              "2        [허니푸퍼] 리버서블 푸퍼_SPJDB4VC14        69900.0        4207  \n",
              "3   [PRAUDEN] 유틸리티 덕다운 푸파 숏패딩_쿨그레이       124000.0        4317  \n",
              "4                울리치 트렌치 맥코트_Black       108000.0        2693  "
            ]
          },
          "execution_count": 8,
          "metadata": {},
          "output_type": "execute_result"
        }
      ],
      "source": [
        "QUERY = {\"product_price\" : {\"$lte\": product_mean}}\n",
        "results = musinsa.find(QUERY)\n",
        "\n",
        "result_df = pd.DataFrame(results)\n",
        "result_df.head()"
      ]
    },
    {
      "cell_type": "code",
      "execution_count": null,
      "metadata": {
        "id": "3mlUMQm44IjC"
      },
      "outputs": [],
      "source": [
        ""
      ]
    }
  ],
  "metadata": {
    "colab": {
      "collapsed_sections": [],
      "name": "무신사 크롤링 page 전체.ipynb",
      "provenance": []
    },
    "kernelspec": {
      "display_name": "Python 3",
      "language": "python",
      "name": "python3"
    },
    "language_info": {
      "codemirror_mode": {
        "name": "ipython",
        "version": 3
      },
      "file_extension": ".py",
      "mimetype": "text/x-python",
      "name": "python",
      "nbconvert_exporter": "python",
      "pygments_lexer": "ipython3",
      "version": "3.8.8"
    }
  },
  "nbformat": 4,
  "nbformat_minor": 0
}