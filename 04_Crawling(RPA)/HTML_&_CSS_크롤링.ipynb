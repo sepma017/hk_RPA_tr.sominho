{
  "cells": [
    {
      "cell_type": "markdown",
      "id": "1a067c96",
      "metadata": {
        "id": "1a067c96"
      },
      "source": [
        "# HTML 파싱(parse)\n",
        "1. html 페이지를 요청(`request`)\n",
        "2. 받아온 html 형식의 문자열을 HTMLElement로 parsing\n",
        "    - `BeautifulSoup` 라이브러리 활용\n",
        "    - `pip install bs4`\n",
        "3. 선택자(selector, 여러 함수)를 활용해서 text를 추출"
      ]
    },
    {
      "cell_type": "markdown",
      "id": "69c068fd",
      "metadata": {
        "id": "69c068fd"
      },
      "source": [
        "## BeautifulSoup import"
      ]
    },
    {
      "cell_type": "code",
      "execution_count": null,
      "id": "aa07dcef",
      "metadata": {
        "id": "aa07dcef"
      },
      "outputs": [],
      "source": [
        "# 이상한 나라의 엘리스에서 유래\n",
        "from bs4 import BeautifulSoup\n",
        "\n",
        "html_txt = \"\"\"\n",
        "<div id='container'>\n",
        "    <div class='wrap-1'>\n",
        "        <p>Hello HTML</p>\n",
        "    </div>\n",
        "    <p class='wrap-2'>\n",
        "        Bye~\n",
        "    </p>\n",
        "</div>\n",
        "\"\"\""
      ]
    },
    {
      "cell_type": "code",
      "execution_count": null,
      "id": "cdb5e915",
      "metadata": {
        "id": "cdb5e915",
        "outputId": "03f65e57-f6de-493b-dfc6-cacb75a48faa"
      },
      "outputs": [
        {
          "data": {
            "text/plain": [
              "\n",
              "<div id=\"container\">\n",
              "<div class=\"wrap-1\">\n",
              "<p>Hello HTML</p>\n",
              "</div>\n",
              "<p class=\"wrap-2\">\n",
              "        Bye~\n",
              "    </p>\n",
              "</div>"
            ]
          },
          "execution_count": 4,
          "metadata": {},
          "output_type": "execute_result"
        }
      ],
      "source": [
        "# soup : DOM(Document Object Model)\n",
        "soup = BeautifulSoup(html_txt, \"html.parser\")\n",
        "soup # 더 이상 문자열이 아니다."
      ]
    },
    {
      "cell_type": "markdown",
      "id": "5ccb2420",
      "metadata": {
        "id": "5ccb2420"
      },
      "source": [
        "## BeautifulSoup에서 Element를 선택하는 2가지 방법\n",
        "1. `select`, `select_one`\n",
        "    - `css` 선택자를 활용해서 Element를 선택\n",
        "    - `select` : 여러 개의 Element를 선택( 리스트 )\n",
        "    - `select_one` : 한 개의 Element를 선택 ( 엘리먼트 )\n",
        "2. `find`, `find_all`\n",
        "    - 선택자가 아닌, attribute를 이용해 선택할 때 자주 사용한다.\n",
        "    - `find` : 한 개의 Element가 선택\n",
        "    - `find_all` : 여러 개의 Element가 선택"
      ]
    },
    {
      "cell_type": "markdown",
      "id": "226ab904",
      "metadata": {
        "id": "226ab904"
      },
      "source": [
        "#### `select`, `select_one` 사용하기"
      ]
    },
    {
      "cell_type": "code",
      "execution_count": null,
      "id": "082c0dc0",
      "metadata": {
        "id": "082c0dc0",
        "outputId": "d3731d32-1c8f-419e-8bbd-f22398290959"
      },
      "outputs": [
        {
          "data": {
            "text/plain": [
              "<p>Hello HTML</p>"
            ]
          },
          "execution_count": 8,
          "metadata": {},
          "output_type": "execute_result"
        }
      ],
      "source": [
        "p_element = soup.select_one(\"#container > .wrap-1 > p\")\n",
        "p_element"
      ]
    },
    {
      "cell_type": "markdown",
      "id": "4cfb998b",
      "metadata": {
        "id": "4cfb998b"
      },
      "source": [
        "텍스트만 추출하기"
      ]
    },
    {
      "cell_type": "code",
      "execution_count": null,
      "id": "38db56d5",
      "metadata": {
        "id": "38db56d5",
        "outputId": "d5b1b4f4-92e2-442e-888b-1a0023e33b1e"
      },
      "outputs": [
        {
          "data": {
            "text/plain": [
              "'Hello HTML'"
            ]
          },
          "execution_count": 9,
          "metadata": {},
          "output_type": "execute_result"
        }
      ],
      "source": [
        "p_element.text"
      ]
    },
    {
      "cell_type": "code",
      "execution_count": null,
      "id": "5f6673b0",
      "metadata": {
        "id": "5f6673b0",
        "outputId": "fd9349bb-2651-4688-fefe-545b78a487cd"
      },
      "outputs": [
        {
          "data": {
            "text/plain": [
              "[<p>Hello HTML</p>,\n",
              " <p class=\"wrap-2\">\n",
              "         Bye~\n",
              "     </p>]"
            ]
          },
          "execution_count": 10,
          "metadata": {},
          "output_type": "execute_result"
        }
      ],
      "source": [
        "p_elements = soup.select(\"#container p\")\n",
        "p_elements"
      ]
    },
    {
      "cell_type": "code",
      "execution_count": null,
      "id": "b970868e",
      "metadata": {
        "id": "b970868e",
        "outputId": "ab64cd83-63bc-4a41-d0ad-bd54c961e2e4"
      },
      "outputs": [
        {
          "data": {
            "text/plain": [
              "('Hello HTML', '\\n        Bye~\\n    ')"
            ]
          },
          "execution_count": 12,
          "metadata": {},
          "output_type": "execute_result"
        }
      ],
      "source": [
        "p_elements[0].text, p_elements[1].text"
      ]
    },
    {
      "cell_type": "markdown",
      "id": "a40c13e0",
      "metadata": {
        "id": "a40c13e0"
      },
      "source": [
        "#### `find`, `find_all` 사용하기"
      ]
    },
    {
      "cell_type": "code",
      "execution_count": null,
      "id": "565a9f87",
      "metadata": {
        "id": "565a9f87",
        "outputId": "8e1205b5-4c9d-4585-86b0-8b5a46f8e5c6"
      },
      "outputs": [
        {
          "data": {
            "text/plain": [
              "<div class=\"wrap-1\">\n",
              "<p>Hello HTML</p>\n",
              "</div>"
            ]
          },
          "execution_count": 17,
          "metadata": {},
          "output_type": "execute_result"
        }
      ],
      "source": [
        "# div#container > div.wrap-1\n",
        "soup.find(\"div\", {\"id\" : \"container\"}).find(\"div\", {\"class\":\"wrap-1\"})"
      ]
    },
    {
      "cell_type": "code",
      "execution_count": null,
      "id": "3a44094e",
      "metadata": {
        "id": "3a44094e",
        "outputId": "0626a6f2-a897-4600-f894-d3aa4652babd"
      },
      "outputs": [
        {
          "data": {
            "text/plain": [
              "[<p>Hello HTML</p>,\n",
              " <p class=\"wrap-2\">\n",
              "         Bye~\n",
              "     </p>]"
            ]
          },
          "execution_count": 18,
          "metadata": {},
          "output_type": "execute_result"
        }
      ],
      "source": [
        "soup.find_all(\"p\")"
      ]
    },
    {
      "cell_type": "code",
      "execution_count": null,
      "id": "3c7c7aeb",
      "metadata": {
        "id": "3c7c7aeb",
        "outputId": "c20d56dd-e535-4b8c-be68-afadf0004fce"
      },
      "outputs": [
        {
          "data": {
            "text/plain": [
              "<p>Hello HTML</p>"
            ]
          },
          "execution_count": 19,
          "metadata": {},
          "output_type": "execute_result"
        }
      ],
      "source": [
        "soup.find(\"p\") # 첫 번째 element만 등장한다."
      ]
    },
    {
      "cell_type": "markdown",
      "id": "ddb19c5d",
      "metadata": {
        "id": "ddb19c5d"
      },
      "source": [
        "# Web에서 데이터 불러오기\n",
        "- naver 환율"
      ]
    },
    {
      "cell_type": "code",
      "execution_count": null,
      "id": "0b9d70ea",
      "metadata": {
        "id": "0b9d70ea"
      },
      "outputs": [],
      "source": [
        "NAVER_FINANCE_URL = \"https://finance.naver.com/marketindex/\""
      ]
    },
    {
      "cell_type": "code",
      "execution_count": null,
      "id": "18713d77",
      "metadata": {
        "id": "18713d77",
        "outputId": "32010a39-2011-4cec-9d2e-e7a6f049bd65"
      },
      "outputs": [
        {
          "data": {
            "text/plain": [
              "<Response [200]>"
            ]
          },
          "execution_count": 21,
          "metadata": {},
          "output_type": "execute_result"
        }
      ],
      "source": [
        "# HTML 페이지는 90% get 방식 통신\n",
        "import requests\n",
        "\n",
        "# 1. requests 이용해서 HTML 코드 문자열 가져오기\n",
        "response = requests.get(NAVER_FINANCE_URL)\n",
        "response"
      ]
    },
    {
      "cell_type": "code",
      "execution_count": null,
      "id": "5ea58493",
      "metadata": {
        "id": "5ea58493",
        "outputId": "1213a910-d015-4e53-e264-4e88586c431c"
      },
      "outputs": [
        {
          "data": {
            "text/plain": [
              "<h3 class=\"h_lst\"><span class=\"blind\">미국 USD</span></h3>"
            ]
          },
          "execution_count": 24,
          "metadata": {},
          "output_type": "execute_result"
        }
      ],
      "source": [
        "# 2. BeautifulSoup을 이용하여 css selector를 사용할 수 있는 객체로 파싱\n",
        "html_text = response.content\n",
        "soup = BeautifulSoup(html_text, 'html.parser')\n",
        "soup.select_one(\"#exchangeList > li.on > a.head.usd > h3\")"
      ]
    },
    {
      "cell_type": "code",
      "execution_count": null,
      "id": "c5b180f5",
      "metadata": {
        "id": "c5b180f5",
        "outputId": "3ffc96f0-2a56-4615-95c3-3fc263458f76"
      },
      "outputs": [
        {
          "data": {
            "text/plain": [
              "'1,183.10'"
            ]
          },
          "execution_count": 26,
          "metadata": {},
          "output_type": "execute_result"
        }
      ],
      "source": [
        "soup.select_one(\"#exchangeList > li.on > a.head.usd > div > span.value\").text"
      ]
    },
    {
      "cell_type": "markdown",
      "id": "71aebf0d",
      "metadata": {
        "id": "71aebf0d"
      },
      "source": [
        "데이터를 묶어서 찾기"
      ]
    },
    {
      "cell_type": "code",
      "execution_count": null,
      "id": "42715595",
      "metadata": {
        "id": "42715595",
        "outputId": "7d1f7807-0332-45bd-a43c-24f7124e7d12"
      },
      "outputs": [
        {
          "data": {
            "text/plain": [
              "<li class=\"on\">\n",
              "<a class=\"head usd\" href=\"/marketindex/exchangeDetail.naver?marketindexCd=FX_USDKRW\" onclick=\"clickcr(this, 'fr1.usdt', '', '', event);\">\n",
              "<h3 class=\"h_lst\"><span class=\"blind\">미국 USD</span></h3>\n",
              "<div class=\"head_info point_up\">\n",
              "<span class=\"value\">1,183.10</span>\n",
              "<span class=\"txt_krw\"><span class=\"blind\">원</span></span>\n",
              "<span class=\"change\">0.10</span>\n",
              "<span class=\"blind\">상승</span>\n",
              "</div>\n",
              "</a>\n",
              "<a class=\"graph_img\" href=\"/marketindex/exchangeDetail.naver?marketindexCd=FX_USDKRW\" onclick=\"clickcr(this, 'fr1.usdc', '', '', event);\">\n",
              "<img alt=\"\" height=\"153\" src=\"https://ssl.pstatic.net/imgfinance/chart/marketindex/FX_USDKRW.png\" width=\"295\"/>\n",
              "</a>\n",
              "<div class=\"graph_info\">\n",
              "<span class=\"time\">2021.12.06 11:05</span>\n",
              "<span class=\"source\">하나은행 기준</span>\n",
              "<span class=\"count\">고시회차<span class=\"num\">102</span>회</span>\n",
              "</div>\n",
              "</li>"
            ]
          },
          "execution_count": 42,
          "metadata": {},
          "output_type": "execute_result"
        }
      ],
      "source": [
        "li_elem = soup.select_one(\"#exchangeList > li:nth-child(1)\")\n",
        "li_elem"
      ]
    },
    {
      "cell_type": "code",
      "execution_count": null,
      "id": "a9fcd525",
      "metadata": {
        "id": "a9fcd525",
        "outputId": "2217d13d-d40c-4db6-e1c5-a29501417f25"
      },
      "outputs": [
        {
          "data": {
            "text/plain": [
              "'미국 USD'"
            ]
          },
          "execution_count": 30,
          "metadata": {},
          "output_type": "execute_result"
        }
      ],
      "source": [
        "li_elem.select_one(\".h_lst\").text"
      ]
    },
    {
      "cell_type": "code",
      "execution_count": null,
      "id": "5c29ceee",
      "metadata": {
        "id": "5c29ceee",
        "outputId": "49a48246-c6f7-4265-f1f6-38fac23baa24"
      },
      "outputs": [
        {
          "data": {
            "text/plain": [
              "<div class=\"head_info point_up\">\n",
              "<span class=\"value\">1,183.10</span>\n",
              "<span class=\"txt_krw\"><span class=\"blind\">원</span></span>\n",
              "<span class=\"change\">0.10</span>\n",
              "<span class=\"blind\">상승</span>\n",
              "</div>"
            ]
          },
          "execution_count": 32,
          "metadata": {},
          "output_type": "execute_result"
        }
      ],
      "source": [
        "li_elem.select_one(\".head_info\")"
      ]
    },
    {
      "cell_type": "code",
      "execution_count": null,
      "id": "132fd62a",
      "metadata": {
        "id": "132fd62a",
        "outputId": "60328cd4-1bed-4d2a-c842-ae3142fbb388"
      },
      "outputs": [
        {
          "data": {
            "text/plain": [
              "<span class=\"value\">1,183.10</span>"
            ]
          },
          "execution_count": 33,
          "metadata": {},
          "output_type": "execute_result"
        }
      ],
      "source": [
        "li_elem.select_one(\".head_info > span.value\")"
      ]
    },
    {
      "cell_type": "code",
      "execution_count": null,
      "id": "01522031",
      "metadata": {
        "id": "01522031",
        "outputId": "05901c6b-3ba1-4ace-9e03-6bfa7818f040"
      },
      "outputs": [
        {
          "data": {
            "text/plain": [
              "<span class=\"change\">0.10</span>"
            ]
          },
          "execution_count": 34,
          "metadata": {},
          "output_type": "execute_result"
        }
      ],
      "source": [
        "li_elem.select_one(\".head_info > .change\")"
      ]
    },
    {
      "cell_type": "code",
      "execution_count": null,
      "id": "bd2b5123",
      "metadata": {
        "id": "bd2b5123",
        "outputId": "0ba056cb-3771-4820-afa5-50f870ad0c66"
      },
      "outputs": [
        {
          "data": {
            "text/plain": [
              "<span class=\"blind\">상승</span>"
            ]
          },
          "execution_count": 37,
          "metadata": {},
          "output_type": "execute_result"
        }
      ],
      "source": [
        "li_elem.select_one(\".head_info > span.blind\")"
      ]
    },
    {
      "cell_type": "code",
      "execution_count": null,
      "id": "573da5d0",
      "metadata": {
        "id": "573da5d0",
        "outputId": "4a58e7e4-9d0a-469f-bd4c-537bfabe04fa"
      },
      "outputs": [
        {
          "name": "stdout",
          "output_type": "stream",
          "text": [
            "미국 USD\n",
            "1,183.10\n",
            "0.10\n",
            "상승\n"
          ]
        }
      ],
      "source": [
        "print(li_elem.select_one(\".h_lst\").text)\n",
        "print(li_elem.select_one(\".head_info > span.value\").text)\n",
        "print(li_elem.select_one(\".head_info > .change\").text)\n",
        "print(li_elem.select_one(\".head_info > span.blind\").text)"
      ]
    },
    {
      "cell_type": "code",
      "execution_count": null,
      "id": "38b8fc21",
      "metadata": {
        "id": "38b8fc21",
        "outputId": "cf03ab4e-2c9e-4050-9a98-a3a1a224bb5a"
      },
      "outputs": [
        {
          "data": {
            "text/plain": [
              "4"
            ]
          },
          "execution_count": 44,
          "metadata": {},
          "output_type": "execute_result"
        }
      ],
      "source": [
        "li_elem_list = soup.select(\"#exchangeList > li\")\n",
        "len(li_elem_list)"
      ]
    },
    {
      "cell_type": "code",
      "execution_count": null,
      "id": "731a40fc",
      "metadata": {
        "id": "731a40fc",
        "outputId": "1d9aa550-382c-4955-b982-545b1d9ff344"
      },
      "outputs": [
        {
          "name": "stdout",
          "output_type": "stream",
          "text": [
            "미국 USD\n",
            "1,183.10\n",
            "0.10\n",
            "상승\n",
            "\n",
            "일본 JPY(100엔)\n",
            "1,046.99\n",
            "2.35\n",
            "상승\n",
            "\n",
            "유럽연합 EUR\n",
            "1,336.37\n",
            " 1.72\n",
            "하락\n",
            "\n",
            "중국 CNY\n",
            "185.72\n",
            "0.04\n",
            "상승\n",
            "\n"
          ]
        }
      ],
      "source": [
        "for li_elem in li_elem_list:\n",
        "    print(li_elem.select_one(\".h_lst\").text)\n",
        "    print(li_elem.select_one(\".head_info > span.value\").text)\n",
        "    print(li_elem.select_one(\".head_info > .change\").text)\n",
        "    print(li_elem.select_one(\".head_info > span.blind\").text)\n",
        "    print()"
      ]
    },
    {
      "cell_type": "markdown",
      "id": "8347a1a2",
      "metadata": {
        "id": "8347a1a2"
      },
      "source": [
        "데이터 프레임 만들기"
      ]
    },
    {
      "cell_type": "code",
      "execution_count": null,
      "id": "bdf9e8b6",
      "metadata": {
        "id": "bdf9e8b6",
        "outputId": "b01c6988-816c-4977-f991-4ee2efd2fa15"
      },
      "outputs": [
        {
          "data": {
            "text/plain": [
              "{'통화': ['미국 USD', '일본 JPY(100엔)', '유럽연합 EUR', '중국 CNY'],\n",
              " '환율': ['1,183.10', '1,046.99', '1,336.37', '185.72'],\n",
              " '변동': ['0.10', '2.35', ' 1.72', '0.04'],\n",
              " '등락': ['상승', '상승', '하락', '상승']}"
            ]
          },
          "execution_count": 46,
          "metadata": {},
          "output_type": "execute_result"
        }
      ],
      "source": [
        "naver_finance_dict = {}\n",
        "\n",
        "naver_finance_dict['통화'] = []\n",
        "naver_finance_dict['환율'] = []\n",
        "naver_finance_dict['변동'] = []\n",
        "naver_finance_dict['등락'] = []\n",
        "\n",
        "for li_elem in li_elem_list:\n",
        "    currency = li_elem.select_one(\".h_lst\").text\n",
        "    exchange = li_elem.select_one(\".head_info > span.value\").text\n",
        "    change = li_elem.select_one(\".head_info > .change\").text\n",
        "    updown = li_elem.select_one(\".head_info > span.blind\").text\n",
        "    \n",
        "    naver_finance_dict['통화'].append(currency)\n",
        "    naver_finance_dict['환율'].append(exchange)\n",
        "    naver_finance_dict['변동'].append(change)\n",
        "    naver_finance_dict['등락'].append(updown)\n",
        "\n",
        "naver_finance_dict"
      ]
    },
    {
      "cell_type": "code",
      "execution_count": null,
      "id": "5718cd1b",
      "metadata": {
        "id": "5718cd1b"
      },
      "outputs": [],
      "source": [
        ""
      ]
    }
  ],
  "metadata": {
    "kernelspec": {
      "display_name": "Python 3",
      "language": "python",
      "name": "python3"
    },
    "language_info": {
      "codemirror_mode": {
        "name": "ipython",
        "version": 3
      },
      "file_extension": ".py",
      "mimetype": "text/x-python",
      "name": "python",
      "nbconvert_exporter": "python",
      "pygments_lexer": "ipython3",
      "version": "3.8.8"
    },
    "colab": {
      "name": "HTML & CSS 크롤링.ipynb",
      "provenance": []
    }
  },
  "nbformat": 4,
  "nbformat_minor": 5
}