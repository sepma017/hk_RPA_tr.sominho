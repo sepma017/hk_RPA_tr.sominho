{
  "cells": [
    {
      "cell_type": "markdown",
      "id": "e78f657b",
      "metadata": {
        "id": "e78f657b"
      },
      "source": [
        "# 1. HTML\n",
        "* HyperText Markup Language\n",
        "    * HyperText : 페이지의 이동이 가능한\n",
        "    * Markup : 구간이 있는\n",
        "    * Language : 언어\n",
        "* Markup\n",
        "    * 나는 어제 사과를 먹었다 -> 사람은 이해가 가능. 컴퓨터는 이해가 불가능\n",
        "    * Markup 예시\n",
        "    ```html\n",
        "        <누가>나</누가>\n",
        "        <언제>어제</언제>\n",
        "        <무엇을>사과</무엇을>\n",
        "        <어떻게>먹었다</어떻게>\n",
        "    ```\n",
        "* HTML은 웹에 보이는 화면인 웹 페이지에 필요한 구성요소를 구성하는 MarkUp 언어\n",
        "* 웹 페이지를 구성하는 언어\n",
        "    * HTML : 마크업을 이용해 화면의 레이아웃 구조와 텍스트, 엘리먼트를 표현한다.\n",
        "    * CSS(Cascade Style Sheet) : 엘리먼트를 꾸며주는 언어\n",
        "        * **html 엘리먼트를 선택**을 한 다음 꾸며줘야 한다.\n",
        "            * **selector**를 이용한 엘리먼트 선택\n",
        "    * JavaScript : 사용자 웹 페이지의 인터렉션을 담당"
      ]
    },
    {
      "cell_type": "markdown",
      "id": "7fe4b078",
      "metadata": {
        "id": "7fe4b078"
      },
      "source": [
        "## HTML 구성 요소\n",
        "* Document\n",
        "    * 눈에 보이는 페이지 전체\n",
        "* Element\n",
        "    * Document를 구성하는 요소\n",
        "    * 레이아웃\n",
        "        - 영역을 나누는 역할\n",
        "    * 엘리먼트\n",
        "        - 특정한 기능(표현)이 있는 구성 요소\n",
        "        - 레이아웃이 아니면 모두 엘리먼트\n",
        "    * 엘리먼트는 **계층적 구조**로 이루어져 있다.\n",
        "        - 엘리먼트 내에 다른 엘리먼트가 배치될 수 있다.\n",
        "        - DOM(Document Object Model)\n",
        "* Tag\n",
        "    - 목적이 다른 태그들이 각각 존재한다.\n",
        "    - 태그의 이름에 따라서 태그의 모양과 기능(목적)이 달라진다.\n",
        "    - 태그를 이용해 엘리먼트 구조를 만들어 낸다.\n",
        "* Attribute\n",
        "    - 엘리먼트의 속성을 표현. attribute = \"attribute value\"\n",
        "    - 시작 태그 안에 포함되는 속성값"
      ]
    },
    {
      "cell_type": "code",
      "execution_count": null,
      "id": "f27c6a94",
      "metadata": {
        "id": "f27c6a94",
        "outputId": "51e72109-6a93-44fb-8fa7-c23ef013d38c"
      },
      "outputs": [
        {
          "data": {
            "text/html": [
              "<div>\n",
              "    <button>HTML1</button>\n",
              "    <button>HTML2</button>\n",
              "</div>\n"
            ],
            "text/plain": [
              "<IPython.core.display.HTML object>"
            ]
          },
          "metadata": {},
          "output_type": "display_data"
        }
      ],
      "source": [
        "%%html\n",
        "<div>\n",
        "    <button>HTML1</button>\n",
        "    <button>HTML2</button>\n",
        "</div>"
      ]
    },
    {
      "cell_type": "markdown",
      "id": "ec70b049",
      "metadata": {
        "id": "ec70b049"
      },
      "source": [
        "속성 부여"
      ]
    },
    {
      "cell_type": "code",
      "execution_count": null,
      "id": "f7834299",
      "metadata": {
        "id": "f7834299",
        "outputId": "d7026b08-1ee0-4a12-a1e0-2ab717b2f077"
      },
      "outputs": [
        {
          "data": {
            "text/html": [
              "<div>\n",
              "    <button>HTML1</button>\n",
              "    <button style=\"color:red;\">HTML2</button>\n",
              "</div>\n"
            ],
            "text/plain": [
              "<IPython.core.display.HTML object>"
            ]
          },
          "metadata": {},
          "output_type": "display_data"
        }
      ],
      "source": [
        "%%html\n",
        "<div>\n",
        "    <button>HTML1</button>\n",
        "    <button style=\"color:red;\">HTML2</button>\n",
        "</div>"
      ]
    },
    {
      "cell_type": "markdown",
      "id": "aaa76c9e",
      "metadata": {
        "id": "aaa76c9e"
      },
      "source": [
        "### 속성값 종류\n",
        "* `id`, `class`\n",
        "    * 엘리먼트를 **선택**하기 위한 속성\n",
        "    - `id` 속성 : 전체 웹 페이지에서 유일한 값\n",
        "    - `class` 속성\n",
        "        * 웹 페이지에서 여러 가지 값을 사용 가능. 중복 허용\n",
        "        * 하나의 엘리먼트 내에 여러 개의 `class`를 설정 가능\n",
        "    \n",
        "* `기타 등등`\n",
        "    * 엘리먼트의 기능을 담당\n",
        "    * 엘리먼트의 크기, 배경 화면 등등 스타일을 담당"
      ]
    },
    {
      "cell_type": "markdown",
      "id": "2cd785de",
      "metadata": {
        "id": "2cd785de"
      },
      "source": [
        "## 태그의 종류"
      ]
    },
    {
      "cell_type": "markdown",
      "id": "6c2eeddd",
      "metadata": {
        "id": "6c2eeddd"
      },
      "source": [
        "### Header\n",
        "* 문서 내 제목을 나타내기 위한 태그\n",
        "* <h`n`>제목명</h`n`>\n",
        "    * `n`은 1 ~ 6 숫자\n",
        "    * `n`이 클수록 글씨가 작아진다."
      ]
    },
    {
      "cell_type": "code",
      "execution_count": null,
      "id": "df8e2b92",
      "metadata": {
        "id": "df8e2b92",
        "outputId": "94fac06c-8471-4cdf-d968-cf7463975117"
      },
      "outputs": [
        {
          "data": {
            "text/html": [
              "<h1>안녕하세요!</h1>\n",
              "<h2>안녕하세요!</h2>\n",
              "<h3>안녕하세요!</h3>\n",
              "<h4>안녕하세요!</h4>\n",
              "<h5>안녕하세요!</h5>\n",
              "<h6>안녕하세요!</h6>\n"
            ],
            "text/plain": [
              "<IPython.core.display.HTML object>"
            ]
          },
          "metadata": {},
          "output_type": "display_data"
        }
      ],
      "source": [
        "%%html\n",
        "<h1>안녕하세요!</h1>\n",
        "<h2>안녕하세요!</h2>\n",
        "<h3>안녕하세요!</h3>\n",
        "<h4>안녕하세요!</h4>\n",
        "<h5>안녕하세요!</h5>\n",
        "<h6>안녕하세요!</h6>"
      ]
    },
    {
      "cell_type": "markdown",
      "id": "6a931dfb",
      "metadata": {
        "id": "6a931dfb"
      },
      "source": [
        "### Paragraph\n",
        "* 문단을 표현하기 위한 태그\n",
        "* `<p>문단에 들어갈 내용</p>`"
      ]
    },
    {
      "cell_type": "code",
      "execution_count": null,
      "id": "7c48c51f",
      "metadata": {
        "id": "7c48c51f",
        "outputId": "b3189fc1-2ed6-4e25-c5e2-3858f033c129"
      },
      "outputs": [
        {
          "data": {
            "text/html": [
              "<p>파이썬을 이용한 html 태그 공부를 할거에요~</p>\n",
              "<p>내일은 휴강입니다. 놀자~~~!~!~!(소망)</p>\n"
            ],
            "text/plain": [
              "<IPython.core.display.HTML object>"
            ]
          },
          "metadata": {},
          "output_type": "display_data"
        }
      ],
      "source": [
        "%%html\n",
        "<p>파이썬을 이용한 html 태그 공부를 할거에요~</p>\n",
        "<p>내일은 휴강입니다. 놀자~~~!~!~!(소망)</p>"
      ]
    },
    {
      "cell_type": "code",
      "execution_count": null,
      "id": "2f98f921",
      "metadata": {
        "id": "2f98f921",
        "outputId": "34427574-1d2c-4891-8305-a2bf4c8129c6"
      },
      "outputs": [
        {
          "data": {
            "text/html": [
              "<div>\n",
              "    <h1>오늘 할일</h1>\n",
              "    <div>\n",
              "        <p>오늘은 html, css selector</p>\n",
              "        <p>크롤링 배우기</p>\n",
              "    </div>\n",
              "</div>\n",
              "<div>\n",
              "    <h1>내일 할일</h1>\n",
              "    <div>\n",
              "        <p>집에서 잠 자기</p>\n",
              "    <div>\n",
              "</div>\n"
            ],
            "text/plain": [
              "<IPython.core.display.HTML object>"
            ]
          },
          "metadata": {},
          "output_type": "display_data"
        }
      ],
      "source": [
        "%%html\n",
        "<div>\n",
        "    <h1>오늘 할일</h1>\n",
        "    <div>\n",
        "        <p>오늘은 html, css selector</p>\n",
        "        <p>크롤링 배우기</p>\n",
        "    </div>\n",
        "</div>\n",
        "<div>\n",
        "    <h1>내일 할일</h1>\n",
        "    <div>\n",
        "        <p>집에서 잠 자기</p>\n",
        "    <div>\n",
        "</div>"
      ]
    },
    {
      "cell_type": "markdown",
      "id": "635cc2d6",
      "metadata": {
        "id": "635cc2d6"
      },
      "source": [
        "### span\n",
        "* 문자열을 일부만 감싸고 있는 태그\n",
        "* 문자열의 특정한 부분을 감싸서 스타일을 적용해 줄 수 있다.\n",
        "* `<span>내용</span>`"
      ]
    },
    {
      "cell_type": "code",
      "execution_count": null,
      "id": "ea63fc26",
      "metadata": {
        "id": "ea63fc26",
        "outputId": "43caddee-a8ef-4d37-8146-00c77c0ed0ab"
      },
      "outputs": [
        {
          "data": {
            "text/html": [
              "<p>\n",
              "    여기는 일반적인 문자열입니다. span을 이용하면 <span style=\"color:red;\">특정 부분</span>을 선택할 수 있습니다.\n",
              "</p>\n"
            ],
            "text/plain": [
              "<IPython.core.display.HTML object>"
            ]
          },
          "metadata": {},
          "output_type": "display_data"
        }
      ],
      "source": [
        "%%html\n",
        "<p>\n",
        "    여기는 일반적인 문자열입니다. span을 이용하면 <span style=\"color:red;\">특정 부분</span>을 선택할 수 있습니다.\n",
        "</p>"
      ]
    },
    {
      "cell_type": "markdown",
      "id": "1717860e",
      "metadata": {
        "id": "1717860e"
      },
      "source": [
        "### div\n",
        "* 레이아웃을 구분해 놓기위한 태그\n",
        "* 가장 많이 사용되는 태그로써, div 태그 내에 여러 엘리먼트가 배치된다."
      ]
    },
    {
      "cell_type": "code",
      "execution_count": null,
      "id": "4a2365a1",
      "metadata": {
        "id": "4a2365a1",
        "outputId": "4757a58c-9693-493e-941f-7abe6fde286e"
      },
      "outputs": [
        {
          "data": {
            "text/html": [
              "<div>\n",
              "    <p>첫 번째 div 입니다.</p>\n",
              "    <p>div 내에 p 태그를 이용해서 작성 중입니다.</p>\n",
              "</div>\n",
              "\n",
              "<div>\n",
              "    <p>두 번째 div 입니다.</p>\n",
              "    <div>\n",
              "        <p>두 번째 div 내에 새로운 div를 만들었습니다.</p>\n",
              "    </div>\n",
              "</div>\n"
            ],
            "text/plain": [
              "<IPython.core.display.HTML object>"
            ]
          },
          "metadata": {},
          "output_type": "display_data"
        }
      ],
      "source": [
        "%%html\n",
        "<div>\n",
        "    <p>첫 번째 div 입니다.</p>\n",
        "    <p>div 내에 p 태그를 이용해서 작성 중입니다.</p>\n",
        "</div>\n",
        "\n",
        "<div>\n",
        "    <p>두 번째 div 입니다.</p>\n",
        "    <div>\n",
        "        <p>두 번째 div 내에 새로운 div를 만들었습니다.</p>\n",
        "    </div>\n",
        "</div>"
      ]
    },
    {
      "cell_type": "markdown",
      "id": "c06a1ae0",
      "metadata": {
        "id": "c06a1ae0"
      },
      "source": [
        "### table\n",
        "* 표를 그리기 위한 태그 ( 데이터 프레임 )\n",
        "    * `table` : 전체 테이블을 만들기 위한 태그\n",
        "    * `caption` : 표의 제목을 만들기위한 태그(생략 가능)\n",
        "    * `thead` : 테이블을 항목(컬럼)을 표시하기위한 태그 (생략 가능)\n",
        "    * `tbody` : 테이블에 표시할 실제 데이터가 들어가는 태그 (생략 가능)\n",
        "    * `th` : 컬럼명을 표기하기 위한 태그\n",
        "    * `td` : 데이터를 표기하기 위한 태그\n",
        "    * `tr` : 한 행을 만들기 위한 태그"
      ]
    },
    {
      "cell_type": "code",
      "execution_count": null,
      "id": "05a9fd1f",
      "metadata": {
        "id": "05a9fd1f",
        "outputId": "ae5d1497-b346-4f24-a2e5-1492f99f1c41"
      },
      "outputs": [
        {
          "data": {
            "text/html": [
              "<table border=\"1\">\n",
              "    <caption>테이블 제목</caption>\n",
              "    \n",
              "    <thead>\n",
              "        <tr>\n",
              "            <th>코드</th>\n",
              "            <th>회사명</th>\n",
              "        </tr>\n",
              "    </thead>\n",
              "    \n",
              "    <tbody>\n",
              "        <tr>\n",
              "            <td>00001</td>\n",
              "            <td>삼성전자</td>\n",
              "        </tr>\n",
              "        <tr>\n",
              "            <td>00002</td>\n",
              "            <td>하이닉스</td>\n",
              "        </tr>\n",
              "    </tbody>\n",
              "    \n",
              "</table>\n"
            ],
            "text/plain": [
              "<IPython.core.display.HTML object>"
            ]
          },
          "metadata": {},
          "output_type": "display_data"
        }
      ],
      "source": [
        "%%html\n",
        "<table border=\"1\">\n",
        "    <caption>테이블 제목</caption>\n",
        "    \n",
        "    <thead>\n",
        "        <tr>\n",
        "            <th>코드</th>\n",
        "            <th>회사명</th>\n",
        "        </tr>\n",
        "    </thead>\n",
        "    \n",
        "    <tbody>\n",
        "        <tr>\n",
        "            <td>00001</td>\n",
        "            <td>삼성전자</td>\n",
        "        </tr>\n",
        "        <tr>\n",
        "            <td>00002</td>\n",
        "            <td>하이닉스</td>\n",
        "        </tr>\n",
        "    </tbody>\n",
        "    \n",
        "</table>"
      ]
    },
    {
      "cell_type": "markdown",
      "id": "14478f8b",
      "metadata": {
        "id": "14478f8b"
      },
      "source": [
        "### 리스트 태그\n",
        "* ul (unordered list)\n",
        "    - 숫자가 없이 불릿으로만 나열되는 리스트\n",
        "* ol (ordered list)\n",
        "    - 숫자를 이용해서 순서를 표현할 수 있는 리스트\n",
        "* li\n",
        "    - ul 또는 ol에 대한 리스트 항목들을 만든다."
      ]
    },
    {
      "cell_type": "code",
      "execution_count": null,
      "id": "a9b75219",
      "metadata": {
        "id": "a9b75219",
        "outputId": "d8517624-07a9-46b8-fc19-f5869485c61d"
      },
      "outputs": [
        {
          "data": {
            "text/html": [
              "\n",
              "<ul>\n",
              "    <li>data 1</li>\n",
              "    <li>data 2</li>\n",
              "    <li>data 3</li>\n",
              "</ul>\n"
            ],
            "text/plain": [
              "<IPython.core.display.HTML object>"
            ]
          },
          "metadata": {},
          "output_type": "display_data"
        }
      ],
      "source": [
        "%%html\n",
        "\n",
        "<ul>\n",
        "    <li>data 1</li>\n",
        "    <li>data 2</li>\n",
        "    <li>data 3</li>\n",
        "</ul>"
      ]
    },
    {
      "cell_type": "code",
      "execution_count": null,
      "id": "8a5ec2f2",
      "metadata": {
        "id": "8a5ec2f2",
        "outputId": "695a4eed-57b7-4322-a7f1-e260e6b386e3"
      },
      "outputs": [
        {
          "data": {
            "text/html": [
              "\n",
              "<ol>\n",
              "    <li>data 1</li>\n",
              "    <li>data 2</li>\n",
              "    <li>data 3</li>\n",
              "</ol>\n"
            ],
            "text/plain": [
              "<IPython.core.display.HTML object>"
            ]
          },
          "metadata": {},
          "output_type": "display_data"
        }
      ],
      "source": [
        "%%html\n",
        "\n",
        "<ol>\n",
        "    <li>data 1</li>\n",
        "    <li>data 2</li>\n",
        "    <li>data 3</li>\n",
        "</ol>"
      ]
    },
    {
      "cell_type": "markdown",
      "id": "de5cd47b",
      "metadata": {
        "id": "de5cd47b"
      },
      "source": [
        "### anchor\n",
        "* anchor 태그 덕분에 HyperText가 됐다\n",
        "* **href** 속성에 이동할 url을 설정\n",
        "* `<a href=\"url\">링크 텍스트</a>`"
      ]
    },
    {
      "cell_type": "code",
      "execution_count": null,
      "id": "379569b6",
      "metadata": {
        "id": "379569b6",
        "outputId": "d9345a6b-272b-4e76-fb0f-a07b378e36bb"
      },
      "outputs": [
        {
          "data": {
            "text/html": [
              "<a href=\"https://www.naver.com\" target=\"_blank\">네이버로 이동</a>\n",
              "<a href=\"https://www.google.com\">구글로 이동</a>\n",
              "<a href=\"https://www.daum.net\">다음으로 이동</a>\n"
            ],
            "text/plain": [
              "<IPython.core.display.HTML object>"
            ]
          },
          "metadata": {},
          "output_type": "display_data"
        }
      ],
      "source": [
        "%%html\n",
        "<a href=\"https://www.naver.com\" target=\"_blank\">네이버로 이동</a>\n",
        "<a href=\"https://www.google.com\">구글로 이동</a>\n",
        "<a href=\"https://www.daum.net\">다음으로 이동</a>"
      ]
    },
    {
      "cell_type": "markdown",
      "id": "f80f9ebf",
      "metadata": {
        "id": "f80f9ebf"
      },
      "source": [
        "### 이미지\n",
        "* 이미지를 표시하기위한 태그\n",
        "* `src` 속성에 이미지의 경로를 설정"
      ]
    },
    {
      "cell_type": "code",
      "execution_count": null,
      "id": "d4cd2d50",
      "metadata": {
        "id": "d4cd2d50",
        "outputId": "b6db727e-644b-4c07-d9a1-cc718ab26709"
      },
      "outputs": [
        {
          "data": {
            "text/html": [
              "<img src=\"https://search.pstatic.net/common/?src=http%3A%2F%2Fcafefiles.naver.net%2FMjAyMDA2MTZfMjg4%2FMDAxNTkyMzAxODMzODM0.8H9Lh-NTDBcQjZBH4GS1NvIMvN--gZKC_r3Sf15oWk4g.iiNjd63rflpcWvxXc2P7d3iZM-1ThhVB7EjmzjvVt6cg.JPEG%2Fe\" alt=\"라이언\" title=\"마우스를 위로 올리면 텍스트가 떠요~~\" />\n"
            ],
            "text/plain": [
              "<IPython.core.display.HTML object>"
            ]
          },
          "metadata": {},
          "output_type": "display_data"
        }
      ],
      "source": [
        "%%html\n",
        "<img src=\"https://search.pstatic.net/common/?src=http%3A%2F%2Fcafefiles.naver.net%2FMjAyMDA2MTZfMjg4%2FMDAxNTkyMzAxODMzODM0.8H9Lh-NTDBcQjZBH4GS1NvIMvN--gZKC_r3Sf15oWk4g.iiNjd63rflpcWvxXc2P7d3iZM-1ThhVB7EjmzjvVt6cg.JPEG%2Fe\" alt=\"라이언\" title=\"마우스를 위로 올리면 텍스트가 떠요~~\" />"
      ]
    },
    {
      "cell_type": "markdown",
      "id": "3256911e",
      "metadata": {
        "id": "3256911e"
      },
      "source": [
        "### 입력 태그\n",
        "* 사용자의 입력을 받기 위한 태그\n",
        "* `input` 태그를 사용. `type` 속성을 이용해서 입력의 종류를 설정"
      ]
    },
    {
      "cell_type": "code",
      "execution_count": null,
      "id": "80b00930",
      "metadata": {
        "id": "80b00930",
        "outputId": "be9bd3a8-0cc9-4bb2-b4cb-9b2bb12a6295"
      },
      "outputs": [
        {
          "data": {
            "text/html": [
              "<input type=\"text\"/>\n",
              "<input type=\"password\" placeholder=\"비번을 입력하세요~\" />\n",
              "<input type=\"radio\" name=\"data\">남자</input>\n",
              "<input type=\"radio\" name=\"data\">여자</input>\n",
              "<input type=\"checkbox\">선택1</input>\n",
              "<input type=\"checkbox\">선택2</input>\n",
              "<input type=\"checkbox\">선택3</input>\n"
            ],
            "text/plain": [
              "<IPython.core.display.HTML object>"
            ]
          },
          "metadata": {},
          "output_type": "display_data"
        }
      ],
      "source": [
        "%%html\n",
        "<input type=\"text\"/>\n",
        "<input type=\"password\" placeholder=\"비번을 입력하세요~\" />\n",
        "<input type=\"radio\" name=\"data\">남자</input>\n",
        "<input type=\"radio\" name=\"data\">여자</input>\n",
        "<input type=\"checkbox\">선택1</input>\n",
        "<input type=\"checkbox\">선택2</input>\n",
        "<input type=\"checkbox\">선택3</input>"
      ]
    },
    {
      "cell_type": "markdown",
      "id": "ded97a56",
      "metadata": {
        "id": "ded97a56"
      },
      "source": [
        "### 선택\n",
        "* 드랍다운(콤보박스) 형태로 선택을 할 수 있게 해주는 태그"
      ]
    },
    {
      "cell_type": "code",
      "execution_count": null,
      "id": "15a7a733",
      "metadata": {
        "id": "15a7a733",
        "outputId": "4008bc3b-4ea9-4f98-ce3a-e364c9c5bf71"
      },
      "outputs": [
        {
          "data": {
            "text/html": [
              "<select>\n",
              "    <option>선택 1</option>\n",
              "    <option>선택 2</option>\n",
              "</select>\n"
            ],
            "text/plain": [
              "<IPython.core.display.HTML object>"
            ]
          },
          "metadata": {},
          "output_type": "display_data"
        }
      ],
      "source": [
        "%%html\n",
        "<select>\n",
        "    <option>선택 1</option>\n",
        "    <option>선택 2</option>\n",
        "</select>"
      ]
    },
    {
      "cell_type": "markdown",
      "id": "a260fe0a",
      "metadata": {
        "id": "a260fe0a"
      },
      "source": [
        "# 2. CSS Selector\n",
        "* CSS : HTML의 엘리먼트를 꾸미기 위한 시트\n",
        "    * 엘리먼트를 **선택자(selector)**를 이용해 선택을 하고 꾸민다.\n",
        "* CSS selector를 활용해서 원하는 엘리먼트를 선택\n",
        "    * 태그의 이름을 이용해서 선택\n",
        "        * `div, span, input, p, a, ul, li 등등...` 태그명을 이용해서 선택\n",
        "        * 한 웹 페이지에 여러 개의 태그가 있을 수 있기 때문에 여러 개의 엘리먼트가 선택\n",
        "    * `id` 속성을 이용해서 선택\n",
        "        * 웹 페이지에 존재하는 유일한 속성을 이용해 엘리먼트를 선택\n",
        "        * 1개의 엘리먼트만 선택\n",
        "    * `class` 속성을 이용해서 선택\n",
        "        * 웹 페이지에 여러 개 존재하는 값을 이용해 선택\n",
        "        * 여러 개의 엘리먼트를 선택\n",
        "    * `attribute` 속성을 이용해서 선택\n",
        "        * 엘리먼트에 특정 효과를 부여하는 attribute를 이용해서 여러 엘리먼트를 선택"
      ]
    },
    {
      "cell_type": "markdown",
      "id": "9d968cd8",
      "metadata": {
        "id": "9d968cd8"
      },
      "source": [
        "## CSS 문법\n",
        "```css\n",
        "선택자(selector) {\n",
        "    꾸미기 sheet\n",
        "}\n",
        "```"
      ]
    },
    {
      "cell_type": "markdown",
      "id": "e1f1c2f6",
      "metadata": {
        "id": "e1f1c2f6"
      },
      "source": [
        "# 태그 선택자"
      ]
    },
    {
      "cell_type": "code",
      "execution_count": null,
      "id": "7f594378",
      "metadata": {
        "id": "7f594378",
        "outputId": "de973384-5978-4433-c624-4c5125ed34a4"
      },
      "outputs": [
        {
          "data": {
            "text/html": [
              "<style>\n",
              "    div {\n",
              "        color:red;\n",
              "    }\n",
              "    p {\n",
              "        color:blue;\n",
              "    }\n",
              "</style>\n",
              "\n",
              "<div>Hello</div>\n",
              "<p>Greeting</p>\n",
              "<span>hihi</span>\n",
              "<p>Bye</p>\n"
            ],
            "text/plain": [
              "<IPython.core.display.HTML object>"
            ]
          },
          "metadata": {},
          "output_type": "display_data"
        }
      ],
      "source": [
        "%%html\n",
        "<style>\n",
        "    div {\n",
        "        color:red;\n",
        "    }\n",
        "    p {\n",
        "        color:blue;\n",
        "    }\n",
        "</style>\n",
        "\n",
        "<div>Hello</div>\n",
        "<p>Greeting</p>\n",
        "<span>hihi</span>\n",
        "<p>Bye</p>"
      ]
    },
    {
      "cell_type": "code",
      "execution_count": null,
      "id": "52648fe0",
      "metadata": {
        "id": "52648fe0",
        "outputId": "f2c528f5-886d-4229-be69-1e3a8d64244a"
      },
      "outputs": [
        {
          "data": {
            "text/html": [
              "<style>\n",
              "    div {\n",
              "        color:green;\n",
              "    }\n",
              "</style>\n",
              "\n",
              "<div>\n",
              "    hello\n",
              "    <p>문단 1</p>\n",
              "    <p>문단 2</p>\n",
              "</div>\n"
            ],
            "text/plain": [
              "<IPython.core.display.HTML object>"
            ]
          },
          "metadata": {},
          "output_type": "display_data"
        }
      ],
      "source": [
        "%%html\n",
        "<style>\n",
        "    div {\n",
        "        color:green;\n",
        "    }\n",
        "</style>\n",
        "\n",
        "<div>\n",
        "    hello\n",
        "    <p>문단 1</p>\n",
        "    <p>문단 2</p>\n",
        "</div>"
      ]
    },
    {
      "cell_type": "markdown",
      "id": "f183ad1a",
      "metadata": {
        "id": "f183ad1a"
      },
      "source": [
        "## `id` 선택자\n",
        "`#아이디값` 선택"
      ]
    },
    {
      "cell_type": "code",
      "execution_count": null,
      "id": "bff46132",
      "metadata": {
        "id": "bff46132",
        "outputId": "7a334444-47b4-4341-873a-b1a4f1f15565"
      },
      "outputs": [
        {
          "data": {
            "text/html": [
              "<style>\n",
              "    p {\n",
              "        color:red;\n",
              "    }\n",
              "    \n",
              "    #p1 {\n",
              "        background-color:blue;\n",
              "        color: yellow;\n",
              "    }\n",
              "    \n",
              "    #p2{\n",
              "        color : green;\n",
              "    }\n",
              "    \n",
              "</style>\n",
              "\n",
              "<p id=\"p1\">안녕하세요</p>\n",
              "<p>반갑습니다</p>\n",
              "<p id=\"p2\">집에갈게요</p>\n"
            ],
            "text/plain": [
              "<IPython.core.display.HTML object>"
            ]
          },
          "metadata": {},
          "output_type": "display_data"
        }
      ],
      "source": [
        "%%html\n",
        "<style>\n",
        "    p {\n",
        "        color:red;\n",
        "    }\n",
        "    \n",
        "    #p1 {\n",
        "        background-color:blue;\n",
        "        color: yellow;\n",
        "    }\n",
        "    \n",
        "    #p2{\n",
        "        color : green;\n",
        "    }\n",
        "    \n",
        "</style>\n",
        "\n",
        "<p id=\"p1\">안녕하세요</p>\n",
        "<p>반갑습니다</p>\n",
        "<p id=\"p2\">집에갈게요</p>"
      ]
    },
    {
      "cell_type": "markdown",
      "id": "162ed774",
      "metadata": {
        "id": "162ed774"
      },
      "source": [
        "## `class` 선택자\n",
        "`.클래스값` 선택"
      ]
    },
    {
      "cell_type": "code",
      "execution_count": null,
      "id": "589c2dc9",
      "metadata": {
        "id": "589c2dc9",
        "outputId": "5dd80c84-95ee-4304-bd41-07bf8a215d89"
      },
      "outputs": [
        {
          "data": {
            "text/html": [
              "\n",
              "<style>\n",
              "    .cs1 {\n",
              "        color: brown;\n",
              "    }\n",
              "    .cs2 {\n",
              "        color:skyblue;\n",
              "    }\n",
              "    p.cs2{\n",
              "        background-color:blue;\n",
              "    }\n",
              "    .p1.cs1 {\n",
              "        background-color:yellow;\n",
              "    }\n",
              "</style>\n",
              "\n",
              "<div class=\"cs1\">Here is div1</div>\n",
              "<div class=\"cs2\">Here is div2</div>\n",
              "<p class=\"cs2\">Here is p1</p>\n",
              "<p class=\"p1 cs1\">Here is p2</p>\n",
              "<p class=\"p1\">Here is p3</p>\n"
            ],
            "text/plain": [
              "<IPython.core.display.HTML object>"
            ]
          },
          "metadata": {},
          "output_type": "display_data"
        }
      ],
      "source": [
        "%%html\n",
        "\n",
        "<style>\n",
        "    .cs1 {\n",
        "        color: brown;\n",
        "    }\n",
        "    .cs2 {\n",
        "        color:skyblue;\n",
        "    }\n",
        "    p.cs2{\n",
        "        background-color:blue;\n",
        "    }\n",
        "    .p1.cs1 {\n",
        "        background-color:yellow;\n",
        "    }\n",
        "</style>\n",
        "\n",
        "<div class=\"cs1\">Here is div1</div>\n",
        "<div class=\"cs2\">Here is div2</div>\n",
        "<p class=\"cs2\">Here is p1</p>\n",
        "<p class=\"p1 cs1\">Here is p2</p>\n",
        "<p class=\"p1\">Here is p3</p>"
      ]
    },
    {
      "cell_type": "markdown",
      "id": "d0a9b899",
      "metadata": {
        "id": "d0a9b899"
      },
      "source": [
        "## 속성 선택자\n",
        "* `[속성명=\"속성값\"]` 선택\n",
        "* `태그명[속성명=\"속성값\"]` 선택"
      ]
    },
    {
      "cell_type": "code",
      "execution_count": null,
      "id": "0a00fa2c",
      "metadata": {
        "id": "0a00fa2c",
        "outputId": "f06670b2-7782-473f-e037-f3a2cbc0675d"
      },
      "outputs": [
        {
          "data": {
            "text/html": [
              "<style>\n",
              "    [type=\"text\"]{\n",
              "        background-color : red;\n",
              "    }\n",
              "    \n",
              "    input[type=\"password\"]{\n",
              "        background-color : magenta;\n",
              "    }\n",
              "</style>\n",
              "\n",
              "<input type=\"text\" placeholder=\"아이디를 입력하세요\"/>\n",
              "<input type=\"password\" placeholder=\"비밀번호를 입력하세요\"/>\n",
              "<input type=\"email\" class=\"cs3\" placeholder=\"이메일을 입력하세요\"/>\n",
              "<input type=\"tel\" placeholder=\"전화번호를 입력하세요\"/>\n"
            ],
            "text/plain": [
              "<IPython.core.display.HTML object>"
            ]
          },
          "metadata": {},
          "output_type": "display_data"
        }
      ],
      "source": [
        "%%html\n",
        "<style>\n",
        "    [type=\"text\"]{\n",
        "        background-color : red;\n",
        "    }\n",
        "    \n",
        "    input[type=\"password\"]{\n",
        "        background-color : magenta;\n",
        "    }\n",
        "</style>\n",
        "\n",
        "<input type=\"text\" placeholder=\"아이디를 입력하세요\"/>\n",
        "<input type=\"password\" placeholder=\"비밀번호를 입력하세요\"/>\n",
        "<input type=\"email\" class=\"cs3\" placeholder=\"이메일을 입력하세요\"/>\n",
        "<input type=\"tel\" placeholder=\"전화번호를 입력하세요\"/>"
      ]
    },
    {
      "cell_type": "markdown",
      "id": "602a7b2b",
      "metadata": {
        "id": "602a7b2b"
      },
      "source": [
        "### + 추가) 가상선택자\n",
        "* not\n",
        "* nth-child"
      ]
    },
    {
      "cell_type": "markdown",
      "id": "de6de00b",
      "metadata": {
        "id": "de6de00b"
      },
      "source": [
        "#### not selector"
      ]
    },
    {
      "cell_type": "code",
      "execution_count": null,
      "id": "7ee8c7dd",
      "metadata": {
        "id": "7ee8c7dd",
        "outputId": "4408ef8b-bb38-4827-a1df-ea2ea2429382"
      },
      "outputs": [
        {
          "data": {
            "text/html": [
              "\n",
              "<style>\n",
              "    .hk:not(.rpa2){\n",
              "        color : pink;\n",
              "    }\n",
              "</style>\n",
              "\n",
              "<p class=\"hk rpa1\">안녕하세요! rpa1</p>\n",
              "<p class=\"hk rpa2\">안녕하세요! rpa2</p>\n",
              "<p class=\"hk rpa3\">안녕하세요! rpa3</p>\n",
              "<p class=\"hk rpa4\">안녕하세요! rpa4</p>\n",
              "<p class=\"hk rpa5\">안녕하세요! rpa5</p>\n"
            ],
            "text/plain": [
              "<IPython.core.display.HTML object>"
            ]
          },
          "metadata": {},
          "output_type": "display_data"
        }
      ],
      "source": [
        "%%html\n",
        "\n",
        "<style>\n",
        "    .hk:not(.rpa2){\n",
        "        color : pink;\n",
        "    }\n",
        "</style>\n",
        "\n",
        "<p class=\"hk rpa1\">안녕하세요! rpa1</p>\n",
        "<p class=\"hk rpa2\">안녕하세요! rpa2</p>\n",
        "<p class=\"hk rpa3\">안녕하세요! rpa3</p>\n",
        "<p class=\"hk rpa4\">안녕하세요! rpa4</p>\n",
        "<p class=\"hk rpa5\">안녕하세요! rpa5</p>"
      ]
    },
    {
      "cell_type": "markdown",
      "id": "25f0fa52",
      "metadata": {
        "id": "25f0fa52"
      },
      "source": [
        "#### nth-child\n",
        "`n`th 선택"
      ]
    },
    {
      "cell_type": "code",
      "execution_count": null,
      "id": "ac6fa8d8",
      "metadata": {
        "id": "ac6fa8d8",
        "outputId": "b01dfecf-903e-469f-ec0b-33aa75141d96"
      },
      "outputs": [
        {
          "data": {
            "text/html": [
              "\n",
              "<style>\n",
              "    .hk2:nth-child(2n) {\n",
              "        background-color:skyblue;\n",
              "    }\n",
              "</style>\n",
              "\n",
              "<p class=\"hk2 rpa1\">안녕하세요! rpa1</p>\n",
              "<p class=\"hk2 rpa2\">안녕하세요! rpa2</p>\n",
              "<p class=\"hk2 rpa3\">안녕하세요! rpa3</p>\n",
              "<p class=\"hk2 rpa4\">안녕하세요! rpa4</p>\n",
              "<p class=\"hk2 rpa5\">안녕하세요! rpa5</p>\n",
              "\n",
              "<span class=\"hk2 rpa1\">안녕하세요! span1</span>\n",
              "<span class=\"hk2 rpa2\">안녕하세요! span2</span>\n",
              "<span class=\"hk2 rpa3\">안녕하세요! span3</span>\n",
              "<span class=\"hk2 rpa4\">안녕하세요! span4</span>\n",
              "<span class=\"hk2 rpa5\">안녕하세요! span5</span>\n"
            ],
            "text/plain": [
              "<IPython.core.display.HTML object>"
            ]
          },
          "metadata": {},
          "output_type": "display_data"
        }
      ],
      "source": [
        "%%html\n",
        "\n",
        "<style>\n",
        "    .hk2:nth-child(2n) {\n",
        "        background-color:skyblue;\n",
        "    }\n",
        "</style>\n",
        "\n",
        "<p class=\"hk2 rpa1\">안녕하세요! rpa1</p>\n",
        "<p class=\"hk2 rpa2\">안녕하세요! rpa2</p>\n",
        "<p class=\"hk2 rpa3\">안녕하세요! rpa3</p>\n",
        "<p class=\"hk2 rpa4\">안녕하세요! rpa4</p>\n",
        "<p class=\"hk2 rpa5\">안녕하세요! rpa5</p>\n",
        "\n",
        "<span class=\"hk2 rpa1\">안녕하세요! span1</span>\n",
        "<span class=\"hk2 rpa2\">안녕하세요! span2</span>\n",
        "<span class=\"hk2 rpa3\">안녕하세요! span3</span>\n",
        "<span class=\"hk2 rpa4\">안녕하세요! span4</span>\n",
        "<span class=\"hk2 rpa5\">안녕하세요! span5</span>"
      ]
    },
    {
      "cell_type": "markdown",
      "id": "4e6eb9fd",
      "metadata": {
        "id": "4e6eb9fd"
      },
      "source": [
        "# 계층 구조 엘리먼트 선택\n",
        "* 자식 선택자 `부모 > 자식`\n",
        "* 자손(후손) 선택자 `부모 자식`"
      ]
    },
    {
      "cell_type": "code",
      "execution_count": null,
      "id": "95dea39e",
      "metadata": {
        "id": "95dea39e",
        "outputId": "02c5f266-09a2-459d-f927-133df01e916f"
      },
      "outputs": [
        {
          "data": {
            "text/html": [
              "\n",
              "<style>\n",
              "    .wrap-1 .tit{\n",
              "        background-color : red;\n",
              "    }\n",
              "    \n",
              "    .wrap-1 > .tit {\n",
              "        color : yellow;\n",
              "    }\n",
              "</style>\n",
              "\n",
              "<div class=\"wrap-1\">\n",
              "    <h3 class=\"tit\">inner 1</h3>\n",
              "    <div class=\"wrap-2\">\n",
              "        <h4 class=\"tit\">inner 2</h4>\n",
              "    </div>\n",
              "</div>\n"
            ],
            "text/plain": [
              "<IPython.core.display.HTML object>"
            ]
          },
          "metadata": {},
          "output_type": "display_data"
        }
      ],
      "source": [
        "%%html\n",
        "\n",
        "<style>\n",
        "    .wrap-1 .tit{\n",
        "        background-color : red;\n",
        "    }\n",
        "    \n",
        "    .wrap-1 > .tit {\n",
        "        color : yellow;\n",
        "    }\n",
        "</style>\n",
        "\n",
        "<div class=\"wrap-1\">\n",
        "    <h3 class=\"tit\">inner 1</h3>\n",
        "    <div class=\"wrap-2\">\n",
        "        <h4 class=\"tit\">inner 2</h4>\n",
        "    </div>\n",
        "</div>"
      ]
    },
    {
      "cell_type": "code",
      "execution_count": null,
      "id": "2001fae4",
      "metadata": {
        "id": "2001fae4"
      },
      "outputs": [],
      "source": [
        ""
      ]
    }
  ],
  "metadata": {
    "kernelspec": {
      "display_name": "Python 3",
      "language": "python",
      "name": "python3"
    },
    "language_info": {
      "codemirror_mode": {
        "name": "ipython",
        "version": 3
      },
      "file_extension": ".py",
      "mimetype": "text/x-python",
      "name": "python",
      "nbconvert_exporter": "python",
      "pygments_lexer": "ipython3",
      "version": "3.8.8"
    },
    "colab": {
      "name": "html & css selector.ipynb",
      "provenance": []
    }
  },
  "nbformat": 4,
  "nbformat_minor": 5
}