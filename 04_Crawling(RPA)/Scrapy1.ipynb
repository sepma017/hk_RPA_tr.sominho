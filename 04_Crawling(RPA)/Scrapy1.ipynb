{
  "cells": [
    {
      "cell_type": "markdown",
      "id": "a6ec184a",
      "metadata": {
        "id": "a6ec184a"
      },
      "source": [
        "# Scrapy\n",
        "- 크롤링 프레임워크\n",
        "- `scrapy`에서 제안하는 대로 코드만 짜면 쉽게 크롤링이 가능"
      ]
    },
    {
      "cell_type": "markdown",
      "id": "e6623f7a",
      "metadata": {
        "id": "e6623f7a"
      },
      "source": [
        "### Iterator, Generator\n",
        "- `iterable` : 순서가 있는 데이터 집합\n",
        "    - `list`, `tuple` 등\n",
        "- `iterator` : 반복적으로 실행 할때마다 다른 결괏값이 나오는 함수\n",
        "    - 값 생성기\n",
        "- `iteration` : `iterator`에서 값을 가져오는 행위"
      ]
    },
    {
      "cell_type": "code",
      "execution_count": null,
      "id": "3541e289",
      "metadata": {
        "id": "3541e289"
      },
      "outputs": [],
      "source": [
        "# iterator 만들기\n",
        "lst = [1, 2, 3]\n",
        "lst_it = iter(lst)"
      ]
    },
    {
      "cell_type": "code",
      "execution_count": null,
      "id": "ea37fe36",
      "metadata": {
        "id": "ea37fe36",
        "outputId": "a012f738-57eb-4324-8ae8-263f852b1e99"
      },
      "outputs": [
        {
          "ename": "StopIteration",
          "evalue": "",
          "output_type": "error",
          "traceback": [
            "\u001b[1;31m---------------------------------------------------------------------------\u001b[0m",
            "\u001b[1;31mStopIteration\u001b[0m                             Traceback (most recent call last)",
            "\u001b[1;32m<ipython-input-5-58a620826d19>\u001b[0m in \u001b[0;36m<module>\u001b[1;34m\u001b[0m\n\u001b[0;32m      1\u001b[0m \u001b[1;31m# iteration 하기\u001b[0m\u001b[1;33m\u001b[0m\u001b[1;33m\u001b[0m\u001b[1;33m\u001b[0m\u001b[0m\n\u001b[1;32m----> 2\u001b[1;33m \u001b[0mnext\u001b[0m\u001b[1;33m(\u001b[0m\u001b[0mlst_it\u001b[0m\u001b[1;33m)\u001b[0m\u001b[1;33m\u001b[0m\u001b[1;33m\u001b[0m\u001b[0m\n\u001b[0m",
            "\u001b[1;31mStopIteration\u001b[0m: "
          ]
        }
      ],
      "source": [
        "# iteration 하기\n",
        "next(lst_it)"
      ]
    },
    {
      "cell_type": "markdown",
      "id": "fab82b86",
      "metadata": {
        "id": "fab82b86"
      },
      "source": [
        "피보나치 수열 만들기\n",
        "* `1 1 2 3 5 8 13 ...`"
      ]
    },
    {
      "cell_type": "code",
      "execution_count": null,
      "id": "2cea5aa4",
      "metadata": {
        "id": "2cea5aa4"
      },
      "outputs": [],
      "source": [
        "class Fib:\n",
        "    \n",
        "    def __init__(self):\n",
        "        self.prev = 0\n",
        "        self.curr = 1\n",
        "    \n",
        "    ## __next__를 구현하면 iterable한 자료형이 된다. - iterator가 된다.\n",
        "    def __next__(self):\n",
        "        value = self.curr\n",
        "        self.curr += self.prev\n",
        "        self.prev = value\n",
        "        return value"
      ]
    },
    {
      "cell_type": "code",
      "execution_count": null,
      "id": "414e1a7a",
      "metadata": {
        "id": "414e1a7a"
      },
      "outputs": [],
      "source": [
        "fib = Fib()"
      ]
    },
    {
      "cell_type": "code",
      "execution_count": null,
      "id": "f0d72d58",
      "metadata": {
        "id": "f0d72d58",
        "outputId": "131efb5f-38b2-4ea9-c1ec-f6cef3d0ade4"
      },
      "outputs": [
        {
          "name": "stdout",
          "output_type": "stream",
          "text": [
            "1 1 2 3 5 8 13 21 34 55 "
          ]
        }
      ],
      "source": [
        "for _ in range(10):\n",
        "    fib_num = next(fib) # fib.__next__() 메소드가 호출된다.\n",
        "    print(fib_num, end=\" \")"
      ]
    },
    {
      "cell_type": "markdown",
      "id": "d9bbbecc",
      "metadata": {
        "id": "d9bbbecc"
      },
      "source": [
        "#### Generator\n",
        "- 이터레이터를 간단하게 만든 것\n",
        "- `iter()`, `next()` 함수들을 사용해서 클래스로 작성할 필요가 없다.\n",
        "- `yield` 또는 `yield from` 키워드가 있으면 제너레이터 함수가 된다."
      ]
    },
    {
      "cell_type": "code",
      "execution_count": null,
      "id": "e2abc0df",
      "metadata": {
        "id": "e2abc0df"
      },
      "outputs": [],
      "source": [
        "def fib():\n",
        "    prev, curr = 0, 1\n",
        "    while True:\n",
        "        yield curr\n",
        "        prev, curr = curr, prev + curr"
      ]
    },
    {
      "cell_type": "code",
      "execution_count": null,
      "id": "ac295783",
      "metadata": {
        "id": "ac295783",
        "outputId": "57d11a87-6b77-4fb4-e635-8d1d86456041"
      },
      "outputs": [
        {
          "name": "stdout",
          "output_type": "stream",
          "text": [
            "1 1 2 3 5 8 13 21 34 55 "
          ]
        }
      ],
      "source": [
        "f = fib()\n",
        "\n",
        "for _ in range(10):\n",
        "    fib_num = next(f)\n",
        "    print(fib_num, end = \" \")"
      ]
    },
    {
      "cell_type": "code",
      "execution_count": null,
      "id": "7d25b09f",
      "metadata": {
        "id": "7d25b09f",
        "outputId": "237df9cb-180f-47f0-bd63-21400f70c94d"
      },
      "outputs": [
        {
          "data": {
            "text/plain": [
              "4807526976"
            ]
          },
          "execution_count": 48,
          "metadata": {},
          "output_type": "execute_result"
        }
      ],
      "source": [
        "next(f)"
      ]
    },
    {
      "cell_type": "code",
      "execution_count": null,
      "id": "6fc69a75",
      "metadata": {
        "id": "6fc69a75"
      },
      "outputs": [],
      "source": [
        "def test():\n",
        "    yield 1\n",
        "    yield 2\n",
        "    yield 3\n"
      ]
    },
    {
      "cell_type": "code",
      "execution_count": null,
      "id": "6b528a3f",
      "metadata": {
        "id": "6b528a3f"
      },
      "outputs": [],
      "source": [
        "t = test()"
      ]
    },
    {
      "cell_type": "code",
      "execution_count": null,
      "id": "29f3dec8",
      "metadata": {
        "id": "29f3dec8",
        "outputId": "75014619-2dcc-42ce-ddbe-34682af50c60"
      },
      "outputs": [
        {
          "data": {
            "text/plain": [
              "3"
            ]
          },
          "execution_count": 60,
          "metadata": {},
          "output_type": "execute_result"
        }
      ],
      "source": [
        "next(t)"
      ]
    },
    {
      "cell_type": "code",
      "execution_count": null,
      "id": "a4159149",
      "metadata": {
        "id": "a4159149"
      },
      "outputs": [],
      "source": [
        "def test1():\n",
        "    lst = [1, 2, 3]\n",
        "    yield lst"
      ]
    },
    {
      "cell_type": "code",
      "execution_count": null,
      "id": "6f5ceb2a",
      "metadata": {
        "id": "6f5ceb2a"
      },
      "outputs": [],
      "source": [
        "t1 = test1()"
      ]
    },
    {
      "cell_type": "code",
      "execution_count": null,
      "id": "1c34d68c",
      "metadata": {
        "id": "1c34d68c",
        "outputId": "fae7ad89-eae0-45c3-83f7-775915379fff"
      },
      "outputs": [
        {
          "data": {
            "text/plain": [
              "[1, 2, 3]"
            ]
          },
          "execution_count": 68,
          "metadata": {},
          "output_type": "execute_result"
        }
      ],
      "source": [
        "next(t1)"
      ]
    },
    {
      "cell_type": "code",
      "execution_count": null,
      "id": "227be8bc",
      "metadata": {
        "id": "227be8bc"
      },
      "outputs": [],
      "source": [
        "def test2():\n",
        "    lst = [1, 2, 3]\n",
        "    yield from lst"
      ]
    },
    {
      "cell_type": "code",
      "execution_count": null,
      "id": "e0cfb15b",
      "metadata": {
        "id": "e0cfb15b"
      },
      "outputs": [],
      "source": [
        "t2 = test2()"
      ]
    },
    {
      "cell_type": "code",
      "execution_count": null,
      "id": "121c18be",
      "metadata": {
        "id": "121c18be",
        "outputId": "41221f2a-da0b-41d0-829b-ebd272019ddb"
      },
      "outputs": [
        {
          "data": {
            "text/plain": [
              "3"
            ]
          },
          "execution_count": 74,
          "metadata": {},
          "output_type": "execute_result"
        }
      ],
      "source": [
        "next(t2)"
      ]
    }
  ],
  "metadata": {
    "kernelspec": {
      "display_name": "Python 3",
      "language": "python",
      "name": "python3"
    },
    "language_info": {
      "codemirror_mode": {
        "name": "ipython",
        "version": 3
      },
      "file_extension": ".py",
      "mimetype": "text/x-python",
      "name": "python",
      "nbconvert_exporter": "python",
      "pygments_lexer": "ipython3",
      "version": "3.8.8"
    },
    "colab": {
      "name": "Scrapy1.ipynb",
      "provenance": []
    }
  },
  "nbformat": 4,
  "nbformat_minor": 5
}