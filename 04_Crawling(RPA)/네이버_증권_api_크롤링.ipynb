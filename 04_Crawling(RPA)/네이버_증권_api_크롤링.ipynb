{
  "cells": [
    {
      "cell_type": "code",
      "execution_count": null,
      "id": "f74b07d5",
      "metadata": {
        "id": "f74b07d5"
      },
      "outputs": [],
      "source": [
        "import requests\n",
        "import pandas as pd"
      ]
    },
    {
      "cell_type": "code",
      "execution_count": null,
      "id": "9e880e04",
      "metadata": {
        "scrolled": false,
        "id": "9e880e04",
        "outputId": "5d357249-ab25-43b9-c982-9bc329cb3b56"
      },
      "outputs": [
        {
          "data": {
            "text/plain": [
              "<Response [200]>"
            ]
          },
          "execution_count": 51,
          "metadata": {},
          "output_type": "execute_result"
        }
      ],
      "source": [
        "RANK_URL = \"https://api.stock.naver.com/ranking/stock/local/total\"\n",
        "response = requests.get(RANK_URL)\n",
        "response"
      ]
    },
    {
      "cell_type": "code",
      "execution_count": null,
      "id": "f4781f05",
      "metadata": {
        "scrolled": false,
        "id": "f4781f05"
      },
      "outputs": [],
      "source": [
        "datas = response.json()['datas']\n",
        "\n",
        "data_list = []\n",
        "\n",
        "for data in datas:\n",
        "    ranking = data['ranking']\n",
        "    reuters_code=data['reutersCode']\n",
        "    stock_name=data['stockName']\n",
        "    close_price= float(data['closePrice'].replace(\",\", \"\"))\n",
        "    compare_previous_close_price = float(data['compareToPreviousClosePrice'].replace(\",\", \"\"))\n",
        "    acc_trading_volume = data['accumulatedTradingVolume']\n",
        "    market_value= data['marketValueHangeul']\n",
        "    local_traded_at = data['localTradedAt']\n",
        "    \n",
        "    fin_data = {\n",
        "        \"순위\" : ranking,\n",
        "        \"코드\" : reuters_code,\n",
        "        \"종목명\": stock_name,\n",
        "        \"종가\": close_price,\n",
        "        \"전일종가대비\": compare_previous_close_price,\n",
        "        \"누적거래량\": acc_trading_volume,\n",
        "        \"시가총액\": market_value,\n",
        "        \"거래시각\": local_traded_at\n",
        "    }\n",
        "    \n",
        "    data_list.append(fin_data)"
      ]
    },
    {
      "cell_type": "code",
      "execution_count": null,
      "id": "e903bc52",
      "metadata": {
        "id": "e903bc52",
        "outputId": "d223ac19-8b08-4ec9-9496-b3e4ad049186"
      },
      "outputs": [
        {
          "data": {
            "text/html": [
              "<div>\n",
              "<style scoped>\n",
              "    .dataframe tbody tr th:only-of-type {\n",
              "        vertical-align: middle;\n",
              "    }\n",
              "\n",
              "    .dataframe tbody tr th {\n",
              "        vertical-align: top;\n",
              "    }\n",
              "\n",
              "    .dataframe thead th {\n",
              "        text-align: right;\n",
              "    }\n",
              "</style>\n",
              "<table border=\"1\" class=\"dataframe\">\n",
              "  <thead>\n",
              "    <tr style=\"text-align: right;\">\n",
              "      <th></th>\n",
              "      <th>순위</th>\n",
              "      <th>코드</th>\n",
              "      <th>종목명</th>\n",
              "      <th>종가</th>\n",
              "      <th>전일종가대비</th>\n",
              "      <th>누적거래량</th>\n",
              "      <th>시가총액</th>\n",
              "      <th>거래시각</th>\n",
              "    </tr>\n",
              "  </thead>\n",
              "  <tbody>\n",
              "    <tr>\n",
              "      <th>0</th>\n",
              "      <td>1</td>\n",
              "      <td>005930</td>\n",
              "      <td>삼성전자</td>\n",
              "      <td>74200.0</td>\n",
              "      <td>-1600.0</td>\n",
              "      <td>5,696,008</td>\n",
              "      <td>442조 9,579억원</td>\n",
              "      <td>2021-12-03T09:43:46+09:00</td>\n",
              "    </tr>\n",
              "    <tr>\n",
              "      <th>1</th>\n",
              "      <td>2</td>\n",
              "      <td>011000</td>\n",
              "      <td>진원생명과학</td>\n",
              "      <td>23300.0</td>\n",
              "      <td>3450.0</td>\n",
              "      <td>2,691,560</td>\n",
              "      <td>1조 534억원</td>\n",
              "      <td>2021-12-03T09:43:45+09:00</td>\n",
              "    </tr>\n",
              "    <tr>\n",
              "      <th>2</th>\n",
              "      <td>3</td>\n",
              "      <td>136510</td>\n",
              "      <td>에디슨EV</td>\n",
              "      <td>22250.0</td>\n",
              "      <td>3250.0</td>\n",
              "      <td>10,877,406</td>\n",
              "      <td>6,431억원</td>\n",
              "      <td>2021-12-03T09:43:46+09:00</td>\n",
              "    </tr>\n",
              "    <tr>\n",
              "      <th>3</th>\n",
              "      <td>4</td>\n",
              "      <td>256840</td>\n",
              "      <td>한국비엔씨</td>\n",
              "      <td>19600.0</td>\n",
              "      <td>550.0</td>\n",
              "      <td>4,327,151</td>\n",
              "      <td>1조 100억원</td>\n",
              "      <td>2021-12-03T09:43:16+09:00</td>\n",
              "    </tr>\n",
              "    <tr>\n",
              "      <th>4</th>\n",
              "      <td>5</td>\n",
              "      <td>068270</td>\n",
              "      <td>셀트리온</td>\n",
              "      <td>208000.0</td>\n",
              "      <td>-5000.0</td>\n",
              "      <td>240,120</td>\n",
              "      <td>28조 6,930억원</td>\n",
              "      <td>2021-12-03T09:43:15+09:00</td>\n",
              "    </tr>\n",
              "  </tbody>\n",
              "</table>\n",
              "</div>"
            ],
            "text/plain": [
              "   순위      코드     종목명        종가  전일종가대비       누적거래량          시가총액  \\\n",
              "0   1  005930    삼성전자   74200.0 -1600.0   5,696,008  442조 9,579억원   \n",
              "1   2  011000  진원생명과학   23300.0  3450.0   2,691,560      1조 534억원   \n",
              "2   3  136510   에디슨EV   22250.0  3250.0  10,877,406       6,431억원   \n",
              "3   4  256840   한국비엔씨   19600.0   550.0   4,327,151      1조 100억원   \n",
              "4   5  068270    셀트리온  208000.0 -5000.0     240,120   28조 6,930억원   \n",
              "\n",
              "                        거래시각  \n",
              "0  2021-12-03T09:43:46+09:00  \n",
              "1  2021-12-03T09:43:45+09:00  \n",
              "2  2021-12-03T09:43:46+09:00  \n",
              "3  2021-12-03T09:43:16+09:00  \n",
              "4  2021-12-03T09:43:15+09:00  "
            ]
          },
          "execution_count": 20,
          "metadata": {},
          "output_type": "execute_result"
        }
      ],
      "source": [
        "df = pd.DataFrame(data_list)\n",
        "df.head()"
      ]
    },
    {
      "cell_type": "code",
      "execution_count": null,
      "id": "13ddcaf4",
      "metadata": {
        "id": "13ddcaf4",
        "outputId": "4899d931-bf3e-4e7b-a017-7cc7b69b6029"
      },
      "outputs": [
        {
          "name": "stdout",
          "output_type": "stream",
          "text": [
            "<class 'pandas.core.frame.DataFrame'>\n",
            "RangeIndex: 10 entries, 0 to 9\n",
            "Data columns (total 8 columns):\n",
            " #   Column  Non-Null Count  Dtype  \n",
            "---  ------  --------------  -----  \n",
            " 0   순위      10 non-null     int64  \n",
            " 1   코드      10 non-null     object \n",
            " 2   종목명     10 non-null     object \n",
            " 3   종가      10 non-null     float64\n",
            " 4   전일종가대비  10 non-null     float64\n",
            " 5   누적거래량   10 non-null     object \n",
            " 6   시가총액    10 non-null     object \n",
            " 7   거래시각    10 non-null     object \n",
            "dtypes: float64(2), int64(1), object(5)\n",
            "memory usage: 768.0+ bytes\n"
          ]
        }
      ],
      "source": [
        "df.info()"
      ]
    },
    {
      "cell_type": "code",
      "execution_count": null,
      "id": "2ca0a12c",
      "metadata": {
        "id": "2ca0a12c",
        "outputId": "c9d565ed-8753-40c4-8e79-d6970a82fb56"
      },
      "outputs": [
        {
          "data": {
            "text/html": [
              "<div>\n",
              "<style scoped>\n",
              "    .dataframe tbody tr th:only-of-type {\n",
              "        vertical-align: middle;\n",
              "    }\n",
              "\n",
              "    .dataframe tbody tr th {\n",
              "        vertical-align: top;\n",
              "    }\n",
              "\n",
              "    .dataframe thead th {\n",
              "        text-align: right;\n",
              "    }\n",
              "</style>\n",
              "<table border=\"1\" class=\"dataframe\">\n",
              "  <thead>\n",
              "    <tr style=\"text-align: right;\">\n",
              "      <th></th>\n",
              "      <th>localTradedAt</th>\n",
              "      <th>closePrice</th>\n",
              "      <th>compareToPreviousClosePrice</th>\n",
              "      <th>compareToPreviousPrice</th>\n",
              "      <th>fluctuationsRatio</th>\n",
              "      <th>openPrice</th>\n",
              "      <th>highPrice</th>\n",
              "      <th>lowPrice</th>\n",
              "    </tr>\n",
              "  </thead>\n",
              "  <tbody>\n",
              "    <tr>\n",
              "      <th>0</th>\n",
              "      <td>2021-12-03</td>\n",
              "      <td>2,943.98</td>\n",
              "      <td>-1.29</td>\n",
              "      <td>{'code': '5', 'text': '하락', 'name': 'FALLING'}</td>\n",
              "      <td>-0.04</td>\n",
              "      <td>2,935.93</td>\n",
              "      <td>2,947.63</td>\n",
              "      <td>2,927.55</td>\n",
              "    </tr>\n",
              "    <tr>\n",
              "      <th>1</th>\n",
              "      <td>2021-12-02</td>\n",
              "      <td>2,945.27</td>\n",
              "      <td>45.55</td>\n",
              "      <td>{'code': '2', 'text': '상승', 'name': 'RISING'}</td>\n",
              "      <td>1.57</td>\n",
              "      <td>2,874.64</td>\n",
              "      <td>2,945.27</td>\n",
              "      <td>2,874.64</td>\n",
              "    </tr>\n",
              "    <tr>\n",
              "      <th>2</th>\n",
              "      <td>2021-12-01</td>\n",
              "      <td>2,899.72</td>\n",
              "      <td>60.71</td>\n",
              "      <td>{'code': '2', 'text': '상승', 'name': 'RISING'}</td>\n",
              "      <td>2.14</td>\n",
              "      <td>2,860.12</td>\n",
              "      <td>2,905.74</td>\n",
              "      <td>2,837.03</td>\n",
              "    </tr>\n",
              "    <tr>\n",
              "      <th>3</th>\n",
              "      <td>2021-11-30</td>\n",
              "      <td>2,839.01</td>\n",
              "      <td>-70.31</td>\n",
              "      <td>{'code': '5', 'text': '하락', 'name': 'FALLING'}</td>\n",
              "      <td>-2.42</td>\n",
              "      <td>2,932.71</td>\n",
              "      <td>2,942.93</td>\n",
              "      <td>2,822.73</td>\n",
              "    </tr>\n",
              "    <tr>\n",
              "      <th>4</th>\n",
              "      <td>2021-11-29</td>\n",
              "      <td>2,909.32</td>\n",
              "      <td>-27.12</td>\n",
              "      <td>{'code': '5', 'text': '하락', 'name': 'FALLING'}</td>\n",
              "      <td>-0.92</td>\n",
              "      <td>2,906.15</td>\n",
              "      <td>2,930.22</td>\n",
              "      <td>2,890.78</td>\n",
              "    </tr>\n",
              "    <tr>\n",
              "      <th>5</th>\n",
              "      <td>2021-11-26</td>\n",
              "      <td>2,936.44</td>\n",
              "      <td>-43.83</td>\n",
              "      <td>{'code': '5', 'text': '하락', 'name': 'FALLING'}</td>\n",
              "      <td>-1.47</td>\n",
              "      <td>2,973.04</td>\n",
              "      <td>2,985.77</td>\n",
              "      <td>2,930.31</td>\n",
              "    </tr>\n",
              "    <tr>\n",
              "      <th>6</th>\n",
              "      <td>2021-11-25</td>\n",
              "      <td>2,980.27</td>\n",
              "      <td>-14.02</td>\n",
              "      <td>{'code': '5', 'text': '하락', 'name': 'FALLING'}</td>\n",
              "      <td>-0.47</td>\n",
              "      <td>2,996.74</td>\n",
              "      <td>2,996.74</td>\n",
              "      <td>2,973.24</td>\n",
              "    </tr>\n",
              "    <tr>\n",
              "      <th>7</th>\n",
              "      <td>2021-11-24</td>\n",
              "      <td>2,994.29</td>\n",
              "      <td>-3.04</td>\n",
              "      <td>{'code': '5', 'text': '하락', 'name': 'FALLING'}</td>\n",
              "      <td>-0.10</td>\n",
              "      <td>3,006.34</td>\n",
              "      <td>3,017.90</td>\n",
              "      <td>2,981.02</td>\n",
              "    </tr>\n",
              "    <tr>\n",
              "      <th>8</th>\n",
              "      <td>2021-11-23</td>\n",
              "      <td>2,997.33</td>\n",
              "      <td>-15.92</td>\n",
              "      <td>{'code': '5', 'text': '하락', 'name': 'FALLING'}</td>\n",
              "      <td>-0.53</td>\n",
              "      <td>3,013.16</td>\n",
              "      <td>3,016.36</td>\n",
              "      <td>2,992.14</td>\n",
              "    </tr>\n",
              "    <tr>\n",
              "      <th>9</th>\n",
              "      <td>2021-11-22</td>\n",
              "      <td>3,013.25</td>\n",
              "      <td>42.23</td>\n",
              "      <td>{'code': '2', 'text': '상승', 'name': 'RISING'}</td>\n",
              "      <td>1.42</td>\n",
              "      <td>2,983.38</td>\n",
              "      <td>3,018.01</td>\n",
              "      <td>2,980.73</td>\n",
              "    </tr>\n",
              "  </tbody>\n",
              "</table>\n",
              "</div>"
            ],
            "text/plain": [
              "  localTradedAt closePrice compareToPreviousClosePrice  \\\n",
              "0    2021-12-03   2,943.98                       -1.29   \n",
              "1    2021-12-02   2,945.27                       45.55   \n",
              "2    2021-12-01   2,899.72                       60.71   \n",
              "3    2021-11-30   2,839.01                      -70.31   \n",
              "4    2021-11-29   2,909.32                      -27.12   \n",
              "5    2021-11-26   2,936.44                      -43.83   \n",
              "6    2021-11-25   2,980.27                      -14.02   \n",
              "7    2021-11-24   2,994.29                       -3.04   \n",
              "8    2021-11-23   2,997.33                      -15.92   \n",
              "9    2021-11-22   3,013.25                       42.23   \n",
              "\n",
              "                           compareToPreviousPrice fluctuationsRatio openPrice  \\\n",
              "0  {'code': '5', 'text': '하락', 'name': 'FALLING'}             -0.04  2,935.93   \n",
              "1   {'code': '2', 'text': '상승', 'name': 'RISING'}              1.57  2,874.64   \n",
              "2   {'code': '2', 'text': '상승', 'name': 'RISING'}              2.14  2,860.12   \n",
              "3  {'code': '5', 'text': '하락', 'name': 'FALLING'}             -2.42  2,932.71   \n",
              "4  {'code': '5', 'text': '하락', 'name': 'FALLING'}             -0.92  2,906.15   \n",
              "5  {'code': '5', 'text': '하락', 'name': 'FALLING'}             -1.47  2,973.04   \n",
              "6  {'code': '5', 'text': '하락', 'name': 'FALLING'}             -0.47  2,996.74   \n",
              "7  {'code': '5', 'text': '하락', 'name': 'FALLING'}             -0.10  3,006.34   \n",
              "8  {'code': '5', 'text': '하락', 'name': 'FALLING'}             -0.53  3,013.16   \n",
              "9   {'code': '2', 'text': '상승', 'name': 'RISING'}              1.42  2,983.38   \n",
              "\n",
              "  highPrice  lowPrice  \n",
              "0  2,947.63  2,927.55  \n",
              "1  2,945.27  2,874.64  \n",
              "2  2,905.74  2,837.03  \n",
              "3  2,942.93  2,822.73  \n",
              "4  2,930.22  2,890.78  \n",
              "5  2,985.77  2,930.31  \n",
              "6  2,996.74  2,973.24  \n",
              "7  3,017.90  2,981.02  \n",
              "8  3,016.36  2,992.14  \n",
              "9  3,018.01  2,980.73  "
            ]
          },
          "execution_count": 49,
          "metadata": {},
          "output_type": "execute_result"
        }
      ],
      "source": [
        "KOSPI_URL = \"https://m.stock.naver.com/api/index/KOSPI/price?pageSize=10&page=1\"\n",
        "KOSDAQ_URL = \"https://m.stock.naver.com/api/index/KOSDAQ/price?pageSize=10&page=1\"\n",
        "\n",
        "# 정석\n",
        "kospi_data = requests.get(KOSPI_URL).json()\n",
        "df_kospi = pd.DataFrame(kospi_data)\n",
        "df_kospi"
      ]
    },
    {
      "cell_type": "code",
      "execution_count": null,
      "id": "27e1e963",
      "metadata": {
        "id": "27e1e963",
        "outputId": "f9869ce5-7a6f-4f7e-affc-15b5fe77a957"
      },
      "outputs": [
        {
          "name": "stdout",
          "output_type": "stream",
          "text": [
            "<class 'pandas.core.frame.DataFrame'>\n",
            "RangeIndex: 10 entries, 0 to 9\n",
            "Data columns (total 8 columns):\n",
            " #   Column                       Non-Null Count  Dtype  \n",
            "---  ------                       --------------  -----  \n",
            " 0   localTradedAt                10 non-null     object \n",
            " 1   closePrice                   10 non-null     object \n",
            " 2   compareToPreviousClosePrice  10 non-null     float64\n",
            " 3   compareToPreviousPrice       10 non-null     object \n",
            " 4   fluctuationsRatio            10 non-null     float64\n",
            " 5   openPrice                    10 non-null     object \n",
            " 6   highPrice                    10 non-null     object \n",
            " 7   lowPrice                     10 non-null     object \n",
            "dtypes: float64(2), object(6)\n",
            "memory usage: 768.0+ bytes\n"
          ]
        }
      ],
      "source": [
        "df_kosdaq = pd.read_json(KOSDAQ_URL)\n",
        "df_kosdaq.info()"
      ]
    },
    {
      "cell_type": "code",
      "execution_count": null,
      "id": "aaf665f6",
      "metadata": {
        "id": "aaf665f6"
      },
      "outputs": [],
      "source": [
        "import matplotlib.pyplot as plt\n",
        "import seaborn as sns"
      ]
    },
    {
      "cell_type": "code",
      "execution_count": null,
      "id": "01464ace",
      "metadata": {
        "id": "01464ace"
      },
      "outputs": [],
      "source": [
        "# seaborn 테마를 matplotlib에서 사용하게 할 수 있다.\n",
        "sns.set()"
      ]
    },
    {
      "cell_type": "code",
      "execution_count": null,
      "id": "3b63d8e1",
      "metadata": {
        "id": "3b63d8e1",
        "outputId": "aac0c03e-2c38-45e4-c266-f5461a3af1e2"
      },
      "outputs": [
        {
          "data": {
            "image/png": "[encoded data removed]",
            "text/plain": [
              "<Figure size 1440x720 with 1 Axes>"
            ]
          },
          "metadata": {},
          "output_type": "display_data"
        }
      ],
      "source": [
        "# 일자의 종가 등락 확인\n",
        "plt.figure(figsize=(20, 10))\n",
        "\n",
        "plt.plot(df_kospi[\"localTradedAt\"].sort_values(), df_kospi[\"closePrice\"], \"r*:\", label=\"kospi\")\n",
        "plt.plot(df_kosdaq[\"localTradedAt\"].sort_values(), df_kosdaq[\"closePrice\"], \"bo:\",label=\"kosdaq\")\n",
        "\n",
        "plt.show()"
      ]
    },
    {
      "cell_type": "markdown",
      "id": "43c29d26",
      "metadata": {
        "id": "43c29d26"
      },
      "source": [
        "데이터 프레임 특정 시리즈의 타입 바꿔주기"
      ]
    },
    {
      "cell_type": "code",
      "execution_count": null,
      "id": "d07394f7",
      "metadata": {
        "id": "d07394f7"
      },
      "outputs": [],
      "source": [
        "import numpy as np\n",
        "\n",
        "df_kospi['closePrice'] = df_kospi['closePrice'].str.replace(\",\", \"\")\n",
        "df_kospi['closePrice'] = df_kospi['closePrice'].astype(np.float32)\n",
        "\n",
        "df_kosdaq['closePrice'] = df_kosdaq['closePrice'].str.replace(\",\", \"\")\n",
        "df_kosdaq['closePrice'] = df_kosdaq['closePrice'].astype(np.float32)"
      ]
    },
    {
      "cell_type": "code",
      "execution_count": null,
      "id": "fdba9491",
      "metadata": {
        "id": "fdba9491",
        "outputId": "87e5f554-efad-4dac-cf62-1d6c091d78d4"
      },
      "outputs": [
        {
          "data": {
            "image/png": "[encoded data removed]",
            "text/plain": [
              "<Figure size 1440x720 with 1 Axes>"
            ]
          },
          "metadata": {},
          "output_type": "display_data"
        }
      ],
      "source": [
        "# 일자의 종가 등락 확인\n",
        "plt.figure(figsize=(20, 10))\n",
        "\n",
        "plt.plot(df_kospi[\"localTradedAt\"].sort_values(), df_kospi[\"closePrice\"], \"r*:\", label=\"kospi\")\n",
        "plt.plot(df_kosdaq[\"localTradedAt\"].sort_values(), df_kosdaq[\"closePrice\"], \"bo:\",label=\"kosdaq\")\n",
        "plt.legend()\n",
        "plt.show()"
      ]
    },
    {
      "cell_type": "markdown",
      "id": "c9ed5817",
      "metadata": {
        "id": "c9ed5817"
      },
      "source": [
        "데이터의 정규화와 표준화\n",
        "* 정규화 Normalization\n",
        "    - 모든 데이터를 일정한 수치로 맞춰주는 과정\n",
        "    - 0 ~ 1 로 데이터를 스케일링\n",
        "* 표준화 Standard\n",
        "    - 데이터의 평균을 0으로 맞추고, 표준편차를 1로 맞추는 과정\n",
        "    - 이상치에 대한 보정\n",
        "    - 데이터의 분포를 일정하게 맞춰줄 수 있다."
      ]
    },
    {
      "cell_type": "code",
      "execution_count": null,
      "id": "79825895",
      "metadata": {
        "id": "79825895"
      },
      "outputs": [],
      "source": [
        "from sklearn.preprocessing import MinMaxScaler, StandardScaler"
      ]
    },
    {
      "cell_type": "code",
      "execution_count": null,
      "id": "101ac532",
      "metadata": {
        "id": "101ac532",
        "outputId": "d2370faa-b777-475d-b948-8981d92c513b"
      },
      "outputs": [
        {
          "data": {
            "text/plain": [
              "0    2943.979980\n",
              "1    2945.270020\n",
              "2    2899.719971\n",
              "3    2839.010010\n",
              "4    2909.320068\n",
              "5    2936.439941\n",
              "6    2980.270020\n",
              "7    2994.290039\n",
              "8    2997.330078\n",
              "9    3013.250000\n",
              "Name: closePrice, dtype: float32"
            ]
          },
          "execution_count": 72,
          "metadata": {},
          "output_type": "execute_result"
        }
      ],
      "source": [
        "scaler = MinMaxScaler()\n",
        "df_close_price = df_kospi['closePrice']\n",
        "df_close_price"
      ]
    },
    {
      "cell_type": "code",
      "execution_count": null,
      "id": "b01fae50",
      "metadata": {
        "id": "b01fae50",
        "outputId": "d0229cfe-0dec-4776-9b5b-225ef9b24be0"
      },
      "outputs": [
        {
          "data": {
            "text/plain": [
              "array([[0.6024456 ],\n",
              "       [0.609848  ],\n",
              "       [0.34842682],\n",
              "       [0.        ],\n",
              "       [0.4035244 ],\n",
              "       [0.5591717 ],\n",
              "       [0.81072044],\n",
              "       [0.89118576],\n",
              "       [0.9086323 ],\n",
              "       [1.        ]], dtype=float32)"
            ]
          },
          "execution_count": 75,
          "metadata": {},
          "output_type": "execute_result"
        }
      ],
      "source": [
        "close_price_scaled = scaler.fit_transform(df_close_price.values.reshape(-1, 1))\n",
        "close_price_scaled"
      ]
    },
    {
      "cell_type": "markdown",
      "id": "25c3aa34",
      "metadata": {
        "id": "25c3aa34"
      },
      "source": [
        "함수로 되어있는 `minmax_scale` 사용"
      ]
    },
    {
      "cell_type": "code",
      "execution_count": null,
      "id": "9ee436f5",
      "metadata": {
        "id": "9ee436f5"
      },
      "outputs": [],
      "source": [
        "from sklearn import preprocessing\n",
        "scaled_kospi_cp = preprocessing.minmax_scale(df_kospi[\"closePrice\"])\n",
        "scaled_kosdaq_cp = preprocessing.minmax_scale(df_kosdaq[\"closePrice\"])"
      ]
    },
    {
      "cell_type": "code",
      "execution_count": null,
      "id": "4b2d9969",
      "metadata": {
        "id": "4b2d9969",
        "outputId": "cc3851dd-f781-408e-ccd9-fbcb8bfe387c"
      },
      "outputs": [
        {
          "data": {
            "text/plain": [
              "(array([0.6024456 , 0.609848  , 0.34842682, 0.        , 0.4035244 ,\n",
              "        0.5591717 , 0.81072044, 0.89118576, 0.9086323 , 1.        ],\n",
              "       dtype=float32),\n",
              " array([0.3695259 , 0.1769638 , 0.17276573, 0.        , 0.40056992,\n",
              "        0.60377884, 0.7502985 , 0.8173351 , 0.72120476, 1.        ],\n",
              "       dtype=float32))"
            ]
          },
          "execution_count": 79,
          "metadata": {},
          "output_type": "execute_result"
        }
      ],
      "source": [
        "scaled_kospi_cp, scaled_kosdaq_cp"
      ]
    },
    {
      "cell_type": "code",
      "execution_count": null,
      "id": "a04781ad",
      "metadata": {
        "id": "a04781ad",
        "outputId": "40d774e1-817b-4c2b-d4be-d14c54337822"
      },
      "outputs": [
        {
          "data": {
            "image/png": "[encoded data removed]",
            "text/plain": [
              "<Figure size 1440x504 with 1 Axes>"
            ]
          },
          "metadata": {},
          "output_type": "display_data"
        }
      ],
      "source": [
        "trade_dates = df_kospi[\"localTradedAt\"][::-1]\n",
        "\n",
        "plt.figure(figsize=(20, 7))\n",
        "plt.plot(trade_dates, scaled_kospi_cp, \"r*:\", label='KOSPI')\n",
        "plt.plot(trade_dates, scaled_kosdaq_cp, \"bo:\", label=\"KOSDAQ\")\n",
        "plt.legend()\n",
        "plt.show()"
      ]
    },
    {
      "cell_type": "code",
      "execution_count": null,
      "id": "9e20cab4",
      "metadata": {
        "scrolled": false,
        "id": "9e20cab4",
        "outputId": "f26ea7b7-2dc3-40e7-ad15-e86d6d620560"
      },
      "outputs": [
        {
          "data": {
            "text/html": [
              "<div>\n",
              "<style scoped>\n",
              "    .dataframe tbody tr th:only-of-type {\n",
              "        vertical-align: middle;\n",
              "    }\n",
              "\n",
              "    .dataframe tbody tr th {\n",
              "        vertical-align: top;\n",
              "    }\n",
              "\n",
              "    .dataframe thead th {\n",
              "        text-align: right;\n",
              "    }\n",
              "</style>\n",
              "<table border=\"1\" class=\"dataframe\">\n",
              "  <thead>\n",
              "    <tr style=\"text-align: right;\">\n",
              "      <th></th>\n",
              "      <th>localTradedAt</th>\n",
              "      <th>closePrice</th>\n",
              "      <th>compareToPreviousClosePrice</th>\n",
              "      <th>compareToPreviousPrice</th>\n",
              "      <th>fluctuationsRatio</th>\n",
              "      <th>openPrice</th>\n",
              "      <th>highPrice</th>\n",
              "      <th>lowPrice</th>\n",
              "    </tr>\n",
              "  </thead>\n",
              "  <tbody>\n",
              "    <tr>\n",
              "      <th>0</th>\n",
              "      <td>2021-12-03</td>\n",
              "      <td>2943.979980</td>\n",
              "      <td>-1.29</td>\n",
              "      <td>{'code': '5', 'text': '하락', 'name': 'FALLING'}</td>\n",
              "      <td>-0.04</td>\n",
              "      <td>2,935.93</td>\n",
              "      <td>2,947.63</td>\n",
              "      <td>2,927.55</td>\n",
              "    </tr>\n",
              "    <tr>\n",
              "      <th>1</th>\n",
              "      <td>2021-12-02</td>\n",
              "      <td>2945.270020</td>\n",
              "      <td>45.55</td>\n",
              "      <td>{'code': '2', 'text': '상승', 'name': 'RISING'}</td>\n",
              "      <td>1.57</td>\n",
              "      <td>2,874.64</td>\n",
              "      <td>2,945.27</td>\n",
              "      <td>2,874.64</td>\n",
              "    </tr>\n",
              "    <tr>\n",
              "      <th>2</th>\n",
              "      <td>2021-12-01</td>\n",
              "      <td>2899.719971</td>\n",
              "      <td>60.71</td>\n",
              "      <td>{'code': '2', 'text': '상승', 'name': 'RISING'}</td>\n",
              "      <td>2.14</td>\n",
              "      <td>2,860.12</td>\n",
              "      <td>2,905.74</td>\n",
              "      <td>2,837.03</td>\n",
              "    </tr>\n",
              "    <tr>\n",
              "      <th>3</th>\n",
              "      <td>2021-11-30</td>\n",
              "      <td>2839.010010</td>\n",
              "      <td>-70.31</td>\n",
              "      <td>{'code': '5', 'text': '하락', 'name': 'FALLING'}</td>\n",
              "      <td>-2.42</td>\n",
              "      <td>2,932.71</td>\n",
              "      <td>2,942.93</td>\n",
              "      <td>2,822.73</td>\n",
              "    </tr>\n",
              "    <tr>\n",
              "      <th>4</th>\n",
              "      <td>2021-11-29</td>\n",
              "      <td>2909.320068</td>\n",
              "      <td>-27.12</td>\n",
              "      <td>{'code': '5', 'text': '하락', 'name': 'FALLING'}</td>\n",
              "      <td>-0.92</td>\n",
              "      <td>2,906.15</td>\n",
              "      <td>2,930.22</td>\n",
              "      <td>2,890.78</td>\n",
              "    </tr>\n",
              "    <tr>\n",
              "      <th>5</th>\n",
              "      <td>2021-11-26</td>\n",
              "      <td>2936.439941</td>\n",
              "      <td>-43.83</td>\n",
              "      <td>{'code': '5', 'text': '하락', 'name': 'FALLING'}</td>\n",
              "      <td>-1.47</td>\n",
              "      <td>2,973.04</td>\n",
              "      <td>2,985.77</td>\n",
              "      <td>2,930.31</td>\n",
              "    </tr>\n",
              "    <tr>\n",
              "      <th>6</th>\n",
              "      <td>2021-11-25</td>\n",
              "      <td>2980.270020</td>\n",
              "      <td>-14.02</td>\n",
              "      <td>{'code': '5', 'text': '하락', 'name': 'FALLING'}</td>\n",
              "      <td>-0.47</td>\n",
              "      <td>2,996.74</td>\n",
              "      <td>2,996.74</td>\n",
              "      <td>2,973.24</td>\n",
              "    </tr>\n",
              "    <tr>\n",
              "      <th>7</th>\n",
              "      <td>2021-11-24</td>\n",
              "      <td>2994.290039</td>\n",
              "      <td>-3.04</td>\n",
              "      <td>{'code': '5', 'text': '하락', 'name': 'FALLING'}</td>\n",
              "      <td>-0.10</td>\n",
              "      <td>3,006.34</td>\n",
              "      <td>3,017.90</td>\n",
              "      <td>2,981.02</td>\n",
              "    </tr>\n",
              "    <tr>\n",
              "      <th>8</th>\n",
              "      <td>2021-11-23</td>\n",
              "      <td>2997.330078</td>\n",
              "      <td>-15.92</td>\n",
              "      <td>{'code': '5', 'text': '하락', 'name': 'FALLING'}</td>\n",
              "      <td>-0.53</td>\n",
              "      <td>3,013.16</td>\n",
              "      <td>3,016.36</td>\n",
              "      <td>2,992.14</td>\n",
              "    </tr>\n",
              "    <tr>\n",
              "      <th>9</th>\n",
              "      <td>2021-11-22</td>\n",
              "      <td>3013.250000</td>\n",
              "      <td>42.23</td>\n",
              "      <td>{'code': '2', 'text': '상승', 'name': 'RISING'}</td>\n",
              "      <td>1.42</td>\n",
              "      <td>2,983.38</td>\n",
              "      <td>3,018.01</td>\n",
              "      <td>2,980.73</td>\n",
              "    </tr>\n",
              "  </tbody>\n",
              "</table>\n",
              "</div>"
            ],
            "text/plain": [
              "  localTradedAt   closePrice compareToPreviousClosePrice  \\\n",
              "0    2021-12-03  2943.979980                       -1.29   \n",
              "1    2021-12-02  2945.270020                       45.55   \n",
              "2    2021-12-01  2899.719971                       60.71   \n",
              "3    2021-11-30  2839.010010                      -70.31   \n",
              "4    2021-11-29  2909.320068                      -27.12   \n",
              "5    2021-11-26  2936.439941                      -43.83   \n",
              "6    2021-11-25  2980.270020                      -14.02   \n",
              "7    2021-11-24  2994.290039                       -3.04   \n",
              "8    2021-11-23  2997.330078                      -15.92   \n",
              "9    2021-11-22  3013.250000                       42.23   \n",
              "\n",
              "                           compareToPreviousPrice fluctuationsRatio openPrice  \\\n",
              "0  {'code': '5', 'text': '하락', 'name': 'FALLING'}             -0.04  2,935.93   \n",
              "1   {'code': '2', 'text': '상승', 'name': 'RISING'}              1.57  2,874.64   \n",
              "2   {'code': '2', 'text': '상승', 'name': 'RISING'}              2.14  2,860.12   \n",
              "3  {'code': '5', 'text': '하락', 'name': 'FALLING'}             -2.42  2,932.71   \n",
              "4  {'code': '5', 'text': '하락', 'name': 'FALLING'}             -0.92  2,906.15   \n",
              "5  {'code': '5', 'text': '하락', 'name': 'FALLING'}             -1.47  2,973.04   \n",
              "6  {'code': '5', 'text': '하락', 'name': 'FALLING'}             -0.47  2,996.74   \n",
              "7  {'code': '5', 'text': '하락', 'name': 'FALLING'}             -0.10  3,006.34   \n",
              "8  {'code': '5', 'text': '하락', 'name': 'FALLING'}             -0.53  3,013.16   \n",
              "9   {'code': '2', 'text': '상승', 'name': 'RISING'}              1.42  2,983.38   \n",
              "\n",
              "  highPrice  lowPrice  \n",
              "0  2,947.63  2,927.55  \n",
              "1  2,945.27  2,874.64  \n",
              "2  2,905.74  2,837.03  \n",
              "3  2,942.93  2,822.73  \n",
              "4  2,930.22  2,890.78  \n",
              "5  2,985.77  2,930.31  \n",
              "6  2,996.74  2,973.24  \n",
              "7  3,017.90  2,981.02  \n",
              "8  3,016.36  2,992.14  \n",
              "9  3,018.01  2,980.73  "
            ]
          },
          "execution_count": 83,
          "metadata": {},
          "output_type": "execute_result"
        }
      ],
      "source": [
        "df_kospi"
      ]
    },
    {
      "cell_type": "markdown",
      "id": "c02fd276",
      "metadata": {
        "id": "c02fd276"
      },
      "source": [
        "DOW 지수 수집하기"
      ]
    },
    {
      "cell_type": "code",
      "execution_count": null,
      "id": "557db9d9",
      "metadata": {
        "id": "557db9d9",
        "outputId": "6b44984d-ed83-49b5-e807-2bce1aaf1ee3"
      },
      "outputs": [
        {
          "data": {
            "text/html": [
              "<div>\n",
              "<style scoped>\n",
              "    .dataframe tbody tr th:only-of-type {\n",
              "        vertical-align: middle;\n",
              "    }\n",
              "\n",
              "    .dataframe tbody tr th {\n",
              "        vertical-align: top;\n",
              "    }\n",
              "\n",
              "    .dataframe thead th {\n",
              "        text-align: right;\n",
              "    }\n",
              "</style>\n",
              "<table border=\"1\" class=\"dataframe\">\n",
              "  <thead>\n",
              "    <tr style=\"text-align: right;\">\n",
              "      <th></th>\n",
              "      <th>stockExchangeType</th>\n",
              "      <th>localTradedAt</th>\n",
              "      <th>worldIndexSymbol</th>\n",
              "      <th>openPrice</th>\n",
              "      <th>highPrice</th>\n",
              "      <th>lowPrice</th>\n",
              "      <th>closePrice</th>\n",
              "      <th>compareToPreviousClosePrice</th>\n",
              "      <th>fluctuationsRatio</th>\n",
              "      <th>compareToPreviousPrice</th>\n",
              "    </tr>\n",
              "  </thead>\n",
              "  <tbody>\n",
              "    <tr>\n",
              "      <th>0</th>\n",
              "      <td>{'code': 'NYS', 'zoneId': 'EST5EDT', 'nationTy...</td>\n",
              "      <td>2021-12-02T17:08:50-05:00</td>\n",
              "      <td>.DJI</td>\n",
              "      <td>34,076.25</td>\n",
              "      <td>34,759.65</td>\n",
              "      <td>34,076.25</td>\n",
              "      <td>34,639.79</td>\n",
              "      <td>617.75</td>\n",
              "      <td>1.82</td>\n",
              "      <td>{'code': '2', 'text': '상승', 'name': 'RISING'}</td>\n",
              "    </tr>\n",
              "    <tr>\n",
              "      <th>1</th>\n",
              "      <td>{'code': 'NYS', 'zoneId': 'EST5EDT', 'nationTy...</td>\n",
              "      <td>2021-12-01T17:04:01-05:00</td>\n",
              "      <td>.DJI</td>\n",
              "      <td>34,678.94</td>\n",
              "      <td>35,004.64</td>\n",
              "      <td>34,006.98</td>\n",
              "      <td>34,022.04</td>\n",
              "      <td>-461.68</td>\n",
              "      <td>-1.34</td>\n",
              "      <td>{'code': '5', 'text': '하락', 'name': 'FALLING'}</td>\n",
              "    </tr>\n",
              "    <tr>\n",
              "      <th>2</th>\n",
              "      <td>{'code': 'NYS', 'zoneId': 'EST5EDT', 'nationTy...</td>\n",
              "      <td>2021-11-30T16:57:28-05:00</td>\n",
              "      <td>.DJI</td>\n",
              "      <td>35,056.99</td>\n",
              "      <td>35,056.99</td>\n",
              "      <td>34,424.44</td>\n",
              "      <td>34,483.72</td>\n",
              "      <td>-652.22</td>\n",
              "      <td>-1.86</td>\n",
              "      <td>{'code': '5', 'text': '하락', 'name': 'FALLING'}</td>\n",
              "    </tr>\n",
              "    <tr>\n",
              "      <th>3</th>\n",
              "      <td>{'code': 'NYS', 'zoneId': 'EST5EDT', 'nationTy...</td>\n",
              "      <td>2021-11-29T16:57:44-05:00</td>\n",
              "      <td>.DJI</td>\n",
              "      <td>35,017.71</td>\n",
              "      <td>35,287.91</td>\n",
              "      <td>34,895.89</td>\n",
              "      <td>35,135.94</td>\n",
              "      <td>236.60</td>\n",
              "      <td>0.68</td>\n",
              "      <td>{'code': '2', 'text': '상승', 'name': 'RISING'}</td>\n",
              "    </tr>\n",
              "    <tr>\n",
              "      <th>4</th>\n",
              "      <td>{'code': 'NYS', 'zoneId': 'EST5EDT', 'nationTy...</td>\n",
              "      <td>2021-11-26T14:12:54-05:00</td>\n",
              "      <td>.DJI</td>\n",
              "      <td>35,366.69</td>\n",
              "      <td>35,366.69</td>\n",
              "      <td>34,749.80</td>\n",
              "      <td>34,899.34</td>\n",
              "      <td>-905.04</td>\n",
              "      <td>-2.53</td>\n",
              "      <td>{'code': '5', 'text': '하락', 'name': 'FALLING'}</td>\n",
              "    </tr>\n",
              "  </tbody>\n",
              "</table>\n",
              "</div>"
            ],
            "text/plain": [
              "                                   stockExchangeType  \\\n",
              "0  {'code': 'NYS', 'zoneId': 'EST5EDT', 'nationTy...   \n",
              "1  {'code': 'NYS', 'zoneId': 'EST5EDT', 'nationTy...   \n",
              "2  {'code': 'NYS', 'zoneId': 'EST5EDT', 'nationTy...   \n",
              "3  {'code': 'NYS', 'zoneId': 'EST5EDT', 'nationTy...   \n",
              "4  {'code': 'NYS', 'zoneId': 'EST5EDT', 'nationTy...   \n",
              "\n",
              "               localTradedAt worldIndexSymbol  openPrice  highPrice  \\\n",
              "0  2021-12-02T17:08:50-05:00             .DJI  34,076.25  34,759.65   \n",
              "1  2021-12-01T17:04:01-05:00             .DJI  34,678.94  35,004.64   \n",
              "2  2021-11-30T16:57:28-05:00             .DJI  35,056.99  35,056.99   \n",
              "3  2021-11-29T16:57:44-05:00             .DJI  35,017.71  35,287.91   \n",
              "4  2021-11-26T14:12:54-05:00             .DJI  35,366.69  35,366.69   \n",
              "\n",
              "    lowPrice closePrice  compareToPreviousClosePrice  fluctuationsRatio  \\\n",
              "0  34,076.25  34,639.79                       617.75               1.82   \n",
              "1  34,006.98  34,022.04                      -461.68              -1.34   \n",
              "2  34,424.44  34,483.72                      -652.22              -1.86   \n",
              "3  34,895.89  35,135.94                       236.60               0.68   \n",
              "4  34,749.80  34,899.34                      -905.04              -2.53   \n",
              "\n",
              "                           compareToPreviousPrice  \n",
              "0   {'code': '2', 'text': '상승', 'name': 'RISING'}  \n",
              "1  {'code': '5', 'text': '하락', 'name': 'FALLING'}  \n",
              "2  {'code': '5', 'text': '하락', 'name': 'FALLING'}  \n",
              "3   {'code': '2', 'text': '상승', 'name': 'RISING'}  \n",
              "4  {'code': '5', 'text': '하락', 'name': 'FALLING'}  "
            ]
          },
          "execution_count": 109,
          "metadata": {},
          "output_type": "execute_result"
        }
      ],
      "source": [
        "DOW_URL = \"https://api.stock.naver.com/index/.DJI/price?page=1&pageSize=10\"\n",
        "df_dow = pd.read_json(DOW_URL)\n",
        "df_dow.head()"
      ]
    },
    {
      "cell_type": "markdown",
      "id": "ab312bad",
      "metadata": {
        "id": "ab312bad"
      },
      "source": [
        "pandas의 to_datetime 메소드를 이용해 날짜 형식의 문자열을 날짜 객체로 변환"
      ]
    },
    {
      "cell_type": "code",
      "execution_count": null,
      "id": "91b2a661",
      "metadata": {
        "id": "91b2a661",
        "outputId": "a9f08dd8-3ba2-4eaa-e900-221de8617413"
      },
      "outputs": [
        {
          "data": {
            "text/html": [
              "<div>\n",
              "<style scoped>\n",
              "    .dataframe tbody tr th:only-of-type {\n",
              "        vertical-align: middle;\n",
              "    }\n",
              "\n",
              "    .dataframe tbody tr th {\n",
              "        vertical-align: top;\n",
              "    }\n",
              "\n",
              "    .dataframe thead th {\n",
              "        text-align: right;\n",
              "    }\n",
              "</style>\n",
              "<table border=\"1\" class=\"dataframe\">\n",
              "  <thead>\n",
              "    <tr style=\"text-align: right;\">\n",
              "      <th></th>\n",
              "      <th>localTradedAt</th>\n",
              "      <th>tradeDatetime</th>\n",
              "    </tr>\n",
              "  </thead>\n",
              "  <tbody>\n",
              "    <tr>\n",
              "      <th>0</th>\n",
              "      <td>2021-12-02T17:08:50-05:00</td>\n",
              "      <td>2021-12-02 17:08:50-05:00</td>\n",
              "    </tr>\n",
              "    <tr>\n",
              "      <th>1</th>\n",
              "      <td>2021-12-01T17:04:01-05:00</td>\n",
              "      <td>2021-12-01 17:04:01-05:00</td>\n",
              "    </tr>\n",
              "    <tr>\n",
              "      <th>2</th>\n",
              "      <td>2021-11-30T16:57:28-05:00</td>\n",
              "      <td>2021-11-30 16:57:28-05:00</td>\n",
              "    </tr>\n",
              "    <tr>\n",
              "      <th>3</th>\n",
              "      <td>2021-11-29T16:57:44-05:00</td>\n",
              "      <td>2021-11-29 16:57:44-05:00</td>\n",
              "    </tr>\n",
              "    <tr>\n",
              "      <th>4</th>\n",
              "      <td>2021-11-26T14:12:54-05:00</td>\n",
              "      <td>2021-11-26 14:12:54-05:00</td>\n",
              "    </tr>\n",
              "    <tr>\n",
              "      <th>5</th>\n",
              "      <td>2021-11-24T17:05:40-05:00</td>\n",
              "      <td>2021-11-24 17:05:40-05:00</td>\n",
              "    </tr>\n",
              "    <tr>\n",
              "      <th>6</th>\n",
              "      <td>2021-11-23T16:57:58-05:00</td>\n",
              "      <td>2021-11-23 16:57:58-05:00</td>\n",
              "    </tr>\n",
              "    <tr>\n",
              "      <th>7</th>\n",
              "      <td>2021-11-22T17:01:35-05:00</td>\n",
              "      <td>2021-11-22 17:01:35-05:00</td>\n",
              "    </tr>\n",
              "    <tr>\n",
              "      <th>8</th>\n",
              "      <td>2021-11-19T17:08:30-05:00</td>\n",
              "      <td>2021-11-19 17:08:30-05:00</td>\n",
              "    </tr>\n",
              "    <tr>\n",
              "      <th>9</th>\n",
              "      <td>2021-11-18T16:57:46-05:00</td>\n",
              "      <td>2021-11-18 16:57:46-05:00</td>\n",
              "    </tr>\n",
              "  </tbody>\n",
              "</table>\n",
              "</div>"
            ],
            "text/plain": [
              "               localTradedAt             tradeDatetime\n",
              "0  2021-12-02T17:08:50-05:00 2021-12-02 17:08:50-05:00\n",
              "1  2021-12-01T17:04:01-05:00 2021-12-01 17:04:01-05:00\n",
              "2  2021-11-30T16:57:28-05:00 2021-11-30 16:57:28-05:00\n",
              "3  2021-11-29T16:57:44-05:00 2021-11-29 16:57:44-05:00\n",
              "4  2021-11-26T14:12:54-05:00 2021-11-26 14:12:54-05:00\n",
              "5  2021-11-24T17:05:40-05:00 2021-11-24 17:05:40-05:00\n",
              "6  2021-11-23T16:57:58-05:00 2021-11-23 16:57:58-05:00\n",
              "7  2021-11-22T17:01:35-05:00 2021-11-22 17:01:35-05:00\n",
              "8  2021-11-19T17:08:30-05:00 2021-11-19 17:08:30-05:00\n",
              "9  2021-11-18T16:57:46-05:00 2021-11-18 16:57:46-05:00"
            ]
          },
          "execution_count": 110,
          "metadata": {},
          "output_type": "execute_result"
        }
      ],
      "source": [
        "df_dow[\"tradeDatetime\"] = pd.to_datetime(df_dow[\"localTradedAt\"])\n",
        "df_dow[[\"localTradedAt\", \"tradeDatetime\"]]"
      ]
    },
    {
      "cell_type": "code",
      "execution_count": null,
      "id": "635587d3",
      "metadata": {
        "id": "635587d3",
        "outputId": "222d3cd8-a372-4bb9-e590-eb556aa17c83"
      },
      "outputs": [
        {
          "data": {
            "text/plain": [
              "0    2021-12-02\n",
              "1    2021-12-01\n",
              "2    2021-11-30\n",
              "3    2021-11-29\n",
              "4    2021-11-26\n",
              "5    2021-11-24\n",
              "6    2021-11-23\n",
              "7    2021-11-22\n",
              "8    2021-11-19\n",
              "9    2021-11-18\n",
              "Name: tradeDate, dtype: object"
            ]
          },
          "execution_count": 111,
          "metadata": {},
          "output_type": "execute_result"
        }
      ],
      "source": [
        "df_dow[\"tradeDate\"] = df_dow[\"tradeDatetime\"].dt.date\n",
        "df_dow[\"tradeDate\"]"
      ]
    },
    {
      "cell_type": "markdown",
      "id": "1689d6c7",
      "metadata": {
        "id": "1689d6c7"
      },
      "source": [
        "dow의 종가(closePrice)를 kospi, kosdaq과 함께 시각화"
      ]
    },
    {
      "cell_type": "code",
      "execution_count": null,
      "id": "97e40c82",
      "metadata": {
        "id": "97e40c82",
        "outputId": "78ce212e-1467-4f11-b4a5-a908e72ee69a"
      },
      "outputs": [
        {
          "name": "stdout",
          "output_type": "stream",
          "text": [
            "<class 'pandas.core.frame.DataFrame'>\n",
            "RangeIndex: 10 entries, 0 to 9\n",
            "Data columns (total 12 columns):\n",
            " #   Column                       Non-Null Count  Dtype                                 \n",
            "---  ------                       --------------  -----                                 \n",
            " 0   stockExchangeType            10 non-null     object                                \n",
            " 1   localTradedAt                10 non-null     object                                \n",
            " 2   worldIndexSymbol             10 non-null     object                                \n",
            " 3   openPrice                    10 non-null     object                                \n",
            " 4   highPrice                    10 non-null     object                                \n",
            " 5   lowPrice                     10 non-null     object                                \n",
            " 6   closePrice                   10 non-null     float32                               \n",
            " 7   compareToPreviousClosePrice  10 non-null     float64                               \n",
            " 8   fluctuationsRatio            10 non-null     float64                               \n",
            " 9   compareToPreviousPrice       10 non-null     object                                \n",
            " 10  tradeDatetime                10 non-null     datetime64[ns, pytz.FixedOffset(-300)]\n",
            " 11  tradeDate                    10 non-null     object                                \n",
            "dtypes: datetime64[ns, pytz.FixedOffset(-300)](1), float32(1), float64(2), object(8)\n",
            "memory usage: 1.0+ KB\n"
          ]
        }
      ],
      "source": [
        "# closePrice를 실수화\n",
        "df_dow[\"closePrice\"] = df_dow[\"closePrice\"].str.replace(\",\", \"\")\n",
        "df_dow[\"closePrice\"] = df_dow[\"closePrice\"].astype(np.float32)\n",
        "df_dow.info()"
      ]
    },
    {
      "cell_type": "code",
      "execution_count": null,
      "id": "1d2a0dc1",
      "metadata": {
        "id": "1d2a0dc1",
        "outputId": "049bbae2-8650-4824-fae1-0d5be77df042"
      },
      "outputs": [
        {
          "data": {
            "text/plain": [
              "9    2021-11-18\n",
              "8    2021-11-19\n",
              "7    2021-11-22\n",
              "6    2021-11-23\n",
              "5    2021-11-24\n",
              "4    2021-11-26\n",
              "3    2021-11-29\n",
              "2    2021-11-30\n",
              "1    2021-12-01\n",
              "0    2021-12-02\n",
              "Name: tradeDate, dtype: object"
            ]
          },
          "execution_count": 113,
          "metadata": {},
          "output_type": "execute_result"
        }
      ],
      "source": [
        "dow_trade_dates.astype(str)"
      ]
    },
    {
      "cell_type": "code",
      "execution_count": null,
      "id": "57d0fc82",
      "metadata": {
        "id": "57d0fc82",
        "outputId": "43b68eef-21fa-4f94-f826-8d2f724a2b17"
      },
      "outputs": [
        {
          "data": {
            "image/png": "[encoded data removed]",
            "text/plain": [
              "<Figure size 1440x504 with 1 Axes>"
            ]
          },
          "metadata": {},
          "output_type": "display_data"
        }
      ],
      "source": [
        "trade_dates = df_kospi[\"localTradedAt\"][::-1]\n",
        "scaled_dow_price = preprocessing.minmax_scale(df_dow[\"closePrice\"])\n",
        "\n",
        "plt.figure(figsize=(20, 7))\n",
        "plt.plot(trade_dates, scaled_dow_price, \"go:\", label=\"DOW\")\n",
        "plt.plot(trade_dates, scaled_kospi_cp, \"r*:\", label='KOSPI')\n",
        "plt.plot(trade_dates, scaled_kosdaq_cp, \"bo:\", label=\"KOSDAQ\")\n",
        "\n",
        "plt.legend()\n",
        "plt.show()"
      ]
    },
    {
      "cell_type": "code",
      "execution_count": null,
      "id": "8f33a2df",
      "metadata": {
        "id": "8f33a2df"
      },
      "outputs": [],
      "source": [
        ""
      ]
    },
    {
      "cell_type": "code",
      "execution_count": null,
      "id": "4d341809",
      "metadata": {
        "id": "4d341809"
      },
      "outputs": [],
      "source": [
        ""
      ]
    },
    {
      "cell_type": "code",
      "execution_count": null,
      "id": "3d7396cd",
      "metadata": {
        "id": "3d7396cd"
      },
      "outputs": [],
      "source": [
        ""
      ]
    }
  ],
  "metadata": {
    "kernelspec": {
      "display_name": "Python 3",
      "language": "python",
      "name": "python3"
    },
    "language_info": {
      "codemirror_mode": {
        "name": "ipython",
        "version": 3
      },
      "file_extension": ".py",
      "mimetype": "text/x-python",
      "name": "python",
      "nbconvert_exporter": "python",
      "pygments_lexer": "ipython3",
      "version": "3.8.8"
    },
    "colab": {
      "name": "네이버 증권 api 크롤링.ipynb",
      "provenance": []
    }
  },
  "nbformat": 4,
  "nbformat_minor": 5
}