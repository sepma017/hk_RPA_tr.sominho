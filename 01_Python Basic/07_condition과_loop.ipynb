{
  "nbformat": 4,
  "nbformat_minor": 0,
  "metadata": {
    "colab": {
      "name": "07. condition과 loop",
      "provenance": [],
      "collapsed_sections": []
    },
    "kernelspec": {
      "name": "python3",
      "display_name": "Python 3"
    },
    "language_info": {
      "name": "python"
    }
  },
  "cells": [
    {
      "cell_type": "markdown",
      "metadata": {
        "id": "V1nHNdUKf9Jc"
      },
      "source": [
        "# 제어문\n",
        "* 코드를 제어하는 문법\n",
        "\n",
        "##### 조건문( Condition )\n",
        "* 특정한 조건을 만족하면 ( `True` ) 코드를 실행\n",
        "* `if, elif, else`\n",
        "  * `if` : 만약에 ~라면\n",
        "  * `elif`(`else if`) : 그게 아니고 ~ 라면\n",
        "  * `else` : 그게 아니면\n",
        "\n",
        "##### 반복문 ( Loop )\n",
        "* 특정 조건을 만족하면 ( `True` ) 코드를 반복\n",
        "* `while, for`\n",
        "  * `while` : 조건제 반복 ( `True` 면 실행, `False`면 실행 안함)\n",
        "  * `for` : 순회 반복( `iterable loop` ) - Sequence를 순회하면서 반복"
      ]
    },
    {
      "cell_type": "markdown",
      "metadata": {
        "id": "mNLzMk_Vh7BO"
      },
      "source": [
        "### Code Context\n",
        "* Context : 코드 문맥\n",
        "* 특정한 상황에 실행해야 할 코드 뭉터기를 의미\n",
        "* 파이썬에서는 Context를 indent(들여쓰기)로 구분\n",
        "* indent는 spacebar 2칸이나 4칸으로 설정한다.\n",
        "* 처음에 indent를 2칸으로 지정했으면 계속 2칸 쓰고, 4칸으로 지정했으면 계속 4칸 쓰면 된다.\n",
        "* 개발툴(IDE)에서 자동으로 2칸 4칸을 처리 해준다."
      ]
    },
    {
      "cell_type": "markdown",
      "metadata": {
        "id": "1RVlPdRxTJM_"
      },
      "source": [
        "# 조건문\n",
        "```python\n",
        "if [condition]:\n",
        "  code context\n",
        "elif [condition]:\n",
        "  code context\n",
        "elif [condition]:\n",
        "  code context\n",
        "...\n",
        "else:\n",
        "  code context\n",
        "```\n",
        "* 조건 부분에 bool 타입 데이터(True / False)가 온다.\n"
      ]
    },
    {
      "cell_type": "code",
      "metadata": {
        "colab": {
          "base_uri": "https://localhost:8080/"
        },
        "id": "SWCY1JmZgk2l",
        "outputId": "be1b1b3a-c1f2-4333-c35a-f0e0f54c0c88"
      },
      "source": [
        "# bool 타입이 아닌 데이터가 오면 자동으로 bool 타입으로 바뀐다.\n",
        "a = 3\n",
        "b = 2\n",
        "\n",
        "if a < b :\n",
        "  print(\"Hi\")\n",
        "  print(\"Bye\")\n",
        "\n",
        "print(\"done\")"
      ],
      "execution_count": null,
      "outputs": [
        {
          "output_type": "stream",
          "name": "stdout",
          "text": [
            "done\n"
          ]
        }
      ]
    },
    {
      "cell_type": "code",
      "metadata": {
        "colab": {
          "base_uri": "https://localhost:8080/"
        },
        "id": "uTDOtcM3kieK",
        "outputId": "3b69065d-eed7-417e-a83c-cdf35fc7df15"
      },
      "source": [
        "lst1 = [1, 2, 3]\n",
        "lst2 = []\n",
        "\n",
        "# bool 데이터 타입이 아닌 조건이 와도 자동으로 bool타입으로 바뀐다.\n",
        "# 값이 있으면 True, 값이 없으면 False\n",
        "if lst1 :\n",
        "  print(\"OK!\")\n",
        "\n",
        "print(\"done\")"
      ],
      "execution_count": null,
      "outputs": [
        {
          "output_type": "stream",
          "name": "stdout",
          "text": [
            "OK!\n",
            "done\n"
          ]
        }
      ]
    },
    {
      "cell_type": "code",
      "metadata": {
        "colab": {
          "base_uri": "https://localhost:8080/"
        },
        "id": "JEkrfxP5lTgh",
        "outputId": "612a8382-f67d-4962-d536-334e66e6c710"
      },
      "source": [
        "# 리스트에 값이 비어져 있으면 False\n",
        "if lst2 :\n",
        "  print(\"OK!\")\n",
        "\n",
        "print(\"done\")"
      ],
      "execution_count": null,
      "outputs": [
        {
          "output_type": "stream",
          "name": "stdout",
          "text": [
            "done\n"
          ]
        }
      ]
    },
    {
      "cell_type": "markdown",
      "metadata": {
        "id": "R7TmbCJileqV"
      },
      "source": [
        "`elif, else`는 `if`에서 조건이 맞지 않았을 때 연속해서 조건검사를 하고 싶을 때 사용한다.\n",
        "\n",
        "> 만약에 지갑에 12000원 이상 있으면 택시를 타고, 그게 아니고 지갑에 8000 ~ 12000원 미만 있으면 버스를 타고, 그게 아니면 걸어 간다."
      ]
    },
    {
      "cell_type": "code",
      "metadata": {
        "colab": {
          "base_uri": "https://localhost:8080/"
        },
        "id": "goCTyDH_lzsa",
        "outputId": "20f8e110-4ebe-4ae5-f811-de79795ac2d8"
      },
      "source": [
        "money = 10000\n",
        "\n",
        "# if는 조건문의 시작!\n",
        "if money >= 10000:\n",
        "  print(\"택시를 타고 집에 갑니다.\")\n",
        "\n",
        "elif money <= 10000:\n",
        "  print(\"걸어서 집에 갑니다.\")"
      ],
      "execution_count": null,
      "outputs": [
        {
          "output_type": "stream",
          "name": "stdout",
          "text": [
            "택시를 타고 집에 갑니다.\n"
          ]
        }
      ]
    },
    {
      "cell_type": "markdown",
      "metadata": {
        "id": "TImZAq_gqMEJ"
      },
      "source": [
        "1. 만약에 돈이 10000원 이상이면 택시 타고, 만약에  돈이 10000원 이하면 걸어간다.\n",
        "2. 만약에 돈이 10000원 이상이면 택시 타고, 그게 아니고 돈이 10000원 이하면 걸어간다."
      ]
    },
    {
      "cell_type": "markdown",
      "metadata": {
        "id": "MwT0nleaq-ZR"
      },
      "source": [
        "if를 2개 이상 사용해야 하는 경우( 독립 조건 )\n",
        "* 만약에 사용자의 계정이 4글자 이상이면 중복검사를 하고, 만약에 비밀번호에 특수문자가 없으면 다시 입력하게 한다."
      ]
    },
    {
      "cell_type": "markdown",
      "metadata": {
        "id": "ALJFXS5arg59"
      },
      "source": [
        "`elif` 또는 `else`를 사용해야 하는 경우 ( 연속 조건 )\n",
        "* 만약에 돈이 만원 이상이면 택시 타고, 만원 미만이면 버스탄다."
      ]
    },
    {
      "cell_type": "markdown",
      "metadata": {
        "id": "UOmVwyQZr9Cq"
      },
      "source": [
        "* 연속 조건과 독립 조건 구분법\n",
        "  * 하나의 변수를 여러 번 검사하면 연속 조건인 경우가 많다.\n",
        "  * 계정의 길이가 4글자 이상이고, 숫자도 껴있으면 중복버튼 활성화\n",
        "-------\n",
        "* 여러 개의 변수가 연속적으로 이어져야 하는 경우\n",
        "  * 계정이 조건에 맞고, 비밀번호도 조건에 맞으면 회원가입 버튼을 활성화"
      ]
    },
    {
      "cell_type": "code",
      "metadata": {
        "id": "3JEQL1FhsaYv"
      },
      "source": [
        "# 문제 1\n",
        "# 지갑에 만원이상 있으면 택시\n",
        "# 5000원 이상 있으면 광역버스\n",
        "# 2000원 이상 있으면 일반버스\n",
        "# 그게 아니면 걸어가기\n",
        "\n",
        "# 문제 2\n",
        "# 계좌에 10000원이 들어 있습니다.\n",
        "# 인출 금액을 입력 받습니다.\n",
        "# 인출 금액이 계좌에 있는 금액보다 크면 \"인출이 불가능합니다. {} 원의 잔액이 부족합니다.\" 출력\n",
        "# 인출 금액이 계좌에 있는 금액보다 작으면 \"{} 원이 인출 되었습니다.\" 출력\n",
        "# 마지막에 현재 계좌의 잔액을 출력 : \"현재 잔액은 {} 원 입니다.\" 출력"
      ],
      "execution_count": null,
      "outputs": []
    },
    {
      "cell_type": "code",
      "metadata": {
        "colab": {
          "base_uri": "https://localhost:8080/"
        },
        "id": "0sxkeozj0L21",
        "outputId": "53adf856-cea1-4ac6-abe5-aceb77142313"
      },
      "source": [
        "# 문제 1\n",
        "\n",
        "money = input(\"얼마 있냐 : \")\n",
        "money = int(money)\n",
        "\n",
        "# 지갑에 만원이상 있으면 택시\n",
        "\n",
        "if money >= 10000 :\n",
        "  print('택시타기')\n",
        "elif money >= 5000 :\n",
        "  print(\"광역버스\")\n",
        "elif money >= 2000 :\n",
        "  print(\"일반 버스\")\n",
        "else:\n",
        "  print(\"걷기\")\n"
      ],
      "execution_count": null,
      "outputs": [
        {
          "output_type": "stream",
          "name": "stdout",
          "text": [
            "얼마 있냐 : 5000\n",
            "광역버스\n"
          ]
        }
      ]
    },
    {
      "cell_type": "code",
      "metadata": {
        "colab": {
          "base_uri": "https://localhost:8080/"
        },
        "id": "Cxymdn4B1GV4",
        "outputId": "171d078e-98de-4778-8b52-bcd509c4ae3b"
      },
      "source": [
        "money = int(input(\"얼마 인출 할래? \"))"
      ],
      "execution_count": null,
      "outputs": [
        {
          "name": "stdout",
          "output_type": "stream",
          "text": [
            "얼마 인출 할래? 10000\n"
          ]
        }
      ]
    },
    {
      "cell_type": "code",
      "metadata": {
        "colab": {
          "base_uri": "https://localhost:8080/"
        },
        "id": "L-psUnoj1QV5",
        "outputId": "f666d2dd-bdc2-4e48-ee63-66e5c807bd7c"
      },
      "source": [
        "money"
      ],
      "execution_count": null,
      "outputs": [
        {
          "output_type": "execute_result",
          "data": {
            "text/plain": [
              "10000"
            ]
          },
          "metadata": {},
          "execution_count": 14
        }
      ]
    },
    {
      "cell_type": "code",
      "metadata": {
        "colab": {
          "base_uri": "https://localhost:8080/"
        },
        "id": "yYfyQU4L1SYx",
        "outputId": "935f5371-41da-4deb-99d5-795b3190656a"
      },
      "source": [
        "# 문제 2\n",
        "# 계좌에 10000원이 들어 있습니다.\n",
        "# 인출 금액을 입력 받습니다.\n",
        "# 인출 금액이 계좌에 있는 금액보다 크면 \"인출이 불가능합니다. {} 원의 잔액이 부족합니다.\" 출력\n",
        "# 인출 금액이 계좌에 있는 금액보다 작으면 \"{} 원이 인출 되었습니다.\" 출력\n",
        "# 마지막에 현재 계좌의 잔액을 출력 : \"현재 잔액은 {} 원 입니다.\" 출력\n",
        "money = int(input(\"얼마 인출 할래? \"))\n",
        "account = 10000\n",
        "\n",
        "# 만약에 계좌에 있는 돈이 인출할 돈보다 작으면\n",
        "  # 인출 불가능\n",
        "if account < money:\n",
        "  # 인출할 돈 - 잔액\n",
        "  print(f\"인출이 불가능 합니다. {money - account}원의 잔액이 부족합니다.\")\n",
        "else:\n",
        "  account -= money # account = account - money\n",
        "  print(f\"{money} 원이 인출 되었습니다.\")\n",
        "\n",
        "print(f\"현재 잔액은 {account} 원 입니다.\")"
      ],
      "execution_count": null,
      "outputs": [
        {
          "output_type": "stream",
          "name": "stdout",
          "text": [
            "얼마 인출 할래? 15000\n",
            "인출이 불가능 합니다. 5000원의 잔액이 부족합니다.\n",
            "현재 잔액은 10000 원 입니다.\n"
          ]
        }
      ]
    },
    {
      "cell_type": "markdown",
      "metadata": {
        "id": "Nzsr7n552a_f"
      },
      "source": [
        "# 반복문( Loop )\n",
        "* 조건이 True면 코드를 반복\n",
        "* `while` : 조건제 반복\n",
        "  * **~할 때 반복**\n",
        "    * ex) exit를 입력 할 때 까지 반복\n",
        "    * ex) 상담 종료를 입력 할 때 까지 반복\n",
        "* `for` : 컬렉션 반복\n",
        "  * 컬렉션 내의 item들을 모두 사용할 때 까지 반복\n",
        "  * Sequence는 순서대로 아이템들이 등장"
      ]
    },
    {
      "cell_type": "markdown",
      "metadata": {
        "id": "HxDVokIXT1L2"
      },
      "source": [
        "## `while`\n",
        "```python\n",
        "while [condition]:\n",
        "  code context\n",
        "```"
      ]
    },
    {
      "cell_type": "code",
      "metadata": {
        "colab": {
          "base_uri": "https://localhost:8080/"
        },
        "id": "I1LXH9z4UXp8",
        "outputId": "26c0f2c3-7d15-4a07-c36c-e00589a907fb"
      },
      "source": [
        "data = 3\n",
        "\n",
        "# 조건이 False가 될 때 까지 구문의 코드를 실행\n",
        "while data:\n",
        "  # 반복되는 코드\n",
        "  print(data)\n",
        "  data -= 1\n",
        "\n",
        "print (\"done\")"
      ],
      "execution_count": null,
      "outputs": [
        {
          "output_type": "stream",
          "name": "stdout",
          "text": [
            "3\n",
            "2\n",
            "1\n",
            "done\n"
          ]
        }
      ]
    },
    {
      "cell_type": "markdown",
      "metadata": {
        "id": "orCswV2gU6lj"
      },
      "source": [
        "* 학생이 국어 80, 영어 90, 수학 100점\n",
        "* while문을 이용해서 총점과 평균을 출력"
      ]
    },
    {
      "cell_type": "code",
      "metadata": {
        "id": "W0c09lGOW_tn"
      },
      "source": [
        "point_lst = [80, 90, 100]"
      ],
      "execution_count": null,
      "outputs": []
    },
    {
      "cell_type": "code",
      "metadata": {
        "colab": {
          "base_uri": "https://localhost:8080/"
        },
        "id": "JNPAcYl1XDSP",
        "outputId": "2390ea0a-e0b9-4655-9d1b-b14dbbfd2969"
      },
      "source": [
        "bool([]), bool([1,2,3])"
      ],
      "execution_count": null,
      "outputs": [
        {
          "output_type": "execute_result",
          "data": {
            "text/plain": [
              "(False, True)"
            ]
          },
          "metadata": {},
          "execution_count": 3
        }
      ]
    },
    {
      "cell_type": "code",
      "metadata": {
        "colab": {
          "base_uri": "https://localhost:8080/"
        },
        "id": "vyCOcA3bXlf3",
        "outputId": "361a7755-51ee-4d8f-afef-2bc010ffd83c"
      },
      "source": [
        "data = point_lst.copy()\n",
        "\n",
        "total, avg = 0, 0\n",
        "\n",
        "while data:\n",
        "  score = data.pop()\n",
        "  total += score\n",
        "\n",
        "print(\"합계 : {}\".format(total))\n",
        "print(\"평균 : {}\".format(total / len(point_lst)))"
      ],
      "execution_count": null,
      "outputs": [
        {
          "output_type": "stream",
          "name": "stdout",
          "text": [
            "합계 : 270\n",
            "평균 : 90.0\n"
          ]
        }
      ]
    },
    {
      "cell_type": "markdown",
      "metadata": {
        "id": "ym242drXZgCK"
      },
      "source": [
        "#### 무한루프\n",
        "`while`의 조건이 항상 `True`여서 반복이 무한히 되는 현상"
      ]
    },
    {
      "cell_type": "code",
      "metadata": {
        "id": "zy1mIO61aw4f"
      },
      "source": [
        "result = 1\n",
        "\n",
        "while result:\n",
        "  print(\"hello\")\n",
        "\n",
        "print(\"done\")"
      ],
      "execution_count": null,
      "outputs": []
    },
    {
      "cell_type": "markdown",
      "metadata": {
        "id": "Q2BUO_4fa80g"
      },
      "source": [
        "* 숫자를 계속 입력 받다가 -1이 입력되면 멈추기.\n",
        "  * input을 이용해서 입력을 할 것\n",
        "  * 이 입력이 -1이면 멈춘다.\n",
        "  * `number = input()`\n",
        "  * `number != -1`\n",
        "* 입력받은 숫자는 모두 더해주세요\n",
        "  * `total += number`\n",
        "* 반복이 끝나면 더한 숫자를 출력"
      ]
    },
    {
      "cell_type": "code",
      "metadata": {
        "colab": {
          "base_uri": "https://localhost:8080/"
        },
        "id": "uUE8gJEQbdF_",
        "outputId": "ed7da220-1cf1-4046-ca4c-2b9d789b0c85"
      },
      "source": [
        "number = None\n",
        "total = 0\n",
        "\n",
        "while number != -1:  # number가 -1이 아니면 반복해라\n",
        "  number = input(\"Input Number\") # number를 입력 받아라\n",
        "  number = int(number) # number를 정수로 바꿔라\n",
        "\n",
        "  total += number # number를 total에 더해서 total에 넣어라\n",
        "\n",
        "print(\"총합 : {}\".format(total))"
      ],
      "execution_count": null,
      "outputs": [
        {
          "output_type": "stream",
          "name": "stdout",
          "text": [
            "Input Number1\n",
            "Input Number2\n",
            "Input Number6\n",
            "Input Number1\n",
            "Input Number3\n",
            "Input Number6\n",
            "Input Number10\n",
            "Input Number2\n",
            "Input Number3\n",
            "Input Number-1231\n",
            "Input Number12321314\n",
            "Input Number-1\n",
            "총합 : 12320116\n"
          ]
        }
      ]
    },
    {
      "cell_type": "markdown",
      "metadata": {
        "id": "3osfF7KLh1jg"
      },
      "source": [
        "## `for`\n",
        "```python\n",
        "for <variable> in <iterable>:\n",
        "  code context\n",
        "```\n",
        "\n",
        "* iterable : 순회가 가능한 컬렉션\n",
        "* variable : for문에 의해 순회되는 원소(item)이 저장될 변수"
      ]
    },
    {
      "cell_type": "code",
      "metadata": {
        "colab": {
          "base_uri": "https://localhost:8080/"
        },
        "id": "uzxNflbCkFco",
        "outputId": "11c3f008-3b43-4317-d86d-fd8570118032"
      },
      "source": [
        "lst = [\"Hello\", 123, \"Bye\", 3.14]\n",
        "\n",
        "for item in lst:\n",
        "  print(item)\n",
        "  print(\"----------\")\n",
        "\n",
        "print(\"done\")"
      ],
      "execution_count": null,
      "outputs": [
        {
          "output_type": "stream",
          "name": "stdout",
          "text": [
            "Hello\n",
            "----------\n",
            "123\n",
            "----------\n",
            "Bye\n",
            "----------\n",
            "3.14\n",
            "----------\n",
            "done\n"
          ]
        }
      ]
    },
    {
      "cell_type": "code",
      "metadata": {
        "colab": {
          "base_uri": "https://localhost:8080/"
        },
        "id": "FNLIw9i8loFo",
        "outputId": "aa6ad93e-284c-4fbf-da1d-1f70030d1d90"
      },
      "source": [
        "set1 = {\"Banana\", \"Apple\", \"Mango\", \"Orange\", \"Orange\", \"Apple\"}\n",
        "\n",
        "for item in set1:\n",
        "  print(item)\n",
        "  print(\"-------\")"
      ],
      "execution_count": null,
      "outputs": [
        {
          "output_type": "stream",
          "name": "stdout",
          "text": [
            "Apple\n",
            "-------\n",
            "Mango\n",
            "-------\n",
            "Orange\n",
            "-------\n",
            "Banana\n",
            "-------\n"
          ]
        }
      ]
    },
    {
      "cell_type": "markdown",
      "metadata": {
        "id": "SBiBLtBOnHpa"
      },
      "source": [
        "### zip 함수 사용하기\n",
        "여러 개의 컬렉션을 하나로 모아서 병렬로 순회가 가능하도록 함"
      ]
    },
    {
      "cell_type": "code",
      "metadata": {
        "id": "ImhnOGninq1Y"
      },
      "source": [
        "lst1 = [\"A\", \"B\", \"C\"]\n",
        "lst2 = [10, 20, 30]"
      ],
      "execution_count": null,
      "outputs": []
    },
    {
      "cell_type": "markdown",
      "metadata": {
        "id": "pkRFkT-dn1vq"
      },
      "source": [
        "```\n",
        "A의 점수는 10점\n",
        "B의 점수는 20점\n",
        "C의 점수는 30점\n",
        "```\n",
        "로 출력 하려면?"
      ]
    },
    {
      "cell_type": "code",
      "metadata": {
        "colab": {
          "base_uri": "https://localhost:8080/"
        },
        "id": "3AjhQm0Mn1Dw",
        "outputId": "a1b796f0-6afd-4560-c40d-21ea838dda47"
      },
      "source": [
        "for name, score in zip(lst1, lst2):\n",
        "  print(f\"{name}의 점수는 {score}점\")"
      ],
      "execution_count": null,
      "outputs": [
        {
          "output_type": "stream",
          "name": "stdout",
          "text": [
            "A의 점수는 10점\n",
            "B의 점수는 20점\n",
            "C의 점수는 30점\n"
          ]
        }
      ]
    },
    {
      "cell_type": "markdown",
      "metadata": {
        "id": "v4QXQf0uo8EB"
      },
      "source": [
        "컬렉션의 크기가 다른 경우 - 크기가 작은 컬렉션이 **기준**이 된다."
      ]
    },
    {
      "cell_type": "code",
      "metadata": {
        "colab": {
          "base_uri": "https://localhost:8080/"
        },
        "id": "63g0dQftpMao",
        "outputId": "0f32bf5f-e633-4163-aab4-be0ea99edce8"
      },
      "source": [
        "lst1 = [10, 20, 30, 40]\n",
        "lst2 = [\"A\", \"B\", \"C\"]\n",
        "\n",
        "for item1, item2 in zip(lst1, lst2):\n",
        "  print(item1, item2)"
      ],
      "execution_count": null,
      "outputs": [
        {
          "output_type": "stream",
          "name": "stdout",
          "text": [
            "10 A\n",
            "20 B\n",
            "30 C\n"
          ]
        }
      ]
    },
    {
      "cell_type": "markdown",
      "metadata": {
        "id": "KBtuJLsHpfjw"
      },
      "source": [
        "### range 함수 사용하기\n",
        "`range(start, end, step)`\n",
        "  * `start` : 시작할 숫자\n",
        "  * `end` : 마지막 숫자 (`end-1`까지 나옴)\n",
        "  * `step` : 건너뛰기\n",
        "\n",
        "정수 리스트를 만들어 낸다."
      ]
    },
    {
      "cell_type": "code",
      "metadata": {
        "colab": {
          "base_uri": "https://localhost:8080/"
        },
        "id": "wK-t9utWpsAY",
        "outputId": "60247822-8568-47ca-9d09-dd6a186d426c"
      },
      "source": [
        "# 1 ~ 100 까지 리스트에 넣어서 for문을 이용해서 출력\n",
        "# numbers = [1, 2, 3, 4, 5, 6, 7, 8, 9, ....]\n",
        "numbers = range(1, 101) # step이 생략되면 1\n",
        "numbers"
      ],
      "execution_count": null,
      "outputs": [
        {
          "output_type": "execute_result",
          "data": {
            "text/plain": [
              "range(1, 101)"
            ]
          },
          "metadata": {},
          "execution_count": 22
        }
      ]
    },
    {
      "cell_type": "code",
      "metadata": {
        "colab": {
          "base_uri": "https://localhost:8080/"
        },
        "id": "YioCk6iqqWgJ",
        "outputId": "82a6aab6-e909-4b51-8c51-2f3c4dec4e7d"
      },
      "source": [
        "print(list(numbers)) # range를 list로 변환하면 숫자 확인 가능!"
      ],
      "execution_count": null,
      "outputs": [
        {
          "output_type": "stream",
          "name": "stdout",
          "text": [
            "[1, 2, 3, 4, 5, 6, 7, 8, 9, 10, 11, 12, 13, 14, 15, 16, 17, 18, 19, 20, 21, 22, 23, 24, 25, 26, 27, 28, 29, 30, 31, 32, 33, 34, 35, 36, 37, 38, 39, 40, 41, 42, 43, 44, 45, 46, 47, 48, 49, 50, 51, 52, 53, 54, 55, 56, 57, 58, 59, 60, 61, 62, 63, 64, 65, 66, 67, 68, 69, 70, 71, 72, 73, 74, 75, 76, 77, 78, 79, 80, 81, 82, 83, 84, 85, 86, 87, 88, 89, 90, 91, 92, 93, 94, 95, 96, 97, 98, 99, 100]\n"
          ]
        }
      ]
    },
    {
      "cell_type": "code",
      "metadata": {
        "colab": {
          "base_uri": "https://localhost:8080/"
        },
        "id": "HOnN0RnZqYY4",
        "outputId": "2823a87d-93bf-4ea5-bcfe-6885058132dd"
      },
      "source": [
        "# 1 ~ 1000 까지의 총합을 구하세요\n",
        "total = 0\n",
        "\n",
        "for num in range(1, 1001):\n",
        "  total += num\n",
        "\n",
        "print(total)"
      ],
      "execution_count": null,
      "outputs": [
        {
          "output_type": "stream",
          "name": "stdout",
          "text": [
            "500500\n"
          ]
        }
      ]
    },
    {
      "cell_type": "code",
      "metadata": {
        "colab": {
          "base_uri": "https://localhost:8080/"
        },
        "id": "1QylUUF2uiSy",
        "outputId": "b2bbfecd-10c7-40df-dc23-94071eaca209"
      },
      "source": [
        "list(range(5)) # 0 ~ 4"
      ],
      "execution_count": null,
      "outputs": [
        {
          "output_type": "execute_result",
          "data": {
            "text/plain": [
              "[0, 1, 2, 3, 4]"
            ]
          },
          "metadata": {},
          "execution_count": 26
        }
      ]
    },
    {
      "cell_type": "code",
      "metadata": {
        "colab": {
          "base_uri": "https://localhost:8080/"
        },
        "id": "_EUWBBD-usRJ",
        "outputId": "b1a04765-bc5d-425c-adfb-551386c1922b"
      },
      "source": [
        "list(range(1, 10, 2))"
      ],
      "execution_count": null,
      "outputs": [
        {
          "output_type": "execute_result",
          "data": {
            "text/plain": [
              "[1, 3, 5, 7, 9]"
            ]
          },
          "metadata": {},
          "execution_count": 28
        }
      ]
    },
    {
      "cell_type": "code",
      "metadata": {
        "colab": {
          "base_uri": "https://localhost:8080/"
        },
        "id": "IPftJqkAuwvp",
        "outputId": "30efce84-1499-4129-e2a8-f558f506b4b7"
      },
      "source": [
        "list(range(10, 0, -1))"
      ],
      "execution_count": null,
      "outputs": [
        {
          "output_type": "execute_result",
          "data": {
            "text/plain": [
              "[10, 9, 8, 7, 6, 5, 4, 3, 2, 1]"
            ]
          },
          "metadata": {},
          "execution_count": 30
        }
      ]
    },
    {
      "cell_type": "markdown",
      "metadata": {
        "id": "0VOQVS8Xu8M5"
      },
      "source": [
        "학생의 국어, 영어, 수학 성적을 dict로 저장\n",
        "  * 국어 : 100점\n",
        "  * 수학 : 80점\n",
        "  * 영어 : 85점\n",
        "\n",
        "이 학생의 각 성적을 출력\n",
        "```\n",
        "출력 결과\n",
        "  \"국어는 100점\"\n",
        "  \"수학은 80점\"\n",
        "  \"영어는 85점\"\n",
        "```"
      ]
    },
    {
      "cell_type": "code",
      "metadata": {
        "colab": {
          "base_uri": "https://localhost:8080/"
        },
        "id": "1AZsCfxuvZqh",
        "outputId": "97a2b884-6bd9-411f-f8fe-9338670b619f"
      },
      "source": [
        "score = {\n",
        "    \"국어\" : 100,\n",
        "    \"수학\" : 80,\n",
        "    \"영어\" : 85\n",
        "}\n",
        "\n",
        "print(score.keys())\n",
        "print(score.values())"
      ],
      "execution_count": null,
      "outputs": [
        {
          "output_type": "stream",
          "name": "stdout",
          "text": [
            "dict_keys(['국어', '수학', '영어'])\n",
            "dict_values([100, 80, 85])\n"
          ]
        }
      ]
    },
    {
      "cell_type": "code",
      "metadata": {
        "colab": {
          "base_uri": "https://localhost:8080/"
        },
        "id": "F1qkQaWPzYwi",
        "outputId": "2cdfc2a8-188b-4488-eb12-f4aaa09ef42f"
      },
      "source": [
        "subjects = score.keys()\n",
        "points = score.values()\n",
        "\n",
        "for subject, point in zip(subjects, points):\n",
        "  print(\"{}는 {}점\".format(subject, point))"
      ],
      "execution_count": null,
      "outputs": [
        {
          "output_type": "stream",
          "name": "stdout",
          "text": [
            "국어는 100점\n",
            "수학는 80점\n",
            "영어는 85점\n"
          ]
        }
      ]
    },
    {
      "cell_type": "code",
      "metadata": {
        "colab": {
          "base_uri": "https://localhost:8080/"
        },
        "id": "kF7ctGUFzqTa",
        "outputId": "7918b461-2434-423a-c779-37b9d141cdca"
      },
      "source": [
        "score.items()"
      ],
      "execution_count": null,
      "outputs": [
        {
          "output_type": "execute_result",
          "data": {
            "text/plain": [
              "dict_items([('국어', 100), ('수학', 80), ('영어', 85)])"
            ]
          },
          "metadata": {},
          "execution_count": 33
        }
      ]
    },
    {
      "cell_type": "code",
      "metadata": {
        "colab": {
          "base_uri": "https://localhost:8080/"
        },
        "id": "vYVa7LtEz4Hy",
        "outputId": "08b7e311-00dd-42d7-c1a4-e2cbf6296b8d"
      },
      "source": [
        "for subject, point in score.items():\n",
        "  print(\"{}는 {}점\".format(subject, point))"
      ],
      "execution_count": null,
      "outputs": [
        {
          "output_type": "stream",
          "name": "stdout",
          "text": [
            "국어는 100점\n",
            "수학는 80점\n",
            "영어는 85점\n"
          ]
        }
      ]
    },
    {
      "cell_type": "markdown",
      "metadata": {
        "id": "wr03FLbm0VHh"
      },
      "source": [
        "1. 난이도 EASY\n",
        "```python\n",
        "scores = [\n",
        "    {\n",
        "      \"math\": 90,\n",
        "      \"science\" : 80\n",
        "    },\n",
        "    {\n",
        "      \"math\": 100,\n",
        "      \"science\" : 78\n",
        "    },\n",
        "]\n",
        "```\n",
        "각 과목의 평균 점수를 구하시오"
      ]
    },
    {
      "cell_type": "code",
      "metadata": {
        "colab": {
          "base_uri": "https://localhost:8080/"
        },
        "id": "avAix70QJmbW",
        "outputId": "16e9b241-e6a8-4acc-8a91-5b841f9690b9"
      },
      "source": [
        "# EASY\n",
        "scores = [\n",
        " {\n",
        "   \"math\": 90,\n",
        "   \"science\" : 80\n",
        " },\n",
        " {\n",
        "   \"math\": 100,\n",
        "   \"science\" : 78\n",
        " },\n",
        "]\n",
        "\n",
        "math_sum, science_sum = 0, 0\n",
        "\n",
        "for score in scores:\n",
        "  math_sum += score['math']\n",
        "  science_sum += score['science']\n",
        "\n",
        "print(\"Math Average : {}\".format( math_sum / len(scores) ))\n",
        "print(\"Science Average : {}\".format( science_sum / len(scores) ))"
      ],
      "execution_count": null,
      "outputs": [
        {
          "output_type": "stream",
          "name": "stdout",
          "text": [
            "Math Average : 95.0\n",
            "Science Average : 79.0\n"
          ]
        }
      ]
    },
    {
      "cell_type": "markdown",
      "metadata": {
        "id": "ilPV-_5O1Ccz"
      },
      "source": [
        "2. 난이도 HARD\n",
        "```python\n",
        "몇 명의 점수를 입력 받으시겠습니까? : 3\n",
        "math : 80\n",
        "science : 90\n",
        "math : 80\n",
        "science : 90\n",
        "math : 80\n",
        "science : 90\n",
        "```\n",
        "```python\n",
        "점수 목록 : [ { math : 80, science : 90  },{ math : 80, science : 90  },{ math : 80, science : 90  }]\n",
        "math의 평균 : ???점\n",
        "science의 평균 : ???점\n",
        "```"
      ]
    },
    {
      "cell_type": "code",
      "metadata": {
        "id": "HiS56DKAJoWV",
        "colab": {
          "base_uri": "https://localhost:8080/"
        },
        "outputId": "fa1f9ca3-b195-42ea-d41f-3deaaa0760e3"
      },
      "source": [
        "# HARD\n",
        "\n",
        "count = int(input(\"몇 명의 점수를 입력 받으시겠습니까? \"))\n",
        "scores = []\n",
        "\n",
        "for i in range(count):\n",
        "  math_score = int(input(\"Math Score : \"))\n",
        "  science_score = int(input(\"Science Score : \"))\n",
        "\n",
        "  score = {\n",
        "      \"math\" : math_score,\n",
        "      \"science\" : science_score\n",
        "  }\n",
        "\n",
        "  scores.append( score )\n",
        "\n",
        "math_sum, science_sum = 0, 0\n",
        "\n",
        "for score in scores:\n",
        "  math_sum += score['math']\n",
        "  science_sum += score['science']\n",
        "\n",
        "print(\"Math Average : {}\".format( math_sum / len(scores) ))\n",
        "print(\"Science Average : {}\".format( science_sum / len(scores) ))"
      ],
      "execution_count": null,
      "outputs": [
        {
          "output_type": "stream",
          "name": "stdout",
          "text": [
            "몇 명의 점수를 입력 받으시겠습니까? 3\n",
            "Math Score : 1\n",
            "Science Score : 2\n",
            "Math Score : 3\n",
            "Science Score : 4\n",
            "Math Score : 5\n",
            "Science Score : 6\n",
            "Math Average : 3.0\n",
            "Science Average : 4.0\n"
          ]
        }
      ]
    },
    {
      "cell_type": "markdown",
      "metadata": {
        "id": "lOHC6aUWhkqe"
      },
      "source": [
        "# 중첩된 제어문 (nested)\n",
        "* 제어문 내에 제어문이 존재할 수 있다"
      ]
    },
    {
      "cell_type": "code",
      "metadata": {
        "colab": {
          "base_uri": "https://localhost:8080/"
        },
        "id": "vttpMIdv270m",
        "outputId": "e4113ca8-dc89-4590-c6eb-0317d7e67293"
      },
      "source": [
        "lst1 = [10, 20, 30]\n",
        "lst2 = [\"A\", \"B\", \"C\"]\n",
        "\n",
        "for item1 in lst1:\n",
        "  for item2 in lst2:\n",
        "    print(item1, item2)"
      ],
      "execution_count": null,
      "outputs": [
        {
          "output_type": "stream",
          "name": "stdout",
          "text": [
            "10 A\n",
            "10 B\n",
            "10 C\n",
            "20 A\n",
            "20 B\n",
            "20 C\n",
            "30 A\n",
            "30 B\n",
            "30 C\n"
          ]
        }
      ]
    },
    {
      "cell_type": "code",
      "metadata": {
        "id": "aT_h_jev3hpw"
      },
      "source": [
        "# 구구단\n",
        "for dan in range(2, 10):\n",
        "  print(\"======\",dan,\"단 ======\")\n",
        "  \n",
        "  for time in range(1, 10):\n",
        "    print(f\"{dan} x {time} = {dan*time}\")\n",
        "  \n",
        "  print()"
      ],
      "execution_count": null,
      "outputs": []
    },
    {
      "cell_type": "code",
      "metadata": {
        "colab": {
          "base_uri": "https://localhost:8080/"
        },
        "id": "PtbIiotb7GCg",
        "outputId": "ed4bbf0d-543a-4250-a613-59f2d36a2131"
      },
      "source": [
        "# 홀짝 검출기\n",
        "numbers = range(1, 101)\n",
        "\n",
        "for num in numbers:\n",
        "  \n",
        "  # 어떤 정수(num)를 2로 나눴을 때 나머지가 1이면 홀수\n",
        "  if num % 2 == 1 :\n",
        "    print(f\"{num} -> 홀수\")\n",
        "  else:\n",
        "    print(f\"{num} -> 짝수\")\n"
      ],
      "execution_count": null,
      "outputs": [
        {
          "output_type": "stream",
          "name": "stdout",
          "text": [
            "1 -> 홀수\n",
            "2 -> 짝수\n",
            "3 -> 홀수\n",
            "4 -> 짝수\n",
            "5 -> 홀수\n",
            "6 -> 짝수\n",
            "7 -> 홀수\n",
            "8 -> 짝수\n",
            "9 -> 홀수\n",
            "10 -> 짝수\n",
            "11 -> 홀수\n",
            "12 -> 짝수\n",
            "13 -> 홀수\n",
            "14 -> 짝수\n",
            "15 -> 홀수\n",
            "16 -> 짝수\n",
            "17 -> 홀수\n",
            "18 -> 짝수\n",
            "19 -> 홀수\n",
            "20 -> 짝수\n",
            "21 -> 홀수\n",
            "22 -> 짝수\n",
            "23 -> 홀수\n",
            "24 -> 짝수\n",
            "25 -> 홀수\n",
            "26 -> 짝수\n",
            "27 -> 홀수\n",
            "28 -> 짝수\n",
            "29 -> 홀수\n",
            "30 -> 짝수\n",
            "31 -> 홀수\n",
            "32 -> 짝수\n",
            "33 -> 홀수\n",
            "34 -> 짝수\n",
            "35 -> 홀수\n",
            "36 -> 짝수\n",
            "37 -> 홀수\n",
            "38 -> 짝수\n",
            "39 -> 홀수\n",
            "40 -> 짝수\n",
            "41 -> 홀수\n",
            "42 -> 짝수\n",
            "43 -> 홀수\n",
            "44 -> 짝수\n",
            "45 -> 홀수\n",
            "46 -> 짝수\n",
            "47 -> 홀수\n",
            "48 -> 짝수\n",
            "49 -> 홀수\n",
            "50 -> 짝수\n",
            "51 -> 홀수\n",
            "52 -> 짝수\n",
            "53 -> 홀수\n",
            "54 -> 짝수\n",
            "55 -> 홀수\n",
            "56 -> 짝수\n",
            "57 -> 홀수\n",
            "58 -> 짝수\n",
            "59 -> 홀수\n",
            "60 -> 짝수\n",
            "61 -> 홀수\n",
            "62 -> 짝수\n",
            "63 -> 홀수\n",
            "64 -> 짝수\n",
            "65 -> 홀수\n",
            "66 -> 짝수\n",
            "67 -> 홀수\n",
            "68 -> 짝수\n",
            "69 -> 홀수\n",
            "70 -> 짝수\n",
            "71 -> 홀수\n",
            "72 -> 짝수\n",
            "73 -> 홀수\n",
            "74 -> 짝수\n",
            "75 -> 홀수\n",
            "76 -> 짝수\n",
            "77 -> 홀수\n",
            "78 -> 짝수\n",
            "79 -> 홀수\n",
            "80 -> 짝수\n",
            "81 -> 홀수\n",
            "82 -> 짝수\n",
            "83 -> 홀수\n",
            "84 -> 짝수\n",
            "85 -> 홀수\n",
            "86 -> 짝수\n",
            "87 -> 홀수\n",
            "88 -> 짝수\n",
            "89 -> 홀수\n",
            "90 -> 짝수\n",
            "91 -> 홀수\n",
            "92 -> 짝수\n",
            "93 -> 홀수\n",
            "94 -> 짝수\n",
            "95 -> 홀수\n",
            "96 -> 짝수\n",
            "97 -> 홀수\n",
            "98 -> 짝수\n",
            "99 -> 홀수\n",
            "100 -> 짝수\n"
          ]
        }
      ]
    },
    {
      "cell_type": "code",
      "metadata": {
        "colab": {
          "base_uri": "https://localhost:8080/"
        },
        "id": "-KIgTZhwbu4d",
        "outputId": "78fd919e-990e-4389-8a63-981367146212"
      },
      "source": [
        "print(\"ab\", end=\"\\t\")\n",
        "print(\"cd\")"
      ],
      "execution_count": null,
      "outputs": [
        {
          "output_type": "stream",
          "name": "stdout",
          "text": [
            "ab\tcd\n"
          ]
        }
      ]
    },
    {
      "cell_type": "markdown",
      "metadata": {
        "id": "swp59fbj9Gmg"
      },
      "source": [
        "# 숙제\n",
        "1. 구구단 ver.2 난이도 ★★☆☆☆\n",
        "  * 홀수 단은 `~~ 곱하기 ~~ 는 ~~`\n",
        "  * 짝수 단은 `~~ x ~~ = ~~`\n",
        "  * 3단이면 `3 곱하기 1는 3`\n",
        "  * 4단이면 `4 x 1 = 4`\n",
        "\n",
        "2. 구구단 ver.3 난이도 ★★★☆☆\n",
        "  * 가로 구구단 출력하기\n",
        "  * ```\n",
        "    2*1=1 3*1=3 4*1=4 .....\n",
        "    2*2=4 3*2=6 4*2=8 .....\n",
        "  ```\n",
        "  * `print`함수 사용시에 `end=\"\\t\"`를 이용하면 옆으로 감\n",
        "  * ```\n",
        "  print(\"ab\", end=\"\\t\")\n",
        "  print(\"cd\")\n",
        "   >> ab      cd\n",
        "  ```\n",
        "3. 구구단 ver.4 난이도 ★★★★★\n",
        "  * 격자 구구단 출력하기\n",
        "  * ```\n",
        "    2단   3단   4단\n",
        "    ...   ...   ...\n",
        "    5단   6단   7단\n",
        "    ...   ...   ...\n",
        "    8단   9단\n",
        "    ...   ...\n",
        "  ```\n"
      ]
    },
    {
      "cell_type": "markdown",
      "metadata": {
        "id": "B6_LmAmX_CY_"
      },
      "source": [
        "# 기타 제어문 사용 방법\n",
        "* 삼항연산\n",
        "* 컴프리헨션"
      ]
    },
    {
      "cell_type": "markdown",
      "metadata": {
        "id": "zgVV0V89cxR7"
      },
      "source": [
        "## 삼항연산자\n",
        "* 파이썬이 아닌 다른 언어들은 삼항연산자(`?`)가 존재 하지만 파이썬엔 없음!\n",
        "* `if else` 만 사용해서 삼항연산을 수행\n",
        "\n",
        "간단한 if, else 구문을 한줄의 코드로 표현할 수 있는 방법\n",
        "  * `if` 다음 한줄의 코드가 있음!\n",
        "    * ```python\n",
        "      if a > b:\n",
        "        print(\"hello\")\n",
        "      else:\n",
        "        print(\"bye\")\n",
        "    ```\n",
        "\n",
        "**삼항연산자 사용 방법**\n",
        "```pytyon\n",
        "  <True일 때 사용할 값> if [condition] else <False일 때 사용할 값>\n",
        "```\n"
      ]
    },
    {
      "cell_type": "code",
      "metadata": {
        "colab": {
          "base_uri": "https://localhost:8080/"
        },
        "id": "T_frx5GIdje9",
        "outputId": "d65f8109-2ca5-4155-854b-9a5047e3673c"
      },
      "source": [
        "data = 1\n",
        "\n",
        "if data:\n",
        "  print(\"0이 아닙니다\")\n",
        "else:\n",
        "  print(\"0이에요\")"
      ],
      "execution_count": null,
      "outputs": [
        {
          "output_type": "stream",
          "name": "stdout",
          "text": [
            "0이 아닙니다\n"
          ]
        }
      ]
    },
    {
      "cell_type": "markdown",
      "metadata": {
        "id": "geBiLDqjedgL"
      },
      "source": [
        "파이썬의 철학 중 하나 \"파이써닉한 코드\"\n",
        "  * 최대한 간결하게 코딩을 하자"
      ]
    },
    {
      "cell_type": "code",
      "metadata": {
        "colab": {
          "base_uri": "https://localhost:8080/",
          "height": 34
        },
        "id": "rfxu4120emrn",
        "outputId": "1a808ac9-986d-489a-e6c3-2ca26db36fea"
      },
      "source": [
        "\"0이 아닙니다\" if data else \"0이에요\""
      ],
      "execution_count": null,
      "outputs": [
        {
          "output_type": "execute_result",
          "data": {
            "application/vnd.google.colaboratory.intrinsic+json": {
              "type": "string"
            },
            "text/plain": [
              "'0이 아닙니다'"
            ]
          },
          "metadata": {},
          "execution_count": 3
        }
      ]
    },
    {
      "cell_type": "markdown",
      "metadata": {
        "id": "nwj0ZxERfLHc"
      },
      "source": [
        "## 컴프리헨션\n",
        "* 입문을 지나서 초보로 넘어가기 위한 관문\n",
        "* 리스트, set, dict를 간단하게 만들기 위한 문법"
      ]
    },
    {
      "cell_type": "markdown",
      "metadata": {
        "id": "LPuQ9sTKf6m5"
      },
      "source": [
        "반복문을 이용해서 컬렉션에 데이터를 추가하는 경우가 많다!\n",
        "\n",
        "* 여러 전처리나 효과 없이 아주 단순하게 만들어진 데이터를 컬렉션에 추가(append)하고 싶으면??\n",
        "* 한줄 짜리간단한 코드에 의한 아이템 추가"
      ]
    },
    {
      "cell_type": "code",
      "metadata": {
        "colab": {
          "base_uri": "https://localhost:8080/"
        },
        "id": "27qPOZAXgP9l",
        "outputId": "ccb4d6d9-786a-4b42-b666-626ef86fb05e"
      },
      "source": [
        "# 0~3까지의 값에 제곱한 결과를 리스트에 담아놓기\n",
        "lst = list(range(4))\n",
        "result = []\n",
        "\n",
        "for data in lst:\n",
        "  result.append(data**2)\n",
        "  \n",
        "result"
      ],
      "execution_count": null,
      "outputs": [
        {
          "output_type": "execute_result",
          "data": {
            "text/plain": [
              "[0, 1, 4, 9]"
            ]
          },
          "metadata": {},
          "execution_count": 10
        }
      ]
    },
    {
      "cell_type": "markdown",
      "metadata": {
        "id": "Eswwht9_hAe2"
      },
      "source": [
        "기존의 컬렉션을 이용해서 컬렉션 내의 데이터를 이용해 **새로운 컬렉션**을 만들 때 보통 컴프리헨션을 사용한다.\n",
        "\n",
        "단, 단순한 연산만 있는 경우 사용할 것!"
      ]
    },
    {
      "cell_type": "code",
      "metadata": {
        "colab": {
          "base_uri": "https://localhost:8080/"
        },
        "id": "c7fRU_QKhyfM",
        "outputId": "cd9e9104-c4f2-491a-f120-9034175b4867"
      },
      "source": [
        "# 리스트 컴프리헨션\n",
        "result = [ data**2 for data in lst]\n",
        "result"
      ],
      "execution_count": null,
      "outputs": [
        {
          "output_type": "execute_result",
          "data": {
            "text/plain": [
              "[0, 1, 4, 9]"
            ]
          },
          "metadata": {},
          "execution_count": 11
        }
      ]
    },
    {
      "cell_type": "code",
      "metadata": {
        "colab": {
          "base_uri": "https://localhost:8080/"
        },
        "id": "IVYCL8ffirMV",
        "outputId": "e9918c16-86ab-4829-9013-be7543dc8969"
      },
      "source": [
        "# 1 ~ 10 까지 리스트를 만들어서 홀수와 짝수 리스트 생성하기\n",
        "# num_list = [1,2,3,4,5,6,7,8,9,10]\n",
        "# even_odd_list 는 컴프리헨션을 이용해 [\"홀\",\"짝\",\"홀\",\"짝\",\"홀\",\"짝\",\"홀\",\"짝\",\"홀\",\"짝\"]\n",
        "\n",
        "num_list = range(1, 11)\n",
        "even_odd_list = [ \"홀\" if data % 2 == 1 else \"짝\" for data in num_list ]\n",
        "even_odd_list"
      ],
      "execution_count": null,
      "outputs": [
        {
          "output_type": "execute_result",
          "data": {
            "text/plain": [
              "['홀', '짝', '홀', '짝', '홀', '짝', '홀', '짝', '홀', '짝']"
            ]
          },
          "metadata": {},
          "execution_count": 13
        }
      ]
    },
    {
      "cell_type": "code",
      "metadata": {
        "colab": {
          "base_uri": "https://localhost:8080/"
        },
        "id": "cmsAtRPmk-Jn",
        "outputId": "21bd6816-b4ba-44bd-b2b8-c12e2ed7b370"
      },
      "source": [
        "# 1 ~ 100 까지 정수에서 3의 배수만 가지고 있는 리스트를 만들기\n",
        "num_list = range(1, 101)\n",
        "mul_of_3_list = [ data for data in num_list if data % 3 == 0]\n",
        "print(mul_of_3_list)"
      ],
      "execution_count": null,
      "outputs": [
        {
          "output_type": "stream",
          "name": "stdout",
          "text": [
            "[3, 6, 9, 12, 15, 18, 21, 24, 27, 30, 33, 36, 39, 42, 45, 48, 51, 54, 57, 60, 63, 66, 69, 72, 75, 78, 81, 84, 87, 90, 93, 96, 99]\n"
          ]
        }
      ]
    },
    {
      "cell_type": "markdown",
      "metadata": {
        "id": "7QXnSwrTmQ0w"
      },
      "source": [
        "컴프리헨션은 일반 for문을 이용한 것 보다 빠르다!"
      ]
    },
    {
      "cell_type": "code",
      "metadata": {
        "colab": {
          "base_uri": "https://localhost:8080/"
        },
        "id": "jri9wjhKrc2e",
        "outputId": "789baa76-c808-4a52-8a7b-29d4c549ac57"
      },
      "source": [
        "%%timeit\n",
        "\n",
        "lst = []\n",
        "\n",
        "for data in range(1, 100001):\n",
        "  if data % 3 == 0:\n",
        "    lst.append(data)\n",
        "\n",
        "len(lst)"
      ],
      "execution_count": null,
      "outputs": [
        {
          "output_type": "stream",
          "name": "stdout",
          "text": [
            "100 loops, best of 5: 10.3 ms per loop\n"
          ]
        }
      ]
    },
    {
      "cell_type": "code",
      "metadata": {
        "colab": {
          "base_uri": "https://localhost:8080/"
        },
        "id": "_qOI0Q8zsQFZ",
        "outputId": "7f03ddf5-5eff-489e-e31e-33690b793b3b"
      },
      "source": [
        "%%timeit\n",
        "lst = [data for data in range(1, 100001) if data % 3 == 0]\n",
        "len(lst)"
      ],
      "execution_count": null,
      "outputs": [
        {
          "output_type": "stream",
          "name": "stdout",
          "text": [
            "100 loops, best of 5: 8.66 ms per loop\n"
          ]
        }
      ]
    },
    {
      "cell_type": "markdown",
      "metadata": {
        "id": "E5kncYfk5k7V"
      },
      "source": [
        "1. 구구단 ver.2 난이도 ★★☆☆☆\n",
        "  * 홀수 단은 `~~ 곱하기 ~~ 는 ~~`\n",
        "  * 짝수 단은 `~~ x ~~ = ~~`\n",
        "  * 3단이면 `3 곱하기 1는 3`\n",
        "  * 4단이면 `4 x 1 = 4`"
      ]
    },
    {
      "cell_type": "code",
      "metadata": {
        "colab": {
          "base_uri": "https://localhost:8080/"
        },
        "id": "lbbWn9ZX5nKr",
        "outputId": "87755f88-4da7-4d8f-a54b-ce0a1344b94e"
      },
      "source": [
        "# 의미가 있는 코드는 변수로 만들어 놓고 사용하자!\n",
        "dans = range(2, 10)\n",
        "times = range(1, 10)\n",
        "\n",
        "for dan in dans:\n",
        "  print(f\"===={dan} 단====\")\n",
        "\n",
        "  for time in times:\n",
        "    if dan % 2 == 0:\n",
        "      print(f\"{dan} x {time} = { dan * time }\")\n",
        "    else:\n",
        "      print(f\"{dan} 곱하기 {time}은(는) {dan * time}\")"
      ],
      "execution_count": null,
      "outputs": [
        {
          "output_type": "stream",
          "name": "stdout",
          "text": [
            "====2 단====\n",
            "2 x 1 = 2\n",
            "2 x 2 = 4\n",
            "2 x 3 = 6\n",
            "2 x 4 = 8\n",
            "2 x 5 = 10\n",
            "2 x 6 = 12\n",
            "2 x 7 = 14\n",
            "2 x 8 = 16\n",
            "2 x 9 = 18\n",
            "====3 단====\n",
            "3 곱하기 1은(는) 3\n",
            "3 곱하기 2은(는) 6\n",
            "3 곱하기 3은(는) 9\n",
            "3 곱하기 4은(는) 12\n",
            "3 곱하기 5은(는) 15\n",
            "3 곱하기 6은(는) 18\n",
            "3 곱하기 7은(는) 21\n",
            "3 곱하기 8은(는) 24\n",
            "3 곱하기 9은(는) 27\n",
            "====4 단====\n",
            "4 x 1 = 4\n",
            "4 x 2 = 8\n",
            "4 x 3 = 12\n",
            "4 x 4 = 16\n",
            "4 x 5 = 20\n",
            "4 x 6 = 24\n",
            "4 x 7 = 28\n",
            "4 x 8 = 32\n",
            "4 x 9 = 36\n",
            "====5 단====\n",
            "5 곱하기 1은(는) 5\n",
            "5 곱하기 2은(는) 10\n",
            "5 곱하기 3은(는) 15\n",
            "5 곱하기 4은(는) 20\n",
            "5 곱하기 5은(는) 25\n",
            "5 곱하기 6은(는) 30\n",
            "5 곱하기 7은(는) 35\n",
            "5 곱하기 8은(는) 40\n",
            "5 곱하기 9은(는) 45\n",
            "====6 단====\n",
            "6 x 1 = 6\n",
            "6 x 2 = 12\n",
            "6 x 3 = 18\n",
            "6 x 4 = 24\n",
            "6 x 5 = 30\n",
            "6 x 6 = 36\n",
            "6 x 7 = 42\n",
            "6 x 8 = 48\n",
            "6 x 9 = 54\n",
            "====7 단====\n",
            "7 곱하기 1은(는) 7\n",
            "7 곱하기 2은(는) 14\n",
            "7 곱하기 3은(는) 21\n",
            "7 곱하기 4은(는) 28\n",
            "7 곱하기 5은(는) 35\n",
            "7 곱하기 6은(는) 42\n",
            "7 곱하기 7은(는) 49\n",
            "7 곱하기 8은(는) 56\n",
            "7 곱하기 9은(는) 63\n",
            "====8 단====\n",
            "8 x 1 = 8\n",
            "8 x 2 = 16\n",
            "8 x 3 = 24\n",
            "8 x 4 = 32\n",
            "8 x 5 = 40\n",
            "8 x 6 = 48\n",
            "8 x 7 = 56\n",
            "8 x 8 = 64\n",
            "8 x 9 = 72\n",
            "====9 단====\n",
            "9 곱하기 1은(는) 9\n",
            "9 곱하기 2은(는) 18\n",
            "9 곱하기 3은(는) 27\n",
            "9 곱하기 4은(는) 36\n",
            "9 곱하기 5은(는) 45\n",
            "9 곱하기 6은(는) 54\n",
            "9 곱하기 7은(는) 63\n",
            "9 곱하기 8은(는) 72\n",
            "9 곱하기 9은(는) 81\n"
          ]
        }
      ]
    },
    {
      "cell_type": "markdown",
      "metadata": {
        "id": "vUSZXD9x6svu"
      },
      "source": [
        "2. 구구단 ver.3 난이도 ★★★☆☆\n",
        "  * 가로 구구단 출력하기\n",
        "  * ```\n",
        "    2*1=1 3*1=3 4*1=4 .....\n",
        "    2*2=4 3*2=6 4*2=8 .....\n",
        "  ```\n",
        "  * `print`함수 사용시에 `end=\"\\t\"`를 이용하면 옆으로 감\n",
        "  * ```\n",
        "  print(\"ab\", end=\"\\t\")\n",
        "  print(\"cd\")\n",
        "   >> ab      cd\n",
        "  ```"
      ]
    },
    {
      "cell_type": "code",
      "metadata": {
        "colab": {
          "base_uri": "https://localhost:8080/"
        },
        "id": "kI-2n5ni7mTS",
        "outputId": "ad974a83-97bf-4661-f79a-ede260096ef9"
      },
      "source": [
        "dans = range(2, 10)\n",
        "times = range(1, 10)\n",
        "\n",
        "for time in times:\n",
        "  for dan in dans:\n",
        "    print(f\"{dan} x {time} = {dan * time}\", end=\"\\t\")\n",
        "  print()"
      ],
      "execution_count": null,
      "outputs": [
        {
          "output_type": "stream",
          "name": "stdout",
          "text": [
            "2 x 1 = 2\t3 x 1 = 3\t4 x 1 = 4\t5 x 1 = 5\t6 x 1 = 6\t7 x 1 = 7\t8 x 1 = 8\t9 x 1 = 9\t\n",
            "2 x 2 = 4\t3 x 2 = 6\t4 x 2 = 8\t5 x 2 = 10\t6 x 2 = 12\t7 x 2 = 14\t8 x 2 = 16\t9 x 2 = 18\t\n",
            "2 x 3 = 6\t3 x 3 = 9\t4 x 3 = 12\t5 x 3 = 15\t6 x 3 = 18\t7 x 3 = 21\t8 x 3 = 24\t9 x 3 = 27\t\n",
            "2 x 4 = 8\t3 x 4 = 12\t4 x 4 = 16\t5 x 4 = 20\t6 x 4 = 24\t7 x 4 = 28\t8 x 4 = 32\t9 x 4 = 36\t\n",
            "2 x 5 = 10\t3 x 5 = 15\t4 x 5 = 20\t5 x 5 = 25\t6 x 5 = 30\t7 x 5 = 35\t8 x 5 = 40\t9 x 5 = 45\t\n",
            "2 x 6 = 12\t3 x 6 = 18\t4 x 6 = 24\t5 x 6 = 30\t6 x 6 = 36\t7 x 6 = 42\t8 x 6 = 48\t9 x 6 = 54\t\n",
            "2 x 7 = 14\t3 x 7 = 21\t4 x 7 = 28\t5 x 7 = 35\t6 x 7 = 42\t7 x 7 = 49\t8 x 7 = 56\t9 x 7 = 63\t\n",
            "2 x 8 = 16\t3 x 8 = 24\t4 x 8 = 32\t5 x 8 = 40\t6 x 8 = 48\t7 x 8 = 56\t8 x 8 = 64\t9 x 8 = 72\t\n",
            "2 x 9 = 18\t3 x 9 = 27\t4 x 9 = 36\t5 x 9 = 45\t6 x 9 = 54\t7 x 9 = 63\t8 x 9 = 72\t9 x 9 = 81\t\n"
          ]
        }
      ]
    },
    {
      "cell_type": "markdown",
      "metadata": {
        "id": "0P_fY0A19Mdo"
      },
      "source": [
        "3. 구구단 ver.4 난이도 ★★★★★\n",
        "  * 격자 구구단 출력하기\n",
        "  * ```\n",
        "    2단   3단   4단\n",
        "    ...   ...   ...\n",
        "    5단   6단   7단\n",
        "    ...   ...   ...\n",
        "    8단   9단\n",
        "    ...   ...\n",
        "  ```\n"
      ]
    },
    {
      "cell_type": "code",
      "metadata": {
        "colab": {
          "base_uri": "https://localhost:8080/"
        },
        "id": "yJlFelQ18uO0",
        "outputId": "87e051f1-555d-44a4-d9bb-fb318847621c"
      },
      "source": [
        "dans = range(2, 10)\n",
        "times = range(1, 10)\n",
        "\n",
        "h_num = 3 # 가로로 표시할 숫자의 개수\n",
        "\n",
        "for idx in range(0, len(dans), h_num):\n",
        "  now_dan = dans[idx : idx + h_num]\n",
        "  \n",
        "  for dan in now_dan:\n",
        "    print(f\"{dan} 단\", end='\\t\\t')\n",
        "  print()\n",
        "\n",
        "  for time in times:\n",
        "    for dan in now_dan:\n",
        "      print(f\"{dan} * {time} = {dan * time}\", end=\"\\t\")\n",
        "    print()\n",
        "  \n",
        "  print()"
      ],
      "execution_count": null,
      "outputs": [
        {
          "output_type": "stream",
          "name": "stdout",
          "text": [
            "2 단\t\t3 단\t\t4 단\t\t\n",
            "2 * 1 = 2\t3 * 1 = 3\t4 * 1 = 4\t\n",
            "2 * 2 = 4\t3 * 2 = 6\t4 * 2 = 8\t\n",
            "2 * 3 = 6\t3 * 3 = 9\t4 * 3 = 12\t\n",
            "2 * 4 = 8\t3 * 4 = 12\t4 * 4 = 16\t\n",
            "2 * 5 = 10\t3 * 5 = 15\t4 * 5 = 20\t\n",
            "2 * 6 = 12\t3 * 6 = 18\t4 * 6 = 24\t\n",
            "2 * 7 = 14\t3 * 7 = 21\t4 * 7 = 28\t\n",
            "2 * 8 = 16\t3 * 8 = 24\t4 * 8 = 32\t\n",
            "2 * 9 = 18\t3 * 9 = 27\t4 * 9 = 36\t\n",
            "\n",
            "5 단\t\t6 단\t\t7 단\t\t\n",
            "5 * 1 = 5\t6 * 1 = 6\t7 * 1 = 7\t\n",
            "5 * 2 = 10\t6 * 2 = 12\t7 * 2 = 14\t\n",
            "5 * 3 = 15\t6 * 3 = 18\t7 * 3 = 21\t\n",
            "5 * 4 = 20\t6 * 4 = 24\t7 * 4 = 28\t\n",
            "5 * 5 = 25\t6 * 5 = 30\t7 * 5 = 35\t\n",
            "5 * 6 = 30\t6 * 6 = 36\t7 * 6 = 42\t\n",
            "5 * 7 = 35\t6 * 7 = 42\t7 * 7 = 49\t\n",
            "5 * 8 = 40\t6 * 8 = 48\t7 * 8 = 56\t\n",
            "5 * 9 = 45\t6 * 9 = 54\t7 * 9 = 63\t\n",
            "\n",
            "8 단\t\t9 단\t\t\n",
            "8 * 1 = 8\t9 * 1 = 9\t\n",
            "8 * 2 = 16\t9 * 2 = 18\t\n",
            "8 * 3 = 24\t9 * 3 = 27\t\n",
            "8 * 4 = 32\t9 * 4 = 36\t\n",
            "8 * 5 = 40\t9 * 5 = 45\t\n",
            "8 * 6 = 48\t9 * 6 = 54\t\n",
            "8 * 7 = 56\t9 * 7 = 63\t\n",
            "8 * 8 = 64\t9 * 8 = 72\t\n",
            "8 * 9 = 72\t9 * 9 = 81\t\n",
            "\n"
          ]
        }
      ]
    },
    {
      "cell_type": "markdown",
      "metadata": {
        "id": "4VZCVLzP-RwN"
      },
      "source": [
        "`[2,3,4,5,6,7,8,9]`"
      ]
    },
    {
      "cell_type": "code",
      "metadata": {
        "id": "vAsTsBGP-W-j"
      },
      "source": [
        ""
      ],
      "execution_count": null,
      "outputs": []
    }
  ]
}