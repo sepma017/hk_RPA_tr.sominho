{
  "nbformat": 4,
  "nbformat_minor": 0,
  "metadata": {
    "colab": {
      "name": "09. 함수(function)",
      "provenance": [],
      "collapsed_sections": []
    },
    "kernelspec": {
      "name": "python3",
      "display_name": "Python 3"
    },
    "language_info": {
      "name": "python"
    }
  },
  "cells": [
    {
      "cell_type": "markdown",
      "metadata": {
        "id": "g8xmglh70d-T"
      },
      "source": [
        "# 함수 ( function )\n",
        "* 반복되는 코드를 묶음\n",
        "* 코드를 재 사용할 수 있게 해준다."
      ]
    },
    {
      "cell_type": "code",
      "metadata": {
        "id": "Ic6O6GYM1E0u",
        "colab": {
          "base_uri": "https://localhost:8080/"
        },
        "outputId": "1022abca-ff31-443e-e80b-bc10c655d661"
      },
      "source": [
        "# 점수가 90점 이상이면 A, 80점 이상이면 B 그 외는 C\n",
        "score = 88\n",
        "\n",
        "if score >= 90:\n",
        "  print(\"A\")\n",
        "elif score >= 80:\n",
        "  print(\"B\")  \n",
        "else:\n",
        "  print(\"C\")"
      ],
      "execution_count": null,
      "outputs": [
        {
          "output_type": "stream",
          "name": "stdout",
          "text": [
            "B\n"
          ]
        }
      ]
    },
    {
      "cell_type": "code",
      "metadata": {
        "colab": {
          "base_uri": "https://localhost:8080/"
        },
        "id": "EjcAGRfF4p04",
        "outputId": "027c6437-81e0-4c90-8933-6a10ee434836"
      },
      "source": [
        "# 두 번째 사람\n",
        "score = 90\n",
        "\n",
        "if score >= 90:\n",
        "  print(\"A\")\n",
        "elif score >= 80:\n",
        "  print(\"B\")  \n",
        "else:\n",
        "  print(\"C\")"
      ],
      "execution_count": null,
      "outputs": [
        {
          "output_type": "stream",
          "name": "stdout",
          "text": [
            "A\n"
          ]
        }
      ]
    },
    {
      "cell_type": "markdown",
      "metadata": {
        "id": "J3PMa31p5A55"
      },
      "source": [
        "3일 뒤..."
      ]
    },
    {
      "cell_type": "code",
      "metadata": {
        "colab": {
          "base_uri": "https://localhost:8080/"
        },
        "id": "iZh2rEgU5EWn",
        "outputId": "9ec3ba0a-9fbd-4085-db43-dec513a70d93"
      },
      "source": [
        "# 세 번째 사람\n",
        "score = 95\n",
        "\n",
        "if score >= 90:\n",
        "  print(\"A\")\n",
        "elif score >= 80:\n",
        "  print(\"B\")  \n",
        "else:\n",
        "  print(\"C\")"
      ],
      "execution_count": null,
      "outputs": [
        {
          "output_type": "stream",
          "name": "stdout",
          "text": [
            "A\n"
          ]
        }
      ]
    },
    {
      "cell_type": "markdown",
      "metadata": {
        "id": "Q-mmE1C85GPn"
      },
      "source": [
        "매번 ctrl + c , v를 하면서 그때 그때 마다 코드를 작성하는게 옳은 방법일까?"
      ]
    },
    {
      "cell_type": "code",
      "metadata": {
        "id": "oooVSe0u5Q0v"
      },
      "source": [
        "# 반복적인 기능을 하는 코드 뭉치(code context)를 정의해 놓고 필요 할 때마다 사용\n",
        "# 정의 : def\n",
        "# 사용(호출) : call\n",
        "\n",
        "# 함수의 정의\n",
        "def print_grade(score):\n",
        "  if score >= 90:\n",
        "    print(\"A\")\n",
        "  elif score >= 80:\n",
        "    print(\"B\")\n",
        "  else:\n",
        "    print(\"C\")"
      ],
      "execution_count": null,
      "outputs": []
    },
    {
      "cell_type": "code",
      "metadata": {
        "colab": {
          "base_uri": "https://localhost:8080/"
        },
        "id": "2MNsAkVP6MAh",
        "outputId": "991bf7e5-6d7a-429c-95c7-1ca929a48c60"
      },
      "source": [
        "print_grade"
      ],
      "execution_count": null,
      "outputs": [
        {
          "output_type": "execute_result",
          "data": {
            "text/plain": [
              "<function __main__.print_grade>"
            ]
          },
          "metadata": {},
          "execution_count": 5
        }
      ]
    },
    {
      "cell_type": "code",
      "metadata": {
        "colab": {
          "base_uri": "https://localhost:8080/"
        },
        "id": "TeaM5N306Svn",
        "outputId": "8180ca3e-82b7-40a0-e3b9-28f055d32c1f"
      },
      "source": [
        "# 함수의 사용 ( 호출 - call )\n",
        "print_grade(88)"
      ],
      "execution_count": null,
      "outputs": [
        {
          "output_type": "stream",
          "name": "stdout",
          "text": [
            "B\n"
          ]
        }
      ]
    },
    {
      "cell_type": "code",
      "metadata": {
        "colab": {
          "base_uri": "https://localhost:8080/"
        },
        "id": "iKEwblyT62I4",
        "outputId": "701742f7-0584-4390-fae2-6102868e56ce"
      },
      "source": [
        "print_grade(90)"
      ],
      "execution_count": null,
      "outputs": [
        {
          "output_type": "stream",
          "name": "stdout",
          "text": [
            "A\n"
          ]
        }
      ]
    },
    {
      "cell_type": "code",
      "metadata": {
        "colab": {
          "base_uri": "https://localhost:8080/"
        },
        "id": "VVUHG_Qu65ZX",
        "outputId": "82d73fb3-dcd1-45f5-f1f4-48dca679f6e2"
      },
      "source": [
        "score = 80\n",
        "print_grade(score)"
      ],
      "execution_count": null,
      "outputs": [
        {
          "output_type": "stream",
          "name": "stdout",
          "text": [
            "C\n"
          ]
        }
      ]
    },
    {
      "cell_type": "markdown",
      "metadata": {
        "id": "5MRsNPZI66un"
      },
      "source": [
        "# 함수의 정의 방법\n",
        "```python\n",
        "def <function_name>([parameter1, parameter2, ...]):\n",
        "  ...\n",
        "  code\n",
        "  ...\n",
        "```\n",
        "* 파라미터(Parameter) : 함수 **선언**할 때 호출하는 곳에서 입력해주는 **데이터를 저장할 변수**\n",
        "* 아규먼트(Argument) : 함수를 호출하는 곳에서 함수에 **넣어주는 데이터**\n",
        "\n",
        "파라미터의 변수명과 아규먼트의 변수명은 항상 일치해야 할까요?\n",
        "  * NO!"
      ]
    },
    {
      "cell_type": "code",
      "metadata": {
        "colab": {
          "base_uri": "https://localhost:8080/"
        },
        "id": "deNKRkAH7Wgn",
        "outputId": "9131288a-c591-4af9-a230-c1d321c21365"
      },
      "source": [
        "# 1. Argument(Parameter) X, Return X\n",
        "\n",
        "def foo(): # Parameter가 없음!\n",
        "  print(\"Here is foo\")\n",
        "  print(\"Parameter X, Return X\")\n",
        "\n",
        "# Parameter가 없으니까 Argument를 안 넣어 준다.\n",
        "foo()"
      ],
      "execution_count": null,
      "outputs": [
        {
          "output_type": "stream",
          "name": "stdout",
          "text": [
            "Here is foo\n",
            "Parameter X, Return X\n"
          ]
        }
      ]
    },
    {
      "cell_type": "code",
      "metadata": {
        "colab": {
          "base_uri": "https://localhost:8080/"
        },
        "id": "nqy3Puov_pfh",
        "outputId": "571d7fba-3582-4dbe-af95-03eb69fdbfcd"
      },
      "source": [
        "# 2. Argument(Parameter) O, Return X\n",
        "def goo(num1, num2): # num1, num2 Parameter가 있음!\n",
        "  if num1 + num2 > 10:\n",
        "    print(\"Big\")\n",
        "  else:\n",
        "    print(\"Small\")                                                                 \n",
        "\n",
        "goo(1, 2)   # 1, 2는 goo 함수의 Argument\n",
        "goo(10, 20) # 10, 20은 goo 함수의 Argument"
      ],
      "execution_count": null,
      "outputs": [
        {
          "output_type": "stream",
          "name": "stdout",
          "text": [
            "Small\n",
            "Big\n"
          ]
        }
      ]
    },
    {
      "cell_type": "code",
      "metadata": {
        "colab": {
          "base_uri": "https://localhost:8080/"
        },
        "id": "x6mxXCF3Atzo",
        "outputId": "60a4c1df-ecd3-4c59-8da9-23209b9c21bb"
      },
      "source": [
        "# 3. Agument(Parameter) X, Return O\n",
        "def hoo():\n",
        "  print(\"hoo is called\")\n",
        "  lst = range(1, 10)\n",
        "  total = sum(lst)\n",
        "\n",
        "  return total # return값이 있음\n",
        "\n",
        "hoo_result = hoo() # 함수 hoo는 값을 반환한다. 따라서 리턴값을 변수로 받아낼 수 있다.\n",
        "print(\"결과 : {}\".format(hoo_result))"
      ],
      "execution_count": null,
      "outputs": [
        {
          "output_type": "stream",
          "name": "stdout",
          "text": [
            "hoo is called\n",
            "결과 : 45\n"
          ]
        }
      ]
    },
    {
      "cell_type": "code",
      "metadata": {
        "colab": {
          "base_uri": "https://localhost:8080/"
        },
        "id": "aT1aD4cECQlS",
        "outputId": "feb971d0-865c-4bd2-8c4e-cef808e836fa"
      },
      "source": [
        "hoo_result"
      ],
      "execution_count": null,
      "outputs": [
        {
          "output_type": "execute_result",
          "data": {
            "text/plain": [
              "45"
            ]
          },
          "metadata": {},
          "execution_count": 13
        }
      ]
    },
    {
      "cell_type": "code",
      "metadata": {
        "colab": {
          "base_uri": "https://localhost:8080/"
        },
        "id": "F7AExsTdCbrY",
        "outputId": "127af86b-bfdd-4f3c-d2ab-ee9c67842247"
      },
      "source": [
        "# 4. Agument(Parameter) O, Return O\n",
        "\n",
        "def moo(num1, num2): # Parameter 있음!\n",
        "  print(\"moo is called\")\n",
        "  return num1 + num2 # Return 있음!\n",
        "\n",
        "a = 10\n",
        "b = 20\n",
        "moo_result = moo(a, b)\n",
        "\n",
        "print(moo_result)"
      ],
      "execution_count": null,
      "outputs": [
        {
          "output_type": "stream",
          "name": "stdout",
          "text": [
            "moo is called\n",
            "30\n"
          ]
        }
      ]
    },
    {
      "cell_type": "markdown",
      "metadata": {
        "id": "N23Auz18C0Gp"
      },
      "source": [
        "# 파라미터를 정의하는 여러 방법\n",
        "1. `default parameter`\n",
        "2. 여러 아규먼트를 동시에 포함 시키기\n",
        "  * `*args`\n",
        "3. 여러 아규먼트를 dict 형태로 받기\n",
        "  * `**kwargs`"
      ]
    },
    {
      "cell_type": "markdown",
      "metadata": {
        "id": "3wdcSKC8T2cx"
      },
      "source": [
        "## Default Parameter ★★★★★\n",
        "* 함수를 호출 할 때 Argument를 넣어주지 않아도 기본적으로 파라미터가 가지고 있어야 할 값을 지정"
      ]
    },
    {
      "cell_type": "code",
      "metadata": {
        "colab": {
          "base_uri": "https://localhost:8080/"
        },
        "id": "Pg-MI9tPUI8M",
        "outputId": "fbfacdc9-a30e-45a6-84d4-3801b8c364e9"
      },
      "source": [
        "def noo(a, b, c):\n",
        "  print(a, b, c)\n",
        "\n",
        "noo(\"Hello\", 30, 5.1212)"
      ],
      "execution_count": null,
      "outputs": [
        {
          "output_type": "stream",
          "name": "stdout",
          "text": [
            "Hello 30 5.1212\n"
          ]
        }
      ]
    },
    {
      "cell_type": "markdown",
      "metadata": {
        "id": "5FgJY_CeUdkK"
      },
      "source": [
        "함수 `noo`는 Parameter가 3개!\n",
        "* `noo`를 호출하기 위해서는 Argument를 3개 넣어줘야 한다."
      ]
    },
    {
      "cell_type": "code",
      "metadata": {
        "colab": {
          "base_uri": "https://localhost:8080/",
          "height": 168
        },
        "id": "HdJPvm3bUqqY",
        "outputId": "a9fd3b4c-897f-4295-d00d-fca85f3da498"
      },
      "source": [
        "noo(10, 20)"
      ],
      "execution_count": null,
      "outputs": [
        {
          "output_type": "error",
          "ename": "TypeError",
          "evalue": "ignored",
          "traceback": [
            "\u001b[0;31m---------------------------------------------------------------------------\u001b[0m",
            "\u001b[0;31mTypeError\u001b[0m                                 Traceback (most recent call last)",
            "\u001b[0;32m<ipython-input-16-4a0694526a33>\u001b[0m in \u001b[0;36m<module>\u001b[0;34m()\u001b[0m\n\u001b[0;32m----> 1\u001b[0;31m \u001b[0mnoo\u001b[0m\u001b[0;34m(\u001b[0m\u001b[0;36m10\u001b[0m\u001b[0;34m,\u001b[0m \u001b[0;36m20\u001b[0m\u001b[0;34m)\u001b[0m\u001b[0;34m\u001b[0m\u001b[0;34m\u001b[0m\u001b[0m\n\u001b[0m",
            "\u001b[0;31mTypeError\u001b[0m: noo() missing 1 required positional argument: 'c'"
          ]
        }
      ]
    },
    {
      "cell_type": "code",
      "metadata": {
        "colab": {
          "base_uri": "https://localhost:8080/"
        },
        "id": "qq0v-_VmUvCp",
        "outputId": "879bc755-b857-4884-c032-335dd12aee6c"
      },
      "source": [
        "# 파라미터 c에 기본적으로 30을 넣어주는 것\n",
        "# default parameter\n",
        "def koo(a, b, c=30):\n",
        "  print(a, b, c)\n",
        "\n",
        "koo(10, 20) # c의 기본값이 30으로 지정 되었기 때문에 c에 대한 Argument를 넣지 않아도 koo 호출이 가능"
      ],
      "execution_count": null,
      "outputs": [
        {
          "output_type": "stream",
          "name": "stdout",
          "text": [
            "10 20 30\n"
          ]
        }
      ]
    },
    {
      "cell_type": "code",
      "metadata": {
        "colab": {
          "base_uri": "https://localhost:8080/"
        },
        "id": "JHJOSWAPVLdS",
        "outputId": "5e55bef1-44d2-47f8-e712-a6daacab41a1"
      },
      "source": [
        "koo(10, 20, \"Hello\")"
      ],
      "execution_count": null,
      "outputs": [
        {
          "output_type": "stream",
          "name": "stdout",
          "text": [
            "10 20 Hello\n"
          ]
        }
      ]
    },
    {
      "cell_type": "markdown",
      "metadata": {
        "id": "rYLkC53xVvUJ"
      },
      "source": [
        "잘못된 default parameter 설정"
      ]
    },
    {
      "cell_type": "code",
      "metadata": {
        "id": "973s2ZtwViHy",
        "colab": {
          "base_uri": "https://localhost:8080/",
          "height": 133
        },
        "outputId": "e7acb0b0-3ef4-4ba1-be72-61d62551bf23"
      },
      "source": [
        "# 함수를 정의 하면서 오류가 난다.\n",
        "def roo(a, b=20, c):\n",
        "  print(a, b, c)\n",
        "\n",
        "roo(10, 30)"
      ],
      "execution_count": null,
      "outputs": [
        {
          "output_type": "error",
          "ename": "SyntaxError",
          "evalue": "ignored",
          "traceback": [
            "\u001b[0;36m  File \u001b[0;32m\"<ipython-input-19-688b78bea51c>\"\u001b[0;36m, line \u001b[0;32m1\u001b[0m\n\u001b[0;31m    def roo(a, b=20, c):\u001b[0m\n\u001b[0m           ^\u001b[0m\n\u001b[0;31mSyntaxError\u001b[0m\u001b[0;31m:\u001b[0m non-default argument follows default argument\n"
          ]
        }
      ]
    },
    {
      "cell_type": "markdown",
      "metadata": {
        "id": "vt-HwhbcWM5a"
      },
      "source": [
        "default parameter는 항상 오른쪽 부터 채워야 한다."
      ]
    },
    {
      "cell_type": "code",
      "metadata": {
        "colab": {
          "base_uri": "https://localhost:8080/"
        },
        "id": "IZNJPdMUWYO6",
        "outputId": "a995733d-a16a-40fd-f625-452047db84a8"
      },
      "source": [
        "def woo(a, b=20, c=30):\n",
        "  print(a, b, c)\n",
        "\n",
        "# woo 디폴트 파라미터가 2개니까 아규먼트를 1개만 넣어도 호출 된다.\n",
        "woo(10)"
      ],
      "execution_count": null,
      "outputs": [
        {
          "output_type": "stream",
          "name": "stdout",
          "text": [
            "10 20 30\n"
          ]
        }
      ]
    },
    {
      "cell_type": "markdown",
      "metadata": {
        "id": "zf_dPK21WyAL"
      },
      "source": [
        "## `*args`\n",
        "  * 함수를 정의하면서 Argument가 `n`개가 들어 올 수도 있음..\n",
        "  * `*`을 `asterisk`라고 함"
      ]
    },
    {
      "cell_type": "code",
      "metadata": {
        "colab": {
          "base_uri": "https://localhost:8080/"
        },
        "id": "uQDy_h7DXPqp",
        "outputId": "5c860c66-d3df-4f6f-82a9-9b3b98736f34"
      },
      "source": [
        "# 2개의 파라미터를 정의\n",
        "def add_ver1(a, b):\n",
        "  total = a + b\n",
        "  print(total)\n",
        "\n",
        "# 호출할 때 반드시 2개의 아규먼트만을 사용한다.\n",
        "add_ver1(10, 20)"
      ],
      "execution_count": null,
      "outputs": [
        {
          "output_type": "stream",
          "name": "stdout",
          "text": [
            "30\n"
          ]
        }
      ]
    },
    {
      "cell_type": "markdown",
      "metadata": {
        "id": "1VgfCDFVXt3L"
      },
      "source": [
        "3개의 아규먼트를 받아서 더하고 싶으면..?"
      ]
    },
    {
      "cell_type": "code",
      "metadata": {
        "colab": {
          "base_uri": "https://localhost:8080/"
        },
        "id": "QkX95HEFXzSR",
        "outputId": "e7393cbe-12fa-472a-e875-b679ec278c5c"
      },
      "source": [
        "def add_ver2(a, b, c):\n",
        "  total = a + b + c\n",
        "  \n",
        "  return total\n",
        "\n",
        "add_result = add_ver2(10, 20, 30)\n",
        "print(add_result)"
      ],
      "execution_count": null,
      "outputs": [
        {
          "output_type": "stream",
          "name": "stdout",
          "text": [
            "60\n"
          ]
        }
      ]
    },
    {
      "cell_type": "markdown",
      "metadata": {
        "id": "P7GLbRnyX8Fp"
      },
      "source": [
        "`N`개의 Arguemnt를 받아서 더하고 싶으면..? `*args`"
      ]
    },
    {
      "cell_type": "code",
      "metadata": {
        "colab": {
          "base_uri": "https://localhost:8080/"
        },
        "id": "Tq06g9RFYM5x",
        "outputId": "968797de-7e95-4e75-b769-293e77915833"
      },
      "source": [
        "def add_ver3(*args):\n",
        "  # print(type(args), args)\n",
        "  # print(args[3])\n",
        "  total = sum(args)\n",
        "  print(total)\n",
        "\n",
        "add_ver3( 10, 20, 30, 40, 50, 60, 70, 80 )"
      ],
      "execution_count": null,
      "outputs": [
        {
          "output_type": "stream",
          "name": "stdout",
          "text": [
            "360\n"
          ]
        }
      ]
    },
    {
      "cell_type": "code",
      "metadata": {
        "colab": {
          "base_uri": "https://localhost:8080/"
        },
        "id": "8nzw6cLJYomB",
        "outputId": "7c4c1949-66bf-417a-9544-3fab932fbb36"
      },
      "source": [
        "print(\"Hello\", \"Hi\", \"Bye\")"
      ],
      "execution_count": null,
      "outputs": [
        {
          "output_type": "stream",
          "name": "stdout",
          "text": [
            "Hello Hi Bye\n"
          ]
        }
      ]
    },
    {
      "cell_type": "code",
      "metadata": {
        "colab": {
          "base_uri": "https://localhost:8080/"
        },
        "id": "lJdUVwRHZT2z",
        "outputId": "e002c236-cdf7-4816-ac90-ee06f23736f3"
      },
      "source": [
        "print(10, 20, 30)"
      ],
      "execution_count": null,
      "outputs": [
        {
          "output_type": "stream",
          "name": "stdout",
          "text": [
            "10 20 30\n"
          ]
        }
      ]
    },
    {
      "cell_type": "markdown",
      "metadata": {
        "id": "-Mc18iMOZZyy"
      },
      "source": [
        "하나의 함수에서 여러 개의 `*args`를 사용할 수 있을까?"
      ]
    },
    {
      "cell_type": "code",
      "metadata": {
        "colab": {
          "base_uri": "https://localhost:8080/",
          "height": 133
        },
        "id": "EfLDA8AsZ2dA",
        "outputId": "f73eee97-c1de-4839-bc95-ec884ca44344"
      },
      "source": [
        "def qoo(*args1, *args2):\n",
        "  print(args1)\n",
        "  print(args2)"
      ],
      "execution_count": null,
      "outputs": [
        {
          "output_type": "error",
          "ename": "SyntaxError",
          "evalue": "ignored",
          "traceback": [
            "\u001b[0;36m  File \u001b[0;32m\"<ipython-input-30-ac24a2cc3197>\"\u001b[0;36m, line \u001b[0;32m1\u001b[0m\n\u001b[0;31m    def qoo(*args1, *args2):\u001b[0m\n\u001b[0m                    ^\u001b[0m\n\u001b[0;31mSyntaxError\u001b[0m\u001b[0;31m:\u001b[0m invalid syntax\n"
          ]
        }
      ]
    },
    {
      "cell_type": "markdown",
      "metadata": {
        "id": "xBGYtfiWZ677"
      },
      "source": [
        "`Positional Argument`와 `*args` 같이 사용하기\n",
        "\n",
        "* Positional Argument는 Parameter의 위치에 맞게 들어가는 Argument"
      ]
    },
    {
      "cell_type": "code",
      "metadata": {
        "colab": {
          "base_uri": "https://localhost:8080/"
        },
        "id": "dg0wt6sFaPC6",
        "outputId": "cea06b0b-f80c-4a8a-f858-49a3189644c1"
      },
      "source": [
        "def qoo(a, b, *args):\n",
        "  print(a)\n",
        "  print(b)\n",
        "  print(args)\n",
        "\n",
        "qoo(1,2, 3,4,5,6,7,8,9)"
      ],
      "execution_count": null,
      "outputs": [
        {
          "output_type": "stream",
          "name": "stdout",
          "text": [
            "1\n",
            "2\n",
            "(3, 4, 5, 6, 7, 8, 9)\n"
          ]
        }
      ]
    },
    {
      "cell_type": "code",
      "metadata": {
        "id": "VXRQ3BV8a_z7"
      },
      "source": [
        "# *args가 가운데에 위치할 수 있을까요?\n",
        "def eoo(a, *args, b):\n",
        "  print(a)\n",
        "  print(b)\n",
        "  print(args)"
      ],
      "execution_count": null,
      "outputs": []
    },
    {
      "cell_type": "code",
      "metadata": {
        "colab": {
          "base_uri": "https://localhost:8080/",
          "height": 168
        },
        "id": "0Lz1iHBHbYIT",
        "outputId": "24e1fedf-ab8a-4a76-d12a-f0f1733fff83"
      },
      "source": [
        "eoo(1,2,3,4,5,6,7,8,9)"
      ],
      "execution_count": null,
      "outputs": [
        {
          "output_type": "error",
          "ename": "TypeError",
          "evalue": "ignored",
          "traceback": [
            "\u001b[0;31m---------------------------------------------------------------------------\u001b[0m",
            "\u001b[0;31mTypeError\u001b[0m                                 Traceback (most recent call last)",
            "\u001b[0;32m<ipython-input-33-895c5ca75f18>\u001b[0m in \u001b[0;36m<module>\u001b[0;34m()\u001b[0m\n\u001b[0;32m----> 1\u001b[0;31m \u001b[0meoo\u001b[0m\u001b[0;34m(\u001b[0m\u001b[0;36m1\u001b[0m\u001b[0;34m,\u001b[0m\u001b[0;36m2\u001b[0m\u001b[0;34m,\u001b[0m\u001b[0;36m3\u001b[0m\u001b[0;34m,\u001b[0m\u001b[0;36m4\u001b[0m\u001b[0;34m,\u001b[0m\u001b[0;36m5\u001b[0m\u001b[0;34m,\u001b[0m\u001b[0;36m6\u001b[0m\u001b[0;34m,\u001b[0m\u001b[0;36m7\u001b[0m\u001b[0;34m,\u001b[0m\u001b[0;36m8\u001b[0m\u001b[0;34m,\u001b[0m\u001b[0;36m9\u001b[0m\u001b[0;34m)\u001b[0m\u001b[0;34m\u001b[0m\u001b[0;34m\u001b[0m\u001b[0m\n\u001b[0m",
            "\u001b[0;31mTypeError\u001b[0m: eoo() missing 1 required keyword-only argument: 'b'"
          ]
        }
      ]
    },
    {
      "cell_type": "code",
      "metadata": {
        "colab": {
          "base_uri": "https://localhost:8080/"
        },
        "id": "S6sSB4pybdcy",
        "outputId": "59a3af3d-1ad5-4c9f-fc58-1a17edb4851d"
      },
      "source": [
        "# b는 KeyWord Argument로 설정\n",
        "eoo(1, 2,3,4,5,6,7,8,9, b=\"Hi\")"
      ],
      "execution_count": null,
      "outputs": [
        {
          "output_type": "stream",
          "name": "stdout",
          "text": [
            "1\n",
            "Hi\n",
            "(2, 3, 4, 5, 6, 7, 8, 9)\n"
          ]
        }
      ]
    },
    {
      "cell_type": "markdown",
      "metadata": {
        "id": "p4B8PAtkcCcz"
      },
      "source": [
        "### Keyword Argument?\n",
        "\n",
        "파라미터에 값을 넣어줄 때 파라미터의 변수명을 같이 기입하는 것"
      ]
    },
    {
      "cell_type": "code",
      "metadata": {
        "colab": {
          "base_uri": "https://localhost:8080/"
        },
        "id": "pgWRnz9Yca5T",
        "outputId": "0381ea52-14bd-4e3a-de63-a9170e4d6e5c"
      },
      "source": [
        "def too(a, b, c):\n",
        "  print(a, b, c)\n",
        "\n",
        "too(10, 20, 30) # 파라미터 a, b, c의 순서에 맞춰서 아규먼트를 집어 넣은 것( Positional Argument )\n",
        "too(b=20, c=30, a=10) # 파라미터의 이름을 기입해서 집어 넣기"
      ],
      "execution_count": null,
      "outputs": [
        {
          "output_type": "stream",
          "name": "stdout",
          "text": [
            "10 20 30\n",
            "10 20 30\n"
          ]
        }
      ]
    },
    {
      "cell_type": "markdown",
      "metadata": {
        "id": "aIiUsRhPc62D"
      },
      "source": [
        "## `**kwargs`\n",
        "* 입력된 keyword argument들을 dict로 정리"
      ]
    },
    {
      "cell_type": "code",
      "metadata": {
        "id": "o1Cuh3TkdOdc"
      },
      "source": [
        "def yoo(a, b, **kwargs):\n",
        "  print(a)\n",
        "  print(b)\n",
        "  print(kwargs)"
      ],
      "execution_count": null,
      "outputs": []
    },
    {
      "cell_type": "code",
      "metadata": {
        "colab": {
          "base_uri": "https://localhost:8080/"
        },
        "id": "6UQpEALlddSE",
        "outputId": "7d9d575e-9a5a-48e4-e4c8-cb0d4d71fcc2"
      },
      "source": [
        "yoo(10, 20, c=30, d=40, e=50)"
      ],
      "execution_count": null,
      "outputs": [
        {
          "output_type": "stream",
          "name": "stdout",
          "text": [
            "10\n",
            "20\n",
            "{'c': 30, 'd': 40, 'e': 50}\n"
          ]
        }
      ]
    },
    {
      "cell_type": "markdown",
      "metadata": {
        "id": "tu4hd3eldm8B"
      },
      "source": [
        "keyword argument의 변수명이 `key`로, 값이 `value`로 `**kwargs`에 모아진다."
      ]
    },
    {
      "cell_type": "code",
      "metadata": {
        "colab": {
          "base_uri": "https://localhost:8080/"
        },
        "id": "STRFFfMwdwbE",
        "outputId": "4634f4c7-b1e2-4d83-c1fa-e9e7e6f26032"
      },
      "source": [
        "def aoo(a, b, *args, **kwargs):\n",
        "  print(a)\n",
        "  print(b)\n",
        "  print(args)\n",
        "  print(kwargs)\n",
        "\n",
        "aoo(1, 2, 3, 4, 5, 6, 7, 8)\n",
        "print()\n",
        "aoo(1, 2, 3, 4, 5, 6, 7, c=20, d=30, e=40)"
      ],
      "execution_count": null,
      "outputs": [
        {
          "output_type": "stream",
          "name": "stdout",
          "text": [
            "1\n",
            "2\n",
            "(3, 4, 5, 6, 7, 8)\n",
            "{}\n",
            "\n",
            "1\n",
            "2\n",
            "(3, 4, 5, 6, 7)\n",
            "{'c': 20, 'd': 30, 'e': 40}\n"
          ]
        }
      ]
    },
    {
      "cell_type": "code",
      "metadata": {
        "colab": {
          "base_uri": "https://localhost:8080/",
          "height": 133
        },
        "id": "_Ru-vAYYeBUa",
        "outputId": "6de395d1-bea8-4408-cabf-e94323a9d4d7"
      },
      "source": [
        "# kewyord argument도 항상 오른쪽 부터 채운다\n",
        "aoo(1, 2, 3, a=10, 5, 6, 7)"
      ],
      "execution_count": null,
      "outputs": [
        {
          "output_type": "error",
          "ename": "SyntaxError",
          "evalue": "ignored",
          "traceback": [
            "\u001b[0;36m  File \u001b[0;32m\"<ipython-input-41-8c86087fcdda>\"\u001b[0;36m, line \u001b[0;32m2\u001b[0m\n\u001b[0;31m    aoo(1, 2, 3, a=10, 5, 6, 7)\u001b[0m\n\u001b[0m                      ^\u001b[0m\n\u001b[0;31mSyntaxError\u001b[0m\u001b[0;31m:\u001b[0m positional argument follows keyword argument\n"
          ]
        }
      ]
    },
    {
      "cell_type": "code",
      "metadata": {
        "id": "T0Fv7KFOecuR"
      },
      "source": [
        "# default parameter를 사용하는 의미가 없다..\n",
        "def boo(a, b, c=30, d=40, *args, **kwargs): # 이렇게 사용하는 경우는 거의 없어요...\n",
        "  print(a)\n",
        "  print(b)\n",
        "  print(c)\n",
        "  print(d)\n",
        "  print(args)\n",
        "  print(kwargs)"
      ],
      "execution_count": null,
      "outputs": []
    },
    {
      "cell_type": "code",
      "metadata": {
        "colab": {
          "base_uri": "https://localhost:8080/"
        },
        "id": "Z4AIZYKVetZy",
        "outputId": "a7e17ab6-5840-4024-dd2a-d3c6c936dd40"
      },
      "source": [
        "boo(1, 2, 3, 4, 5, 6, 7, e=10, f=30)"
      ],
      "execution_count": null,
      "outputs": [
        {
          "output_type": "stream",
          "name": "stdout",
          "text": [
            "1\n",
            "2\n",
            "3\n",
            "4\n",
            "(5, 6, 7)\n",
            "{'e': 10, 'f': 30}\n"
          ]
        }
      ]
    },
    {
      "cell_type": "code",
      "metadata": {
        "colab": {
          "base_uri": "https://localhost:8080/",
          "height": 168
        },
        "id": "18A1qaPsfDDz",
        "outputId": "d2687392-5ffb-4f02-b62e-7c29d257902f"
      },
      "source": [
        "boo(1, 2, 3, 4, 5, 6, 7, e=10, f=30, c=50, d=\"Hello\")"
      ],
      "execution_count": null,
      "outputs": [
        {
          "output_type": "error",
          "ename": "TypeError",
          "evalue": "ignored",
          "traceback": [
            "\u001b[0;31m---------------------------------------------------------------------------\u001b[0m",
            "\u001b[0;31mTypeError\u001b[0m                                 Traceback (most recent call last)",
            "\u001b[0;32m<ipython-input-49-2593906c790d>\u001b[0m in \u001b[0;36m<module>\u001b[0;34m()\u001b[0m\n\u001b[0;32m----> 1\u001b[0;31m \u001b[0mboo\u001b[0m\u001b[0;34m(\u001b[0m\u001b[0;36m1\u001b[0m\u001b[0;34m,\u001b[0m \u001b[0;36m2\u001b[0m\u001b[0;34m,\u001b[0m \u001b[0;36m3\u001b[0m\u001b[0;34m,\u001b[0m \u001b[0;36m4\u001b[0m\u001b[0;34m,\u001b[0m \u001b[0;36m5\u001b[0m\u001b[0;34m,\u001b[0m \u001b[0;36m6\u001b[0m\u001b[0;34m,\u001b[0m \u001b[0;36m7\u001b[0m\u001b[0;34m,\u001b[0m \u001b[0me\u001b[0m\u001b[0;34m=\u001b[0m\u001b[0;36m10\u001b[0m\u001b[0;34m,\u001b[0m \u001b[0mf\u001b[0m\u001b[0;34m=\u001b[0m\u001b[0;36m30\u001b[0m\u001b[0;34m,\u001b[0m\u001b[0mc\u001b[0m\u001b[0;34m=\u001b[0m\u001b[0;36m50\u001b[0m\u001b[0;34m,\u001b[0m \u001b[0md\u001b[0m\u001b[0;34m=\u001b[0m\u001b[0;34m\"Hello\"\u001b[0m\u001b[0;34m)\u001b[0m\u001b[0;34m\u001b[0m\u001b[0;34m\u001b[0m\u001b[0m\n\u001b[0m",
            "\u001b[0;31mTypeError\u001b[0m: boo() got multiple values for argument 'c'"
          ]
        }
      ]
    },
    {
      "cell_type": "code",
      "metadata": {
        "id": "LojACK1IfYmJ"
      },
      "source": [
        ""
      ],
      "execution_count": null,
      "outputs": []
    }
  ]
}