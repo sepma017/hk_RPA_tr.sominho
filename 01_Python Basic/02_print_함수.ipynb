{
  "nbformat": 4,
  "nbformat_minor": 0,
  "metadata": {
    "colab": {
      "name": "02. print 함수",
      "provenance": [],
      "collapsed_sections": []
    },
    "kernelspec": {
      "name": "python3",
      "display_name": "Python 3"
    },
    "language_info": {
      "name": "python"
    }
  },
  "cells": [
    {
      "cell_type": "markdown",
      "metadata": {
        "id": "iYc1FtCtLGLX"
      },
      "source": [
        "# print 함수\n",
        "* 입력한 내용을 **출력**하는 **기능**\n",
        "* 함수란? 특정 기능을 원할 때마다 실행해서 사용"
      ]
    },
    {
      "cell_type": "code",
      "metadata": {
        "colab": {
          "base_uri": "https://localhost:8080/"
        },
        "id": "deC_fdrtLRxU",
        "outputId": "1b6fbeb9-72b2-4a17-8999-b357f1c4768b"
      },
      "source": [
        "# print를 안쓰고 노트북에 출력하기\n",
        "a = 1\n",
        "a"
      ],
      "execution_count": null,
      "outputs": [
        {
          "output_type": "execute_result",
          "data": {
            "text/plain": [
              "1"
            ]
          },
          "metadata": {},
          "execution_count": 1
        }
      ]
    },
    {
      "cell_type": "code",
      "metadata": {
        "colab": {
          "base_uri": "https://localhost:8080/"
        },
        "id": "ko0CB0VeL8vq",
        "outputId": "16bf1055-2c7c-477c-a0fc-c5c394445f27"
      },
      "source": [
        "b = 3\n",
        "b\n",
        "a"
      ],
      "execution_count": null,
      "outputs": [
        {
          "output_type": "execute_result",
          "data": {
            "text/plain": [
              "1"
            ]
          },
          "metadata": {},
          "execution_count": 2
        }
      ]
    },
    {
      "cell_type": "code",
      "metadata": {
        "colab": {
          "base_uri": "https://localhost:8080/"
        },
        "id": "HW2yuMJLMO0i",
        "outputId": "f5cd8c86-6f24-44be-8043-2fa29d10aeb4"
      },
      "source": [
        "# print를 사용해서 노트북에 출력하기\n",
        "c = 1\n",
        "d = 3\n",
        "\n",
        "print(c)\n",
        "print(d)"
      ],
      "execution_count": null,
      "outputs": [
        {
          "output_type": "stream",
          "name": "stdout",
          "text": [
            "1\n",
            "3\n"
          ]
        }
      ]
    },
    {
      "cell_type": "code",
      "metadata": {
        "colab": {
          "base_uri": "https://localhost:8080/"
        },
        "id": "budYTdT4Mhsr",
        "outputId": "9aaa3cd1-5bc1-4697-a345-5c44c9db4b9d"
      },
      "source": [
        "print(c, d)"
      ],
      "execution_count": null,
      "outputs": [
        {
          "output_type": "stream",
          "name": "stdout",
          "text": [
            "1 3\n"
          ]
        }
      ]
    },
    {
      "cell_type": "code",
      "metadata": {
        "colab": {
          "base_uri": "https://localhost:8080/"
        },
        "id": "ZP8v3ghuMxvq",
        "outputId": "14ac1932-6f01-4acf-cdf0-494025bfca7e"
      },
      "source": [
        "print(c, d, sep=\"😊😊😊😊😊\")\n"
      ],
      "execution_count": null,
      "outputs": [
        {
          "output_type": "stream",
          "name": "stdout",
          "text": [
            "1😊😊😊😊😊3\n"
          ]
        }
      ]
    },
    {
      "cell_type": "code",
      "metadata": {
        "colab": {
          "base_uri": "https://localhost:8080/"
        },
        "id": "-R9gMTsBM_Vr",
        "outputId": "818f5258-6b54-4ac6-b8a4-d76d929b25c5"
      },
      "source": [
        "print(\"Hello\", 10, 100, \"hi\", \"bye\", True, 3.14, 10)"
      ],
      "execution_count": null,
      "outputs": [
        {
          "output_type": "stream",
          "name": "stdout",
          "text": [
            "Hello 10 100 hi bye True 3.14 10\n"
          ]
        }
      ]
    },
    {
      "cell_type": "code",
      "metadata": {
        "colab": {
          "base_uri": "https://localhost:8080/"
        },
        "id": "O7uIETS8Ok1j",
        "outputId": "719750b6-6913-4d14-b858-365ba4b2a6e2"
      },
      "source": [
        "print(\"Hello\", 10, 100, \"hi\", \"bye\", True, 3.14, 10, sep=\"*\")"
      ],
      "execution_count": null,
      "outputs": [
        {
          "output_type": "stream",
          "name": "stdout",
          "text": [
            "Hello*10*100*hi*bye*True*3.14*10\n"
          ]
        }
      ]
    },
    {
      "cell_type": "code",
      "metadata": {
        "colab": {
          "base_uri": "https://localhost:8080/"
        },
        "id": "pp5EBevdPPFr",
        "outputId": "e8857543-e107-4361-a46c-4a4626cc564c"
      },
      "source": [
        "name = \"소민호\"\n",
        "age = 30\n",
        "\n",
        "print(\"이름 : \", name, \",\", \"나이 : \", age)"
      ],
      "execution_count": null,
      "outputs": [
        {
          "output_type": "stream",
          "name": "stdout",
          "text": [
            "이름 :  소민호 , 나이 :  30\n"
          ]
        }
      ]
    }
  ]
}