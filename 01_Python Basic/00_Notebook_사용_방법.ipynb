{
  "nbformat": 4,
  "nbformat_minor": 0,
  "metadata": {
    "colab": {
      "name": "00. Notebook 사용 방법",
      "provenance": []
    },
    "kernelspec": {
      "name": "python3",
      "display_name": "Python 3"
    },
    "language_info": {
      "name": "python"
    }
  },
  "cells": [
    {
      "cell_type": "markdown",
      "metadata": {
        "id": "FlUKNUkgT7gU"
      },
      "source": [
        "# 제목1\n",
        "## 제목2\n",
        "### 제목3\n",
        "#### 제목4\n",
        "##### 제목5\n"
      ]
    },
    {
      "cell_type": "markdown",
      "metadata": {
        "id": "sE66tdSRVRRd"
      },
      "source": [
        "* 목록1\n",
        "- 목록2\n",
        "* 목록3\n",
        "  * 목록 3-1"
      ]
    },
    {
      "cell_type": "markdown",
      "metadata": {
        "id": "o0yllOoOVu_8"
      },
      "source": [
        "1. 숫자 목록1\n",
        "2. 숫자 목록2\n",
        "3. 숫자 목록3\n",
        "  * 목록3-1\n"
      ]
    },
    {
      "cell_type": "markdown",
      "metadata": {
        "id": "Y7HEPbhIWR-u"
      },
      "source": [
        "# Latex 알아보기\n",
        "\n",
        "1. 인라인 수식\n",
        "  * 인라인 수식은 마크다운 작성 중간에 들어가는 수식을 의미합니다. $a=3$, $b=4$이면, $a+b=7$\n",
        "2. 블록 수식\n",
        "  * 하나의 칸을 모두 사용해서 가운데에 수식을 작성합니다.\n",
        "\n",
        "$$\n",
        "\\sum_{i=1}^{n}(a_i+b_i)\n",
        "$$"
      ]
    },
    {
      "cell_type": "code",
      "metadata": {
        "colab": {
          "base_uri": "https://localhost:8080/"
        },
        "id": "8IqXUQ2jW1dW",
        "outputId": "2591591e-7122-44cc-df26-6e8c4d2ae533"
      },
      "source": [
        "a = 1\n",
        "b = 2\n",
        "\n",
        "a + b"
      ],
      "execution_count": null,
      "outputs": [
        {
          "output_type": "execute_result",
          "data": {
            "text/plain": [
              "3"
            ]
          },
          "metadata": {},
          "execution_count": 1
        }
      ]
    },
    {
      "cell_type": "code",
      "metadata": {
        "id": "KUgLXZ_YYdJ9"
      },
      "source": [
        ""
      ],
      "execution_count": null,
      "outputs": []
    }
  ]
}