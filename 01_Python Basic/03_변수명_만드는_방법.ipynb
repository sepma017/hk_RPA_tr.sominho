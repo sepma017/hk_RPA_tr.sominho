{
  "nbformat": 4,
  "nbformat_minor": 0,
  "metadata": {
    "colab": {
      "name": "03. 변수명 만드는 방법",
      "provenance": [],
      "collapsed_sections": []
    },
    "kernelspec": {
      "name": "python3",
      "display_name": "Python 3"
    },
    "language_info": {
      "name": "python"
    }
  },
  "cells": [
    {
      "cell_type": "markdown",
      "metadata": {
        "id": "w_Vm_ZAWBJJE"
      },
      "source": [
        "# 변수 네이밍 규칙\n",
        "* 관례\n",
        "* 단어와 단어가 이어지는 사이를 `_`로 이어주는 snake case를 활용"
      ]
    },
    {
      "cell_type": "code",
      "metadata": {
        "id": "chPY4BKUBqGZ"
      },
      "source": [
        "# 1. 변수의 제일 앞글자에 특수 문자는 올 수 없다. (_ 제외)\n",
        "_student = \"MINHO\" # 상수처럼 변수를 사용해야 할 때 사용"
      ],
      "execution_count": null,
      "outputs": []
    },
    {
      "cell_type": "code",
      "metadata": {
        "colab": {
          "base_uri": "https://localhost:8080/",
          "height": 133
        },
        "id": "RRQZPUgrCVZQ",
        "outputId": "e2d3127e-2200-4819-e189-dd19a10e16b3"
      },
      "source": [
        "^a = 10"
      ],
      "execution_count": null,
      "outputs": [
        {
          "output_type": "error",
          "ename": "SyntaxError",
          "evalue": "ignored",
          "traceback": [
            "\u001b[0;36m  File \u001b[0;32m\"<ipython-input-2-0017288a65b2>\"\u001b[0;36m, line \u001b[0;32m1\u001b[0m\n\u001b[0;31m    ^a = 10\u001b[0m\n\u001b[0m    ^\u001b[0m\n\u001b[0;31mSyntaxError\u001b[0m\u001b[0;31m:\u001b[0m invalid syntax\n"
          ]
        }
      ]
    },
    {
      "cell_type": "code",
      "metadata": {
        "colab": {
          "base_uri": "https://localhost:8080/",
          "height": 133
        },
        "id": "Rsc9tcy2CaEZ",
        "outputId": "cbcc4608-1292-4c62-be29-58cf1c01b91d"
      },
      "source": [
        "# 2. 숫자도 변수명 제일 앞에 올 수 없다.\n",
        "1a = 3"
      ],
      "execution_count": null,
      "outputs": [
        {
          "output_type": "error",
          "ename": "SyntaxError",
          "evalue": "ignored",
          "traceback": [
            "\u001b[0;36m  File \u001b[0;32m\"<ipython-input-3-1b2d9c19aa6f>\"\u001b[0;36m, line \u001b[0;32m2\u001b[0m\n\u001b[0;31m    1a = 3\u001b[0m\n\u001b[0m     ^\u001b[0m\n\u001b[0;31mSyntaxError\u001b[0m\u001b[0;31m:\u001b[0m invalid syntax\n"
          ]
        }
      ]
    },
    {
      "cell_type": "markdown",
      "metadata": {
        "id": "MYI-T7F3CzuY"
      },
      "source": [
        "invalid syntax 오류는 보통 **오타** 때문에 난다."
      ]
    },
    {
      "cell_type": "markdown",
      "metadata": {
        "id": "LRJ1rmgyDAbu"
      },
      "source": [
        "# 사용하면 안되는 변수의 이름\n",
        "* reserved keywords (예약어)\n",
        "  * 파이썬에서 미리 선점하여 사용중인 키워드\n",
        "  * 변수, 함수, 클래스 등등의 **사용자 정의 이름**으로 사용이 불가\n"
      ]
    },
    {
      "cell_type": "code",
      "metadata": {
        "id": "r9iiyQvBDpyY"
      },
      "source": [
        "# 절대 외우지 마세요!!!\n",
        "#  문법적인 키워드\n",
        "for\n",
        "while \n",
        "if\n",
        "elif \n",
        "else \n",
        "class\n",
        "try\n",
        "except"
      ],
      "execution_count": null,
      "outputs": []
    }
  ]
}