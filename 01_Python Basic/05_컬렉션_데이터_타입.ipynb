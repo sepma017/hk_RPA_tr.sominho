{
  "nbformat": 4,
  "nbformat_minor": 0,
  "metadata": {
    "colab": {
      "name": "05. 컬렉션 데이터 타입",
      "provenance": [],
      "collapsed_sections": []
    },
    "kernelspec": {
      "name": "python3",
      "display_name": "Python 3"
    },
    "language_info": {
      "name": "python"
    }
  },
  "cells": [
    {
      "cell_type": "markdown",
      "metadata": {
        "id": "Sjw1BJEyJw5r"
      },
      "source": [
        "# 컬렉션\n",
        "* 무엇인가를 모았다!\n",
        "* 파이썬의 컬렉션은 **파이썬에 존재하는 모든 것을** 모을 수 있다.\n",
        "* 어떠한 데이터를 모아낸 구조\n",
        "  * **자료구조**"
      ]
    },
    {
      "cell_type": "markdown",
      "metadata": {
        "id": "kPczNQNOJ70k"
      },
      "source": [
        "# 컬렉션의 종류\n",
        "* list\n",
        "  * Sequence\n",
        "  * 데이터에 대한 수정이 가능하다.\n",
        "  * 중복 데이터 저장도 가능하다.\n",
        "  * `[]` 또는 `list()` 를 이용해서 만든다.\n",
        "* tuple\n",
        "  * Sequence\n",
        "  * 데이터에 대한 수정이 **불가능**하다.\n",
        "  * 중복 데이터 저장도 가능하다.\n",
        "  * `()`를 활용하거나 단순하게 데이터를 나열해서 만든다.\n",
        "* set\n",
        "* dict\n",
        "* generator"
      ]
    },
    {
      "cell_type": "markdown",
      "metadata": {
        "id": "tDZtrWkdah-H"
      },
      "source": [
        "#### list"
      ]
    },
    {
      "cell_type": "code",
      "metadata": {
        "colab": {
          "base_uri": "https://localhost:8080/"
        },
        "id": "3JMA3-knKgD6",
        "outputId": "de630319-4563-4dd0-de24-289503c1cc88"
      },
      "source": [
        "# list - 데이터에 대한 추가, 삭제, 수정이 가능 - mutable\n",
        "# tuple - 데이터에 대한 추가, 삭제, 수정이 불가능 - immutable\n",
        "\n",
        "list1 = [1, 2, 3, \"four\", [5, 6], 7.0, True]\n",
        "list1"
      ],
      "execution_count": null,
      "outputs": [
        {
          "output_type": "execute_result",
          "data": {
            "text/plain": [
              "[1, 2, 3, 'four', [5, 6], 7.0, True]"
            ]
          },
          "metadata": {},
          "execution_count": 32
        }
      ]
    },
    {
      "cell_type": "markdown",
      "metadata": {
        "id": "0OkwlIR4MRmG"
      },
      "source": [
        "`list1`에는 몇 개의 아이템? 7개"
      ]
    },
    {
      "cell_type": "code",
      "metadata": {
        "colab": {
          "base_uri": "https://localhost:8080/"
        },
        "id": "syzuMC7ONjAO",
        "outputId": "cad3ae10-677e-49e1-adc2-263f812eb58e"
      },
      "source": [
        "len(list1)"
      ],
      "execution_count": null,
      "outputs": [
        {
          "output_type": "execute_result",
          "data": {
            "text/plain": [
              "7"
            ]
          },
          "metadata": {},
          "execution_count": 5
        }
      ]
    },
    {
      "cell_type": "code",
      "metadata": {
        "colab": {
          "base_uri": "https://localhost:8080/"
        },
        "id": "TQAA9hbpNnnl",
        "outputId": "3da23c66-9b8a-4c2c-9377-0d7ea04152aa"
      },
      "source": [
        "# offset index 사용이 가능\n",
        "print(list1[3]) # 'four'\n",
        "print(list1[2]) # 3\n",
        "print(list1[4]) # [5, 6]"
      ],
      "execution_count": null,
      "outputs": [
        {
          "output_type": "stream",
          "name": "stdout",
          "text": [
            "four\n",
            "3\n",
            "[5, 6]\n"
          ]
        }
      ]
    },
    {
      "cell_type": "code",
      "metadata": {
        "colab": {
          "base_uri": "https://localhost:8080/"
        },
        "id": "_iR78yO2OKjo",
        "outputId": "10b1c310-470a-4be6-ecb8-368ccd05dc78"
      },
      "source": [
        "print(list1[4][1])"
      ],
      "execution_count": null,
      "outputs": [
        {
          "output_type": "stream",
          "name": "stdout",
          "text": [
            "6\n"
          ]
        }
      ]
    },
    {
      "cell_type": "code",
      "metadata": {
        "colab": {
          "base_uri": "https://localhost:8080/"
        },
        "id": "b7wKAIvPPnZW",
        "outputId": "b9532275-1142-4b9f-d56c-0005f171c9d1"
      },
      "source": [
        "BTS = [\"정국\", \"슈가\", \"뷔\", \"랩몬스터\", \"지민\", \"제이홉\", \"진\"]\n",
        "\n",
        "# 문제 1 \"랩몬스터\" - \"몬스터\" 추출\n",
        "print(BTS[3][1:])\n",
        "\n",
        "# 문제 2 정국, 뷔, 지민, 진 추출\n",
        "print(BTS[::2])"
      ],
      "execution_count": null,
      "outputs": [
        {
          "output_type": "stream",
          "name": "stdout",
          "text": [
            "몬스터\n",
            "['정국', '뷔', '지민', '진']\n"
          ]
        }
      ]
    },
    {
      "cell_type": "markdown",
      "metadata": {
        "id": "jYCDGm2eRgIW"
      },
      "source": [
        "list의 함수들\n",
        "* `append()` ★★★★★\n",
        "  * 리스트의 제일 뒤에 값을 추가한다.\n",
        "* `sort()`\n",
        "  * 오름차순 정렬\n",
        "  * `reverse=True` 설정하면 내림차순 정렬\n",
        "* `pop()`\n",
        "  * 제일 뒤에 있는 데이터를 꺼내고 삭제"
      ]
    },
    {
      "cell_type": "code",
      "metadata": {
        "id": "BN1JYBEFTNsd"
      },
      "source": [
        "list2 = [1, 2]\n",
        "list2.append(3)"
      ],
      "execution_count": null,
      "outputs": []
    },
    {
      "cell_type": "code",
      "metadata": {
        "colab": {
          "base_uri": "https://localhost:8080/"
        },
        "id": "OW3UquJoXRWf",
        "outputId": "ed9a1fff-c177-41ef-ed6e-34855e7002f6"
      },
      "source": [
        "print(list2)"
      ],
      "execution_count": null,
      "outputs": [
        {
          "output_type": "stream",
          "name": "stdout",
          "text": [
            "[1, 2, 3]\n"
          ]
        }
      ]
    },
    {
      "cell_type": "code",
      "metadata": {
        "colab": {
          "base_uri": "https://localhost:8080/"
        },
        "id": "tjmt5b_uXmt4",
        "outputId": "1e5560a6-4c53-47a6-bb4e-1cb4f8322455"
      },
      "source": [
        "list2.append(8)\n",
        "list2.append(5)\n",
        "print(list2)"
      ],
      "execution_count": null,
      "outputs": [
        {
          "output_type": "stream",
          "name": "stdout",
          "text": [
            "[1, 2, 3, 8, 5]\n"
          ]
        }
      ]
    },
    {
      "cell_type": "code",
      "metadata": {
        "id": "2Wgai8U5Xw82"
      },
      "source": [
        "list2.sort() # 오름차순 정렬"
      ],
      "execution_count": null,
      "outputs": []
    },
    {
      "cell_type": "code",
      "metadata": {
        "colab": {
          "base_uri": "https://localhost:8080/"
        },
        "id": "ctYEVbPlX8Ov",
        "outputId": "69f67097-7416-44e0-e24d-edf526779bb0"
      },
      "source": [
        "print(list2)"
      ],
      "execution_count": null,
      "outputs": [
        {
          "output_type": "stream",
          "name": "stdout",
          "text": [
            "[1, 2, 3, 5, 8]\n"
          ]
        }
      ]
    },
    {
      "cell_type": "code",
      "metadata": {
        "colab": {
          "base_uri": "https://localhost:8080/"
        },
        "id": "RziRZ5FaX-cW",
        "outputId": "7efd75d0-14f7-445d-b8e0-48074d50f2c9"
      },
      "source": [
        "list2.sort(reverse=True) # 내림차순\n",
        "print(list2)"
      ],
      "execution_count": null,
      "outputs": [
        {
          "output_type": "stream",
          "name": "stdout",
          "text": [
            "[8, 5, 3, 2, 1]\n"
          ]
        }
      ]
    },
    {
      "cell_type": "code",
      "metadata": {
        "colab": {
          "base_uri": "https://localhost:8080/"
        },
        "id": "UEsztneHYIaS",
        "outputId": "c0674123-f37e-4f55-e786-00a86210b759"
      },
      "source": [
        "list3 = [\"banana\", \"apple\", \"cherry\", \"orange\", \"mango\"]\n",
        "list3.sort()\n",
        "print(list3)"
      ],
      "execution_count": null,
      "outputs": [
        {
          "output_type": "stream",
          "name": "stdout",
          "text": [
            "['apple', 'banana', 'cherry', 'mango', 'orange']\n"
          ]
        }
      ]
    },
    {
      "cell_type": "code",
      "metadata": {
        "colab": {
          "base_uri": "https://localhost:8080/"
        },
        "id": "VkI-7OTeYi2-",
        "outputId": "1cc26076-d607-41c8-9d88-06fb30f2dd0a"
      },
      "source": [
        "list4 = [\"Apple\", \"apple\", \"banana\", \"Banana\"]\n",
        "list4.sort()\n",
        "print(list4)"
      ],
      "execution_count": null,
      "outputs": [
        {
          "output_type": "stream",
          "name": "stdout",
          "text": [
            "['Apple', 'Banana', 'apple', 'banana']\n"
          ]
        }
      ]
    },
    {
      "cell_type": "code",
      "metadata": {
        "colab": {
          "base_uri": "https://localhost:8080/"
        },
        "id": "i4irBuaeYqfJ",
        "outputId": "3175831c-378a-41f1-fe09-896ba728fb3b"
      },
      "source": [
        "list4.sort(reverse=True)\n",
        "print(list4)"
      ],
      "execution_count": null,
      "outputs": [
        {
          "output_type": "stream",
          "name": "stdout",
          "text": [
            "['banana', 'apple', 'Banana', 'Apple']\n"
          ]
        }
      ]
    },
    {
      "cell_type": "code",
      "metadata": {
        "colab": {
          "base_uri": "https://localhost:8080/"
        },
        "id": "4uup0KDXY4-W",
        "outputId": "3dfa0f9f-3924-4db4-b407-0f38a419f8ad"
      },
      "source": [
        "list1"
      ],
      "execution_count": null,
      "outputs": [
        {
          "output_type": "execute_result",
          "data": {
            "text/plain": [
              "[1, 2, 3, 'four', [5, 6], 7.0, True]"
            ]
          },
          "metadata": {},
          "execution_count": 23
        }
      ]
    },
    {
      "cell_type": "code",
      "metadata": {
        "id": "JAmuyhCVZ81y"
      },
      "source": [
        "list1 = [1, 2, 3, \"four\", [5, 6], 7.0, True]"
      ],
      "execution_count": null,
      "outputs": []
    },
    {
      "cell_type": "code",
      "metadata": {
        "colab": {
          "base_uri": "https://localhost:8080/"
        },
        "id": "qgnIq4oCZMLv",
        "outputId": "bcf4a89f-80f4-43aa-ae35-e5145a56cd8c"
      },
      "source": [
        "# ctrl + enter : 셀 추가 없이 현재 셀을 실행만 하는 단축키\n",
        "item = list1.pop()\n",
        "\n",
        "print(item, list1)"
      ],
      "execution_count": null,
      "outputs": [
        {
          "output_type": "stream",
          "name": "stdout",
          "text": [
            "7.0 [1, 2, 3, 'four', [5, 6]]\n"
          ]
        }
      ]
    },
    {
      "cell_type": "markdown",
      "metadata": {
        "id": "LCDu_-0EaCQo"
      },
      "source": [
        "#### tuple\n",
        "* 리스트와 똑같지만 수정(추가, 삭제, 수정)이 불가\n",
        "* 튜플은 리스트보다 같은 데이터를 가졌을 때 공간을 적게 사용"
      ]
    },
    {
      "cell_type": "code",
      "metadata": {
        "colab": {
          "base_uri": "https://localhost:8080/"
        },
        "id": "1-XZfG64agN-",
        "outputId": "93691f15-33be-411e-aeaa-09462d9a330b"
      },
      "source": [
        "# 리스트는 아이템 수정이 가능하다\n",
        "lst = [1, 2, 3]\n",
        "print(lst)\n",
        "lst[1] = \"hahaha\" # 데이터 수정\n",
        "print(lst)"
      ],
      "execution_count": null,
      "outputs": [
        {
          "output_type": "stream",
          "name": "stdout",
          "text": [
            "[1, 2, 3]\n",
            "[1, 'hahaha', 3]\n"
          ]
        }
      ]
    },
    {
      "cell_type": "code",
      "metadata": {
        "colab": {
          "base_uri": "https://localhost:8080/"
        },
        "id": "odx_gZhpbBUO",
        "outputId": "d4d133c5-00b0-4ebd-ef06-23a6be82797f"
      },
      "source": [
        "# 튜플은 아이템 수정이 불가능\n",
        "tup = (1, 2, 3)\n",
        "print(tup)\n",
        "# tup[1] = \"hahaha\" # 데이터 수정이 불가능!\n",
        "# print(tup)"
      ],
      "execution_count": null,
      "outputs": [
        {
          "output_type": "stream",
          "name": "stdout",
          "text": [
            "(1, 2, 3)\n"
          ]
        }
      ]
    },
    {
      "cell_type": "code",
      "metadata": {
        "id": "o-R62buqbiQH"
      },
      "source": [
        "# tup.sort() # 정렬도 불가능!"
      ],
      "execution_count": null,
      "outputs": []
    },
    {
      "cell_type": "code",
      "metadata": {
        "colab": {
          "base_uri": "https://localhost:8080/"
        },
        "id": "nbzyx8Fsb4P2",
        "outputId": "c630d126-58cb-4441-dcb6-a91f0da0a959"
      },
      "source": [
        "# tuple도 시퀀스니까 offset index, slicing 가능\n",
        "print(tup[0])"
      ],
      "execution_count": null,
      "outputs": [
        {
          "output_type": "stream",
          "name": "stdout",
          "text": [
            "1\n"
          ]
        }
      ]
    },
    {
      "cell_type": "code",
      "metadata": {
        "colab": {
          "base_uri": "https://localhost:8080/"
        },
        "id": "OZ1WRjCYcjMW",
        "outputId": "7a7d96e4-b71e-407c-a4be-cb5a9e451bca"
      },
      "source": [
        "print(tup[:2])"
      ],
      "execution_count": null,
      "outputs": [
        {
          "output_type": "stream",
          "name": "stdout",
          "text": [
            "(1, 2)\n"
          ]
        }
      ]
    },
    {
      "cell_type": "code",
      "metadata": {
        "colab": {
          "base_uri": "https://localhost:8080/"
        },
        "id": "8cXDyHLqcn9W",
        "outputId": "21e91d1a-f7ad-49bf-cb8d-c53cdaac6880"
      },
      "source": [
        "print(tup)"
      ],
      "execution_count": null,
      "outputs": [
        {
          "output_type": "stream",
          "name": "stdout",
          "text": [
            "(1, 2, 3)\n"
          ]
        }
      ]
    },
    {
      "cell_type": "code",
      "metadata": {
        "colab": {
          "base_uri": "https://localhost:8080/"
        },
        "id": "uK7gdIw9cqe2",
        "outputId": "fd15fd7e-ca0d-47a8-ae26-18e925e2c59e"
      },
      "source": [
        "print(tup[::-1])"
      ],
      "execution_count": null,
      "outputs": [
        {
          "output_type": "stream",
          "name": "stdout",
          "text": [
            "(3, 2, 1)\n"
          ]
        }
      ]
    },
    {
      "cell_type": "code",
      "metadata": {
        "colab": {
          "base_uri": "https://localhost:8080/"
        },
        "id": "JTSBUbTec02m",
        "outputId": "6b73d5c3-c54a-4835-bf3d-785def6071cd"
      },
      "source": [
        "# 그냥 공부하지 마시고 참고만 하세요~~~\n",
        "# 리스트와 튜플의 저장공간 크기 비교\n",
        "import sys\n",
        "\n",
        "lst = [1, 2, 3]\n",
        "tup = 1, 2, 3 # 소괄호 생략 가능\n",
        "\n",
        "print(sys.getsizeof(lst))\n",
        "print(sys.getsizeof(tup))"
      ],
      "execution_count": null,
      "outputs": [
        {
          "output_type": "stream",
          "name": "stdout",
          "text": [
            "96\n",
            "80\n"
          ]
        }
      ]
    },
    {
      "cell_type": "markdown",
      "metadata": {
        "id": "grSfHN4sdcNd"
      },
      "source": [
        "### 패킹(Packing), 언패킹(UnPacking) ★★★★★\n",
        "* 패킹 : 데이터를 모아 놓는 작업\n",
        "* **언패킹** : 모아 낸 데이터를 풀어 놓는 작업"
      ]
    },
    {
      "cell_type": "code",
      "metadata": {
        "colab": {
          "base_uri": "https://localhost:8080/"
        },
        "id": "WY69HOAieBSA",
        "outputId": "c1b6f2d5-7605-4b1e-ab82-da6f83a07b2b"
      },
      "source": [
        "# 패킹\n",
        "tup = ( 1, 'two', 3 ) # 튜플에 데이터를 3개를 모아 놓음\n",
        "\n",
        "# 언패킹\n",
        "item1, item2, item3 = tup\n",
        "\n",
        "print(item1)\n",
        "print(item2)\n",
        "print(item3)"
      ],
      "execution_count": null,
      "outputs": [
        {
          "output_type": "stream",
          "name": "stdout",
          "text": [
            "1\n",
            "two\n",
            "3\n"
          ]
        }
      ]
    },
    {
      "cell_type": "code",
      "metadata": {
        "colab": {
          "base_uri": "https://localhost:8080/",
          "height": 168
        },
        "id": "BQ_rG0bme0to",
        "outputId": "b34a9e3c-107f-4d2d-9c55-b62de0758d72"
      },
      "source": [
        "# 언패킹할 변수의 개수가 맞지 않으면 오류 발생!\n",
        "item1, item2 = tup"
      ],
      "execution_count": null,
      "outputs": [
        {
          "output_type": "error",
          "ename": "ValueError",
          "evalue": "ignored",
          "traceback": [
            "\u001b[0;31m---------------------------------------------------------------------------\u001b[0m",
            "\u001b[0;31mValueError\u001b[0m                                Traceback (most recent call last)",
            "\u001b[0;32m<ipython-input-53-2f3f094ae0e7>\u001b[0m in \u001b[0;36m<module>\u001b[0;34m()\u001b[0m\n\u001b[0;32m----> 1\u001b[0;31m \u001b[0mitem1\u001b[0m\u001b[0;34m,\u001b[0m \u001b[0mitem2\u001b[0m \u001b[0;34m=\u001b[0m \u001b[0;34m(\u001b[0m \u001b[0;36m1\u001b[0m\u001b[0;34m,\u001b[0m \u001b[0;34m'two'\u001b[0m\u001b[0;34m,\u001b[0m \u001b[0;36m3\u001b[0m \u001b[0;34m)\u001b[0m\u001b[0;34m\u001b[0m\u001b[0;34m\u001b[0m\u001b[0m\n\u001b[0m",
            "\u001b[0;31mValueError\u001b[0m: too many values to unpack (expected 2)"
          ]
        }
      ]
    },
    {
      "cell_type": "code",
      "metadata": {
        "colab": {
          "base_uri": "https://localhost:8080/",
          "height": 168
        },
        "id": "_pKYmZTkfHEe",
        "outputId": "1fa490d4-7b65-42e9-9a3b-20110b9f748f"
      },
      "source": [
        "item1, item2, item3, item4 = tup"
      ],
      "execution_count": null,
      "outputs": [
        {
          "output_type": "error",
          "ename": "ValueError",
          "evalue": "ignored",
          "traceback": [
            "\u001b[0;31m---------------------------------------------------------------------------\u001b[0m",
            "\u001b[0;31mValueError\u001b[0m                                Traceback (most recent call last)",
            "\u001b[0;32m<ipython-input-54-9f526cf3a5ab>\u001b[0m in \u001b[0;36m<module>\u001b[0;34m()\u001b[0m\n\u001b[0;32m----> 1\u001b[0;31m \u001b[0mitem1\u001b[0m\u001b[0;34m,\u001b[0m \u001b[0mitem2\u001b[0m\u001b[0;34m,\u001b[0m \u001b[0mitem3\u001b[0m\u001b[0;34m,\u001b[0m \u001b[0mitem4\u001b[0m \u001b[0;34m=\u001b[0m \u001b[0;34m(\u001b[0m \u001b[0;36m1\u001b[0m\u001b[0;34m,\u001b[0m \u001b[0;34m'two'\u001b[0m\u001b[0;34m,\u001b[0m \u001b[0;36m3\u001b[0m \u001b[0;34m)\u001b[0m\u001b[0;34m\u001b[0m\u001b[0;34m\u001b[0m\u001b[0m\n\u001b[0m",
            "\u001b[0;31mValueError\u001b[0m: not enough values to unpack (expected 4, got 3)"
          ]
        }
      ]
    },
    {
      "cell_type": "code",
      "metadata": {
        "id": "jiScMgAffZtH"
      },
      "source": [
        "# 실제 내가 필요한 데이터는 2개인데, 패킹된 데이터는 3개\n",
        "tup = ( 'one', 2, 'three' )\n",
        "\n",
        "item1 = tup[0]\n",
        "item2 = tup[1]"
      ],
      "execution_count": null,
      "outputs": []
    },
    {
      "cell_type": "code",
      "metadata": {
        "colab": {
          "base_uri": "https://localhost:8080/"
        },
        "id": "49IDzWAjf8LV",
        "outputId": "5f5851fa-21f9-40e5-c01c-712faf538206"
      },
      "source": [
        "# 관례상 필요 없는 패킹된 데이터는 언더바(_) 변수로 사용\n",
        "# _ 로 이름이 지어진 변수는 사용하지 않을 변수!\n",
        "\n",
        "item1, item2, _ = tup\n",
        "\n",
        "print(item1, item2)"
      ],
      "execution_count": null,
      "outputs": [
        {
          "output_type": "stream",
          "name": "stdout",
          "text": [
            "one 2\n"
          ]
        }
      ]
    },
    {
      "cell_type": "code",
      "metadata": {
        "colab": {
          "base_uri": "https://localhost:8080/",
          "height": 34
        },
        "id": "GeGdxtbMgSYA",
        "outputId": "6d25b4cc-1839-43c1-e353-6886767583bf"
      },
      "source": [
        "_"
      ],
      "execution_count": null,
      "outputs": [
        {
          "output_type": "execute_result",
          "data": {
            "application/vnd.google.colaboratory.intrinsic+json": {
              "type": "string"
            },
            "text/plain": [
              "'three'"
            ]
          },
          "metadata": {},
          "execution_count": 57
        }
      ]
    },
    {
      "cell_type": "code",
      "metadata": {
        "colab": {
          "base_uri": "https://localhost:8080/"
        },
        "id": "_6ziFRlXgVt_",
        "outputId": "a3b8eb1f-d19d-45f7-b0dd-02e284ff9d2c"
      },
      "source": [
        "# 1, 3만 사용하고 싶다\n",
        "tup = (1, 2, 3, 4)\n",
        "\n",
        "item1, _, item2, __ = tup\n",
        "print(item1, item2)"
      ],
      "execution_count": null,
      "outputs": [
        {
          "output_type": "stream",
          "name": "stdout",
          "text": [
            "1 3\n"
          ]
        }
      ]
    },
    {
      "cell_type": "markdown",
      "metadata": {
        "id": "vf-Ff3bwhFVp"
      },
      "source": [
        "# Set, Dict\n",
        "* Sequence가 아니다\n",
        "* 데이터 저장의 순서가 없음.\n",
        "* 중복 데이터의 저장도 허용하지 않는다.\n",
        "\n",
        "**집합**"
      ]
    },
    {
      "cell_type": "code",
      "metadata": {
        "colab": {
          "base_uri": "https://localhost:8080/"
        },
        "id": "jjf5w5kBhFJ4",
        "outputId": "89ea32b6-644d-409e-8e42-c4336db6f854"
      },
      "source": [
        "# set (집합)\n",
        "set1 = {1,1,1,2,3,3,3,3,3,4,4,4,4,5,5,5,5,6,6,6,7,7,7,7,7,7} # set\n",
        "lst1 = [1,1,1,2,3,3,3,3,3,4,4,4,4,5,5,5,5,6,6,6,7,7,7,7,7,7] # list\n",
        "\n",
        "print(set1)\n",
        "print(lst1)"
      ],
      "execution_count": null,
      "outputs": [
        {
          "output_type": "stream",
          "name": "stdout",
          "text": [
            "{1, 2, 3, 4, 5, 6, 7}\n",
            "[1, 1, 1, 2, 3, 3, 3, 3, 3, 4, 4, 4, 4, 5, 5, 5, 5, 6, 6, 6, 7, 7, 7, 7, 7, 7]\n"
          ]
        }
      ]
    },
    {
      "cell_type": "code",
      "metadata": {
        "colab": {
          "base_uri": "https://localhost:8080/"
        },
        "id": "FRS48lFemFC4",
        "outputId": "80680239-969c-4bfe-9776-ee67afa50d6e"
      },
      "source": [
        "set2 = {\"apple\", \"banana\", \"mango\", \"cherry\", \"orange\"}\n",
        "lst2 = [\"apple\", \"banana\", \"mango\", \"cherry\", \"orange\"]\n",
        "\n",
        "print(set2)\n",
        "print(lst2)"
      ],
      "execution_count": null,
      "outputs": [
        {
          "output_type": "stream",
          "name": "stdout",
          "text": [
            "{'mango', 'orange', 'apple', 'cherry', 'banana'}\n",
            "['apple', 'banana', 'mango', 'cherry', 'orange']\n"
          ]
        }
      ]
    },
    {
      "cell_type": "markdown",
      "metadata": {
        "id": "9X0O83vvmiQA"
      },
      "source": [
        "수학에서의 집합과 동일한 개념\n",
        "* 교집합\n",
        "  * `intersection`\n",
        "* 합집합\n",
        "  * `union`\n",
        "* 차집합\n",
        "  * `difference`\n",
        "* 부분집합\n",
        "  * `issubset`\n",
        "  * `True` / `False`"
      ]
    },
    {
      "cell_type": "code",
      "metadata": {
        "id": "9SF3af0ZnDBZ"
      },
      "source": [
        "A = {1, 2, 3}\n",
        "B = {2, 3, 4}"
      ],
      "execution_count": null,
      "outputs": []
    },
    {
      "cell_type": "code",
      "metadata": {
        "colab": {
          "base_uri": "https://localhost:8080/"
        },
        "id": "3wrfGWnIoiuI",
        "outputId": "bcb78223-c089-4d5c-91ff-a42bc47e8fd7"
      },
      "source": [
        "# 교집합\n",
        "print(A.intersection(B))"
      ],
      "execution_count": null,
      "outputs": [
        {
          "output_type": "stream",
          "name": "stdout",
          "text": [
            "{2, 3}\n"
          ]
        }
      ]
    },
    {
      "cell_type": "code",
      "metadata": {
        "colab": {
          "base_uri": "https://localhost:8080/"
        },
        "id": "C-zgsJtQoqtg",
        "outputId": "639a8ca2-371f-482f-ca97-85f23b9692ac"
      },
      "source": [
        "# 합집합\n",
        "print(A.union(B))"
      ],
      "execution_count": null,
      "outputs": [
        {
          "output_type": "stream",
          "name": "stdout",
          "text": [
            "{1, 2, 3, 4}\n"
          ]
        }
      ]
    },
    {
      "cell_type": "code",
      "metadata": {
        "colab": {
          "base_uri": "https://localhost:8080/"
        },
        "id": "LiGZVYGXoygH",
        "outputId": "d3545011-e73c-45b8-cf1f-390a5f119d63"
      },
      "source": [
        "# 차집합\n",
        "print(A.difference(B)) # A - B ==> {1, 2, 3} - {2, 3, 4}"
      ],
      "execution_count": null,
      "outputs": [
        {
          "output_type": "stream",
          "name": "stdout",
          "text": [
            "{1}\n"
          ]
        }
      ]
    },
    {
      "cell_type": "code",
      "metadata": {
        "colab": {
          "base_uri": "https://localhost:8080/"
        },
        "id": "52bQtgO7o8yX",
        "outputId": "810a25a7-329c-4a95-cc9d-8dce34ef2f2b"
      },
      "source": [
        "# 부분집합 여부 판단\n",
        "C = {2, 3}\n",
        "\n",
        "# C는 A의 부분집합인가?\n",
        "print(C.issubset(A)) # True"
      ],
      "execution_count": null,
      "outputs": [
        {
          "output_type": "stream",
          "name": "stdout",
          "text": [
            "True\n"
          ]
        }
      ]
    },
    {
      "cell_type": "code",
      "metadata": {
        "colab": {
          "base_uri": "https://localhost:8080/"
        },
        "id": "CucQBhXPpO_f",
        "outputId": "699e41e4-77f2-403f-fdbd-5ee9c79ed9ed"
      },
      "source": [
        "# C는 B의 부분집합인가?\n",
        "print(C.issubset(B)) # True"
      ],
      "execution_count": null,
      "outputs": [
        {
          "output_type": "stream",
          "name": "stdout",
          "text": [
            "True\n"
          ]
        }
      ]
    },
    {
      "cell_type": "code",
      "metadata": {
        "colab": {
          "base_uri": "https://localhost:8080/"
        },
        "id": "GfYQfmHbpXDA",
        "outputId": "79dbdbc7-b72c-446c-8dd2-591966c656fa"
      },
      "source": [
        "# B는 A의 부분집합인가?\n",
        "print(B.issubset(A)) # False"
      ],
      "execution_count": null,
      "outputs": [
        {
          "output_type": "stream",
          "name": "stdout",
          "text": [
            "False\n"
          ]
        }
      ]
    },
    {
      "cell_type": "code",
      "metadata": {
        "colab": {
          "base_uri": "https://localhost:8080/",
          "height": 168
        },
        "id": "vtKwqzzIpbbX",
        "outputId": "407e928a-6fb1-4d59-e80e-01b3cadbeb14"
      },
      "source": [
        "# Set은 Sequence가 아니기 때문에 인덱스 사용이 불가!\n",
        "A[0]"
      ],
      "execution_count": null,
      "outputs": [
        {
          "output_type": "error",
          "ename": "TypeError",
          "evalue": "ignored",
          "traceback": [
            "\u001b[0;31m---------------------------------------------------------------------------\u001b[0m",
            "\u001b[0;31mTypeError\u001b[0m                                 Traceback (most recent call last)",
            "\u001b[0;32m<ipython-input-75-782c0e2fe61c>\u001b[0m in \u001b[0;36m<module>\u001b[0;34m()\u001b[0m\n\u001b[0;32m----> 1\u001b[0;31m \u001b[0mA\u001b[0m\u001b[0;34m[\u001b[0m\u001b[0;36m0\u001b[0m\u001b[0;34m]\u001b[0m\u001b[0;34m\u001b[0m\u001b[0;34m\u001b[0m\u001b[0m\n\u001b[0m",
            "\u001b[0;31mTypeError\u001b[0m: 'set' object is not subscriptable"
          ]
        }
      ]
    },
    {
      "cell_type": "markdown",
      "metadata": {
        "id": "Z7C2qMPaplgg"
      },
      "source": [
        "#### dict (dictionary)\n",
        "* 사전이란 뜻\n",
        "* `{ key : value } 구조`\n",
        "  * key-value 구조\n",
        "  * `{ key1 : value1, key2 : value2, ...}`\n",
        "* `key`의 특징\n",
        "  * `key`는 `set`의 형태로 저장됨\n",
        "  * 정수와 문자열로만 설정이 가능하다.\n",
        "* `value`의 특징\n",
        "  * `value`는 `list`의 형태로 저장된다.\n",
        "  * 중복 저장 허용"
      ]
    },
    {
      "cell_type": "code",
      "metadata": {
        "id": "pgKUVGg0qX54"
      },
      "source": [
        "city = {\n",
        "    \"Japan\" : \"Tokyo\",\n",
        "    \"Canada\" : \"Ottawa\",\n",
        "    \"Korea\" : \"Seoul\"\n",
        "}"
      ],
      "execution_count": null,
      "outputs": []
    },
    {
      "cell_type": "code",
      "metadata": {
        "colab": {
          "base_uri": "https://localhost:8080/"
        },
        "id": "5RNWVFNrsPcp",
        "outputId": "0f7f6101-c569-4554-c168-7ed5f719e1e5"
      },
      "source": [
        "print(city)"
      ],
      "execution_count": null,
      "outputs": [
        {
          "output_type": "stream",
          "name": "stdout",
          "text": [
            "{'Japan': 'Tokyo', 'Canada': 'Ottawa', 'Korea': 'Seoul'}\n"
          ]
        }
      ]
    },
    {
      "cell_type": "code",
      "metadata": {
        "colab": {
          "base_uri": "https://localhost:8080/"
        },
        "id": "1K1XWB58skQQ",
        "outputId": "4c30bf8f-ad6a-406e-af32-e62c3dfed8f5"
      },
      "source": [
        "print(city[\"Korea\"])"
      ],
      "execution_count": null,
      "outputs": [
        {
          "output_type": "stream",
          "name": "stdout",
          "text": [
            "Seoul\n"
          ]
        }
      ]
    },
    {
      "cell_type": "code",
      "metadata": {
        "colab": {
          "base_uri": "https://localhost:8080/"
        },
        "id": "BOpn5xMVtBf2",
        "outputId": "0d00f7a2-58b8-4f49-8deb-a476d99bb7bc"
      },
      "source": [
        "print(city[\"Canada\"])"
      ],
      "execution_count": null,
      "outputs": [
        {
          "output_type": "stream",
          "name": "stdout",
          "text": [
            "Ottawa\n"
          ]
        }
      ]
    },
    {
      "cell_type": "code",
      "metadata": {
        "colab": {
          "base_uri": "https://localhost:8080/",
          "height": 168
        },
        "id": "AHiH6xW2tNRW",
        "outputId": "1479686e-bc55-47f0-ab70-c7e410f1a8ce"
      },
      "source": [
        "print(city[\"canada\"]) # 없는 키를 집어 넣으면? - 대소문자 가린다!"
      ],
      "execution_count": null,
      "outputs": [
        {
          "output_type": "error",
          "ename": "KeyError",
          "evalue": "ignored",
          "traceback": [
            "\u001b[0;31m---------------------------------------------------------------------------\u001b[0m",
            "\u001b[0;31mKeyError\u001b[0m                                  Traceback (most recent call last)",
            "\u001b[0;32m<ipython-input-84-c3f7066681d1>\u001b[0m in \u001b[0;36m<module>\u001b[0;34m()\u001b[0m\n\u001b[0;32m----> 1\u001b[0;31m \u001b[0mprint\u001b[0m\u001b[0;34m(\u001b[0m\u001b[0mcity\u001b[0m\u001b[0;34m[\u001b[0m\u001b[0;34m\"canada\"\u001b[0m\u001b[0;34m]\u001b[0m\u001b[0;34m)\u001b[0m \u001b[0;31m# 없는 키를 집어 넣으면? - 대소문자 가린다!\u001b[0m\u001b[0;34m\u001b[0m\u001b[0;34m\u001b[0m\u001b[0m\n\u001b[0m",
            "\u001b[0;31mKeyError\u001b[0m: 'canada'"
          ]
        }
      ]
    },
    {
      "cell_type": "markdown",
      "metadata": {
        "id": "CZZ4Bcw4tTxI"
      },
      "source": [
        "#### dict 원소 추가 및 변경"
      ]
    },
    {
      "cell_type": "code",
      "metadata": {
        "colab": {
          "base_uri": "https://localhost:8080/"
        },
        "id": "DVtQnLKHtesy",
        "outputId": "5a72224d-aacd-49fc-aad2-bb5f7227c745"
      },
      "source": [
        "# 추가와 변경은 문법이 똑같아요\n",
        "# 키가 없으면 추가, 키가 있으면 변경\n",
        "city[\"China\"] = \"Beijing\"\n",
        "print(city)"
      ],
      "execution_count": null,
      "outputs": [
        {
          "output_type": "stream",
          "name": "stdout",
          "text": [
            "{'Japan': 'Tokyo', 'Canada': 'Ottawa', 'Korea': 'Seoul', 'China': 'Beijing'}\n"
          ]
        }
      ]
    },
    {
      "cell_type": "code",
      "metadata": {
        "colab": {
          "base_uri": "https://localhost:8080/"
        },
        "id": "gbCpxqr7ttMw",
        "outputId": "d9b7e1c0-cea7-4ea5-fca5-abb8cf6b4530"
      },
      "source": [
        "city[\"Japan\"] = \"Kyoto\"\n",
        "print(city)"
      ],
      "execution_count": null,
      "outputs": [
        {
          "output_type": "stream",
          "name": "stdout",
          "text": [
            "{'Japan': 'Kyoto', 'Canada': 'Ottawa', 'Korea': 'Seoul', 'China': 'Beijing'}\n"
          ]
        }
      ]
    },
    {
      "cell_type": "markdown",
      "metadata": {
        "id": "ubSY931mt-2Y"
      },
      "source": [
        "#### dict 원소 삭제\n",
        "* `del` 키워드 사용"
      ]
    },
    {
      "cell_type": "code",
      "metadata": {
        "colab": {
          "base_uri": "https://localhost:8080/"
        },
        "id": "bsuayUvkuOj4",
        "outputId": "1b647fff-d8d3-4a60-b308-052646f83024"
      },
      "source": [
        "del city[\"Japan\"] # 키가 Japan인 원소를 삭제\n",
        "print(city)"
      ],
      "execution_count": null,
      "outputs": [
        {
          "output_type": "stream",
          "name": "stdout",
          "text": [
            "{'Canada': 'Ottawa', 'Korea': 'Seoul', 'China': 'Beijing'}\n"
          ]
        }
      ]
    },
    {
      "cell_type": "markdown",
      "metadata": {
        "id": "6-SqwU-4uJ_i"
      },
      "source": [
        "#### dict의 key, value 확인 ★★★★★"
      ]
    },
    {
      "cell_type": "code",
      "metadata": {
        "colab": {
          "base_uri": "https://localhost:8080/"
        },
        "id": "qK8v-857upWy",
        "outputId": "a56d11a5-953f-44bc-9e37-188afa847e5b"
      },
      "source": [
        "# keys() : 딕셔너리 내의 전체 키를 확인\n",
        "print(city.keys())"
      ],
      "execution_count": null,
      "outputs": [
        {
          "output_type": "stream",
          "name": "stdout",
          "text": [
            "dict_keys(['Canada', 'Korea', 'China'])\n"
          ]
        }
      ]
    },
    {
      "cell_type": "code",
      "metadata": {
        "colab": {
          "base_uri": "https://localhost:8080/"
        },
        "id": "jjetE661uyvX",
        "outputId": "9e7adde9-3de3-463b-bd4f-302c37d29969"
      },
      "source": [
        "# values() : 딕셔너리 내의 전체 value를 확인\n",
        "print(city.values())"
      ],
      "execution_count": null,
      "outputs": [
        {
          "output_type": "stream",
          "name": "stdout",
          "text": [
            "dict_values(['Ottawa', 'Seoul', 'Beijing'])\n"
          ]
        }
      ]
    },
    {
      "cell_type": "code",
      "metadata": {
        "colab": {
          "base_uri": "https://localhost:8080/"
        },
        "id": "qYjB9HQzu8gQ",
        "outputId": "582cad76-fea6-4e4d-c2d8-1b1efe127872"
      },
      "source": [
        "# items() : 딕셔너리 내의 전체 key, value를 튜플 형태로 확인\n",
        "print(city.items())"
      ],
      "execution_count": null,
      "outputs": [
        {
          "output_type": "stream",
          "name": "stdout",
          "text": [
            "dict_items([('Canada', 'Ottawa'), ('Korea', 'Seoul'), ('China', 'Beijing')])\n"
          ]
        }
      ]
    },
    {
      "cell_type": "markdown",
      "metadata": {
        "id": "KNGCLPjoOZpu"
      },
      "source": [
        "# 컬렉션 끼리의 형 변환(Type Casting)"
      ]
    },
    {
      "cell_type": "code",
      "metadata": {
        "colab": {
          "base_uri": "https://localhost:8080/"
        },
        "id": "aAcQrC-OOb_8",
        "outputId": "89f32a60-4fac-4597-e26e-479146f13e6b"
      },
      "source": [
        "# list -> tuple\n",
        "lst = [1, 2, 3]\n",
        "tuple(lst)"
      ],
      "execution_count": null,
      "outputs": [
        {
          "output_type": "execute_result",
          "data": {
            "text/plain": [
              "(1, 2, 3)"
            ]
          },
          "metadata": {},
          "execution_count": 1
        }
      ]
    },
    {
      "cell_type": "code",
      "metadata": {
        "colab": {
          "base_uri": "https://localhost:8080/"
        },
        "id": "QGBw-v_2OiFz",
        "outputId": "30f16234-72c8-4b4e-e5df-6434b84cb50f"
      },
      "source": [
        "# tuple -> list\n",
        "tup = 1, 2, 3\n",
        "list(tup)"
      ],
      "execution_count": null,
      "outputs": [
        {
          "output_type": "execute_result",
          "data": {
            "text/plain": [
              "[1, 2, 3]"
            ]
          },
          "metadata": {},
          "execution_count": 2
        }
      ]
    },
    {
      "cell_type": "code",
      "metadata": {
        "colab": {
          "base_uri": "https://localhost:8080/"
        },
        "id": "7Pk0lSMUOon7",
        "outputId": "2fa6d715-5846-4f77-9223-dd33cb1025c4"
      },
      "source": [
        "# list -> set\n",
        "lst = [\"apple\", \"apple\", \"banana\", \"orange\", \"banana\"]\n",
        "print(lst)\n",
        "lst_to_set = set(lst)\n",
        "print(lst_to_set)"
      ],
      "execution_count": null,
      "outputs": [
        {
          "output_type": "stream",
          "name": "stdout",
          "text": [
            "['apple', 'apple', 'banana', 'orange', 'banana']\n",
            "{'orange', 'banana', 'apple'}\n"
          ]
        }
      ]
    },
    {
      "cell_type": "code",
      "metadata": {
        "colab": {
          "base_uri": "https://localhost:8080/"
        },
        "id": "HmIYlXWnO3Oj",
        "outputId": "e7123823-7b8a-4b76-da9f-b54408898b22"
      },
      "source": [
        "# set -> list\n",
        "list(lst_to_set)"
      ],
      "execution_count": null,
      "outputs": [
        {
          "output_type": "execute_result",
          "data": {
            "text/plain": [
              "['orange', 'banana', 'apple']"
            ]
          },
          "metadata": {},
          "execution_count": 5
        }
      ]
    },
    {
      "cell_type": "markdown",
      "metadata": {
        "id": "RvjasEvGPNHK"
      },
      "source": [
        "# 문자열을 컬렉션화\n",
        "* 문자열도 Sequence"
      ]
    },
    {
      "cell_type": "code",
      "metadata": {
        "colab": {
          "base_uri": "https://localhost:8080/"
        },
        "id": "BMUHcJWBPVIF",
        "outputId": "b6063df3-214d-4e6f-f6fd-d5a6ea191ef7"
      },
      "source": [
        "text = \"hello\"\n",
        "\n",
        "print(list(text)) # [h, e, l, l, o]"
      ],
      "execution_count": null,
      "outputs": [
        {
          "output_type": "stream",
          "name": "stdout",
          "text": [
            "['h', 'e', 'l', 'l', 'o']\n"
          ]
        }
      ]
    },
    {
      "cell_type": "code",
      "metadata": {
        "colab": {
          "base_uri": "https://localhost:8080/"
        },
        "id": "d8NR-3aXPhLr",
        "outputId": "8524f6d3-0436-445a-cdae-5130d4dab2ce"
      },
      "source": [
        "print(tuple(text))"
      ],
      "execution_count": null,
      "outputs": [
        {
          "output_type": "stream",
          "name": "stdout",
          "text": [
            "('h', 'e', 'l', 'l', 'o')\n"
          ]
        }
      ]
    },
    {
      "cell_type": "code",
      "metadata": {
        "colab": {
          "base_uri": "https://localhost:8080/"
        },
        "id": "TiT0t1ygPk_q",
        "outputId": "9c2d5dae-452d-46a8-e185-f7718af62425"
      },
      "source": [
        "# 문자열 \"hello\"는 어떤 알파벳으로 구성되어 있나요?\n",
        "print(set(text))"
      ],
      "execution_count": null,
      "outputs": [
        {
          "output_type": "stream",
          "name": "stdout",
          "text": [
            "{'h', 'o', 'e', 'l'}\n"
          ]
        }
      ]
    },
    {
      "cell_type": "code",
      "metadata": {
        "id": "CsrIvEQjPxsr"
      },
      "source": [
        ""
      ],
      "execution_count": null,
      "outputs": []
    }
  ]
}