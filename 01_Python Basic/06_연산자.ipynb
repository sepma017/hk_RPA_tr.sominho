{
  "nbformat": 4,
  "nbformat_minor": 0,
  "metadata": {
    "colab": {
      "name": "06. 연산자",
      "provenance": [],
      "collapsed_sections": []
    },
    "kernelspec": {
      "name": "python3",
      "display_name": "Python 3"
    },
    "language_info": {
      "name": "python"
    }
  },
  "cells": [
    {
      "cell_type": "markdown",
      "metadata": {
        "id": "U_fHtJRGQdDW"
      },
      "source": [
        "# 연산자의 종류\n",
        "* 산술연산자\n",
        "  * `+, -, *, /, //, %`"
      ]
    },
    {
      "cell_type": "code",
      "metadata": {
        "colab": {
          "base_uri": "https://localhost:8080/"
        },
        "id": "dWsktPYFQo5C",
        "outputId": "8233ec3f-81a3-4d34-9953-305c8203fc7f"
      },
      "source": [
        "print( 5 + 2 ) # 7\n",
        "print( 5 - 2 ) # 3\n",
        "print( 5 * 2 ) # 10\n",
        "print( 5 / 2 ) # 나누기 2.5\n",
        "print( 5 // 2 ) # 몫 구하기 2\n",
        "print( 5 % 2 ) # 나머지 구하기 1"
      ],
      "execution_count": null,
      "outputs": [
        {
          "output_type": "stream",
          "name": "stdout",
          "text": [
            "7\n",
            "3\n",
            "10\n",
            "2.5\n",
            "2\n",
            "1\n"
          ]
        }
      ]
    },
    {
      "cell_type": "code",
      "metadata": {
        "colab": {
          "base_uri": "https://localhost:8080/"
        },
        "id": "POO2c_qoRKhG",
        "outputId": "94146333-22a0-4c83-b8f0-62211803901e"
      },
      "source": [
        "print( 2 + 2 * 2 ) # 곱하기가 우선적으로 수행"
      ],
      "execution_count": null,
      "outputs": [
        {
          "output_type": "stream",
          "name": "stdout",
          "text": [
            "6\n"
          ]
        }
      ]
    },
    {
      "cell_type": "code",
      "metadata": {
        "colab": {
          "base_uri": "https://localhost:8080/"
        },
        "id": "0ZhkuvlfRcaS",
        "outputId": "a990be1e-0733-4dbf-80eb-5b91d83a2c62"
      },
      "source": [
        "print ( (2 + 2) * 2 ) # 괄호를 이용해서 연산자의 우선순위를 무시"
      ],
      "execution_count": null,
      "outputs": [
        {
          "output_type": "stream",
          "name": "stdout",
          "text": [
            "8\n"
          ]
        }
      ]
    },
    {
      "cell_type": "markdown",
      "metadata": {
        "id": "iaxDn7E1RoIt"
      },
      "source": [
        "* 할당(대입)연산자\n",
        "  * 특정 변수에 들어있는 값에 특정 연산을 수행해서 저장(누적)\n",
        "  * `=, +=, -=, *=, ...`"
      ]
    },
    {
      "cell_type": "code",
      "metadata": {
        "colab": {
          "base_uri": "https://localhost:8080/"
        },
        "id": "o3Tzc7GQR6H7",
        "outputId": "1fbefa37-0032-45ed-9ceb-a4bbe314c68f"
      },
      "source": [
        "num = 10\n",
        "print(num)\n",
        "\n",
        "num = num + 5\n",
        "print(num)\n",
        "\n",
        "num += 5 # num = num + 5\n",
        "print(num)"
      ],
      "execution_count": null,
      "outputs": [
        {
          "output_type": "stream",
          "name": "stdout",
          "text": [
            "10\n",
            "15\n",
            "20\n"
          ]
        }
      ]
    },
    {
      "cell_type": "code",
      "metadata": {
        "colab": {
          "base_uri": "https://localhost:8080/"
        },
        "id": "wC94Bo4xSlas",
        "outputId": "eacd32b1-3688-48ae-a6f3-9afa36ccc770"
      },
      "source": [
        "num /= 5 # num = num / 5\n",
        "print(num)"
      ],
      "execution_count": null,
      "outputs": [
        {
          "output_type": "stream",
          "name": "stdout",
          "text": [
            "4.0\n"
          ]
        }
      ]
    },
    {
      "cell_type": "markdown",
      "metadata": {
        "id": "aJicIAp1ThIa"
      },
      "source": [
        "* 비교연산자\n",
        "  * 값이나 변수 끼리 비교\n",
        "  * 보통은 크기를 비교한다.\n",
        "  * `>, <, >=, <=, !=, ==`\n",
        "* `a > b` : a가 b보다 크다\n",
        "* `a < b` : a가 b보다 작다\n",
        "* `a <= b` : a가 b보다 작거나 같다.\n",
        "* `a >= b` : a가 b보다 크거나 같다.\n",
        "* `a != b` : `!`는 부정(`not`)을 의미한다.\n",
        "  * a와 b가 같지 않다.\n",
        "* `a == b` : a와 b가 같다.\n",
        "  * `=` : 할당(대입)\n",
        "  * `==` : 비교\n",
        "\n",
        "**비교 연산자의 결과물은 무조건 True / False**\n"
      ]
    },
    {
      "cell_type": "code",
      "metadata": {
        "colab": {
          "base_uri": "https://localhost:8080/"
        },
        "id": "oaMpjRvzTxIV",
        "outputId": "3135e959-5f46-4a90-f54a-b07adf6bde17"
      },
      "source": [
        "a = 3\n",
        "b = 5\n",
        "\n",
        "a < b, b > a, a > b, a != b, a == b"
      ],
      "execution_count": null,
      "outputs": [
        {
          "output_type": "execute_result",
          "data": {
            "text/plain": [
              "(True, True, False, True, False)"
            ]
          },
          "metadata": {},
          "execution_count": 7
        }
      ]
    },
    {
      "cell_type": "markdown",
      "metadata": {
        "id": "aYSMGvtjVbjr"
      },
      "source": [
        "* 논리연산자\n",
        "  * 논리 자료형인 bool을 연산하는 것\n",
        "  * `and`, `or`, `not`\n",
        "\n",
        "**and(&)**\n",
        "* `A and B` : A가 `True`, B도 `True`면 결과물이 `True`\n",
        "\n",
        "**or(|)**\n",
        "* `A or B` : A와 B 둘 중 하나만 `True`여도 결과물이 `True`\n",
        "\n",
        "**not(!)**\n",
        "* `not A` : A가 `True`면 `False`가 되고, `False`면 `True`가 된다.\n"
      ]
    },
    {
      "cell_type": "code",
      "metadata": {
        "colab": {
          "base_uri": "https://localhost:8080/"
        },
        "id": "cnrrgecXXEsU",
        "outputId": "203416a9-941f-464c-9777-6aeaefdc6d4c"
      },
      "source": [
        "1 < 3 and 3 > 1 # 1이 3보다 작고, 3이 1보다 크다."
      ],
      "execution_count": null,
      "outputs": [
        {
          "output_type": "execute_result",
          "data": {
            "text/plain": [
              "True"
            ]
          },
          "metadata": {},
          "execution_count": 8
        }
      ]
    },
    {
      "cell_type": "code",
      "metadata": {
        "colab": {
          "base_uri": "https://localhost:8080/"
        },
        "id": "z2EPZCuPXTh7",
        "outputId": "12ce3ebd-c487-4a13-89fd-bb6eec190d43"
      },
      "source": [
        "1 > 3 and 3 > 2 # 1이 3보다 크고, 3이 2보다 크다"
      ],
      "execution_count": null,
      "outputs": [
        {
          "output_type": "execute_result",
          "data": {
            "text/plain": [
              "False"
            ]
          },
          "metadata": {},
          "execution_count": 9
        }
      ]
    },
    {
      "cell_type": "code",
      "metadata": {
        "colab": {
          "base_uri": "https://localhost:8080/"
        },
        "id": "FS1p2aqsXbl0",
        "outputId": "47d3dbba-7324-496e-9fef-d77a8cebb080"
      },
      "source": [
        "3 > 1 or 4 < 3"
      ],
      "execution_count": null,
      "outputs": [
        {
          "output_type": "execute_result",
          "data": {
            "text/plain": [
              "True"
            ]
          },
          "metadata": {},
          "execution_count": 10
        }
      ]
    },
    {
      "cell_type": "code",
      "metadata": {
        "colab": {
          "base_uri": "https://localhost:8080/"
        },
        "id": "vEo0BBcQXmaj",
        "outputId": "3eed5696-2a27-458c-95e7-28bc846998d2"
      },
      "source": [
        "1 > 3 or 5 < 1"
      ],
      "execution_count": null,
      "outputs": [
        {
          "output_type": "execute_result",
          "data": {
            "text/plain": [
              "False"
            ]
          },
          "metadata": {},
          "execution_count": 11
        }
      ]
    },
    {
      "cell_type": "code",
      "metadata": {
        "colab": {
          "base_uri": "https://localhost:8080/"
        },
        "id": "zvK8nmF7XwlT",
        "outputId": "034aa214-7c7e-42dd-e97e-9d19c7a03e97"
      },
      "source": [
        "not 1 > 3 # 1이 3보다 크지 않다."
      ],
      "execution_count": null,
      "outputs": [
        {
          "output_type": "execute_result",
          "data": {
            "text/plain": [
              "True"
            ]
          },
          "metadata": {},
          "execution_count": 12
        }
      ]
    },
    {
      "cell_type": "code",
      "metadata": {
        "colab": {
          "base_uri": "https://localhost:8080/"
        },
        "id": "X8TKHUlFX8_0",
        "outputId": "229fe355-0e60-4733-ec9c-cbc24248ff04"
      },
      "source": [
        "not 2 < 3 # 2가 3보다 작지 않다."
      ],
      "execution_count": null,
      "outputs": [
        {
          "output_type": "execute_result",
          "data": {
            "text/plain": [
              "False"
            ]
          },
          "metadata": {},
          "execution_count": 13
        }
      ]
    },
    {
      "cell_type": "markdown",
      "metadata": {
        "id": "1nCmGV6ZbzDN"
      },
      "source": [
        "실습\n",
        "\n",
        "1 ~ 10 사이의 정수를 입력 받고, 그 수가 3와 8 사이에 있는지를 검사\n",
        "  * 3이상 8이하"
      ]
    },
    {
      "cell_type": "code",
      "metadata": {
        "colab": {
          "base_uri": "https://localhost:8080/",
          "height": 53
        },
        "id": "Hli8WF0Mb9ss",
        "outputId": "d8921c8e-9930-4b84-e448-a5d89518692f"
      },
      "source": [
        "# input 함수\n",
        "data = input(\"insert number : \")\n",
        "data"
      ],
      "execution_count": null,
      "outputs": [
        {
          "name": "stdout",
          "output_type": "stream",
          "text": [
            "insert number : 5\n"
          ]
        },
        {
          "output_type": "execute_result",
          "data": {
            "application/vnd.google.colaboratory.intrinsic+json": {
              "type": "string"
            },
            "text/plain": [
              "'5'"
            ]
          },
          "metadata": {},
          "execution_count": 19
        }
      ]
    },
    {
      "cell_type": "code",
      "metadata": {
        "colab": {
          "base_uri": "https://localhost:8080/"
        },
        "id": "2GG623WDcTuc",
        "outputId": "20ccb786-fc90-4e00-fb5b-8e9034151ddc"
      },
      "source": [
        "# data는 문자열\n",
        "data = int(data) # 문자열을 숫자로 변경(parsing)\n",
        "type(data)"
      ],
      "execution_count": null,
      "outputs": [
        {
          "output_type": "execute_result",
          "data": {
            "text/plain": [
              "int"
            ]
          },
          "metadata": {},
          "execution_count": 20
        }
      ]
    },
    {
      "cell_type": "code",
      "metadata": {
        "colab": {
          "base_uri": "https://localhost:8080/"
        },
        "id": "Jy9ZJjZ6ebBN",
        "outputId": "eeedba1c-644e-48fe-82ae-67338fae1bf3"
      },
      "source": [
        "# data가 3 이상이고, data가 8 이하인가\n",
        "data >= 3 and data <= 8"
      ],
      "execution_count": null,
      "outputs": [
        {
          "output_type": "execute_result",
          "data": {
            "text/plain": [
              "True"
            ]
          },
          "metadata": {},
          "execution_count": 21
        }
      ]
    },
    {
      "cell_type": "markdown",
      "metadata": {
        "id": "G3WVY8Kqf1bQ"
      },
      "source": [
        ""
      ]
    },
    {
      "cell_type": "markdown",
      "metadata": {
        "id": "HvGccMxAep4Q"
      },
      "source": [
        "* 멤버 연산자\n",
        "  * 멤버 -> 요소, 원소, item\n",
        "  * 컬렉션에 원소가 존재하는지 여부를 판단\n",
        "  * `in, not in` "
      ]
    },
    {
      "cell_type": "code",
      "metadata": {
        "colab": {
          "base_uri": "https://localhost:8080/"
        },
        "id": "FXJeglCFfMll",
        "outputId": "b5441490-86ce-4e56-c621-e709ec5efffb"
      },
      "source": [
        "lst = [\"a\", 1, 3]\n",
        "\n",
        "\"a\" in lst # \"a\"가 lst에 들어있다."
      ],
      "execution_count": null,
      "outputs": [
        {
          "output_type": "execute_result",
          "data": {
            "text/plain": [
              "True"
            ]
          },
          "metadata": {},
          "execution_count": 22
        }
      ]
    },
    {
      "cell_type": "code",
      "metadata": {
        "colab": {
          "base_uri": "https://localhost:8080/"
        },
        "id": "S0hnQAeGfYzd",
        "outputId": "10db5adf-da7d-4531-b760-6ba4525ea312"
      },
      "source": [
        "2 in lst"
      ],
      "execution_count": null,
      "outputs": [
        {
          "output_type": "execute_result",
          "data": {
            "text/plain": [
              "False"
            ]
          },
          "metadata": {},
          "execution_count": 23
        }
      ]
    },
    {
      "cell_type": "code",
      "metadata": {
        "colab": {
          "base_uri": "https://localhost:8080/"
        },
        "id": "JArHJCCmfhUM",
        "outputId": "9e25f369-0537-496b-e289-25105e70369a"
      },
      "source": [
        "2 not in lst # 2가 lst에 들어있지 않다."
      ],
      "execution_count": null,
      "outputs": [
        {
          "output_type": "execute_result",
          "data": {
            "text/plain": [
              "True"
            ]
          },
          "metadata": {},
          "execution_count": 24
        }
      ]
    }
  ]
}