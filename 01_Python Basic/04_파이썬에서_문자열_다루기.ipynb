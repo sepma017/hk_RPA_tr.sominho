{
  "nbformat": 4,
  "nbformat_minor": 0,
  "metadata": {
    "colab": {
      "name": "04. 파이썬에서 문자열 다루기",
      "provenance": [],
      "collapsed_sections": []
    },
    "kernelspec": {
      "name": "python3",
      "display_name": "Python 3"
    },
    "language_info": {
      "name": "python"
    }
  },
  "cells": [
    {
      "cell_type": "markdown",
      "metadata": {
        "id": "13Fe_4iOEOpu"
      },
      "source": [
        "# 문자열이란?\n",
        "\n",
        "* 문자들이 열거 되어 있으면 문자열(str)\n",
        "* 열거가 되어있다 : 연속되어 있다. 순서가 있다.\n",
        "  * Sequence라고 한다!\n",
        "* 여러 개의 문자를 순서대로 나열한 것\n",
        "* 순서가 있다라는 이야기 - **순번**이 있다\n",
        "\n",
        "## 시퀀스(Sequence)의 특징\n",
        "* 순번(index)이 있다"
      ]
    },
    {
      "cell_type": "code",
      "metadata": {
        "colab": {
          "base_uri": "https://localhost:8080/"
        },
        "id": "xPZ9WIppGP9J",
        "outputId": "448c6310-ffb2-4d1f-9831-7330c18624b2"
      },
      "source": [
        "# 문자열은 작은 따옴표(') 또는 큰 따옴표(\") 사이에 작성한다\n",
        "name1 = \"minho1\"\n",
        "name2 = 'minho2'\n",
        "\n",
        "print(name1, name2)"
      ],
      "execution_count": null,
      "outputs": [
        {
          "output_type": "stream",
          "name": "stdout",
          "text": [
            "minho1 minho2\n"
          ]
        }
      ]
    },
    {
      "cell_type": "code",
      "metadata": {
        "colab": {
          "base_uri": "https://localhost:8080/"
        },
        "id": "XDn8MRWJHvWZ",
        "outputId": "448855e9-8638-4d1e-fe10-c7b4affbc376"
      },
      "source": [
        "type(name1), type(name2)"
      ],
      "execution_count": null,
      "outputs": [
        {
          "output_type": "execute_result",
          "data": {
            "text/plain": [
              "(str, str)"
            ]
          },
          "metadata": {},
          "execution_count": 2
        }
      ]
    },
    {
      "cell_type": "markdown",
      "metadata": {
        "id": "P0ml8mXrH0u1"
      },
      "source": [
        "문자열로 I'm Student를 표현하고 싶다"
      ]
    },
    {
      "cell_type": "code",
      "metadata": {
        "colab": {
          "base_uri": "https://localhost:8080/"
        },
        "id": "W0uH1s-bIIfg",
        "outputId": "6f548911-b9c0-4db1-96b1-56d65c36a612"
      },
      "source": [
        "text = \"I'm Student\"\n",
        "print(text)"
      ],
      "execution_count": null,
      "outputs": [
        {
          "output_type": "stream",
          "name": "stdout",
          "text": [
            "I'm Student\n"
          ]
        }
      ]
    },
    {
      "cell_type": "markdown",
      "metadata": {
        "id": "0WZh-oR-IMDx"
      },
      "source": [
        "나는 말했다. \"안녕하세요\""
      ]
    },
    {
      "cell_type": "code",
      "metadata": {
        "colab": {
          "base_uri": "https://localhost:8080/"
        },
        "id": "dEbcEcSwIvbn",
        "outputId": "fd5b0107-651f-425c-f338-17c97c939e05"
      },
      "source": [
        "text = '나는 말했다. \"안녕하세요\"'\n",
        "print(text)"
      ],
      "execution_count": null,
      "outputs": [
        {
          "output_type": "stream",
          "name": "stdout",
          "text": [
            "나는 말했다. \"안녕하세요\"\n"
          ]
        }
      ]
    },
    {
      "cell_type": "markdown",
      "metadata": {
        "id": "xDfvOXd6JE6i"
      },
      "source": [
        "I said, \"I'm Student.\""
      ]
    },
    {
      "cell_type": "code",
      "metadata": {
        "colab": {
          "base_uri": "https://localhost:8080/"
        },
        "id": "_4f3HmEtJPrx",
        "outputId": "48dc3d4a-dec3-4f8d-c08d-9d63c5f8338d"
      },
      "source": [
        "text = \"I said, \\\"I'm Student\\\"\"\n",
        "print(text)"
      ],
      "execution_count": null,
      "outputs": [
        {
          "output_type": "stream",
          "name": "stdout",
          "text": [
            "I said, \"I'm Student\"\n"
          ]
        }
      ]
    },
    {
      "cell_type": "code",
      "metadata": {
        "colab": {
          "base_uri": "https://localhost:8080/"
        },
        "id": "mzOL8DgYKTlx",
        "outputId": "e531e531-17d8-453a-da42-28429de8bc68"
      },
      "source": [
        "text = '''I said, \"I'm Student\"'''\n",
        "print(text)"
      ],
      "execution_count": null,
      "outputs": [
        {
          "output_type": "stream",
          "name": "stdout",
          "text": [
            "I said, \"I'm Student\"\n"
          ]
        }
      ]
    },
    {
      "cell_type": "markdown",
      "metadata": {
        "id": "JQMViIG8Krox"
      },
      "source": [
        "# 개행\n",
        "* 캐리지 리턴\n",
        "* new line\n",
        "* 엔터키를 한번 친 것 같은 효과"
      ]
    },
    {
      "cell_type": "code",
      "metadata": {
        "colab": {
          "base_uri": "https://localhost:8080/"
        },
        "id": "Up_4APtnN3TJ",
        "outputId": "739b09cb-7627-45db-ea91-3fbd114b6252"
      },
      "source": [
        "text = \"안녕하세요\\n반갑습니다\"\n",
        "print(text)"
      ],
      "execution_count": null,
      "outputs": [
        {
          "output_type": "stream",
          "name": "stdout",
          "text": [
            "안녕하세요\n",
            "반갑습니다\n"
          ]
        }
      ]
    },
    {
      "cell_type": "markdown",
      "metadata": {
        "id": "3Teo3VqVOEyP"
      },
      "source": [
        "```\n",
        "안녕하세요\n",
        "반갑습니다.\n",
        "저는\n",
        "소민호\n",
        "입니다.\n",
        "```"
      ]
    },
    {
      "cell_type": "code",
      "metadata": {
        "colab": {
          "base_uri": "https://localhost:8080/"
        },
        "id": "f-A9KgYJOhyJ",
        "outputId": "b435774b-988d-4070-a73d-dfac8c7684a7"
      },
      "source": [
        "text = \"안녕하세요\\n반갑습니다.\\n저는\\n소민호\\n입니다.\"\n",
        "print(text)"
      ],
      "execution_count": null,
      "outputs": [
        {
          "output_type": "stream",
          "name": "stdout",
          "text": [
            "안녕하세요\n",
            "반갑습니다.\n",
            "저는\n",
            "소민호\n",
            "입니다.\n"
          ]
        }
      ]
    },
    {
      "cell_type": "code",
      "metadata": {
        "colab": {
          "base_uri": "https://localhost:8080/"
        },
        "id": "2--_AqXROpvZ",
        "outputId": "b148bc56-5149-482c-d2b8-0c758ef43ac2"
      },
      "source": [
        "text = '''안녕하세요\n",
        "반갑습니다.\n",
        "저는\n",
        "소민호\n",
        "입니다.'''\n",
        "\n",
        "print(text)"
      ],
      "execution_count": null,
      "outputs": [
        {
          "output_type": "stream",
          "name": "stdout",
          "text": [
            "안녕하세요\n",
            "반갑습니다.\n",
            "저는\n",
            "소민호\n",
            "입니다.\n"
          ]
        }
      ]
    },
    {
      "cell_type": "code",
      "metadata": {
        "colab": {
          "base_uri": "https://localhost:8080/",
          "height": 35
        },
        "id": "RTaR4i9JO5Ky",
        "outputId": "cf64f7e4-a7da-41ed-ee4b-dc79dc128373"
      },
      "source": [
        "text"
      ],
      "execution_count": null,
      "outputs": [
        {
          "output_type": "execute_result",
          "data": {
            "application/vnd.google.colaboratory.intrinsic+json": {
              "type": "string"
            },
            "text/plain": [
              "'안녕하세요\\n반갑습니다.\\n저는\\n소민호\\n입니다.'"
            ]
          },
          "metadata": {},
          "execution_count": 17
        }
      ]
    },
    {
      "cell_type": "markdown",
      "metadata": {
        "id": "TMgmTP4HPTuC"
      },
      "source": [
        "# 문자열 다루기\n",
        "* 문자열은 **Sequence**이다.\n",
        "* Sequence는 **순번이 있다.**\n",
        "  * 순번을 **offset index**라고 한다.\n",
        "* 파이썬의 인덱스는 두 종류가 있다.\n",
        "  * 양수 인덱스\n",
        "    * 0부터 시작\n",
        "  * 음수 인덱스\n",
        "    * -1부터 역으로 시작\n",
        "* 인덱스는 무조건 **정수**이다."
      ]
    },
    {
      "cell_type": "code",
      "metadata": {
        "colab": {
          "base_uri": "https://localhost:8080/"
        },
        "id": "txf3CtNdQEPs",
        "outputId": "62348848-8d9f-4288-92db-a4304d809fc3"
      },
      "source": [
        "text = \"Hello World\"\n",
        "print(text)"
      ],
      "execution_count": null,
      "outputs": [
        {
          "output_type": "stream",
          "name": "stdout",
          "text": [
            "Hello World\n"
          ]
        }
      ]
    },
    {
      "cell_type": "code",
      "metadata": {
        "colab": {
          "base_uri": "https://localhost:8080/"
        },
        "id": "Iml6MO3jSnL5",
        "outputId": "81586e18-ca7b-44ab-d0ec-2e57839dea3c"
      },
      "source": [
        "# 시퀀스의 크기(길이)를 잴 수 있는 함수 - len\n",
        "len(text)"
      ],
      "execution_count": null,
      "outputs": [
        {
          "output_type": "execute_result",
          "data": {
            "text/plain": [
              "11"
            ]
          },
          "metadata": {},
          "execution_count": 20
        }
      ]
    },
    {
      "cell_type": "code",
      "metadata": {
        "colab": {
          "base_uri": "https://localhost:8080/"
        },
        "id": "Tz2doeteS-Ib",
        "outputId": "0c7e076a-33f3-40c8-9a32-5e7f8b3a180d"
      },
      "source": [
        "# 시퀀스 내의 데이터를 인덱스로 접근하기. [ ] - bracket을 사용\n",
        "print(text[6])"
      ],
      "execution_count": null,
      "outputs": [
        {
          "output_type": "stream",
          "name": "stdout",
          "text": [
            "W\n"
          ]
        }
      ]
    },
    {
      "cell_type": "code",
      "metadata": {
        "colab": {
          "base_uri": "https://localhost:8080/"
        },
        "id": "Q69syI2-Tf9o",
        "outputId": "26d40cfb-7b93-4b9b-c38c-fd30ad9354e4"
      },
      "source": [
        "print(text[10])"
      ],
      "execution_count": null,
      "outputs": [
        {
          "output_type": "stream",
          "name": "stdout",
          "text": [
            "d\n"
          ]
        }
      ]
    },
    {
      "cell_type": "markdown",
      "metadata": {
        "id": "391z6moZTvqK"
      },
      "source": [
        "시퀀스의 제일 마지막 양수 인덱스는 항상 **시퀀스의 크기 - 1**"
      ]
    },
    {
      "cell_type": "code",
      "metadata": {
        "colab": {
          "base_uri": "https://localhost:8080/",
          "height": 169
        },
        "id": "k4akWVh6T42S",
        "outputId": "5b8f6913-46c9-4982-eb0a-8605a538ff5c"
      },
      "source": [
        "print(text[11]) # error"
      ],
      "execution_count": null,
      "outputs": [
        {
          "output_type": "error",
          "ename": "IndexError",
          "evalue": "ignored",
          "traceback": [
            "\u001b[0;31m---------------------------------------------------------------------------\u001b[0m",
            "\u001b[0;31mIndexError\u001b[0m                                Traceback (most recent call last)",
            "\u001b[0;32m<ipython-input-27-8f43da24e5e5>\u001b[0m in \u001b[0;36m<module>\u001b[0;34m()\u001b[0m\n\u001b[0;32m----> 1\u001b[0;31m \u001b[0mprint\u001b[0m\u001b[0;34m(\u001b[0m\u001b[0mtext\u001b[0m\u001b[0;34m[\u001b[0m\u001b[0;36m11\u001b[0m\u001b[0;34m]\u001b[0m\u001b[0;34m)\u001b[0m \u001b[0;31m# error\u001b[0m\u001b[0;34m\u001b[0m\u001b[0;34m\u001b[0m\u001b[0m\n\u001b[0m",
            "\u001b[0;31mIndexError\u001b[0m: string index out of range"
          ]
        }
      ]
    },
    {
      "cell_type": "code",
      "metadata": {
        "colab": {
          "base_uri": "https://localhost:8080/"
        },
        "id": "czO9WykMUOrE",
        "outputId": "e29924d2-6a2e-4743-f36d-eeb4b384493d"
      },
      "source": [
        "print(text[-1]) # -1 인덱스는 언제나 제일 마지막 데이터를 의미한다."
      ],
      "execution_count": null,
      "outputs": [
        {
          "output_type": "stream",
          "name": "stdout",
          "text": [
            "d\n"
          ]
        }
      ]
    },
    {
      "cell_type": "code",
      "metadata": {
        "colab": {
          "base_uri": "https://localhost:8080/"
        },
        "id": "S6bYZHSTVoeT",
        "outputId": "a8ce8a80-1c62-41ec-ed9d-0c0be150c3c4"
      },
      "source": [
        "print(text[-3])"
      ],
      "execution_count": null,
      "outputs": [
        {
          "output_type": "stream",
          "name": "stdout",
          "text": [
            "r\n"
          ]
        }
      ]
    },
    {
      "cell_type": "code",
      "metadata": {
        "colab": {
          "base_uri": "https://localhost:8080/"
        },
        "id": "Sctf8Iw8Vz6R",
        "outputId": "2264f28d-5e52-4b6e-c4bf-813183eedf91"
      },
      "source": [
        "print(text[-11])"
      ],
      "execution_count": null,
      "outputs": [
        {
          "output_type": "stream",
          "name": "stdout",
          "text": [
            "H\n"
          ]
        }
      ]
    },
    {
      "cell_type": "markdown",
      "metadata": {
        "id": "a2HS3Z4QV9Z5"
      },
      "source": [
        "# 슬라이싱(slicing) ★★★★★\n",
        "* 인덱스를 사용해서 시퀀스를 **잘라낸다**\n",
        "* 잘라서 새로운 시퀀스를 만들어 낸다.\n",
        "* `[start : end : step]`"
      ]
    },
    {
      "cell_type": "code",
      "metadata": {
        "colab": {
          "base_uri": "https://localhost:8080/"
        },
        "id": "NkL3JMH5bTDS",
        "outputId": "7f776fc7-5404-4162-a4e4-a41a6d055ac1"
      },
      "source": [
        "text = \"안녕하세요!반갑습니다\"\n",
        "print(text)"
      ],
      "execution_count": null,
      "outputs": [
        {
          "output_type": "stream",
          "name": "stdout",
          "text": [
            "안녕하세요!반갑습니다\n"
          ]
        }
      ]
    },
    {
      "cell_type": "code",
      "metadata": {
        "colab": {
          "base_uri": "https://localhost:8080/",
          "height": 35
        },
        "id": "Pqqh1X1dcFKC",
        "outputId": "c6bb41a4-352b-475d-b09b-ce1edc67d024"
      },
      "source": [
        "# start -> 0, end -> 3\n",
        "text[0 : 3] # 0번 인덱스 ~ 3-1번 인덱스(2번 인덱스)"
      ],
      "execution_count": null,
      "outputs": [
        {
          "output_type": "execute_result",
          "data": {
            "application/vnd.google.colaboratory.intrinsic+json": {
              "type": "string"
            },
            "text/plain": [
              "'안녕하'"
            ]
          },
          "metadata": {},
          "execution_count": 32
        }
      ]
    },
    {
      "cell_type": "code",
      "metadata": {
        "colab": {
          "base_uri": "https://localhost:8080/",
          "height": 35
        },
        "id": "AHDNp6bpcUry",
        "outputId": "7351725b-8ef1-4425-8267-45eb1872c268"
      },
      "source": [
        "text[3 : 12]"
      ],
      "execution_count": null,
      "outputs": [
        {
          "output_type": "execute_result",
          "data": {
            "application/vnd.google.colaboratory.intrinsic+json": {
              "type": "string"
            },
            "text/plain": [
              "'세요!반갑습니다'"
            ]
          },
          "metadata": {},
          "execution_count": 35
        }
      ]
    },
    {
      "cell_type": "markdown",
      "metadata": {
        "id": "SBnblywBc6ID"
      },
      "source": [
        "* start, end, step은 생략이 가능하다.\n",
        "* start를 생략하면 자동으로 0이 들어간다.\n",
        "* end를 생략하면 자동으로 시퀀스의 길이가 들어간다."
      ]
    },
    {
      "cell_type": "code",
      "metadata": {
        "colab": {
          "base_uri": "https://localhost:8080/",
          "height": 35
        },
        "id": "1s8NH2jQddJx",
        "outputId": "5674ede6-a61d-4786-8f21-9aacc15bd4dc"
      },
      "source": [
        "text[3:] # end가 생략되면 문자열의 길이인 11이 자동으로 들어간다.\n",
        "# text[3 : len(text)]"
      ],
      "execution_count": null,
      "outputs": [
        {
          "output_type": "execute_result",
          "data": {
            "application/vnd.google.colaboratory.intrinsic+json": {
              "type": "string"
            },
            "text/plain": [
              "'세요!반갑습니다'"
            ]
          },
          "metadata": {},
          "execution_count": 36
        }
      ]
    },
    {
      "cell_type": "code",
      "metadata": {
        "colab": {
          "base_uri": "https://localhost:8080/",
          "height": 35
        },
        "id": "veApfrgodnbL",
        "outputId": "a2a1a2c4-56d7-4145-88ed-6f29059de122"
      },
      "source": [
        "text[:5] # start가 생략되면 첫 번째 인덱스인 0이 자동으로 들어간다.\n",
        "# text[0:5]"
      ],
      "execution_count": null,
      "outputs": [
        {
          "output_type": "execute_result",
          "data": {
            "application/vnd.google.colaboratory.intrinsic+json": {
              "type": "string"
            },
            "text/plain": [
              "'안녕하세요'"
            ]
          },
          "metadata": {},
          "execution_count": 37
        }
      ]
    },
    {
      "cell_type": "code",
      "metadata": {
        "colab": {
          "base_uri": "https://localhost:8080/",
          "height": 35
        },
        "id": "A0zBs_4zdvZa",
        "outputId": "105a97b9-da62-48a7-b71e-2db08c2b8b10"
      },
      "source": [
        "text[ : -5] # text[0 : -5]"
      ],
      "execution_count": null,
      "outputs": [
        {
          "output_type": "execute_result",
          "data": {
            "application/vnd.google.colaboratory.intrinsic+json": {
              "type": "string"
            },
            "text/plain": [
              "'안녕하세요!'"
            ]
          },
          "metadata": {},
          "execution_count": 38
        }
      ]
    },
    {
      "cell_type": "code",
      "metadata": {
        "colab": {
          "base_uri": "https://localhost:8080/"
        },
        "id": "m9sjOb8seUwJ",
        "outputId": "1cdd9c47-b660-4f58-9b1d-e549aced5d70"
      },
      "source": [
        "image_file_full_name = \"my_profile_photo_good_filtered.jpg\"\n",
        "image_file_name = image_file_full_name[0:-4]\n",
        "print(image_file_name)"
      ],
      "execution_count": null,
      "outputs": [
        {
          "output_type": "stream",
          "name": "stdout",
          "text": [
            "my_profile_photo_good_filtered\n"
          ]
        }
      ]
    },
    {
      "cell_type": "markdown",
      "metadata": {
        "id": "Rx6cEeqZfLHL"
      },
      "source": [
        "step : 지정한 숫자만큼 건너 뛰면서 슬라이싱\n",
        "\n",
        "step을 생략하면 기본적으로 1이 주어진다."
      ]
    },
    {
      "cell_type": "code",
      "metadata": {
        "colab": {
          "base_uri": "https://localhost:8080/",
          "height": 35
        },
        "id": "ACDv4ESgfzGc",
        "outputId": "70d1dc09-c453-4f17-a7c0-9c6e9e5aec03"
      },
      "source": [
        "text[:] # start : 0, end : len(text), step : 1"
      ],
      "execution_count": null,
      "outputs": [
        {
          "output_type": "execute_result",
          "data": {
            "application/vnd.google.colaboratory.intrinsic+json": {
              "type": "string"
            },
            "text/plain": [
              "'안녕하세요!반갑습니다'"
            ]
          },
          "metadata": {},
          "execution_count": 42
        }
      ]
    },
    {
      "cell_type": "code",
      "metadata": {
        "colab": {
          "base_uri": "https://localhost:8080/",
          "height": 35
        },
        "id": "u_1oOajef70r",
        "outputId": "f2c2f04e-684d-42f2-acb7-0fa41c6f5910"
      },
      "source": [
        "text[::] # start : 0, end : len(text), step : 1"
      ],
      "execution_count": null,
      "outputs": [
        {
          "output_type": "execute_result",
          "data": {
            "application/vnd.google.colaboratory.intrinsic+json": {
              "type": "string"
            },
            "text/plain": [
              "'안녕하세요!반갑습니다'"
            ]
          },
          "metadata": {},
          "execution_count": 43
        }
      ]
    },
    {
      "cell_type": "code",
      "metadata": {
        "colab": {
          "base_uri": "https://localhost:8080/",
          "height": 35
        },
        "id": "Qyz0Koz2gR9r",
        "outputId": "782f988c-ac1c-4c23-94c9-6f09c4d01c2a"
      },
      "source": [
        "text[::2]"
      ],
      "execution_count": null,
      "outputs": [
        {
          "output_type": "execute_result",
          "data": {
            "application/vnd.google.colaboratory.intrinsic+json": {
              "type": "string"
            },
            "text/plain": [
              "'안하요반습다'"
            ]
          },
          "metadata": {},
          "execution_count": 44
        }
      ]
    },
    {
      "cell_type": "code",
      "metadata": {
        "colab": {
          "base_uri": "https://localhost:8080/",
          "height": 35
        },
        "id": "ARgEc_LbgpFq",
        "outputId": "856d8d90-c4cd-4e25-9c90-8e8a041f0296"
      },
      "source": [
        "text[ : : 3]"
      ],
      "execution_count": null,
      "outputs": [
        {
          "output_type": "execute_result",
          "data": {
            "application/vnd.google.colaboratory.intrinsic+json": {
              "type": "string"
            },
            "text/plain": [
              "'안세반니'"
            ]
          },
          "metadata": {},
          "execution_count": 45
        }
      ]
    },
    {
      "cell_type": "code",
      "metadata": {
        "colab": {
          "base_uri": "https://localhost:8080/",
          "height": 35
        },
        "id": "EM-TVC4gg2Ya",
        "outputId": "f9e8ac11-4cf2-442f-8ffd-197ca8a8141d"
      },
      "source": [
        "text[3 : 8 : 2]"
      ],
      "execution_count": null,
      "outputs": [
        {
          "output_type": "execute_result",
          "data": {
            "application/vnd.google.colaboratory.intrinsic+json": {
              "type": "string"
            },
            "text/plain": [
              "'세!갑'"
            ]
          },
          "metadata": {},
          "execution_count": 46
        }
      ]
    },
    {
      "cell_type": "code",
      "metadata": {
        "colab": {
          "base_uri": "https://localhost:8080/",
          "height": 35
        },
        "id": "Zaf_0d8whdLi",
        "outputId": "69bcbd93-0945-4fd2-c871-9a98d382c7ce"
      },
      "source": [
        "text[8:3:-1]"
      ],
      "execution_count": null,
      "outputs": [
        {
          "output_type": "execute_result",
          "data": {
            "application/vnd.google.colaboratory.intrinsic+json": {
              "type": "string"
            },
            "text/plain": [
              "'습갑반!요'"
            ]
          },
          "metadata": {},
          "execution_count": 50
        }
      ]
    },
    {
      "cell_type": "code",
      "metadata": {
        "colab": {
          "base_uri": "https://localhost:8080/",
          "height": 35
        },
        "id": "mGhZZDf6hodC",
        "outputId": "fbe937c9-5fa6-4e5f-aa39-48d8d89818fc"
      },
      "source": [
        "text[::-2]"
      ],
      "execution_count": null,
      "outputs": [
        {
          "output_type": "execute_result",
          "data": {
            "application/vnd.google.colaboratory.intrinsic+json": {
              "type": "string"
            },
            "text/plain": [
              "'다습반요하안'"
            ]
          },
          "metadata": {},
          "execution_count": 51
        }
      ]
    },
    {
      "cell_type": "markdown",
      "metadata": {
        "id": "KmA9FZUuiE5K"
      },
      "source": [
        "# 문자열 함수\n",
        "* 문자열은 여러 기능 제공을 위한 함수가 내장 되어 있다."
      ]
    },
    {
      "cell_type": "code",
      "metadata": {
        "id": "CXqSsrQS3nLk"
      },
      "source": [
        "text1 = \"hello\"\n",
        "text2 = \"world\""
      ],
      "execution_count": null,
      "outputs": []
    },
    {
      "cell_type": "markdown",
      "metadata": {
        "id": "e6BiWtAr43du"
      },
      "source": [
        "## 문자열 이어 붙이기"
      ]
    },
    {
      "cell_type": "code",
      "metadata": {
        "colab": {
          "base_uri": "https://localhost:8080/",
          "height": 35
        },
        "id": "DLrqieAT4-GP",
        "outputId": "6afa52a1-6eec-442c-d53c-56f4c1929441"
      },
      "source": [
        "text1 + text2"
      ],
      "execution_count": null,
      "outputs": [
        {
          "output_type": "execute_result",
          "data": {
            "application/vnd.google.colaboratory.intrinsic+json": {
              "type": "string"
            },
            "text/plain": [
              "'helloworld'"
            ]
          },
          "metadata": {},
          "execution_count": 53
        }
      ]
    },
    {
      "cell_type": "markdown",
      "metadata": {
        "id": "n7YttqQ15DZ0"
      },
      "source": [
        "문자열 끼리만 이어 붙일 수 있다."
      ]
    },
    {
      "cell_type": "code",
      "metadata": {
        "colab": {
          "base_uri": "https://localhost:8080/",
          "height": 169
        },
        "id": "T_aOhwXg5Jjk",
        "outputId": "75f55354-fc90-4d1b-e0cd-60e7b8f07b8c"
      },
      "source": [
        "text1 + 10"
      ],
      "execution_count": null,
      "outputs": [
        {
          "output_type": "error",
          "ename": "TypeError",
          "evalue": "ignored",
          "traceback": [
            "\u001b[0;31m---------------------------------------------------------------------------\u001b[0m",
            "\u001b[0;31mTypeError\u001b[0m                                 Traceback (most recent call last)",
            "\u001b[0;32m<ipython-input-54-6f9a2725a7e6>\u001b[0m in \u001b[0;36m<module>\u001b[0;34m()\u001b[0m\n\u001b[0;32m----> 1\u001b[0;31m \u001b[0mtext1\u001b[0m \u001b[0;34m+\u001b[0m \u001b[0;36m10\u001b[0m\u001b[0;34m\u001b[0m\u001b[0;34m\u001b[0m\u001b[0m\n\u001b[0m",
            "\u001b[0;31mTypeError\u001b[0m: can only concatenate str (not \"int\") to str"
          ]
        }
      ]
    },
    {
      "cell_type": "code",
      "metadata": {
        "colab": {
          "base_uri": "https://localhost:8080/",
          "height": 35
        },
        "id": "45dEB6vV5Qoc",
        "outputId": "06ae14fe-3bdb-47fe-cb20-7738079854ec"
      },
      "source": [
        "text1 + str(10)"
      ],
      "execution_count": null,
      "outputs": [
        {
          "output_type": "execute_result",
          "data": {
            "application/vnd.google.colaboratory.intrinsic+json": {
              "type": "string"
            },
            "text/plain": [
              "'hello10'"
            ]
          },
          "metadata": {},
          "execution_count": 55
        }
      ]
    },
    {
      "cell_type": "markdown",
      "metadata": {
        "id": "x2NMofn65s9G"
      },
      "source": [
        "## 문자열 반복하기"
      ]
    },
    {
      "cell_type": "code",
      "metadata": {
        "colab": {
          "base_uri": "https://localhost:8080/",
          "height": 35
        },
        "id": "DyQSPnz35yxe",
        "outputId": "d9e7605c-5cc5-470e-cffd-fd2f2e8f571a"
      },
      "source": [
        "text1 * 10"
      ],
      "execution_count": null,
      "outputs": [
        {
          "output_type": "execute_result",
          "data": {
            "application/vnd.google.colaboratory.intrinsic+json": {
              "type": "string"
            },
            "text/plain": [
              "'hellohellohellohellohellohellohellohellohellohello'"
            ]
          },
          "metadata": {},
          "execution_count": 56
        }
      ]
    },
    {
      "cell_type": "code",
      "metadata": {
        "colab": {
          "base_uri": "https://localhost:8080/",
          "height": 169
        },
        "id": "f96waKRD55nU",
        "outputId": "e8fbf46b-88ee-47d1-ad33-47d41f3b8d47"
      },
      "source": [
        "text1 * 0.8"
      ],
      "execution_count": null,
      "outputs": [
        {
          "output_type": "error",
          "ename": "TypeError",
          "evalue": "ignored",
          "traceback": [
            "\u001b[0;31m---------------------------------------------------------------------------\u001b[0m",
            "\u001b[0;31mTypeError\u001b[0m                                 Traceback (most recent call last)",
            "\u001b[0;32m<ipython-input-57-18eaf8e8cac9>\u001b[0m in \u001b[0;36m<module>\u001b[0;34m()\u001b[0m\n\u001b[0;32m----> 1\u001b[0;31m \u001b[0mtext1\u001b[0m \u001b[0;34m*\u001b[0m \u001b[0;36m0.8\u001b[0m\u001b[0;34m\u001b[0m\u001b[0;34m\u001b[0m\u001b[0m\n\u001b[0m",
            "\u001b[0;31mTypeError\u001b[0m: can't multiply sequence by non-int of type 'float'"
          ]
        }
      ]
    },
    {
      "cell_type": "code",
      "metadata": {
        "colab": {
          "base_uri": "https://localhost:8080/",
          "height": 35
        },
        "id": "Eor-6D0N5_nc",
        "outputId": "3cd16ad7-3f4b-4fa5-fb19-647869e08f6f"
      },
      "source": [
        "text1 * 0"
      ],
      "execution_count": null,
      "outputs": [
        {
          "output_type": "execute_result",
          "data": {
            "application/vnd.google.colaboratory.intrinsic+json": {
              "type": "string"
            },
            "text/plain": [
              "''"
            ]
          },
          "metadata": {},
          "execution_count": 58
        }
      ]
    },
    {
      "cell_type": "markdown",
      "metadata": {
        "id": "5PS0fQ4w6DrU"
      },
      "source": [
        "## 대 소문자화 하기★"
      ]
    },
    {
      "cell_type": "code",
      "metadata": {
        "colab": {
          "base_uri": "https://localhost:8080/",
          "height": 35
        },
        "id": "5CmmYHHf6OtG",
        "outputId": "53aeb63a-9cd9-4bf4-eb15-bf5eb300374c"
      },
      "source": [
        "# 모든 문자를 대문자로 만들기 - upper()\n",
        "text2.upper()"
      ],
      "execution_count": null,
      "outputs": [
        {
          "output_type": "execute_result",
          "data": {
            "application/vnd.google.colaboratory.intrinsic+json": {
              "type": "string"
            },
            "text/plain": [
              "'WORLD'"
            ]
          },
          "metadata": {},
          "execution_count": 59
        }
      ]
    },
    {
      "cell_type": "code",
      "metadata": {
        "colab": {
          "base_uri": "https://localhost:8080/",
          "height": 35
        },
        "id": "17BEdJiq6bn8",
        "outputId": "d4be4fe0-f3d1-4f68-a490-96988fd02640"
      },
      "source": [
        "# 모든 문자를 소문자로 만들기 - lower()\n",
        "text3 = \"HELLO!!!\"\n",
        "text3.lower()"
      ],
      "execution_count": null,
      "outputs": [
        {
          "output_type": "execute_result",
          "data": {
            "application/vnd.google.colaboratory.intrinsic+json": {
              "type": "string"
            },
            "text/plain": [
              "'hello!!!'"
            ]
          },
          "metadata": {},
          "execution_count": 60
        }
      ]
    },
    {
      "cell_type": "markdown",
      "metadata": {
        "id": "8rBke-fl6mxs"
      },
      "source": [
        "텍스트 데이터를 단순화 시키기 위한 방법 중 하나\n",
        "\n",
        "기본적으로 컴퓨터는 `HELLO와 hello, hEllo`는 같지 않다고 판단.\n",
        "\n",
        "따라서 대소문자에 의해 다른 단어로 생각하지 않게 하기 위해 소문자나 대문자로 통일. 거의 대부분 소문자로 통일"
      ]
    },
    {
      "cell_type": "markdown",
      "metadata": {
        "id": "pYjdjreV6umu"
      },
      "source": [
        "## 문자열 치환★★★\n",
        "치환 : a를 b로 바꾸는 것"
      ]
    },
    {
      "cell_type": "code",
      "metadata": {
        "colab": {
          "base_uri": "https://localhost:8080/",
          "height": 35
        },
        "id": "Zi0ax3kl70ZO",
        "outputId": "9e04e50f-cfff-4895-d438-c4ac51b80a50"
      },
      "source": [
        "# 치환 - replace()\n",
        "\n",
        "text = \"Hello World!\"\n",
        "text.replace(\"H\", \"j\")"
      ],
      "execution_count": null,
      "outputs": [
        {
          "output_type": "execute_result",
          "data": {
            "application/vnd.google.colaboratory.intrinsic+json": {
              "type": "string"
            },
            "text/plain": [
              "'jello World!'"
            ]
          },
          "metadata": {},
          "execution_count": 61
        }
      ]
    },
    {
      "cell_type": "code",
      "metadata": {
        "colab": {
          "base_uri": "https://localhost:8080/",
          "height": 35
        },
        "id": "Bpo3aWrU8L2t",
        "outputId": "8706c72e-b2da-4a25-a597-a47ecd78af86"
      },
      "source": [
        "text.replace(\"He\", \"Bye\")"
      ],
      "execution_count": null,
      "outputs": [
        {
          "output_type": "execute_result",
          "data": {
            "application/vnd.google.colaboratory.intrinsic+json": {
              "type": "string"
            },
            "text/plain": [
              "'Byello World!'"
            ]
          },
          "metadata": {},
          "execution_count": 62
        }
      ]
    },
    {
      "cell_type": "code",
      "metadata": {
        "colab": {
          "base_uri": "https://localhost:8080/",
          "height": 35
        },
        "id": "IKfDnLUW8Xhs",
        "outputId": "e5287a60-8870-43d9-faa3-f4ec736782a6"
      },
      "source": [
        "text.replace(\"o\", \"a\")"
      ],
      "execution_count": null,
      "outputs": [
        {
          "output_type": "execute_result",
          "data": {
            "application/vnd.google.colaboratory.intrinsic+json": {
              "type": "string"
            },
            "text/plain": [
              "'Hella Warld!'"
            ]
          },
          "metadata": {},
          "execution_count": 63
        }
      ]
    },
    {
      "cell_type": "markdown",
      "metadata": {
        "id": "3nB-6gej8hXk"
      },
      "source": [
        "## 문자열 포매팅★★★★★\n",
        "문자열 내의 **특정한 값**을 **변수로**부터 초기화하여 동적으로 문자열을 생성 "
      ]
    },
    {
      "cell_type": "code",
      "metadata": {
        "colab": {
          "base_uri": "https://localhost:8080/",
          "height": 35
        },
        "id": "3ATNSMbq8rZO",
        "outputId": "0b903064-75ea-4891-f8bb-4dff604366c6"
      },
      "source": [
        "name = \"ㅋㅋㅋㅋ\"\n",
        "height = 185\n",
        "\n",
        "# text = \"제 이름은 소민호 구요, 키는180이 에요\" # 정적 텍스트(static text)\n",
        "text = \"제 이름은 \" + name + \"구요, 키는\" + str(height) + \"이에요\"\n",
        "text"
      ],
      "execution_count": null,
      "outputs": [
        {
          "output_type": "execute_result",
          "data": {
            "application/vnd.google.colaboratory.intrinsic+json": {
              "type": "string"
            },
            "text/plain": [
              "'제 이름은 ㅋㅋㅋㅋ구요, 키는185이에요'"
            ]
          },
          "metadata": {},
          "execution_count": 66
        }
      ]
    },
    {
      "cell_type": "code",
      "metadata": {
        "colab": {
          "base_uri": "https://localhost:8080/",
          "height": 35
        },
        "id": "Oud4-MXt_Mam",
        "outputId": "6dbad94e-cb2b-418d-898d-91ea37e18c6d"
      },
      "source": [
        "# 문자열 포매팅 :  문자열의 형식을 미리 지정해놓고, 필요할 때만 특정 부분만 바꿔주는 것\n",
        "text = \"제 이름은 {}구요, 키는 {}이에요\"\n",
        "text"
      ],
      "execution_count": null,
      "outputs": [
        {
          "output_type": "execute_result",
          "data": {
            "application/vnd.google.colaboratory.intrinsic+json": {
              "type": "string"
            },
            "text/plain": [
              "'제 이름은 {}구요, 키는 {}이에요'"
            ]
          },
          "metadata": {},
          "execution_count": 67
        }
      ]
    },
    {
      "cell_type": "code",
      "metadata": {
        "colab": {
          "base_uri": "https://localhost:8080/",
          "height": 35
        },
        "id": "thj8wPj4__JO",
        "outputId": "a82afc6f-b284-49b2-fab8-da86d559d1e0"
      },
      "source": [
        "name = \"김땡땡\"\n",
        "height = 165.15165\n",
        "\n",
        "text.format(name, height)"
      ],
      "execution_count": null,
      "outputs": [
        {
          "output_type": "execute_result",
          "data": {
            "application/vnd.google.colaboratory.intrinsic+json": {
              "type": "string"
            },
            "text/plain": [
              "'제 이름은 김땡땡구요, 키는 165.15165이에요'"
            ]
          },
          "metadata": {},
          "execution_count": 70
        }
      ]
    },
    {
      "cell_type": "code",
      "metadata": {
        "colab": {
          "base_uri": "https://localhost:8080/",
          "height": 35
        },
        "id": "EadtLLkuAWZU",
        "outputId": "4f482475-798a-4493-8f53-89bdce8aea71"
      },
      "source": [
        "text = f\"제 이름은 {name}구요, 키는 {height}이에요\"\n",
        "text"
      ],
      "execution_count": null,
      "outputs": [
        {
          "output_type": "execute_result",
          "data": {
            "application/vnd.google.colaboratory.intrinsic+json": {
              "type": "string"
            },
            "text/plain": [
              "'제 이름은 김땡땡구요, 키는 165.15165이에요'"
            ]
          },
          "metadata": {},
          "execution_count": 71
        }
      ]
    },
    {
      "cell_type": "markdown",
      "metadata": {
        "id": "kYohWQN2A2-M"
      },
      "source": [
        "## 문자열 분리하기 ★★★★★\n",
        "* slice : 특정 부분을 인덱스를 사용해 **잘라내기**\n",
        "* split : 특정한 구분자를 이용해서 문자열을 분리"
      ]
    },
    {
      "cell_type": "code",
      "metadata": {
        "colab": {
          "base_uri": "https://localhost:8080/"
        },
        "id": "GKnfwnhIEmiA",
        "outputId": "77793312-2192-45c2-a17a-bb298299ab20"
      },
      "source": [
        "text = \"오늘 비가 너무 많이 오네요\"\n",
        "text.split(\" \") # 공백 문자를 기준으로 분리하기"
      ],
      "execution_count": null,
      "outputs": [
        {
          "output_type": "execute_result",
          "data": {
            "text/plain": [
              "['오늘', '비가', '너무', '많이', '오네요']"
            ]
          },
          "metadata": {},
          "execution_count": 72
        }
      ]
    },
    {
      "cell_type": "code",
      "metadata": {
        "colab": {
          "base_uri": "https://localhost:8080/"
        },
        "id": "ppSXWBwcE7XF",
        "outputId": "e9b4000c-a872-433e-c820-08192cbcb5a2"
      },
      "source": [
        "text = \"#8시간#하루종일#파이썬#하고있음#빡셈\"\n",
        "result = text.split(\"#\")\n",
        "result"
      ],
      "execution_count": null,
      "outputs": [
        {
          "output_type": "execute_result",
          "data": {
            "text/plain": [
              "['', '8시간', '하루종일', '파이썬', '하고있음', '빡셈']"
            ]
          },
          "metadata": {},
          "execution_count": 74
        }
      ]
    },
    {
      "cell_type": "code",
      "metadata": {
        "colab": {
          "base_uri": "https://localhost:8080/",
          "height": 35
        },
        "id": "8-fr5p9TFPk9",
        "outputId": "b6ed6464-fb13-48b4-9eaa-5aa621c84bbf"
      },
      "source": [
        "result[1]"
      ],
      "execution_count": null,
      "outputs": [
        {
          "output_type": "execute_result",
          "data": {
            "application/vnd.google.colaboratory.intrinsic+json": {
              "type": "string"
            },
            "text/plain": [
              "'8시간'"
            ]
          },
          "metadata": {},
          "execution_count": 75
        }
      ]
    },
    {
      "cell_type": "code",
      "metadata": {
        "colab": {
          "base_uri": "https://localhost:8080/"
        },
        "id": "xTWRrmyjFplN",
        "outputId": "1308d7e1-4bd4-4448-e158-3a8b50ffa492"
      },
      "source": [
        "result[1:]"
      ],
      "execution_count": null,
      "outputs": [
        {
          "output_type": "execute_result",
          "data": {
            "text/plain": [
              "['8시간', '하루종일', '파이썬', '하고있음', '빡셈']"
            ]
          },
          "metadata": {},
          "execution_count": 76
        }
      ]
    },
    {
      "cell_type": "code",
      "metadata": {
        "colab": {
          "base_uri": "https://localhost:8080/"
        },
        "id": "Dfc6xQHLFwTk",
        "outputId": "dc787a71-8997-4eb4-c5b2-9c98899f107c"
      },
      "source": [
        "text = \"느그    서장     남천동         살제\"\n",
        "# text.split(\" \")\n",
        "text.split()"
      ],
      "execution_count": null,
      "outputs": [
        {
          "output_type": "execute_result",
          "data": {
            "text/plain": [
              "['느그', '서장', '남천동', '살제']"
            ]
          },
          "metadata": {},
          "execution_count": 3
        }
      ]
    },
    {
      "cell_type": "markdown",
      "metadata": {
        "id": "cnslObmzGXDE"
      },
      "source": [
        "## 문자열 합치기\n",
        "* split과 반대 개념"
      ]
    },
    {
      "cell_type": "code",
      "metadata": {
        "colab": {
          "base_uri": "https://localhost:8080/"
        },
        "id": "4sNixp6JG9dV",
        "outputId": "b26cd4d4-3545-4295-aaca-b20aa2fcf94f"
      },
      "source": [
        "result = text.split()\n",
        "result"
      ],
      "execution_count": null,
      "outputs": [
        {
          "output_type": "execute_result",
          "data": {
            "text/plain": [
              "['느그', '서장', '남천동', '살제']"
            ]
          },
          "metadata": {},
          "execution_count": 82
        }
      ]
    },
    {
      "cell_type": "code",
      "metadata": {
        "colab": {
          "base_uri": "https://localhost:8080/",
          "height": 35
        },
        "id": "d5EmSzcbHGWd",
        "outputId": "3c78f982-b8ad-42ff-f5b4-41bbe6970463"
      },
      "source": [
        "# join() : 특정한 문자열을 기준으로 리스트 내에 있는 문자열들을 합쳐준다.\n",
        "\"#\".join(result)"
      ],
      "execution_count": null,
      "outputs": [
        {
          "output_type": "execute_result",
          "data": {
            "application/vnd.google.colaboratory.intrinsic+json": {
              "type": "string"
            },
            "text/plain": [
              "'#느그#서장#남천동#살제'"
            ]
          },
          "metadata": {},
          "execution_count": 84
        }
      ]
    },
    {
      "cell_type": "code",
      "metadata": {
        "colab": {
          "base_uri": "https://localhost:8080/",
          "height": 35
        },
        "id": "7sHQpzeBHXK9",
        "outputId": "9681410d-fd44-4ad1-b8ab-2ced035252bf"
      },
      "source": [
        "\"😊\".join(result)"
      ],
      "execution_count": null,
      "outputs": [
        {
          "output_type": "execute_result",
          "data": {
            "application/vnd.google.colaboratory.intrinsic+json": {
              "type": "string"
            },
            "text/plain": [
              "'느그😊서장😊남천동😊살제'"
            ]
          },
          "metadata": {},
          "execution_count": 85
        }
      ]
    },
    {
      "cell_type": "markdown",
      "metadata": {
        "id": "F7eN_D88HtEV"
      },
      "source": [
        "# 형 변환(Type Casting)\n",
        "* 데이터의 자료형을 바꾸는 것\n",
        "\n",
        "-----\n",
        "\n",
        "* int : 정수\n",
        "* float : 실수\n",
        "* str : 문자열\n",
        "* bool : 논리"
      ]
    },
    {
      "cell_type": "code",
      "metadata": {
        "colab": {
          "base_uri": "https://localhost:8080/"
        },
        "id": "-OEcQq4FH9jY",
        "outputId": "717ba0eb-e264-4d68-fb11-43225de8abd3"
      },
      "source": [
        "a = 10 # 정수\n",
        "float(a) # 정수를 실수로 변환"
      ],
      "execution_count": null,
      "outputs": [
        {
          "output_type": "execute_result",
          "data": {
            "text/plain": [
              "10.0"
            ]
          },
          "metadata": {},
          "execution_count": 86
        }
      ]
    },
    {
      "cell_type": "code",
      "metadata": {
        "colab": {
          "base_uri": "https://localhost:8080/",
          "height": 35
        },
        "id": "qXBpxA4aIqpd",
        "outputId": "0bd59208-2a3f-4217-d6c4-18a0c7db5ffd"
      },
      "source": [
        "str(a)"
      ],
      "execution_count": null,
      "outputs": [
        {
          "output_type": "execute_result",
          "data": {
            "application/vnd.google.colaboratory.intrinsic+json": {
              "type": "string"
            },
            "text/plain": [
              "'10'"
            ]
          },
          "metadata": {},
          "execution_count": 87
        }
      ]
    },
    {
      "cell_type": "code",
      "metadata": {
        "colab": {
          "base_uri": "https://localhost:8080/"
        },
        "id": "t63UGz9iIxSd",
        "outputId": "e37c3e5b-d28d-47b6-ab99-ede95b71a07b"
      },
      "source": [
        "bool(a)"
      ],
      "execution_count": null,
      "outputs": [
        {
          "output_type": "execute_result",
          "data": {
            "text/plain": [
              "True"
            ]
          },
          "metadata": {},
          "execution_count": 88
        }
      ]
    },
    {
      "cell_type": "code",
      "metadata": {
        "colab": {
          "base_uri": "https://localhost:8080/"
        },
        "id": "xUNKmvrUI1_d",
        "outputId": "c1c41a79-1f3f-4ebb-fce6-25e697221cb9"
      },
      "source": [
        "bool(0)"
      ],
      "execution_count": null,
      "outputs": [
        {
          "output_type": "execute_result",
          "data": {
            "text/plain": [
              "False"
            ]
          },
          "metadata": {},
          "execution_count": 89
        }
      ]
    },
    {
      "cell_type": "code",
      "metadata": {
        "colab": {
          "base_uri": "https://localhost:8080/"
        },
        "id": "fu-I2MbMI_Q6",
        "outputId": "22973e28-21e5-45eb-8e0c-eacb5a78a2fd"
      },
      "source": [
        "bool(1)"
      ],
      "execution_count": null,
      "outputs": [
        {
          "output_type": "execute_result",
          "data": {
            "text/plain": [
              "True"
            ]
          },
          "metadata": {},
          "execution_count": 90
        }
      ]
    },
    {
      "cell_type": "code",
      "metadata": {
        "colab": {
          "base_uri": "https://localhost:8080/"
        },
        "id": "7XMwnN51JBE-",
        "outputId": "9bec142d-6cb5-4e66-895b-dd5b9403f12b"
      },
      "source": [
        "bool(-1)"
      ],
      "execution_count": null,
      "outputs": [
        {
          "output_type": "execute_result",
          "data": {
            "text/plain": [
              "True"
            ]
          },
          "metadata": {},
          "execution_count": 91
        }
      ]
    },
    {
      "cell_type": "markdown",
      "metadata": {
        "id": "QFRZV-f8JCl1"
      },
      "source": [
        "어떤 값을 bool로 바꾸면 0이 아닌 값은 모두 True가 된다."
      ]
    },
    {
      "cell_type": "code",
      "metadata": {
        "colab": {
          "base_uri": "https://localhost:8080/"
        },
        "id": "_qTkCJlyJFcV",
        "outputId": "b1db3876-27e0-4d6e-82e2-c862d548a04e"
      },
      "source": [
        "# 실수를 정수로\n",
        "a = 10.55\n",
        "int(a)"
      ],
      "execution_count": null,
      "outputs": [
        {
          "output_type": "execute_result",
          "data": {
            "text/plain": [
              "10"
            ]
          },
          "metadata": {},
          "execution_count": 93
        }
      ]
    },
    {
      "cell_type": "code",
      "metadata": {
        "colab": {
          "base_uri": "https://localhost:8080/",
          "height": 35
        },
        "id": "6szdMcdgJd2m",
        "outputId": "9194d4d7-87be-4240-c77a-e2c1ca23cb77"
      },
      "source": [
        "str(a)"
      ],
      "execution_count": null,
      "outputs": [
        {
          "output_type": "execute_result",
          "data": {
            "application/vnd.google.colaboratory.intrinsic+json": {
              "type": "string"
            },
            "text/plain": [
              "'10.55'"
            ]
          },
          "metadata": {},
          "execution_count": 94
        }
      ]
    },
    {
      "cell_type": "code",
      "metadata": {
        "colab": {
          "base_uri": "https://localhost:8080/"
        },
        "id": "V-aeiuPHJkPO",
        "outputId": "9a860a01-1b7e-4103-9aef-02ec596536a8"
      },
      "source": [
        "bool(a)"
      ],
      "execution_count": null,
      "outputs": [
        {
          "output_type": "execute_result",
          "data": {
            "text/plain": [
              "True"
            ]
          },
          "metadata": {},
          "execution_count": 95
        }
      ]
    },
    {
      "cell_type": "code",
      "metadata": {
        "id": "p4vGXGhMJlYV"
      },
      "source": [
        "# 논리타입 변환\n",
        "a = True"
      ],
      "execution_count": null,
      "outputs": []
    },
    {
      "cell_type": "code",
      "metadata": {
        "colab": {
          "base_uri": "https://localhost:8080/"
        },
        "id": "tN00OyxtJw2u",
        "outputId": "dc05d2a8-6f9e-4dd7-fa17-cb7387c3c5a7"
      },
      "source": [
        "int(a)"
      ],
      "execution_count": null,
      "outputs": [
        {
          "output_type": "execute_result",
          "data": {
            "text/plain": [
              "1"
            ]
          },
          "metadata": {},
          "execution_count": 97
        }
      ]
    },
    {
      "cell_type": "code",
      "metadata": {
        "colab": {
          "base_uri": "https://localhost:8080/"
        },
        "id": "if_ZAPTiJy9F",
        "outputId": "371f5536-3142-43de-d926-48c8e44f695f"
      },
      "source": [
        "float(a)"
      ],
      "execution_count": null,
      "outputs": [
        {
          "output_type": "execute_result",
          "data": {
            "text/plain": [
              "1.0"
            ]
          },
          "metadata": {},
          "execution_count": 98
        }
      ]
    },
    {
      "cell_type": "code",
      "metadata": {
        "colab": {
          "base_uri": "https://localhost:8080/",
          "height": 35
        },
        "id": "ODWuP_SIJ1UP",
        "outputId": "8a77c838-511b-4132-f8a7-e51d46473641"
      },
      "source": [
        "str(a)"
      ],
      "execution_count": null,
      "outputs": [
        {
          "output_type": "execute_result",
          "data": {
            "application/vnd.google.colaboratory.intrinsic+json": {
              "type": "string"
            },
            "text/plain": [
              "'True'"
            ]
          },
          "metadata": {},
          "execution_count": 99
        }
      ]
    },
    {
      "cell_type": "markdown",
      "metadata": {
        "id": "Yakxd7adJ4BV"
      },
      "source": [
        "# 문자열을 다른 자료형으로 바꾸는 과정( Parsing )"
      ]
    },
    {
      "cell_type": "code",
      "metadata": {
        "colab": {
          "base_uri": "https://localhost:8080/",
          "height": 35
        },
        "id": "UF9XAGkaKLbV",
        "outputId": "0510142e-7e24-4585-bbb3-8307204aa112"
      },
      "source": [
        "venom = \"6.16\"\n",
        "eternels = \"5.69\"\n",
        "\n",
        "venom + eternels"
      ],
      "execution_count": null,
      "outputs": [
        {
          "output_type": "execute_result",
          "data": {
            "application/vnd.google.colaboratory.intrinsic+json": {
              "type": "string"
            },
            "text/plain": [
              "'6.165.69'"
            ]
          },
          "metadata": {},
          "execution_count": 100
        }
      ]
    },
    {
      "cell_type": "code",
      "metadata": {
        "colab": {
          "base_uri": "https://localhost:8080/"
        },
        "id": "vsb5Y-YvLEB-",
        "outputId": "3b6f95f1-588a-4787-a065-53ef05284447"
      },
      "source": [
        "venom_score = float(venom)\n",
        "eternels_score = float(eternels)\n",
        "\n",
        "venom_score + eternels_score"
      ],
      "execution_count": null,
      "outputs": [
        {
          "output_type": "execute_result",
          "data": {
            "text/plain": [
              "11.850000000000001"
            ]
          },
          "metadata": {},
          "execution_count": 101
        }
      ]
    },
    {
      "cell_type": "markdown",
      "metadata": {
        "id": "APnRPaFsLd1m"
      },
      "source": [
        "문자열 데이터를 내가 원하는 타입으로 바꾸는 행위를 파싱이라고 한다."
      ]
    },
    {
      "cell_type": "code",
      "metadata": {
        "colab": {
          "base_uri": "https://localhost:8080/"
        },
        "id": "9Ai5FFNLLk22",
        "outputId": "ecba8b2e-ef3c-4f10-b703-a3ae32bf1d13"
      },
      "source": [
        "a = \"True\"\n",
        "bool(a)"
      ],
      "execution_count": null,
      "outputs": [
        {
          "output_type": "execute_result",
          "data": {
            "text/plain": [
              "True"
            ]
          },
          "metadata": {},
          "execution_count": 102
        }
      ]
    },
    {
      "cell_type": "code",
      "metadata": {
        "colab": {
          "base_uri": "https://localhost:8080/"
        },
        "id": "a2bjo97AL2Pm",
        "outputId": "1e172ea9-4230-46cd-acb6-ea0705c1747b"
      },
      "source": [
        "a = \"False\"\n",
        "bool(a)"
      ],
      "execution_count": null,
      "outputs": [
        {
          "output_type": "execute_result",
          "data": {
            "text/plain": [
              "True"
            ]
          },
          "metadata": {},
          "execution_count": 103
        }
      ]
    },
    {
      "cell_type": "code",
      "metadata": {
        "id": "zMrGNvA7L512",
        "colab": {
          "base_uri": "https://localhost:8080/",
          "height": 186
        },
        "outputId": "fdff9e80-0751-4da8-b066-4361e87391df"
      },
      "source": [
        "\n",
        "# 문자열을 내가 원하는 타입으로 바꾸려면 그 값 자체가 원하는 타입으로만 있어야 한다.\n",
        "venom = \"5.16점\" # 실수형태가 아님!\n",
        "float(venom) # 에러"
      ],
      "execution_count": null,
      "outputs": [
        {
          "output_type": "error",
          "ename": "ValueError",
          "evalue": "ignored",
          "traceback": [
            "\u001b[0;31m---------------------------------------------------------------------------\u001b[0m",
            "\u001b[0;31mValueError\u001b[0m                                Traceback (most recent call last)",
            "\u001b[0;32m<ipython-input-104-bd4207c4c2c5>\u001b[0m in \u001b[0;36m<module>\u001b[0;34m()\u001b[0m\n\u001b[1;32m      1\u001b[0m \u001b[0mvenom\u001b[0m \u001b[0;34m=\u001b[0m \u001b[0;34m\"5.16점\"\u001b[0m\u001b[0;34m\u001b[0m\u001b[0;34m\u001b[0m\u001b[0m\n\u001b[0;32m----> 2\u001b[0;31m \u001b[0mfloat\u001b[0m\u001b[0;34m(\u001b[0m\u001b[0mvenom\u001b[0m\u001b[0;34m)\u001b[0m\u001b[0;34m\u001b[0m\u001b[0;34m\u001b[0m\u001b[0m\n\u001b[0m",
            "\u001b[0;31mValueError\u001b[0m: could not convert string to float: '5.16점'"
          ]
        }
      ]
    },
    {
      "cell_type": "code",
      "metadata": {
        "colab": {
          "base_uri": "https://localhost:8080/",
          "height": 186
        },
        "id": "1TiO0WN5MGQV",
        "outputId": "b096ae1d-cfc2-410b-c12d-3ca4b2319799"
      },
      "source": [
        "venom = \"5.16\"\n",
        "int(venom)"
      ],
      "execution_count": null,
      "outputs": [
        {
          "output_type": "error",
          "ename": "ValueError",
          "evalue": "ignored",
          "traceback": [
            "\u001b[0;31m---------------------------------------------------------------------------\u001b[0m",
            "\u001b[0;31mValueError\u001b[0m                                Traceback (most recent call last)",
            "\u001b[0;32m<ipython-input-105-e2be3d3e7a36>\u001b[0m in \u001b[0;36m<module>\u001b[0;34m()\u001b[0m\n\u001b[1;32m      1\u001b[0m \u001b[0mvenom\u001b[0m \u001b[0;34m=\u001b[0m \u001b[0;34m\"5.16\"\u001b[0m\u001b[0;34m\u001b[0m\u001b[0;34m\u001b[0m\u001b[0m\n\u001b[0;32m----> 2\u001b[0;31m \u001b[0mint\u001b[0m\u001b[0;34m(\u001b[0m\u001b[0mvenom\u001b[0m\u001b[0;34m)\u001b[0m\u001b[0;34m\u001b[0m\u001b[0;34m\u001b[0m\u001b[0m\n\u001b[0m",
            "\u001b[0;31mValueError\u001b[0m: invalid literal for int() with base 10: '5.16'"
          ]
        }
      ]
    },
    {
      "cell_type": "code",
      "metadata": {
        "colab": {
          "base_uri": "https://localhost:8080/"
        },
        "id": "kywyELMoMj-N",
        "outputId": "418a6cee-10b0-4fa3-f9e7-c96f11d52273"
      },
      "source": [
        "int(float(venom))"
      ],
      "execution_count": null,
      "outputs": [
        {
          "output_type": "execute_result",
          "data": {
            "text/plain": [
              "5"
            ]
          },
          "metadata": {},
          "execution_count": 106
        }
      ]
    },
    {
      "cell_type": "code",
      "metadata": {
        "colab": {
          "base_uri": "https://localhost:8080/"
        },
        "id": "BkUtVGlZMt-K",
        "outputId": "ffabd462-60c7-4e1c-91bf-bc09ec2eca00"
      },
      "source": [
        "# \"10\"은 정수 형식의 문자열\n",
        "# 실수는 정수를 포함하기 때문에 가능\n",
        "a = \"10\"\n",
        "float(a)"
      ],
      "execution_count": null,
      "outputs": [
        {
          "output_type": "execute_result",
          "data": {
            "text/plain": [
              "10.0"
            ]
          },
          "metadata": {},
          "execution_count": 107
        }
      ]
    },
    {
      "cell_type": "markdown",
      "metadata": {
        "id": "4AqQj-N7M6N-"
      },
      "source": [
        "# 문자열의 좌우 공백 제거"
      ]
    },
    {
      "cell_type": "code",
      "metadata": {
        "colab": {
          "base_uri": "https://localhost:8080/",
          "height": 35
        },
        "id": "UMvfJSAYNI4I",
        "outputId": "78a81ef5-f00d-46df-edb9-39a248b4881f"
      },
      "source": [
        "a = \"   느그 서장 남천동 살제    \"\n",
        "a.strip()"
      ],
      "execution_count": null,
      "outputs": [
        {
          "output_type": "execute_result",
          "data": {
            "application/vnd.google.colaboratory.intrinsic+json": {
              "type": "string"
            },
            "text/plain": [
              "'느그 서장 남천동 살제'"
            ]
          },
          "metadata": {},
          "execution_count": 108
        }
      ]
    },
    {
      "cell_type": "code",
      "metadata": {
        "colab": {
          "base_uri": "https://localhost:8080/",
          "height": 35
        },
        "id": "h8QT-ceZNo8e",
        "outputId": "eecb6c4b-99b6-4fea-d3c6-e0894e86b0b3"
      },
      "source": [
        "a"
      ],
      "execution_count": null,
      "outputs": [
        {
          "output_type": "execute_result",
          "data": {
            "application/vnd.google.colaboratory.intrinsic+json": {
              "type": "string"
            },
            "text/plain": [
              "'   느그 서장 남천동 살제    '"
            ]
          },
          "metadata": {},
          "execution_count": 109
        }
      ]
    },
    {
      "cell_type": "code",
      "metadata": {
        "colab": {
          "base_uri": "https://localhost:8080/"
        },
        "id": "Bllz5_NdNwR9",
        "outputId": "839b3c97-2764-428b-bb96-920b69083184"
      },
      "source": [
        "venom = \"  5.16   \"\n",
        "print(venom)"
      ],
      "execution_count": null,
      "outputs": [
        {
          "output_type": "stream",
          "name": "stdout",
          "text": [
            "  5.16   \n"
          ]
        }
      ]
    },
    {
      "cell_type": "code",
      "metadata": {
        "colab": {
          "base_uri": "https://localhost:8080/"
        },
        "id": "H9wLQ2KXN35l",
        "outputId": "ca874f4b-e5e8-4040-ee09-86f54bd37d37"
      },
      "source": [
        "float(venom)"
      ],
      "execution_count": null,
      "outputs": [
        {
          "output_type": "execute_result",
          "data": {
            "text/plain": [
              "5.16"
            ]
          },
          "metadata": {},
          "execution_count": 115
        }
      ]
    },
    {
      "cell_type": "code",
      "metadata": {
        "colab": {
          "base_uri": "https://localhost:8080/"
        },
        "id": "R2dvYKqAODIu",
        "outputId": "99cabcb3-1a91-42a9-86f8-c21c488ac13c"
      },
      "source": [
        "text = '안녕하세요!반갑습니다'\n",
        "print(text[4:8:3])"
      ],
      "execution_count": null,
      "outputs": [
        {
          "output_type": "stream",
          "name": "stdout",
          "text": [
            "요갑\n"
          ]
        }
      ]
    },
    {
      "cell_type": "code",
      "metadata": {
        "colab": {
          "base_uri": "https://localhost:8080/",
          "height": 204
        },
        "id": "MIGkQRE3gLJ_",
        "outputId": "e9581a3b-bd03-4415-cc32-22aa22e446b5"
      },
      "source": [
        ""
      ],
      "execution_count": null,
      "outputs": [
        {
          "output_type": "error",
          "ename": "TypeError",
          "evalue": "ignored",
          "traceback": [
            "\u001b[0;31m---------------------------------------------------------------------------\u001b[0m",
            "\u001b[0;31mTypeError\u001b[0m                                 Traceback (most recent call last)",
            "\u001b[0;32m<ipython-input-123-5a3bc0530b69>\u001b[0m in \u001b[0;36m<module>\u001b[0;34m()\u001b[0m\n\u001b[1;32m      2\u001b[0m \u001b[0mheight\u001b[0m \u001b[0;34m=\u001b[0m \u001b[0;36m165\u001b[0m\u001b[0;34m\u001b[0m\u001b[0;34m\u001b[0m\u001b[0m\n\u001b[1;32m      3\u001b[0m \u001b[0;34m\u001b[0m\u001b[0m\n\u001b[0;32m----> 4\u001b[0;31m \u001b[0mtext1\u001b[0m \u001b[0;34m=\u001b[0m \u001b[0;34m\"제 이름은\"\u001b[0m \u001b[0;34m+\u001b[0m \u001b[0mname\u001b[0m \u001b[0;34m+\u001b[0m \u001b[0;34m\"이고 키는\"\u001b[0m \u001b[0;34m+\u001b[0m \u001b[0mheight\u001b[0m \u001b[0;34m+\u001b[0m \u001b[0;34m\"입니다\"\u001b[0m\u001b[0;34m\u001b[0m\u001b[0;34m\u001b[0m\u001b[0m\n\u001b[0m",
            "\u001b[0;31mTypeError\u001b[0m: can only concatenate str (not \"int\") to str"
          ]
        }
      ]
    },
    {
      "cell_type": "code",
      "metadata": {
        "id": "3BI2lP-32Eqa"
      },
      "source": [
        ""
      ],
      "execution_count": null,
      "outputs": []
    }
  ]
}