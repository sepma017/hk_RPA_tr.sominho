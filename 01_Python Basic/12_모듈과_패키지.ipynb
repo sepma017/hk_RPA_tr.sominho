{
  "nbformat": 4,
  "nbformat_minor": 0,
  "metadata": {
    "colab": {
      "name": "12. 모듈과 패키지",
      "provenance": [],
      "collapsed_sections": []
    },
    "kernelspec": {
      "name": "python3",
      "display_name": "Python 3"
    },
    "language_info": {
      "name": "python"
    }
  },
  "cells": [
    {
      "cell_type": "markdown",
      "metadata": {
        "id": "QgVEPZnGGhB1"
      },
      "source": [
        "# 모듈(Moudle), 패키지 ( Package )\n",
        "* 모듈 : 변수, 함수, 클래스를 모아놓은 `.py` 확장자 파일\n",
        "  * `.py` 파일은 마크다운이나 셀 같은 정보는 없고, 순수한 파이썬 코드만 존재하는 파일\n",
        "  * `.ipynb` 파일은 마크다운 및 시각화 등 여러 정보를 예쁘게 볼 수 있도록 꾸며진 파일\n",
        "* 패키지 : 모듈의 기능을 디렉토리(폴더)별로 정리해 놓은 개념"
      ]
    },
    {
      "cell_type": "markdown",
      "metadata": {
        "id": "2qleePCHHK1-"
      },
      "source": [
        "`%%writefile demo.py` : 현재 노트북이 있는 경로에 `.py`를 작성합니다."
      ]
    },
    {
      "cell_type": "markdown",
      "metadata": {
        "id": "UHsiwqgFI8E6"
      },
      "source": [
        "리눅스 명령어\n",
        "1. `cd` : `Change Directory`의 약자. 현재 위치하고 있는 디렉토리를 변경\n",
        "  * `cd ./[폴더명]` : 현재 위치에서 변경\n",
        "  * `cd ../[폴더명]` : 상위 폴더로 이동하고 나서 변경\n",
        "  * `cd ~` : Home 디렉토리로 이동\n",
        "    * MAC, Linux : `/home/계정명/`\n",
        "    * Windows : `C:\\Users\\계정명`\n",
        "2. `pwd` : 현재 위치한 경로를 표시\n",
        "3. `ls` : 원하는 위치의 디렉토리 내부 내용 표시"
      ]
    },
    {
      "cell_type": "code",
      "metadata": {
        "colab": {
          "base_uri": "https://localhost:8080/"
        },
        "id": "_SQJV3PuInGv",
        "outputId": "b94cbaaa-526b-4a34-da44-b1a01eada652"
      },
      "source": [
        "%%writefile demo.py\n",
        "\n",
        "num = 10\n",
        "\n",
        "def foo(msg):\n",
        "  print(\"foo() =>\", msg)\n",
        "\n",
        "def goo(num1, num2):\n",
        "  # 여러 개의 리턴값을 튜플로 묶어서 리턴\n",
        "  return num1+num2, num1-num2, num1*num2, num1/num2\n",
        "\n",
        "class DemoCalc:\n",
        "  def sum_all(self, *args):\n",
        "    return sum(args)"
      ],
      "execution_count": null,
      "outputs": [
        {
          "output_type": "stream",
          "name": "stdout",
          "text": [
            "Overwriting demo.py\n"
          ]
        }
      ]
    },
    {
      "cell_type": "code",
      "metadata": {
        "colab": {
          "base_uri": "https://localhost:8080/"
        },
        "id": "tWnUn6bBLFvJ",
        "outputId": "efa4c9ff-8c91-4a7b-eb09-a8a53507f7ce"
      },
      "source": [
        "!ls"
      ],
      "execution_count": null,
      "outputs": [
        {
          "output_type": "stream",
          "name": "stdout",
          "text": [
            "demo.py  hk_pkg  __pycache__  sample_data\n"
          ]
        }
      ]
    },
    {
      "cell_type": "markdown",
      "metadata": {
        "id": "6knUoBnCLMN1"
      },
      "source": [
        "# 모듈 불러오기\n",
        "`import 모듈명` : 모듈을 불러오는 키워드\n"
      ]
    },
    {
      "cell_type": "code",
      "metadata": {
        "id": "nC_FGLbILkQO"
      },
      "source": [
        "import demo"
      ],
      "execution_count": null,
      "outputs": []
    },
    {
      "cell_type": "code",
      "metadata": {
        "colab": {
          "base_uri": "https://localhost:8080/"
        },
        "id": "uBbDONRCLr3u",
        "outputId": "22e8b8f3-b805-4d81-b53b-0cb9ae9c763d"
      },
      "source": [
        "# demo 모듈에 있는 변수 num 불러오기\n",
        "demo.num"
      ],
      "execution_count": null,
      "outputs": [
        {
          "output_type": "execute_result",
          "data": {
            "text/plain": [
              "10"
            ]
          },
          "metadata": {},
          "execution_count": 5
        }
      ]
    },
    {
      "cell_type": "code",
      "metadata": {
        "colab": {
          "base_uri": "https://localhost:8080/"
        },
        "id": "zbRFRUwzL0om",
        "outputId": "57e89167-bf92-4566-f9a3-6efe5dc36d29"
      },
      "source": [
        "# demo 모듈에 있는 함수 foo, goo 호출하기\n",
        "demo.foo(\"Hello~!\")"
      ],
      "execution_count": null,
      "outputs": [
        {
          "output_type": "stream",
          "name": "stdout",
          "text": [
            "foo() => Hello~!\n"
          ]
        }
      ]
    },
    {
      "cell_type": "code",
      "metadata": {
        "colab": {
          "base_uri": "https://localhost:8080/"
        },
        "id": "SFBY57I3L-e1",
        "outputId": "2f8e09ca-0083-434a-f9a4-14875e342282"
      },
      "source": [
        "demo.goo(10, 20)"
      ],
      "execution_count": null,
      "outputs": [
        {
          "output_type": "execute_result",
          "data": {
            "text/plain": [
              "(30, -10, 200, 0.5)"
            ]
          },
          "metadata": {},
          "execution_count": 7
        }
      ]
    },
    {
      "cell_type": "code",
      "metadata": {
        "colab": {
          "base_uri": "https://localhost:8080/"
        },
        "id": "wdjKrM80MCDN",
        "outputId": "f62f74a6-2ac1-4202-9950-fbcf66390ce2"
      },
      "source": [
        "calc = demo.DemoCalc()\n",
        "calc.sum_all(1,2,3,4,5,6,7,8,9,10)"
      ],
      "execution_count": null,
      "outputs": [
        {
          "output_type": "execute_result",
          "data": {
            "text/plain": [
              "55"
            ]
          },
          "metadata": {},
          "execution_count": 8
        }
      ]
    },
    {
      "cell_type": "markdown",
      "metadata": {
        "id": "6zM4LEoSMTc9"
      },
      "source": [
        "**모듈 내에 있는 함수, 변수, 클래스를 따로따로 불러오기**\n",
        "* `from 모듈명 import [변수명 또는 함수명 또는 클래스명]`\n"
      ]
    },
    {
      "cell_type": "code",
      "metadata": {
        "id": "uYoMC9LjMuJe"
      },
      "source": [
        "from demo import num, goo"
      ],
      "execution_count": null,
      "outputs": []
    },
    {
      "cell_type": "code",
      "metadata": {
        "colab": {
          "base_uri": "https://localhost:8080/"
        },
        "id": "eSBfUl5xM3Ke",
        "outputId": "91279178-244d-410a-bd9d-681a716e626e"
      },
      "source": [
        "print(num)"
      ],
      "execution_count": null,
      "outputs": [
        {
          "output_type": "stream",
          "name": "stdout",
          "text": [
            "10\n"
          ]
        }
      ]
    },
    {
      "cell_type": "code",
      "metadata": {
        "colab": {
          "base_uri": "https://localhost:8080/"
        },
        "id": "bW3XBHdaM4HV",
        "outputId": "f6f32ac1-bd9f-4ce5-fe87-121265f2b6ac"
      },
      "source": [
        "goo(1, 5)"
      ],
      "execution_count": null,
      "outputs": [
        {
          "output_type": "execute_result",
          "data": {
            "text/plain": [
              "(6, -4, 5, 0.2)"
            ]
          },
          "metadata": {},
          "execution_count": 11
        }
      ]
    },
    {
      "cell_type": "markdown",
      "metadata": {
        "id": "BPH60XCKM5hl"
      },
      "source": [
        "**모듈을 불러올 때 별명 지어주기 (alias)**\n",
        "* `import 모듈명 as 별명`\n"
      ]
    },
    {
      "cell_type": "code",
      "metadata": {
        "colab": {
          "base_uri": "https://localhost:8080/"
        },
        "id": "rFk4qXPANPuk",
        "outputId": "7db3f4f5-e690-4b1e-a222-6c3959c86e76"
      },
      "source": [
        "import demo as dm\n",
        "\n",
        "dm.foo(\"하이하이\")"
      ],
      "execution_count": null,
      "outputs": [
        {
          "output_type": "stream",
          "name": "stdout",
          "text": [
            "foo() => 하이하이\n"
          ]
        }
      ]
    },
    {
      "cell_type": "markdown",
      "metadata": {
        "id": "q_JETBxmNiZG"
      },
      "source": [
        "# 패키지 ( Package )\n",
        "* 패키지 생성\n",
        "  * 디렉토리를 만든 것과 비슷한 작업\n",
        "  * `mkdir` 명령어를 이용해서 디렉토리를 만들고 사용\n",
        "* 패키지 호출"
      ]
    },
    {
      "cell_type": "code",
      "metadata": {
        "id": "C7cdBBp8N9lF"
      },
      "source": [
        "!mkdir -p hk_pkg/pkg1"
      ],
      "execution_count": null,
      "outputs": []
    },
    {
      "cell_type": "code",
      "metadata": {
        "id": "ANl_FnBjOO5-"
      },
      "source": [
        "!mkdir -p hk_pkg/pkg2"
      ],
      "execution_count": null,
      "outputs": []
    },
    {
      "cell_type": "code",
      "metadata": {
        "colab": {
          "base_uri": "https://localhost:8080/"
        },
        "id": "5Z8TPR5kXjd-",
        "outputId": "62bf89c5-8f25-42b6-bb91-f68e5270c9a7"
      },
      "source": [
        "!apt-get install tree"
      ],
      "execution_count": null,
      "outputs": [
        {
          "output_type": "stream",
          "name": "stdout",
          "text": [
            "Reading package lists... Done\n",
            "Building dependency tree       \n",
            "Reading state information... Done\n",
            "tree is already the newest version (1.7.0-5).\n",
            "0 upgraded, 0 newly installed, 0 to remove and 37 not upgraded.\n"
          ]
        }
      ]
    },
    {
      "cell_type": "markdown",
      "metadata": {
        "id": "UpVEPaGoOQ61"
      },
      "source": [
        "**tree패키지 설치**\n",
        "* `!apt-get install tree`\n",
        "* tree 설치 mac\n",
        "    - homebrew : https://brew.sh/\n",
        "    - homebrew : osx 패키지 설치 관리툴\n",
        "    - `/usr/bin/ruby -e \"$(curl -fsSL https://raw.githubusercontent.com/Homebrew/install/master/install)\"`\n",
        "    - `brew install tree`"
      ]
    },
    {
      "cell_type": "code",
      "metadata": {
        "colab": {
          "base_uri": "https://localhost:8080/"
        },
        "id": "J_WhHyAuOdD_",
        "outputId": "d490e4d5-2bd6-4820-98e5-61e28a2eb00e"
      },
      "source": [
        "!tree hk_pkg"
      ],
      "execution_count": null,
      "outputs": [
        {
          "output_type": "stream",
          "name": "stdout",
          "text": [
            "hk_pkg\n",
            "├── pkg1\n",
            "│   ├── hello.py\n",
            "│   ├── __init__.py\n",
            "│   ├── my_module.py\n",
            "│   └── __pycache__\n",
            "│       ├── hello.cpython-37.pyc\n",
            "│       └── __init__.cpython-37.pyc\n",
            "└── pkg2\n",
            "    ├── __init__.py\n",
            "    └── your_module.py\n",
            "\n",
            "3 directories, 7 files\n"
          ]
        }
      ]
    },
    {
      "cell_type": "markdown",
      "metadata": {
        "id": "3VGXm50WO48-"
      },
      "source": [
        "**패키지 내부에는 `__init__.py`** 파일이 있어야 **했다.**\n",
        "\n",
        "* 파이썬 3.3 버전 이상에서는 없어도 된다.\n",
        "* `__init__.py` : 패키지, 모듈에 대한 접근 권한이나 설정 같은 것들을 적어 놓는 공간"
      ]
    },
    {
      "cell_type": "code",
      "metadata": {
        "id": "ivTYpeNMPSZw"
      },
      "source": [
        "!touch hk_pkg/pkg1/__init__.py\n",
        "!touch hk_pkg/pkg2/__init__.py"
      ],
      "execution_count": null,
      "outputs": []
    },
    {
      "cell_type": "code",
      "metadata": {
        "colab": {
          "base_uri": "https://localhost:8080/"
        },
        "id": "FUQAppO0Pt5W",
        "outputId": "350093b3-fce0-4464-f0d8-10c727f1840b"
      },
      "source": [
        "!tree hk_pkg"
      ],
      "execution_count": null,
      "outputs": [
        {
          "output_type": "stream",
          "name": "stdout",
          "text": [
            "hk_pkg\n",
            "├── pkg1\n",
            "│   ├── hello.py\n",
            "│   ├── __init__.py\n",
            "│   ├── my_module.py\n",
            "│   └── __pycache__\n",
            "│       ├── hello.cpython-37.pyc\n",
            "│       └── __init__.cpython-37.pyc\n",
            "└── pkg2\n",
            "    ├── __init__.py\n",
            "    └── your_module.py\n",
            "\n",
            "3 directories, 7 files\n"
          ]
        }
      ]
    },
    {
      "cell_type": "code",
      "metadata": {
        "colab": {
          "base_uri": "https://localhost:8080/"
        },
        "id": "PBHexs2jP3il",
        "outputId": "7ea855ba-1268-4879-9133-12a2955bfc45"
      },
      "source": [
        "%%writefile hk_pkg/pkg1/my_module.py\n",
        "\n",
        "def my_func(msg):\n",
        "  print(\"Here is pkg1.my_module\")\n",
        "  print(\"Good Bye\")"
      ],
      "execution_count": null,
      "outputs": [
        {
          "output_type": "stream",
          "name": "stdout",
          "text": [
            "Overwriting hk_pkg/pkg1/my_module.py\n"
          ]
        }
      ]
    },
    {
      "cell_type": "code",
      "metadata": {
        "colab": {
          "base_uri": "https://localhost:8080/"
        },
        "id": "CR7rfEDSQiP9",
        "outputId": "28be944d-719d-49f3-ab7d-895b6beb0528"
      },
      "source": [
        "!cat hk_pkg/pkg1/my_module.py"
      ],
      "execution_count": null,
      "outputs": [
        {
          "output_type": "stream",
          "name": "stdout",
          "text": [
            "\n",
            "def my_func(msg):\n",
            "  print(\"Here is pkg1.my_module\")\n",
            "  print(\"Good Bye\")"
          ]
        }
      ]
    },
    {
      "cell_type": "code",
      "metadata": {
        "colab": {
          "base_uri": "https://localhost:8080/"
        },
        "id": "z-6dAM50Qqus",
        "outputId": "d9d1e713-17cc-4093-a542-8a46ce4e6229"
      },
      "source": [
        "%%writefile hk_pkg/pkg2/your_module.py\n",
        "\n",
        "def your_func(msg):\n",
        "  print(\"Here is pkg2.your_module\")\n",
        "  print(\"Greetings~\")"
      ],
      "execution_count": null,
      "outputs": [
        {
          "output_type": "stream",
          "name": "stdout",
          "text": [
            "Overwriting hk_pkg/pkg2/your_module.py\n"
          ]
        }
      ]
    },
    {
      "cell_type": "code",
      "metadata": {
        "colab": {
          "base_uri": "https://localhost:8080/"
        },
        "id": "_s_ZHWfnRIHN",
        "outputId": "9f94c92a-543d-4cb1-87ba-d78780442e3e"
      },
      "source": [
        "%%writefile hk_pkg/pkg1/hello.py\n",
        "\n",
        "def hello_module(msg):\n",
        "  print(\"HELLO :\", msg)\n",
        "  print(\"BYE~~\")"
      ],
      "execution_count": null,
      "outputs": [
        {
          "output_type": "stream",
          "name": "stdout",
          "text": [
            "Overwriting hk_pkg/pkg1/hello.py\n"
          ]
        }
      ]
    },
    {
      "cell_type": "code",
      "metadata": {
        "id": "aI04wLSuRZK9",
        "colab": {
          "base_uri": "https://localhost:8080/"
        },
        "outputId": "56d644e8-9fbb-4185-f96c-797a4b0587b8"
      },
      "source": [
        "!tree hk_pkg"
      ],
      "execution_count": null,
      "outputs": [
        {
          "output_type": "stream",
          "name": "stdout",
          "text": [
            "hk_pkg\n",
            "├── pkg1\n",
            "│   ├── hello.py\n",
            "│   ├── __init__.py\n",
            "│   ├── my_module.py\n",
            "│   └── __pycache__\n",
            "│       ├── hello.cpython-37.pyc\n",
            "│       └── __init__.cpython-37.pyc\n",
            "└── pkg2\n",
            "    ├── __init__.py\n",
            "    └── your_module.py\n",
            "\n",
            "3 directories, 7 files\n"
          ]
        }
      ]
    },
    {
      "cell_type": "code",
      "metadata": {
        "id": "PDba7ghiRaqc"
      },
      "source": [
        "# 패키지 ~ 모듈 까지를 불러오고\n",
        "import hk_pkg.pkg1.hello"
      ],
      "execution_count": null,
      "outputs": []
    },
    {
      "cell_type": "code",
      "metadata": {
        "colab": {
          "base_uri": "https://localhost:8080/"
        },
        "id": "qodSyEqJWx8I",
        "outputId": "77b24617-9917-4ad7-d9e6-cede0cffd60d"
      },
      "source": [
        "# 사용하기\n",
        "hk_pkg.pkg1.hello.hello_module(\"하이\")"
      ],
      "execution_count": null,
      "outputs": [
        {
          "output_type": "stream",
          "name": "stdout",
          "text": [
            "HELLO : 하이\n",
            "BYE~~\n"
          ]
        }
      ]
    },
    {
      "cell_type": "code",
      "metadata": {
        "id": "_8kd7LhKXIvg"
      },
      "source": [
        "# 패키지~모듈 까지의 내용을 별명(alias)부여\n",
        "import hk_pkg.pkg1.hello as hi"
      ],
      "execution_count": null,
      "outputs": []
    },
    {
      "cell_type": "code",
      "metadata": {
        "colab": {
          "base_uri": "https://localhost:8080/"
        },
        "id": "rWjM2KwIYJm_",
        "outputId": "32daa33e-8347-49c8-9b43-9522fae007cb"
      },
      "source": [
        "hi.hello_module(\"간단하게\")"
      ],
      "execution_count": null,
      "outputs": [
        {
          "output_type": "stream",
          "name": "stdout",
          "text": [
            "HELLO : 간단하게\n",
            "BYE~~\n"
          ]
        }
      ]
    },
    {
      "cell_type": "code",
      "metadata": {
        "colab": {
          "base_uri": "https://localhost:8080/"
        },
        "id": "GioEROvmYOOR",
        "outputId": "2ea04a43-5ffb-4a95-be23-060b98f0df1f"
      },
      "source": [
        "from hk_pkg.pkg1.hello import hello_module\n",
        "\n",
        "hello_module(\"하이하이\")"
      ],
      "execution_count": null,
      "outputs": [
        {
          "output_type": "stream",
          "name": "stdout",
          "text": [
            "HELLO : 하이하이\n",
            "BYE~~\n"
          ]
        }
      ]
    },
    {
      "cell_type": "code",
      "metadata": {
        "colab": {
          "base_uri": "https://localhost:8080/"
        },
        "id": "Qy4GU3hQYcza",
        "outputId": "be3f6baf-91ef-4142-c528-33f58a005604"
      },
      "source": [
        "# pkg2의 your_func 사용하기\n",
        "import hk_pkg.pkg2.your_module as ym\n",
        "ym.your_func(\"하이\")"
      ],
      "execution_count": null,
      "outputs": [
        {
          "output_type": "stream",
          "name": "stdout",
          "text": [
            "Here is pkg2.your_module\n",
            "Greetings~\n"
          ]
        }
      ]
    },
    {
      "cell_type": "code",
      "metadata": {
        "colab": {
          "base_uri": "https://localhost:8080/"
        },
        "id": "x2IgpBlcZI2y",
        "outputId": "5a29a2a3-3223-4e17-a893-43543685b9e8"
      },
      "source": [
        "from hk_pkg.pkg2.your_module import your_func\n",
        "your_func(\"바이\")"
      ],
      "execution_count": null,
      "outputs": [
        {
          "output_type": "stream",
          "name": "stdout",
          "text": [
            "Here is pkg2.your_module\n",
            "Greetings~\n"
          ]
        }
      ]
    },
    {
      "cell_type": "markdown",
      "metadata": {
        "id": "8HDSxACKZS7w"
      },
      "source": [
        "패키지 내에 모든 모듈을 불러오기"
      ]
    },
    {
      "cell_type": "code",
      "metadata": {
        "id": "rwWQ019hZlcA"
      },
      "source": [
        "from demo import *"
      ],
      "execution_count": null,
      "outputs": []
    },
    {
      "cell_type": "code",
      "metadata": {
        "colab": {
          "base_uri": "https://localhost:8080/"
        },
        "id": "DL0AKrmzZuyW",
        "outputId": "708f386b-1977-44ec-9bdb-ee58839b0cf4"
      },
      "source": [
        "calc = DemoCalc()\n",
        "calc.sum_all(10,11,12)"
      ],
      "execution_count": null,
      "outputs": [
        {
          "output_type": "execute_result",
          "data": {
            "text/plain": [
              "33"
            ]
          },
          "metadata": {},
          "execution_count": 33
        }
      ]
    }
  ]
}