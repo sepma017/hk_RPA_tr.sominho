{
  "nbformat": 4,
  "nbformat_minor": 0,
  "metadata": {
    "colab": {
      "name": "10. 클래스( Class )",
      "provenance": [],
      "collapsed_sections": []
    },
    "kernelspec": {
      "name": "python3",
      "display_name": "Python 3"
    },
    "language_info": {
      "name": "python"
    }
  },
  "cells": [
    {
      "cell_type": "markdown",
      "metadata": {
        "id": "zOzfKB3riwsD"
      },
      "source": [
        "# Class\n",
        "* 변수와 함수를 묶어 놓는 개념\n",
        "* 사용 방법\n",
        "  ```python\n",
        "  class <ClassName>:\n",
        "    ...\n",
        "    code\n",
        "    ...\n",
        "  ```"
      ]
    },
    {
      "cell_type": "code",
      "metadata": {
        "id": "LcT8xQw_kMoB"
      },
      "source": [
        "class Person:\n",
        "\n",
        "  # 클래스가 객체가 됐을 때 처음 가지고 있어야 할 상태를 지정\n",
        "  # 객체 초기화\n",
        "  def __init__(self):\n",
        "    # __init__ 메소드는 클래스가 객체가 됐을 때 처음 가지고 있어야 할 변수를 만드는 기능\n",
        "    #  생성자(Constructor)\n",
        "    self.name = \"A\"\n",
        "  \n",
        "\n",
        "  # sleep, eat 객체가 할 수 있는 기능(function)\n",
        "  #  함수가 클래스 안에 위치함 - 메소드(method)\n",
        "  def sleep(self):\n",
        "    pass\n",
        "\n",
        "  def eat(self):\n",
        "    pass"
      ],
      "execution_count": null,
      "outputs": []
    },
    {
      "cell_type": "markdown",
      "metadata": {
        "id": "-h9zi7UtnZ1G"
      },
      "source": [
        "자동차 클래스\n",
        " * 데이터 ( 멤버 변수 )\n",
        "  * 배기량, 연비, 색깔, 가격, 무게, 높이, 폭, 길이, 몇인승, 제조사, 차 번호, 바퀴 개수\n",
        "  * 상태(state)\n",
        "    * 기어가 D, R, P, N에 있는지..?\n",
        "    * 시동이 걸려있는지 안걸려 있는지..\n",
        "\n",
        " * 기능 ( 메소드 )\n",
        "  * 앞으로 가기, 뒤로가기, 주차하기, 라이트 키기 깜빡이, 트렁크 열기, 썬루프 열기, 트렁크 닫기, 차선 변경 감지하기, 드읃읃ㅇ...."
      ]
    },
    {
      "cell_type": "markdown",
      "metadata": {
        "id": "2ttVtT2Gnye1"
      },
      "source": [
        "# 객체 ( Object )\n",
        "클래스를 기반으로 해서 실제 사용할 수 있게된 **것**"
      ]
    },
    {
      "cell_type": "code",
      "metadata": {
        "id": "6AjdhSuOpNcE"
      },
      "source": [
        "# Car 클래스를 정의\n",
        "class Car:\n",
        "\n",
        "  # 멤버 변수 정의\n",
        "  def __init__(self):\n",
        "    self.car_color = \"Red\"\n",
        "    self.car_brand = \"Hyundai\"\n",
        "    self.car_price = 5000\n",
        "\n",
        "  # 메소드 정의\n",
        "  def drive(self):\n",
        "    print(\"차가 앞으로 갑니다.\")\n",
        "  \n",
        "  def stop(self):\n",
        "    print(\"차가 멈췄습니다.\")"
      ],
      "execution_count": null,
      "outputs": []
    },
    {
      "cell_type": "code",
      "metadata": {
        "id": "0ncmejF1rtcZ"
      },
      "source": [
        "# Car 클래스를 기반으로 Car 객체 만들기\n",
        "my_car = Car()"
      ],
      "execution_count": null,
      "outputs": []
    },
    {
      "cell_type": "code",
      "metadata": {
        "colab": {
          "base_uri": "https://localhost:8080/"
        },
        "id": "iDGwirqxsOIK",
        "outputId": "58902ee9-4a68-4fd9-9041-15971629d8a5"
      },
      "source": [
        "my_car.drive()\n",
        "my_car.stop()"
      ],
      "execution_count": null,
      "outputs": [
        {
          "output_type": "stream",
          "name": "stdout",
          "text": [
            "차가 앞으로 갑니다.\n",
            "차가 멈췄습니다.\n"
          ]
        }
      ]
    },
    {
      "cell_type": "code",
      "metadata": {
        "colab": {
          "base_uri": "https://localhost:8080/"
        },
        "id": "HBs_YnfwsWi7",
        "outputId": "e7b7cc5d-2bfc-40c1-8021-c5901e8e3586"
      },
      "source": [
        "Car.drive()"
      ],
      "execution_count": null,
      "outputs": [
        {
          "output_type": "error",
          "ename": "TypeError",
          "evalue": "ignored",
          "traceback": [
            "\u001b[0;31m---------------------------------------------------------------------------\u001b[0m",
            "\u001b[0;31mTypeError\u001b[0m                                 Traceback (most recent call last)",
            "\u001b[0;32m<ipython-input-5-33de82e35e4a>\u001b[0m in \u001b[0;36m<module>\u001b[0;34m()\u001b[0m\n\u001b[0;32m----> 1\u001b[0;31m \u001b[0mCar\u001b[0m\u001b[0;34m.\u001b[0m\u001b[0mdrive\u001b[0m\u001b[0;34m(\u001b[0m\u001b[0;34m)\u001b[0m\u001b[0;34m\u001b[0m\u001b[0;34m\u001b[0m\u001b[0m\n\u001b[0m",
            "\u001b[0;31mTypeError\u001b[0m: drive() missing 1 required positional argument: 'self'"
          ]
        }
      ]
    },
    {
      "cell_type": "markdown",
      "metadata": {
        "id": "xMFhMN11soZ0"
      },
      "source": [
        "# 클래스에 Parameter 정의하기"
      ]
    },
    {
      "cell_type": "code",
      "metadata": {
        "id": "OLOjb_j4whdU"
      },
      "source": [
        "class Car2:\n",
        "\n",
        "  # method에 parameter 정의\n",
        "  def __init__(self, car_color, car_brand, car_price):\n",
        "    self.car_color = car_color\n",
        "    self.car_brand = car_brand\n",
        "    self.car_price = car_price\n",
        "\n",
        "    # parameter 이름과 멤버 변수 이름을 굳이 맞춰줄 필요는 없으나,\n",
        "    # 웬만하면 맞춰주세요..\n",
        "\n",
        "    # self 가 앞에 붙어 있으면 멤버변수\n",
        "    # self 가 앞에 붙어 있지 않으면 파라미터, 지역변수\n",
        "\n",
        "  def drive(self, where):\n",
        "    print(\"자동차가 앞으로 갑니다.\")\n",
        "    print(f\"목적지는 {where} 입니다.\")\n",
        "    print(\"제 자동차는 {}에서 만든 {}색 {}짜리 자동차 입니다.\".format(self.car_brand, self.car_color, self.car_price))\n",
        "    "
      ],
      "execution_count": null,
      "outputs": []
    },
    {
      "cell_type": "code",
      "metadata": {
        "id": "tsaZ7aiayTTe"
      },
      "source": [
        "my_car2 = Car2(car_color=\"파란\", car_brand=\"현대\", car_price=5000)"
      ],
      "execution_count": null,
      "outputs": []
    },
    {
      "cell_type": "code",
      "metadata": {
        "colab": {
          "base_uri": "https://localhost:8080/"
        },
        "id": "Qkx0nNxfyevk",
        "outputId": "1a151be6-5a74-4fa8-be43-42f98856819e"
      },
      "source": [
        "my_car2.drive(\"양평(경기도양평아님)\")"
      ],
      "execution_count": null,
      "outputs": [
        {
          "output_type": "stream",
          "name": "stdout",
          "text": [
            "자동차가 앞으로 갑니다.\n",
            "목적지는 양평(경기도양평아님) 입니다.\n",
            "제 자동차는 현대에서 만든 파란색 5000짜리 자동차 입니다.\n"
          ]
        }
      ]
    },
    {
      "cell_type": "code",
      "metadata": {
        "colab": {
          "base_uri": "https://localhost:8080/"
        },
        "id": "LZBDrlQhyxqr",
        "outputId": "128c8f62-38dd-4719-bd30-3045321380be"
      },
      "source": [
        "my_car3 = Car2(\"초록\", \"기아\", 3000)\n",
        "my_car3.drive(\"우리집\")"
      ],
      "execution_count": null,
      "outputs": [
        {
          "output_type": "stream",
          "name": "stdout",
          "text": [
            "자동차가 앞으로 갑니다.\n",
            "목적지는 우리집 입니다.\n",
            "제 자동차는 기아에서 만든 초록색 3000짜리 자동차 입니다.\n"
          ]
        }
      ]
    },
    {
      "cell_type": "markdown",
      "metadata": {
        "id": "siEzNXbkzBdM"
      },
      "source": [
        "# 멤버\n",
        "* 클래스가 객체가 되었을 때 사용할 수 있으면 **멤버**\n",
        "* 멤버들(멤버 변수, 멤버 메소드)는 `self`를 이용해서 접근이 가능\n",
        "* 멤버들은 클래스 내부 어디에서든 `self`로 접근이 가능\n",
        "\n",
        "## `self`\n",
        "* 객체 자기 자신"
      ]
    },
    {
      "cell_type": "code",
      "metadata": {
        "colab": {
          "base_uri": "https://localhost:8080/"
        },
        "id": "sCBWkLXv08Dc",
        "outputId": "33ec365d-c1bc-480a-9d9a-2364065ee09f"
      },
      "source": [
        "my_car2.car_brand # 이 차(my_car2)의 브랜드는 현대에요"
      ],
      "execution_count": null,
      "outputs": [
        {
          "output_type": "execute_result",
          "data": {
            "application/vnd.google.colaboratory.intrinsic+json": {
              "type": "string"
            },
            "text/plain": [
              "'현대'"
            ]
          },
          "metadata": {},
          "execution_count": 10
        }
      ]
    },
    {
      "cell_type": "code",
      "metadata": {
        "colab": {
          "base_uri": "https://localhost:8080/"
        },
        "id": "4MgaIgDR2ya9",
        "outputId": "6c377c9f-8fb6-4b2f-f267-1506602ca6f7"
      },
      "source": [
        "my_car2.car_price"
      ],
      "execution_count": null,
      "outputs": [
        {
          "output_type": "execute_result",
          "data": {
            "text/plain": [
              "5000"
            ]
          },
          "metadata": {},
          "execution_count": 11
        }
      ]
    },
    {
      "cell_type": "code",
      "metadata": {
        "id": "dRrCUJgX8ThN"
      },
      "source": [
        ""
      ],
      "execution_count": null,
      "outputs": []
    }
  ]
}