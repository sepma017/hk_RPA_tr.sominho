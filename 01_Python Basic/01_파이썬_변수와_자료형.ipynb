{
  "nbformat": 4,
  "nbformat_minor": 0,
  "metadata": {
    "colab": {
      "name": "01. 파이썬 변수와 자료형",
      "provenance": [],
      "collapsed_sections": []
    },
    "kernelspec": {
      "name": "python3",
      "display_name": "Python 3"
    },
    "language_info": {
      "name": "python"
    }
  },
  "cells": [
    {
      "cell_type": "markdown",
      "metadata": {
        "id": "uWnJ8lr1Y8iI"
      },
      "source": [
        "# 변수\n",
        "* 변수란 값이 저장될 수 있는 **공간**\n",
        "* 원할 때 마다 변수에 들어 있는 '값'을 언제든 바꿀 수 있다."
      ]
    },
    {
      "cell_type": "markdown",
      "metadata": {
        "id": "fb4S9V6Sa0Fl"
      },
      "source": [
        "## 변수에 값이 들어가는 과정\n",
        "1. 변수의 선언 ( variable declaration )\n",
        "2. 변수에 값을 할당 ( value assignment )\n",
        "\n",
        "변수가 선언 되고(만들어 지고) 최초로 값이 들어가는 과정을 **초기화**라고 한다."
      ]
    },
    {
      "cell_type": "code",
      "metadata": {
        "id": "dz-2z6TVbGEO"
      },
      "source": [
        "a = 1 # 변수 a를 1로 초기화"
      ],
      "execution_count": null,
      "outputs": []
    },
    {
      "cell_type": "code",
      "metadata": {
        "colab": {
          "base_uri": "https://localhost:8080/"
        },
        "id": "wjUtM5t0b3R3",
        "outputId": "0ddd4928-ae6b-4483-83ae-b13dca5d0c16"
      },
      "source": [
        "print(a)"
      ],
      "execution_count": null,
      "outputs": [
        {
          "output_type": "stream",
          "name": "stdout",
          "text": [
            "1\n"
          ]
        }
      ]
    },
    {
      "cell_type": "code",
      "metadata": {
        "colab": {
          "base_uri": "https://localhost:8080/"
        },
        "id": "mdShVbS5cDJ9",
        "outputId": "ccc2c64f-a78b-4f7c-b7a4-ec221f980e73"
      },
      "source": [
        "a = 2 # 변수 a에 2를 할당(대입)\n",
        "\n",
        "print(a)"
      ],
      "execution_count": null,
      "outputs": [
        {
          "output_type": "stream",
          "name": "stdout",
          "text": [
            "2\n"
          ]
        }
      ]
    },
    {
      "cell_type": "markdown",
      "metadata": {
        "id": "fVdNKI8tcadu"
      },
      "source": [
        "# comment (주석)\n",
        "* 코드에서 # 으로 시작하는 부분으로써, 실행이 되지 않습니다.\n",
        "* 개발자가 어떠한 코드인지 설명할 때 사용한다."
      ]
    },
    {
      "cell_type": "code",
      "metadata": {
        "colab": {
          "base_uri": "https://localhost:8080/"
        },
        "id": "JTSEjJaQuD8K",
        "outputId": "d848336b-ca95-4ecf-d72a-cadd6807ef0d"
      },
      "source": [
        "# 변수의 선언과 할당\n",
        "a = 1 # 변수 a를 선언하고 1을 할당\n",
        "a"
      ],
      "execution_count": null,
      "outputs": [
        {
          "output_type": "execute_result",
          "data": {
            "text/plain": [
              "1"
            ]
          },
          "metadata": {},
          "execution_count": 9
        }
      ]
    },
    {
      "cell_type": "markdown",
      "metadata": {
        "id": "huXhF336umhC"
      },
      "source": [
        "# 자료형( Data Type )\n",
        "프로그래밍에서 사용되어지는 기본적인 형식(타입)\n",
        "\n",
        "* int(정수) : -3, -2, 1, 3, 5 \n",
        "* float(실수) : 3.14, -1.3, 20.1, 30.12312\n",
        "  * 3.0 은 **실수**\n",
        "* str(문자열) : 문자들을 열거 하면 문자열\n",
        "* bool(논리) : True / False\n"
      ]
    },
    {
      "cell_type": "code",
      "metadata": {
        "colab": {
          "base_uri": "https://localhost:8080/"
        },
        "id": "Kk1imHx_vg7S",
        "outputId": "51deee0d-e045-4634-d03c-4a7d1230487b"
      },
      "source": [
        "a = 1 # a 변수에 정수 1을 대입\n",
        "type(a)"
      ],
      "execution_count": null,
      "outputs": [
        {
          "output_type": "execute_result",
          "data": {
            "text/plain": [
              "int"
            ]
          },
          "metadata": {},
          "execution_count": 10
        }
      ]
    },
    {
      "cell_type": "code",
      "metadata": {
        "colab": {
          "base_uri": "https://localhost:8080/"
        },
        "id": "KAdamApOyFxb",
        "outputId": "a6b1396f-4609-4589-d4fa-ee52545b8c0f"
      },
      "source": [
        "a = 3.14\n",
        "type(a)"
      ],
      "execution_count": null,
      "outputs": [
        {
          "output_type": "execute_result",
          "data": {
            "text/plain": [
              "float"
            ]
          },
          "metadata": {},
          "execution_count": 11
        }
      ]
    },
    {
      "cell_type": "code",
      "metadata": {
        "colab": {
          "base_uri": "https://localhost:8080/"
        },
        "id": "hXT46CBlyNMa",
        "outputId": "59eae5b3-273b-4017-f0c7-afc6537ba834"
      },
      "source": [
        "a = 'Hello~!~!~!'\n",
        "type(a)"
      ],
      "execution_count": null,
      "outputs": [
        {
          "output_type": "execute_result",
          "data": {
            "text/plain": [
              "str"
            ]
          },
          "metadata": {},
          "execution_count": 12
        }
      ]
    },
    {
      "cell_type": "code",
      "metadata": {
        "colab": {
          "base_uri": "https://localhost:8080/"
        },
        "id": "ZBiac42nyhoK",
        "outputId": "93a823c1-20f8-4fc9-8b05-0dd3cacc867a"
      },
      "source": [
        "a = True\n",
        "type(a)"
      ],
      "execution_count": null,
      "outputs": [
        {
          "output_type": "execute_result",
          "data": {
            "text/plain": [
              "bool"
            ]
          },
          "metadata": {},
          "execution_count": 13
        }
      ]
    },
    {
      "cell_type": "code",
      "metadata": {
        "colab": {
          "base_uri": "https://localhost:8080/"
        },
        "id": "Cjb_yvaBylpS",
        "outputId": "62521e75-e9f1-4842-f016-8363c92ef60b"
      },
      "source": [
        "True + True"
      ],
      "execution_count": null,
      "outputs": [
        {
          "output_type": "execute_result",
          "data": {
            "text/plain": [
              "2"
            ]
          },
          "metadata": {},
          "execution_count": 14
        }
      ]
    },
    {
      "cell_type": "markdown",
      "metadata": {
        "id": "nxZrfwluy2sC"
      },
      "source": [
        "# variable naming(변수 이름 규칙)\n",
        "\n",
        "소지금을 저장하는 변수를 만들고 싶다!\n",
        "\n",
        "```\n",
        "a = 10000\n",
        "money = 10000\n",
        "```"
      ]
    },
    {
      "cell_type": "code",
      "metadata": {
        "id": "9nV4oB17z4vK"
      },
      "source": [
        "studentName = \"minho\" # camel case. python에서는 잘 사용하지 않는다. 클래스 이름 지을 때는 사용\n",
        "student_name = \"minho\" # snake case. python에서 변수, 함수를 만들 때 이름을 붙여주는 방법"
      ],
      "execution_count": null,
      "outputs": []
    },
    {
      "cell_type": "code",
      "metadata": {
        "colab": {
          "base_uri": "https://localhost:8080/",
          "height": 35
        },
        "id": "d3e4Vmmy0ccC",
        "outputId": "0677e60f-0cdb-437c-e3db-908be15f906c"
      },
      "source": [
        "학생이름 = \"민호\"\n",
        "학생이름"
      ],
      "execution_count": null,
      "outputs": [
        {
          "output_type": "execute_result",
          "data": {
            "application/vnd.google.colaboratory.intrinsic+json": {
              "type": "string"
            },
            "text/plain": [
              "'민호'"
            ]
          },
          "metadata": {},
          "execution_count": 16
        }
      ]
    },
    {
      "cell_type": "markdown",
      "metadata": {
        "id": "nM9bsMBb1RhM"
      },
      "source": [
        "한글로도 변수의 이름은 지어 줄 수 있으나. 굉장히 비추"
      ]
    },
    {
      "cell_type": "code",
      "metadata": {
        "id": "lbbp4h5h1VZU"
      },
      "source": [
        "_student = \"minho\"\n",
        "\n",
        "# _student = \"jinho \" # 상수는 수정하지 말자\n",
        "\n",
        "STUDENT_NAME = \"minho\" # 대문자와 언더바만을 이용해서 만들면 상수"
      ],
      "execution_count": null,
      "outputs": []
    },
    {
      "cell_type": "code",
      "metadata": {
        "id": "TJdR95A42V-c"
      },
      "source": [
        "a = 10\n",
        "b = \"민호\"\n",
        "\n",
        "age = 10\n",
        "name = '민호'"
      ],
      "execution_count": null,
      "outputs": []
    },
    {
      "cell_type": "markdown",
      "metadata": {
        "id": "0fSmLkTL2pLk"
      },
      "source": [
        "# 아무런 값을 갖지 않는 변수"
      ]
    },
    {
      "cell_type": "code",
      "metadata": {
        "id": "m1pRys703FsE"
      },
      "source": [
        "c = None"
      ],
      "execution_count": null,
      "outputs": []
    }
  ]
}