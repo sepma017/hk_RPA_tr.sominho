{
  "nbformat": 4,
  "nbformat_minor": 0,
  "metadata": {
    "colab": {
      "name": "11. 클래스 ( Class ) 2",
      "provenance": [],
      "collapsed_sections": []
    },
    "kernelspec": {
      "name": "python3",
      "display_name": "Python 3"
    },
    "language_info": {
      "name": "python"
    }
  },
  "cells": [
    {
      "cell_type": "markdown",
      "metadata": {
        "id": "mrxL7bAq836g"
      },
      "source": [
        "# 클래스 ( Class )\n",
        "- 변수와 함수를 묶어 놓은 개념\n",
        "- 현실 세상에 존재하는 모든 것들을 **표현** 할 수 있다.\n",
        "\n",
        "## 클래스의 구조\n",
        "- 변수, 메소드(함수)\n",
        "  - 변수 : 데이터\n",
        "  - 메소드 : 기능\n",
        "- `Car` 클래스를 만드려면?\n",
        "  - `Car`의 데이터 : 브랜드, 배기량, 가격, 중량, 등등등..\n",
        "  - `Car`의 기능 : 운전, 멈추기, 트렁크 열기, 에어콘 켜기, 히터 켜기 등등.."
      ]
    },
    {
      "cell_type": "code",
      "metadata": {
        "id": "kanM5xLP9HpF"
      },
      "source": [
        "# 클래스의 이름은 CamelCase\n",
        "class Car:\n",
        "  # 변수 선언 부분( __init__ 에서 선언할 수도 있다.)\n",
        "  brand = \"현대\"\n",
        "  price = 5000\n",
        "\n",
        "  # 메소드 선언 부분\n",
        "  def drive(self):\n",
        "    print(\"내 차는 {}짜리 {} 자동차!\".format(self.brand, self.price))\n",
        "    print(\"차가 앞으로 갑니다.\")\n",
        "\n",
        "  def brake(self):\n",
        "    print(\"내 차는 {}짜리 {} 자동차🚗\".format(self.brand, self.price))\n",
        "    print(\"차가 멈췄습니다\")"
      ],
      "execution_count": null,
      "outputs": []
    },
    {
      "cell_type": "markdown",
      "metadata": {
        "id": "ckM1Wbh4-j5j"
      },
      "source": [
        "## 클래스 사용하기\n",
        "* 클래스는 단순한 개념!!!\n",
        "  * 자동차 클래스를 만들었으면 자동차에 대한 개념을 **설명**\n",
        "  * 고양이 클래스를 만들었으면 고양이에 대한 개념을 **설명**\n",
        "* 사용설명서만 가지고는 사용할 수 없다!\n",
        "  * **사용설명서(클래스)를 가지고 실제 만들어야 한다**\n",
        "  * 객체를 만든다!"
      ]
    },
    {
      "cell_type": "markdown",
      "metadata": {
        "id": "FXVKYkcn-Rji"
      },
      "source": [
        "## 객체 만들기"
      ]
    },
    {
      "cell_type": "code",
      "metadata": {
        "colab": {
          "base_uri": "https://localhost:8080/"
        },
        "id": "R1zDo_cs9Hl-",
        "outputId": "08f58ebd-f763-4817-b9a9-b6b2f6f9caab"
      },
      "source": [
        "car = Car() # Car() : 생성자 호출( __init__ 메소드 )\n",
        "car"
      ],
      "execution_count": null,
      "outputs": [
        {
          "output_type": "execute_result",
          "data": {
            "text/plain": [
              "<__main__.Car at 0x7faa09c17690>"
            ]
          },
          "metadata": {},
          "execution_count": 2
        }
      ]
    },
    {
      "cell_type": "markdown",
      "metadata": {
        "id": "Elz57c7h9HRV"
      },
      "source": [
        "### 생성자( Constructor )\n",
        "* 클래스를 이용해서 객체를 만들 때 벌어지는 일들을 기록한 메소드\n",
        "  * 객체에서 사용할 변수들에 대한 정의가 이루어진다.\n",
        "  * 객체 초기화 과정 ( Object Initialize )\n",
        "* 파이썬 에서는 `__init__`를 정의해서 사용한다.\n"
      ]
    },
    {
      "cell_type": "markdown",
      "metadata": {
        "id": "dENbiaeHB1g6"
      },
      "source": [
        "## 객체 사용하기"
      ]
    },
    {
      "cell_type": "code",
      "metadata": {
        "colab": {
          "base_uri": "https://localhost:8080/"
        },
        "id": "jMXJ3N1ALIjh",
        "outputId": "f4174d34-32cf-4720-cee7-0fb85061edba"
      },
      "source": [
        "car.price"
      ],
      "execution_count": null,
      "outputs": [
        {
          "output_type": "execute_result",
          "data": {
            "text/plain": [
              "5000"
            ]
          },
          "metadata": {},
          "execution_count": 3
        }
      ]
    },
    {
      "cell_type": "code",
      "metadata": {
        "colab": {
          "base_uri": "https://localhost:8080/"
        },
        "id": "spTb65FLL2CA",
        "outputId": "6906a6f9-09a4-450c-aa03-0659ee930f6b"
      },
      "source": [
        "car.drive()"
      ],
      "execution_count": null,
      "outputs": [
        {
          "output_type": "stream",
          "name": "stdout",
          "text": [
            "내 차는 현대짜리 5000 자동차!\n",
            "차가 앞으로 갑니다.\n"
          ]
        }
      ]
    },
    {
      "cell_type": "markdown",
      "metadata": {
        "id": "JZ1mDKbNNpD3"
      },
      "source": [
        "* 멤버변수는 객체 없이 사용이 가능? - `NO`\n",
        "* 메소드는 객체 없이 사용 가능? - `NO`"
      ]
    },
    {
      "cell_type": "markdown",
      "metadata": {
        "id": "0S-VknbvMdtA"
      },
      "source": [
        "## `__init__` 메소드\n",
        "* `__init__` : 생성자의 역할을 한다.\n",
        "* **클래스가 객체가 되면서 수행해야 하는 일들**을 정의한다."
      ]
    },
    {
      "cell_type": "code",
      "metadata": {
        "id": "KD1aC5MgM9ow"
      },
      "source": [
        "class Calculator:\n",
        "\n",
        "  # 생성자 정의하기\n",
        "  # 보통은 클래스가 객체가 되었을 때 사용해야 할 변수들(멤버 변수)을 만들 때 사용한다.\n",
        "  def __init__(self):\n",
        "    print(\"계산기 객체 만들어짐!\")\n",
        "    self.num1 = 10\n",
        "    self.num2 = 20\n",
        "\n",
        "  def plus(self):\n",
        "    return self.num1 + self.num2\n",
        "\n",
        "  def minus(self):\n",
        "    return self.num1 - self.num2"
      ],
      "execution_count": null,
      "outputs": []
    },
    {
      "cell_type": "code",
      "metadata": {
        "colab": {
          "base_uri": "https://localhost:8080/"
        },
        "id": "gdLNqF6SOPO4",
        "outputId": "7b2e4606-79ca-46b9-f96a-cea494e34066"
      },
      "source": [
        "calc = Calculator()"
      ],
      "execution_count": null,
      "outputs": [
        {
          "output_type": "stream",
          "name": "stdout",
          "text": [
            "계산기 객체 만들어짐!\n"
          ]
        }
      ]
    },
    {
      "cell_type": "code",
      "metadata": {
        "colab": {
          "base_uri": "https://localhost:8080/"
        },
        "id": "wxc0M3GzO_8u",
        "outputId": "7b90b359-0bb3-4871-d800-c348f855f508"
      },
      "source": [
        "calc.plus(), calc.minus()"
      ],
      "execution_count": null,
      "outputs": [
        {
          "output_type": "execute_result",
          "data": {
            "text/plain": [
              "(30, -10)"
            ]
          },
          "metadata": {},
          "execution_count": 10
        }
      ]
    },
    {
      "cell_type": "code",
      "metadata": {
        "id": "pNS6lL_xPQRw"
      },
      "source": [
        "class Calculator2:\n",
        "\n",
        "  # 메소드도 함수의 일종이기 때문에 Parameter, Argument 개념이 그대로 활용 된다.\n",
        "  def __init__(self, p_num1, p_num2):\n",
        "    print(\"객체 생성~~!\")\n",
        "    self.num1 = p_num1\n",
        "    self.num2 = p_num2\n",
        "\n",
        "  def plus(self):\n",
        "    return self.num1 + self.num2\n",
        "\n",
        "  def multiply(self):\n",
        "    return self.num1 * self.num2"
      ],
      "execution_count": null,
      "outputs": []
    },
    {
      "cell_type": "code",
      "metadata": {
        "colab": {
          "base_uri": "https://localhost:8080/"
        },
        "id": "lQHSM_K8QJso",
        "outputId": "35878d54-6fe4-487b-86db-11d6e1df9d22"
      },
      "source": [
        "calc2 = Calculator2(5, -3)"
      ],
      "execution_count": null,
      "outputs": [
        {
          "output_type": "stream",
          "name": "stdout",
          "text": [
            "객체 생성~~!\n"
          ]
        }
      ]
    },
    {
      "cell_type": "code",
      "metadata": {
        "colab": {
          "base_uri": "https://localhost:8080/"
        },
        "id": "42zNCoUpQh7_",
        "outputId": "3bf2f60e-9cd8-41d4-a02f-e91ae10ea63f"
      },
      "source": [
        "calc2.plus() # self.num1 + self.num2 => 5 + (-3) = 2"
      ],
      "execution_count": null,
      "outputs": [
        {
          "output_type": "execute_result",
          "data": {
            "text/plain": [
              "2"
            ]
          },
          "metadata": {},
          "execution_count": 13
        }
      ]
    },
    {
      "cell_type": "code",
      "metadata": {
        "colab": {
          "base_uri": "https://localhost:8080/"
        },
        "id": "1LebrGrGSbJV",
        "outputId": "b5caaa0f-ef83-4140-ab25-a6e1ecaf27e4"
      },
      "source": [
        "calc2.multiply()"
      ],
      "execution_count": null,
      "outputs": [
        {
          "output_type": "execute_result",
          "data": {
            "text/plain": [
              "-15"
            ]
          },
          "metadata": {},
          "execution_count": 14
        }
      ]
    },
    {
      "cell_type": "markdown",
      "metadata": {
        "id": "_6VclsuUSezu"
      },
      "source": [
        "### 실습\n",
        "* 계산기 만들기 프로젝트\n",
        "```python\n",
        "class CalculatorProject:\n",
        "    def __init__(self, p_num1, p_num2):\n",
        "      # 계산에 사용할 변수 만들기\n",
        "\n",
        "    def _add(self):\n",
        "      # 덧셈해서 리턴\n",
        "    def _sub(self):\n",
        "      # 뺄셈해서 리턴\n",
        "    def _mul(self):\n",
        "      # 곱셈해서 리턴\n",
        "    def _div(self):\n",
        "      # 나눗셈 해서 리턴\n",
        "  \n",
        "    # op -> +, -, *, / 기호를 받아서 각각 계산을 수행\n",
        "    # +를 입력 받았으면 _add 실행\n",
        "    # -를 입력 받았으면 _sub 실행  \n",
        "    # ...\n",
        "    def calc(self, op):\n",
        "\n",
        "```"
      ]
    },
    {
      "cell_type": "code",
      "metadata": {
        "id": "v9EUG1tBTkhj"
      },
      "source": [
        "class CalculatorProject:\n",
        "\n",
        "    def __init__(self, p_num1, p_num2):\n",
        "      self.num1 = p_num1\n",
        "      self.num2 = p_num2\n",
        "\n",
        "    def _add(self):\n",
        "      # 덧셈해서 리턴\n",
        "      return self.num1 + self.num2\n",
        "\n",
        "    def _sub(self):\n",
        "      # 뺄셈해서 리턴\n",
        "      return self.num1 - self.num2\n",
        "\n",
        "    def _mul(self):\n",
        "      # 곱셈해서 리턴\n",
        "      return self.num1 * self.num2\n",
        "\n",
        "    def _div(self):\n",
        "      # 나눗셈 해서 리턴\n",
        "      return self.num1 / self.num2\n",
        "  \n",
        "    # op -> +, -, *, / 기호를 받아서 각각 계산을 수행\n",
        "    # +를 입력 받았으면 _add 실행\n",
        "    # -를 입력 받았으면 _sub 실행  \n",
        "    # ...\n",
        "    def calc(self, op):\n",
        "      if op == \"+\":\n",
        "        print(self._add())\n",
        "      elif op == \"-\":\n",
        "        print(self._sub())\n",
        "      elif op == \"*\":\n",
        "        print(self._mul())\n",
        "      else:\n",
        "        print(self._div())"
      ],
      "execution_count": null,
      "outputs": []
    },
    {
      "cell_type": "code",
      "metadata": {
        "id": "eYGPC7IUc1DU"
      },
      "source": [
        "calc_project1 = CalculatorProject(10, 20)"
      ],
      "execution_count": null,
      "outputs": []
    },
    {
      "cell_type": "code",
      "metadata": {
        "colab": {
          "base_uri": "https://localhost:8080/"
        },
        "id": "AAu1Ehtyc4kb",
        "outputId": "1549e1ba-9030-45c8-a80d-f901444924c0"
      },
      "source": [
        "calc_project1.calc(\"+\")\n",
        "calc_project1.calc(\"-\")\n",
        "calc_project1.calc(\"*\")\n",
        "calc_project1.calc(\"/\")"
      ],
      "execution_count": null,
      "outputs": [
        {
          "output_type": "stream",
          "name": "stdout",
          "text": [
            "30\n",
            "-10\n",
            "200\n",
            "0.5\n"
          ]
        }
      ]
    },
    {
      "cell_type": "markdown",
      "metadata": {
        "id": "AwLhXZJSc98D"
      },
      "source": [
        "## `self`\n",
        "객체 자기 자신을 참조하는 키워드. **멤버 메소드**(메소드)의 제일 앞에 있는 Parameter.\n",
        "\n",
        "`self.~~~ : 나의 ~~~`"
      ]
    },
    {
      "cell_type": "code",
      "metadata": {
        "id": "FWgkSv28dI36"
      },
      "source": [
        "class Sample:\n",
        "\n",
        "  def print_self(self):\n",
        "    print(self)"
      ],
      "execution_count": null,
      "outputs": []
    },
    {
      "cell_type": "code",
      "metadata": {
        "colab": {
          "base_uri": "https://localhost:8080/"
        },
        "id": "7D5Jjh1leifz",
        "outputId": "2754a771-f7f8-4bf1-c704-885ef8a75157"
      },
      "source": [
        "smp = Sample() \n",
        "smp # sample 객체를 확인 "
      ],
      "execution_count": null,
      "outputs": [
        {
          "output_type": "execute_result",
          "data": {
            "text/plain": [
              "<__main__.Sample at 0x7faa037ebed0>"
            ]
          },
          "metadata": {},
          "execution_count": 20
        }
      ]
    },
    {
      "cell_type": "code",
      "metadata": {
        "colab": {
          "base_uri": "https://localhost:8080/"
        },
        "id": "Xe-Q63YfepIf",
        "outputId": "b0534309-5891-43fd-e5a6-a84405363d0f"
      },
      "source": [
        "smp.print_self() # 만들어진 sample 객체의 self를 확인"
      ],
      "execution_count": null,
      "outputs": [
        {
          "output_type": "stream",
          "name": "stdout",
          "text": [
            "<__main__.Sample object at 0x7faa037ebed0>\n"
          ]
        }
      ]
    },
    {
      "cell_type": "markdown",
      "metadata": {
        "id": "V1j0XdoGesPM"
      },
      "source": [
        "* `소민호는 강사입니다.` -> `소민호.print_info()`\n",
        "* `저는 강사입니다.` -> `self.print_info()`"
      ]
    },
    {
      "cell_type": "code",
      "metadata": {
        "id": "7QfRGafffG46"
      },
      "source": [
        "class Person:\n",
        "\n",
        "  def __init__(self, name, age):\n",
        "    self.name = name\n",
        "    self.age = age\n",
        "  \n",
        "  def print_info(self):\n",
        "    # (2) 나의 이름과 나의 나이를 출력 할게\n",
        "    print(\"{} / {}\".format(self.name, self.age))\n",
        "\n",
        "  def sleep(self):\n",
        "    self.print_info() # 내 정보를 출력 할게\n",
        "    print(\"잠을 잡니다\")"
      ],
      "execution_count": null,
      "outputs": []
    },
    {
      "cell_type": "code",
      "metadata": {
        "id": "NNivGbAbgSay"
      },
      "source": [
        "p1 = Person(\"김땡땡\", 30)\n",
        "p2 = Person(\"박땡땡\", 25)"
      ],
      "execution_count": null,
      "outputs": []
    },
    {
      "cell_type": "code",
      "metadata": {
        "colab": {
          "base_uri": "https://localhost:8080/"
        },
        "id": "dxb1pOm6gXXy",
        "outputId": "f301fa58-a883-49c2-eb94-88ef7375e80b"
      },
      "source": [
        "p1.print_info() # (1) p1의 정보를 출력 해 줘!"
      ],
      "execution_count": null,
      "outputs": [
        {
          "output_type": "stream",
          "name": "stdout",
          "text": [
            "김땡땡 / 30\n"
          ]
        }
      ]
    },
    {
      "cell_type": "code",
      "metadata": {
        "colab": {
          "base_uri": "https://localhost:8080/"
        },
        "id": "_bVtDQnkibV7",
        "outputId": "69838c2d-f7ba-4d33-f956-e6fb43c45c73"
      },
      "source": [
        "p2.print_info() # (1) p2의 정보를 출력 해 줘!"
      ],
      "execution_count": null,
      "outputs": [
        {
          "output_type": "stream",
          "name": "stdout",
          "text": [
            "박땡땡 / 25\n"
          ]
        }
      ]
    },
    {
      "cell_type": "code",
      "metadata": {
        "colab": {
          "base_uri": "https://localhost:8080/"
        },
        "id": "4GPM9LpPixQa",
        "outputId": "127a2423-0068-4a0b-eba6-91750b4a41bb"
      },
      "source": [
        "p1.sleep() # p1을 재우겠다"
      ],
      "execution_count": null,
      "outputs": [
        {
          "output_type": "stream",
          "name": "stdout",
          "text": [
            "김땡땡 / 30\n",
            "잠을 잡니다\n"
          ]
        }
      ]
    },
    {
      "cell_type": "markdown",
      "metadata": {
        "id": "OFoQOauWjEEb"
      },
      "source": [
        "# 상속\n",
        "* 클래스의 기능을 가져다가 그 기능을 수정하거나 추가 할 때 사용하는 방법\n"
      ]
    },
    {
      "cell_type": "code",
      "metadata": {
        "id": "81Tfek2PzqEW"
      },
      "source": [
        "class A:\n",
        "\n",
        "  def __init__(self):\n",
        "    self.name = \"Here is A\"\n",
        "\n",
        "  def foo(self):\n",
        "    print(\"foo() =>\", self.name)"
      ],
      "execution_count": null,
      "outputs": []
    },
    {
      "cell_type": "code",
      "metadata": {
        "id": "jMkMrCop1OGk"
      },
      "source": [
        "class B(A):\n",
        "  def goo(self):\n",
        "    print(\"Here is B\")"
      ],
      "execution_count": null,
      "outputs": []
    },
    {
      "cell_type": "code",
      "metadata": {
        "colab": {
          "base_uri": "https://localhost:8080/"
        },
        "id": "eJA69xHT1afx",
        "outputId": "f184f2ad-f960-4dbb-a2f0-877c80f4b8ad"
      },
      "source": [
        "b = B()\n",
        "b.goo()"
      ],
      "execution_count": null,
      "outputs": [
        {
          "output_type": "stream",
          "name": "stdout",
          "text": [
            "Here is B\n"
          ]
        }
      ]
    },
    {
      "cell_type": "code",
      "metadata": {
        "colab": {
          "base_uri": "https://localhost:8080/"
        },
        "id": "7dfY7tgR2oWM",
        "outputId": "b229d3a7-b11e-4ec4-a967-49aa6599e3ef"
      },
      "source": [
        "# A의 기능인 foo()도 사용 가능!\n",
        "b.foo()"
      ],
      "execution_count": null,
      "outputs": [
        {
          "output_type": "stream",
          "name": "stdout",
          "text": [
            "foo() => Here is A\n"
          ]
        }
      ]
    },
    {
      "cell_type": "markdown",
      "metadata": {
        "id": "X825VYWJ2t-c"
      },
      "source": [
        "핸드폰 만들어 보기"
      ]
    },
    {
      "cell_type": "code",
      "metadata": {
        "id": "JC5jC0oE3BB-"
      },
      "source": [
        "class SmartPhone:\n",
        "  def call(self):\n",
        "    print(\"전화 걸기\")\n",
        "\n",
        "  def do_internet(self):\n",
        "    print(\"인터넷 하기\")"
      ],
      "execution_count": null,
      "outputs": []
    },
    {
      "cell_type": "code",
      "metadata": {
        "id": "jwkC35rS34kV"
      },
      "source": [
        "class Galaxy(SmartPhone):\n",
        "  def samsung_pay(self):\n",
        "    print(\"갤럭시로 삼성페이 사용!\")\n",
        "\n",
        "class IPhone(SmartPhone):\n",
        "  def facetime(self):\n",
        "    print(\"아이폰으로 페이스타임 사용!\")"
      ],
      "execution_count": null,
      "outputs": []
    },
    {
      "cell_type": "code",
      "metadata": {
        "colab": {
          "base_uri": "https://localhost:8080/"
        },
        "id": "qEUqzFqX4KPT",
        "outputId": "e6b7a816-0039-4969-8a39-8704edb23fb6"
      },
      "source": [
        "gal = Galaxy()\n",
        "gal.call()\n",
        "gal.do_internet()\n",
        "gal.samsung_pay()"
      ],
      "execution_count": null,
      "outputs": [
        {
          "output_type": "stream",
          "name": "stdout",
          "text": [
            "전화 걸기\n",
            "인터넷 하기\n",
            "갤럭시로 삼성페이 사용!\n"
          ]
        }
      ]
    },
    {
      "cell_type": "code",
      "metadata": {
        "colab": {
          "base_uri": "https://localhost:8080/"
        },
        "id": "BPtH2hBY4gXl",
        "outputId": "73990d7c-a36a-49f8-d170-1ac63f636a12"
      },
      "source": [
        "iphone = IPhone()\n",
        "iphone.call()\n",
        "iphone.do_internet()\n",
        "iphone.facetime()"
      ],
      "execution_count": null,
      "outputs": [
        {
          "output_type": "stream",
          "name": "stdout",
          "text": [
            "전화 걸기\n",
            "인터넷 하기\n",
            "아이폰으로 페이스타임 사용!\n"
          ]
        }
      ]
    },
    {
      "cell_type": "markdown",
      "metadata": {
        "id": "qc8uvuO24w9n"
      },
      "source": [
        "### 실습\n",
        "```\n",
        "  동물농장\n",
        "\n",
        "  Animal 클래스\n",
        "    - eat() \"동물이 먹이를 먹습니다.\"\n",
        "    - sleep() \"동물이 잠에 들었습니다.\"\n",
        "\n",
        "  Lion 클래스를 만들어서 Animal 클래스를 상속\n",
        "    - hunt() \"사자가 사냥을 합니다.\"\n",
        "  Bird 클래스를 만들어서 Animal 클래스를 상속\n",
        "    - fly() \"새가 날아다닙니다.\"\n",
        "```"
      ]
    },
    {
      "cell_type": "code",
      "metadata": {
        "id": "AX5OIQ_N5LIk"
      },
      "source": [
        "class Animal:\n",
        "  def eat(self):\n",
        "    print(\"동물이 먹이를 먹습니다.\")\n",
        "\n",
        "  def sleep(self):\n",
        "    print(\"동물이 잠에 들었습니다.\")\n",
        "\n",
        "class Lion(Animal):\n",
        "  def hunt(self):\n",
        "    print(\"사자가 사냥을 합니다.\")\n",
        "\n",
        "class Bird(Animal):\n",
        "  def fly(self):\n",
        "    print(\"새개 날아다닙니다.\")"
      ],
      "execution_count": null,
      "outputs": []
    },
    {
      "cell_type": "markdown",
      "metadata": {
        "id": "fLuvYd2U61as"
      },
      "source": [
        "## 오버라이딩(override)\n",
        "* 부모로 부터 받는 메소드를 **수정**하고 싶을 때 사용한다.\n",
        "* 자식클래스에서 부모클래스로부터 물려받은 메소드를 **재정의**\n",
        "* 부모클래스의 메소드 형식을 **똑같이** 따라해야 한다."
      ]
    },
    {
      "cell_type": "code",
      "metadata": {
        "id": "hi5E45rx7Aor"
      },
      "source": [
        "# 사자는 eat() \"사자는 고기를 먹습니다.\"\n",
        "# 새는 eat() \"새는 모이를 먹습니다.\"\n",
        "\n",
        "class Lion2(Animal):\n",
        "\n",
        "  # 생성자 및 오버라이딩\n",
        "  def eat(self): # 오버라이딩\n",
        "    print(\"사자는 고기를 먹습니다.\")\n",
        "  \n",
        "  # 해당 클래스의 고유기능\n",
        "  def hunt(self):\n",
        "    print(\"사자가 사냥을 합니다.\")"
      ],
      "execution_count": null,
      "outputs": []
    },
    {
      "cell_type": "code",
      "metadata": {
        "colab": {
          "base_uri": "https://localhost:8080/"
        },
        "id": "DLOEwRKR8Rmz",
        "outputId": "9df21fb9-0978-47d6-9e1f-143864aab90b"
      },
      "source": [
        "lion2 = Lion2()\n",
        "lion2.eat() # Lion2에서 재정의된 (override) eat()을 호출"
      ],
      "execution_count": null,
      "outputs": [
        {
          "output_type": "stream",
          "name": "stdout",
          "text": [
            "사자는 고기를 먹습니다.\n"
          ]
        }
      ]
    },
    {
      "cell_type": "markdown",
      "metadata": {
        "id": "RA5n1_IV8gXr"
      },
      "source": [
        "## 상속의 법칙\n",
        "1. 자식클래스의 객체를 만들면 부모클래스의 생성자부터 호출한다.\n",
        "  - 자식클래스의 객체가 만들어지기 전에 부모클래스의 객체를 먼저 만든다."
      ]
    },
    {
      "cell_type": "code",
      "metadata": {
        "id": "dL0MQD4e83z1"
      },
      "source": [
        "class Animal:\n",
        "  def __init__(self, name):\n",
        "    self.name = name\n",
        "  \n",
        "  def eat(self):\n",
        "    print(\"{}이 먹이를 먹습니다.\".format(self.name))"
      ],
      "execution_count": null,
      "outputs": []
    },
    {
      "cell_type": "code",
      "metadata": {
        "id": "6ljE-uOA9Pd0"
      },
      "source": [
        "class Lion3(Animal):\n",
        "  # 부모클래스의 생성자에 Parameter가 있으면, 그 부모클래스의 생성자에 들어갈 Argument는 항상 자식클래서 책임\n",
        "  def __init__(self, name):\n",
        "    # 부모클래스의 생성자에 name을 넣어 줘야 한다.\n",
        "    # 자식클래스가 부모클래스 생성자의 Argument를 책임진다.\n",
        "    # 부모클래스의 ~~~을 사용하기 위해 super를 사용한다.\n",
        "    super(Lion3, self).__init__(name) # 부모클래스의 생성자를 자식클래스에서 호출하는 방법\n",
        "\n",
        "  def hunt(self):\n",
        "    print(\"사자가 사냥을 합니다.\")"
      ],
      "execution_count": null,
      "outputs": []
    },
    {
      "cell_type": "code",
      "metadata": {
        "id": "pqaxld229i4b"
      },
      "source": [
        "lion3 = Lion3(\"심바\")"
      ],
      "execution_count": null,
      "outputs": []
    },
    {
      "cell_type": "code",
      "metadata": {
        "colab": {
          "base_uri": "https://localhost:8080/"
        },
        "id": "EFC1ogwd-DHS",
        "outputId": "f4377273-97cd-4f1f-f4ab-4e322c542700"
      },
      "source": [
        "lion3.eat()"
      ],
      "execution_count": null,
      "outputs": [
        {
          "output_type": "stream",
          "name": "stdout",
          "text": [
            "심바이 먹이를 먹습니다.\n"
          ]
        }
      ]
    },
    {
      "cell_type": "markdown",
      "metadata": {
        "id": "oQlr2T55_pQV"
      },
      "source": [
        "# getter & setter with mangling\n",
        "* 멤버 변수에 접근할 때 특정 **로직**을 거쳐서 접근시키는 방법"
      ]
    },
    {
      "cell_type": "code",
      "metadata": {
        "id": "WtHRJS52C7li"
      },
      "source": [
        "class User1:\n",
        "  def __init__(self, name):\n",
        "    # 글자수가 3글자 이상이 되어야만 회원 이름을 등록\n",
        "    if len(name) >= 3:\n",
        "      self.name = name\n",
        "    else:\n",
        "      self.name=\"error\""
      ],
      "execution_count": null,
      "outputs": []
    },
    {
      "cell_type": "code",
      "metadata": {
        "colab": {
          "base_uri": "https://localhost:8080/",
          "height": 35
        },
        "id": "p5K5LVV5Dk4K",
        "outputId": "9ee72fde-1136-490b-fd9a-73fb006833d3"
      },
      "source": [
        "user1 = User1(\"a\")\n",
        "user1.name"
      ],
      "execution_count": null,
      "outputs": [
        {
          "output_type": "execute_result",
          "data": {
            "application/vnd.google.colaboratory.intrinsic+json": {
              "type": "string"
            },
            "text/plain": [
              "'error'"
            ]
          },
          "metadata": {},
          "execution_count": 29
        }
      ]
    },
    {
      "cell_type": "markdown",
      "metadata": {
        "id": "XTriaj4QDszA"
      },
      "source": [
        "과연 생성자를 의미하는 `__init__`에 글자 수를 검사하는 로직이 있어야 하는가?"
      ]
    },
    {
      "cell_type": "code",
      "metadata": {
        "id": "x0t_8kh2D4Gh"
      },
      "source": [
        "class User2:\n",
        "\n",
        "  def __init__(self, first_name):\n",
        "    self.first_name = first_name\n",
        "\n",
        "  # 멤버변수 first_name에 값이 들어갈 때 수행되는 메소드 - setter\n",
        "  def setter(self, first_name):\n",
        "    print(\"Set first name\")\n",
        "    if len(first_name) >= 3:\n",
        "      print(\"set first name success\")\n",
        "      self.first_name = first_name\n",
        "    else:\n",
        "      print(\"error!!!\")\n",
        "      self.first_name = \"error\"\n",
        "  \n",
        "  def getter(self):\n",
        "    print(\"get first name UPPER\")\n",
        "    return self.first_name.upper()\n",
        "  \n",
        "  name = property(getter, setter)"
      ],
      "execution_count": null,
      "outputs": []
    },
    {
      "cell_type": "code",
      "metadata": {
        "id": "shxWQyrLF8mg"
      },
      "source": [
        "user2 = User2(\"m\")"
      ],
      "execution_count": null,
      "outputs": []
    },
    {
      "cell_type": "code",
      "metadata": {
        "colab": {
          "base_uri": "https://localhost:8080/",
          "height": 35
        },
        "id": "EZioankBGjyI",
        "outputId": "079eb710-1959-454b-b7f3-085195c47cf0"
      },
      "source": [
        "user2.first_name"
      ],
      "execution_count": null,
      "outputs": [
        {
          "output_type": "execute_result",
          "data": {
            "application/vnd.google.colaboratory.intrinsic+json": {
              "type": "string"
            },
            "text/plain": [
              "'m'"
            ]
          },
          "metadata": {},
          "execution_count": 35
        }
      ]
    },
    {
      "cell_type": "code",
      "metadata": {
        "colab": {
          "base_uri": "https://localhost:8080/"
        },
        "id": "UDZe3ZioGre0",
        "outputId": "36ba9ad8-b360-4637-92ec-8e5749d5bca0"
      },
      "source": [
        "user2.name = \"mi\""
      ],
      "execution_count": null,
      "outputs": [
        {
          "output_type": "stream",
          "name": "stdout",
          "text": [
            "Set first name\n",
            "error!!!\n"
          ]
        }
      ]
    },
    {
      "cell_type": "code",
      "metadata": {
        "colab": {
          "base_uri": "https://localhost:8080/"
        },
        "id": "V9ebLqklHHgx",
        "outputId": "793052b4-3024-44ad-c7e2-d17da6ac26cb"
      },
      "source": [
        "user2.name = \"minho\""
      ],
      "execution_count": null,
      "outputs": [
        {
          "output_type": "stream",
          "name": "stdout",
          "text": [
            "Set first name\n",
            "set first name success\n"
          ]
        }
      ]
    },
    {
      "cell_type": "code",
      "metadata": {
        "colab": {
          "base_uri": "https://localhost:8080/",
          "height": 53
        },
        "id": "dljlu2N0HNFg",
        "outputId": "a1e517f1-f377-4f0c-9efa-49a1599ab054"
      },
      "source": [
        "user2.name"
      ],
      "execution_count": null,
      "outputs": [
        {
          "output_type": "stream",
          "name": "stdout",
          "text": [
            "get first name UPPER\n"
          ]
        },
        {
          "output_type": "execute_result",
          "data": {
            "application/vnd.google.colaboratory.intrinsic+json": {
              "type": "string"
            },
            "text/plain": [
              "'MINHO'"
            ]
          },
          "metadata": {},
          "execution_count": 38
        }
      ]
    },
    {
      "cell_type": "markdown",
      "metadata": {
        "id": "4eDwDtf3H2x4"
      },
      "source": [
        "## non public ( private )\n",
        "* `User2의 first_name`은 어디서든 접근이 가능!\n",
        "* `first_name`은 `getter`와 `setter`를 거치기로 했기 때문에 함부로 바깥에서(클래스가 아닌 곳) 사용이 불가능 하도록 설정\n",
        "* **mangling** 기법을 이용해서 외부에서 직접적으로 변수나 메소드에 접근하는 것을 막을 수 있다"
      ]
    },
    {
      "cell_type": "code",
      "metadata": {
        "id": "ondNyfgGIQFg"
      },
      "source": [
        "class User3:\n",
        "\n",
        "  def __init__(self, first_name, age):\n",
        "    # 멤버 변수 앞에 언더바 두번(__)이 붙여서 변수명을 짓는 기법을\n",
        "    # 맹글링(Mangling)\n",
        "    \n",
        "    # self.setter(first_name) -> 원래라면 first_name을 쓰기 위해 이게 맞다.\n",
        "    self.__first_name = first_name\n",
        "    self.age = age\n",
        "\n",
        "  def getter(self):\n",
        "    # 클래스 내부에서는 언제든 맹글링된 변수를 사용 할 수 있다!\n",
        "    return self.__first_name\n",
        "  \n",
        "  def setter(self, first_name):\n",
        "    print(\"Set First Name\")\n",
        "    if len(first_name) >= 3:\n",
        "      print(\"[Success] Set First Name\")\n",
        "      self.__first_name = first_name\n",
        "    else:\n",
        "      print(\"[Error] First Name\")\n",
        "      self.__first_name = \"Error\"\n",
        "\n",
        "  name = property(getter, setter)"
      ],
      "execution_count": null,
      "outputs": []
    },
    {
      "cell_type": "code",
      "metadata": {
        "id": "4FEfksR3KdZx"
      },
      "source": [
        "user3 = User3(\"minho\", 30)"
      ],
      "execution_count": null,
      "outputs": []
    },
    {
      "cell_type": "code",
      "metadata": {
        "colab": {
          "base_uri": "https://localhost:8080/"
        },
        "id": "nLY7XZ4VKqkv",
        "outputId": "f8737e8e-7a11-4e06-be78-ab60fbb965ad"
      },
      "source": [
        "user3.name = \"m\""
      ],
      "execution_count": null,
      "outputs": [
        {
          "output_type": "stream",
          "name": "stdout",
          "text": [
            "Set First Name\n",
            "[Error] First Name\n"
          ]
        }
      ]
    },
    {
      "cell_type": "code",
      "metadata": {
        "colab": {
          "base_uri": "https://localhost:8080/"
        },
        "id": "GkaQzQJfKv6H",
        "outputId": "2f41dca0-ce38-47dd-c668-38f9b0d58a65"
      },
      "source": [
        "user3.name = \"minho\""
      ],
      "execution_count": null,
      "outputs": [
        {
          "output_type": "stream",
          "name": "stdout",
          "text": [
            "Set First Name\n",
            "[Success] Set First Name\n"
          ]
        }
      ]
    },
    {
      "cell_type": "code",
      "metadata": {
        "colab": {
          "base_uri": "https://localhost:8080/",
          "height": 172
        },
        "id": "NGBo9wh1KzuP",
        "outputId": "82c0e0e6-27ff-4e44-d6df-f49ec06edc31"
      },
      "source": [
        "user3.__first_name # 외부에서 접근하는 것을 막는다"
      ],
      "execution_count": null,
      "outputs": [
        {
          "output_type": "error",
          "ename": "AttributeError",
          "evalue": "ignored",
          "traceback": [
            "\u001b[0;31m---------------------------------------------------------------------------\u001b[0m",
            "\u001b[0;31mAttributeError\u001b[0m                            Traceback (most recent call last)",
            "\u001b[0;32m<ipython-input-49-1abd5355a86f>\u001b[0m in \u001b[0;36m<module>\u001b[0;34m()\u001b[0m\n\u001b[0;32m----> 1\u001b[0;31m \u001b[0muser3\u001b[0m\u001b[0;34m.\u001b[0m\u001b[0m__first_name\u001b[0m \u001b[0;31m# 외부에서 접근하는 것을 막는다\u001b[0m\u001b[0;34m\u001b[0m\u001b[0;34m\u001b[0m\u001b[0m\n\u001b[0m",
            "\u001b[0;31mAttributeError\u001b[0m: 'User3' object has no attribute '__first_name'"
          ]
        }
      ]
    },
    {
      "cell_type": "code",
      "metadata": {
        "colab": {
          "base_uri": "https://localhost:8080/",
          "height": 35
        },
        "id": "AOMqNb6hLPJv",
        "outputId": "9539dffb-0007-42ae-82e4-6f8ec04516a7"
      },
      "source": [
        "user3._User3__first_name # 굳이 이렇게 까진... 쓰진 말자..."
      ],
      "execution_count": null,
      "outputs": [
        {
          "output_type": "execute_result",
          "data": {
            "application/vnd.google.colaboratory.intrinsic+json": {
              "type": "string"
            },
            "text/plain": [
              "'minho'"
            ]
          },
          "metadata": {},
          "execution_count": 50
        }
      ]
    },
    {
      "cell_type": "code",
      "metadata": {
        "colab": {
          "base_uri": "https://localhost:8080/"
        },
        "id": "BDrROWvLLk5_",
        "outputId": "6d2209c6-0ad9-4c97-b449-1ab9e40af457"
      },
      "source": [
        "user3.age # age는 맹글링이 되어있지 않기 때문에 아무데서나 사용이 가능!"
      ],
      "execution_count": null,
      "outputs": [
        {
          "output_type": "execute_result",
          "data": {
            "text/plain": [
              "30"
            ]
          },
          "metadata": {},
          "execution_count": 51
        }
      ]
    },
    {
      "cell_type": "markdown",
      "metadata": {
        "id": "pv3XTwA_L3yQ"
      },
      "source": [
        "## 메소드 맹글링"
      ]
    },
    {
      "cell_type": "code",
      "metadata": {
        "id": "phQzNJZ_MJuB"
      },
      "source": [
        "class User3:\n",
        "\n",
        "  def __init__(self, first_name, age):\n",
        "    self.set_first_name(first_name)\n",
        "    self.set_age(age)\n",
        "  \n",
        "  # first_name에 대한 setter\n",
        "  def set_first_name(self, first_name):\n",
        "    if len(first_name) >= 3:\n",
        "      self.__first_name = first_name\n",
        "    else:\n",
        "      self.__first_name = None\n",
        "  \n",
        "  # age에 대한 setter\n",
        "  def set_age(self, age):\n",
        "    if age > 0 :\n",
        "      self.__age = age\n",
        "    else:\n",
        "      self.__age = None\n",
        "  \n",
        "  # first_name에 대한 getter\n",
        "  def get_first_name(self):\n",
        "    return self.__first_name.upper()\n",
        "  \n",
        "  # age에 대한 getter\n",
        "  def get_age(self):\n",
        "    return self.__age\n",
        "\n",
        "  # 사람의 정보를 표기하기 위한 문자열을 만드는 메소드를 구현\n",
        "  def __make_user_info(self):\n",
        "    return \"{}의 나이는 {}\".format(self.__first_name, self.__age)\n",
        "\n",
        "  def print_user_info(self):\n",
        "    # 클래스 내부에서만 호출이 가능한 __make_user_info() 호출\n",
        "    user_info_text = self.__make_user_info()\n",
        "    print(\"😀\", user_info_text, \"😘\")\n",
        "\n",
        "  name = property(get_first_name, set_first_name)\n",
        "  age  = property(get_age, set_age)"
      ],
      "execution_count": null,
      "outputs": []
    },
    {
      "cell_type": "code",
      "metadata": {
        "id": "77ZvUqibSkHn"
      },
      "source": [
        "user3 = User3(\"minho\", 34)"
      ],
      "execution_count": null,
      "outputs": []
    },
    {
      "cell_type": "code",
      "metadata": {
        "colab": {
          "base_uri": "https://localhost:8080/"
        },
        "id": "DqRExo00S8w9",
        "outputId": "29d760b8-17c2-427d-d815-278592b673d1"
      },
      "source": [
        "user3.print_user_info()"
      ],
      "execution_count": null,
      "outputs": [
        {
          "output_type": "stream",
          "name": "stdout",
          "text": [
            "😀 minho의 나이는 34 😘\n"
          ]
        }
      ]
    },
    {
      "cell_type": "code",
      "metadata": {
        "colab": {
          "base_uri": "https://localhost:8080/",
          "height": 172
        },
        "id": "7n9zZRFNSsbU",
        "outputId": "bbd7226a-5e90-42ce-8fb7-c54db4c8a773"
      },
      "source": [
        "# 맹글링된 메소드는 외부에서 사용이 불가능 하다!\n",
        "user3.__make_user_info()"
      ],
      "execution_count": null,
      "outputs": [
        {
          "output_type": "error",
          "ename": "AttributeError",
          "evalue": "ignored",
          "traceback": [
            "\u001b[0;31m---------------------------------------------------------------------------\u001b[0m",
            "\u001b[0;31mAttributeError\u001b[0m                            Traceback (most recent call last)",
            "\u001b[0;32m<ipython-input-58-e91fbd4984fc>\u001b[0m in \u001b[0;36m<module>\u001b[0;34m()\u001b[0m\n\u001b[0;32m----> 1\u001b[0;31m \u001b[0muser3\u001b[0m\u001b[0;34m.\u001b[0m\u001b[0m__make_user_info\u001b[0m\u001b[0;34m(\u001b[0m\u001b[0;34m)\u001b[0m\u001b[0;34m\u001b[0m\u001b[0;34m\u001b[0m\u001b[0m\n\u001b[0m",
            "\u001b[0;31mAttributeError\u001b[0m: 'User3' object has no attribute '__make_user_info'"
          ]
        }
      ]
    },
    {
      "cell_type": "markdown",
      "metadata": {
        "id": "4Vuoj13TSuJV"
      },
      "source": [
        "# 클래스의 관계\n"
      ]
    },
    {
      "cell_type": "markdown",
      "metadata": {
        "id": "ZD1sJt24T7-L"
      },
      "source": [
        "## is-a 관계\n",
        "* `A is a B` : 클래스 A는 클래스 B이다 라는 명제가 성립하는 관계\n",
        "* **상속**에 의해서 구현 된다."
      ]
    },
    {
      "cell_type": "markdown",
      "metadata": {
        "id": "yQY9cpR4UFC9"
      },
      "source": [
        "> 예시. 오토바이랑 자동차를 만들고 싶다. 오토바이도 엔진이 있고, 자동차에도 엔진이 있다.\n",
        "\n",
        "Engine 클래스를 만들어서 자동차 클래스에 상속 시키고, 오토바이 클래스에도 상속 시키면 되지 않을까?"
      ]
    },
    {
      "cell_type": "code",
      "metadata": {
        "id": "2WYX1-B4UWUH"
      },
      "source": [
        "class Engine:\n",
        "  def turn_on(self):\n",
        "    print(\"엔진 시동을 걸었습니다.\")\n",
        "\n",
        "  def turn_off(self):\n",
        "    print(\"엔진 시동을 껐습니다.\")"
      ],
      "execution_count": null,
      "outputs": []
    },
    {
      "cell_type": "code",
      "metadata": {
        "id": "9vusGW4wUxVP"
      },
      "source": [
        "# Engine은 자동차랑, 오토바이 모두에 있으니까 엔진을 상속 받는다면..?\n",
        "class Car(Engine):\n",
        "  \n",
        "  def drive(self):\n",
        "    self.turn_on()\n",
        "    print(\"자동차가 앞으로 갑니다.\")\n",
        "\n",
        "  def stop(self):\n",
        "    print(\"자동차가 멈췄습니다.\")\n",
        "    self.turn_off()"
      ],
      "execution_count": null,
      "outputs": []
    },
    {
      "cell_type": "code",
      "metadata": {
        "colab": {
          "base_uri": "https://localhost:8080/"
        },
        "id": "91OVr5ZJVJLk",
        "outputId": "36b402f7-a953-450e-8750-aa0b44dd1cbd"
      },
      "source": [
        "c = Car()\n",
        "c.drive()\n",
        "c.stop()"
      ],
      "execution_count": null,
      "outputs": [
        {
          "output_type": "stream",
          "name": "stdout",
          "text": [
            "엔진 시동을 걸었습니다.\n",
            "자동차가 앞으로 갑니다.\n",
            "자동차가 멈췄습니다.\n",
            "엔진 시동을 껐습니다.\n"
          ]
        }
      ]
    },
    {
      "cell_type": "code",
      "metadata": {
        "id": "gJVmvXQrVLa9"
      },
      "source": [
        "class MortorCycle(Engine):\n",
        "  \n",
        "  def drive(self):\n",
        "    self.turn_on()\n",
        "    print(\"오토바이가 앞으로 갑니다\")\n",
        "  \n",
        "  def stop(self):\n",
        "    print(\"오토바이가 멈췄습니다.\")\n",
        "    self.turn_off()"
      ],
      "execution_count": null,
      "outputs": []
    },
    {
      "cell_type": "markdown",
      "metadata": {
        "id": "DewMYPoMVnKc"
      },
      "source": [
        "현재 `Engine`와 `Car, MotorCycle`의 관계는 상속 관계 이기 때문에\n",
        "* `Car`는 `Engine`이다.\n",
        "* `MotorCycle`은 `Engine`이다\n",
        "\n",
        "라는 관계가 설정이 되어 버렸다... 명제에 맞지 않는 구조이기 때문에 상속으로 설계하면 안된다!"
      ]
    },
    {
      "cell_type": "markdown",
      "metadata": {
        "id": "1-1c52U8XQ8r"
      },
      "source": [
        "`Animal`과 `Lion, Bird` 관계에서는 상속이 올바른 관계이다.\n",
        "\n",
        "* `Lion`은 `Animal`이다.\n",
        "* `Bird`는 `Animal`이다.\n",
        "\n",
        "라는 관계가 명제에 자연스럽기 때문에 상속 구조를 사용해도 좋다!"
      ]
    },
    {
      "cell_type": "markdown",
      "metadata": {
        "id": "fYGLe0bTXkJz"
      },
      "source": [
        "`abstract`(추상화)를 이용해 완벽한 객체지향 프로그래밍을 할 수 있다."
      ]
    },
    {
      "cell_type": "markdown",
      "metadata": {
        "id": "vsN2L0C6X2Fr"
      },
      "source": [
        "## Has-A 관계\n",
        "* A has a B : 클래스 A는 클래스 B를 갖는다.\n",
        "* A 클래스의 멤버변수로 B 클래스를 정의하면 된다."
      ]
    },
    {
      "cell_type": "markdown",
      "metadata": {
        "id": "-IOD7PdhYPDb"
      },
      "source": [
        "`자동차`는 `엔진`을 소유한다 라는 관계"
      ]
    },
    {
      "cell_type": "code",
      "metadata": {
        "id": "mp2B1LeCYe4t"
      },
      "source": [
        "class Car:\n",
        "  def __init__(self, engine):\n",
        "    self.engine = engine # 소유관계 has a 관계\n",
        "\n",
        "  def drive(self):\n",
        "    # 내 부품 중에 하나인 engine의 시동을 켠다.\n",
        "    self.engine.turn_on()\n",
        "    print(\"자동차가 앞으로 갑니다.\")"
      ],
      "execution_count": null,
      "outputs": []
    },
    {
      "cell_type": "code",
      "metadata": {
        "colab": {
          "base_uri": "https://localhost:8080/"
        },
        "id": "SblFEs3KYx-D",
        "outputId": "0ce0e1e7-895e-4421-ed9f-e9227aff3c66"
      },
      "source": [
        "car_engine = Engine() # 부품을 만들어서\n",
        "c = Car(car_engine) # 자동차를 만들 때 부품을 넣어준다.\n",
        "c.drive()"
      ],
      "execution_count": null,
      "outputs": [
        {
          "output_type": "stream",
          "name": "stdout",
          "text": [
            "엔진 시동을 걸었습니다.\n",
            "자동차가 앞으로 갑니다.\n"
          ]
        }
      ]
    },
    {
      "cell_type": "markdown",
      "metadata": {
        "id": "iffqG6ShZHxc"
      },
      "source": [
        "## Use-A 관계\n",
        "* A Use-a B : A가 B를 사용한다.\n",
        "* 부품은 아니지만, A 클래스에서 특정 메소드를 사용 할 때 B 객체를 넣어야 하는 관계"
      ]
    },
    {
      "cell_type": "code",
      "metadata": {
        "id": "Q652Es8bZoUm"
      },
      "source": [
        "class Hamburger:\n",
        "  def eat(self):\n",
        "    print(\"참깨빵 위에~~~~특별한 소스 양상추까지~ 빨빠빠밤\")"
      ],
      "execution_count": null,
      "outputs": []
    },
    {
      "cell_type": "code",
      "metadata": {
        "id": "MxWhxyJYZ7LT"
      },
      "source": [
        "class Car:\n",
        "  def drive_through(self, food):\n",
        "    print(\"드라이브 쓰루하면서\")\n",
        "    food.eat()"
      ],
      "execution_count": null,
      "outputs": []
    },
    {
      "cell_type": "code",
      "metadata": {
        "colab": {
          "base_uri": "https://localhost:8080/"
        },
        "id": "NvRMicusaWU7",
        "outputId": "6bcf44f3-0a87-499b-e507-11f1889bb94a"
      },
      "source": [
        "h = Hamburger()\n",
        "c = Car()\n",
        "c.drive_through(h)"
      ],
      "execution_count": null,
      "outputs": [
        {
          "output_type": "stream",
          "name": "stdout",
          "text": [
            "드라이브 쓰루하면서\n",
            "참깨빵 위에~~~~특별한 소스 양상추까지~ 빨빠빠밤\n"
          ]
        }
      ]
    },
    {
      "cell_type": "markdown",
      "metadata": {
        "id": "Yn-JqTr2aq01"
      },
      "source": [
        "# Magic(Special) Method\n",
        "기본적으로 파이썬 클래스는 눈에는 보이지 않지만 `Object`클래스를 상속 받고 있음\n",
        "\n",
        "* 비교, 계산, 표현(문자열로)하는 여러 메소드들을 우리 마음대로 재정의(override)할 수 있다."
      ]
    },
    {
      "cell_type": "markdown",
      "metadata": {
        "id": "VIjI7J6CaxCs"
      },
      "source": [
        "* 비교 함수\n",
        "  * `__eq__` : `==`\n",
        "  * `__ne__` : `!=`\n",
        "  * `__lt__` : `<`\n",
        "  * 등등....\n",
        "* 연산 함수\n",
        "  * `__add__` : `+`\n",
        "  * `__sub__` : `-`\n",
        "\n",
        "* `__repr__` : 객체의 내용을 출력(개발자용)\n",
        "* `__str__` : 객체의 내용을 출력(문자열화)"
      ]
    },
    {
      "cell_type": "code",
      "metadata": {
        "colab": {
          "base_uri": "https://localhost:8080/"
        },
        "id": "uO8XlLXKbX2j",
        "outputId": "bce5a4e9-527e-4bd1-a614-b3853f8f20c5"
      },
      "source": [
        "\"test\" == \"test\""
      ],
      "execution_count": null,
      "outputs": [
        {
          "output_type": "execute_result",
          "data": {
            "text/plain": [
              "True"
            ]
          },
          "metadata": {},
          "execution_count": 72
        }
      ]
    },
    {
      "cell_type": "code",
      "metadata": {
        "colab": {
          "base_uri": "https://localhost:8080/"
        },
        "id": "y_Ru9_9vf2h5",
        "outputId": "9e1b16b7-3e75-43a4-d9dd-0054eb17209f"
      },
      "source": [
        "a = \"test\"\n",
        "b = \"test\"\n",
        "\n",
        "a.__eq__(b)"
      ],
      "execution_count": null,
      "outputs": [
        {
          "output_type": "execute_result",
          "data": {
            "text/plain": [
              "True"
            ]
          },
          "metadata": {},
          "execution_count": 73
        }
      ]
    },
    {
      "cell_type": "code",
      "metadata": {
        "colab": {
          "base_uri": "https://localhost:8080/",
          "height": 35
        },
        "id": "0iP20otwf-R5",
        "outputId": "8296d192-de72-4eeb-ff94-0e13d7c3cb9a"
      },
      "source": [
        "\"1\" + \"2\""
      ],
      "execution_count": null,
      "outputs": [
        {
          "output_type": "execute_result",
          "data": {
            "application/vnd.google.colaboratory.intrinsic+json": {
              "type": "string"
            },
            "text/plain": [
              "'12'"
            ]
          },
          "metadata": {},
          "execution_count": 74
        }
      ]
    },
    {
      "cell_type": "code",
      "metadata": {
        "colab": {
          "base_uri": "https://localhost:8080/",
          "height": 35
        },
        "id": "TNRw5ZGCgGh6",
        "outputId": "49a650e8-dc1b-4ad5-d277-e9872a14cc4f"
      },
      "source": [
        "\"1\".__add__(\"2\")"
      ],
      "execution_count": null,
      "outputs": [
        {
          "output_type": "execute_result",
          "data": {
            "application/vnd.google.colaboratory.intrinsic+json": {
              "type": "string"
            },
            "text/plain": [
              "'12'"
            ]
          },
          "metadata": {},
          "execution_count": 75
        }
      ]
    },
    {
      "cell_type": "code",
      "metadata": {
        "id": "2ZS6JvH0gKKK"
      },
      "source": [
        "class MyTxt:\n",
        "\n",
        "  def __init__(self, txt):\n",
        "    self.txt =txt\n",
        "  \n",
        "  # 동일 연산(==)에 대한 재정의\n",
        "  def __eq__(self, txt_obj):\n",
        "    return self.txt.lower() == txt_obj.txt.lower()\n",
        "  \n",
        "  # 개발자 출력용 문자열 생성\n",
        "  def __repr__(self):\n",
        "    return \"Txt(txt={})\".format(self.txt)\n",
        "\n",
        "  # 일반 출력용 문자열 생성(print 했을 때 나오는 문자열)\n",
        "  def __str__(self):\n",
        "    return self.txt"
      ],
      "execution_count": null,
      "outputs": []
    },
    {
      "cell_type": "code",
      "metadata": {
        "colab": {
          "base_uri": "https://localhost:8080/"
        },
        "id": "Mkh4gIJphiTS",
        "outputId": "2b5bbfaf-79c4-40d5-999c-73741da012c4"
      },
      "source": [
        "t1 = MyTxt(\"HELlo\")\n",
        "t2 = MyTxt(\"HeLlO\")\n",
        "\n",
        "# __eq__ 재정의에 대한 내용\n",
        "\"HELlo\" == \"HeLlO\", t1 == t2"
      ],
      "execution_count": null,
      "outputs": [
        {
          "output_type": "execute_result",
          "data": {
            "text/plain": [
              "(False, True)"
            ]
          },
          "metadata": {},
          "execution_count": 78
        }
      ]
    },
    {
      "cell_type": "code",
      "metadata": {
        "colab": {
          "base_uri": "https://localhost:8080/"
        },
        "id": "CodDbnjmh82L",
        "outputId": "76b372a9-d0fd-452e-ba9b-da69c0692ef6"
      },
      "source": [
        "# print 없이 출력하면 개발자용 출력(노트북에서만 확인이 가능한 문자열)\n",
        "t1"
      ],
      "execution_count": null,
      "outputs": [
        {
          "output_type": "execute_result",
          "data": {
            "text/plain": [
              "Txt(txt=HELlo)"
            ]
          },
          "metadata": {},
          "execution_count": 79
        }
      ]
    },
    {
      "cell_type": "code",
      "metadata": {
        "colab": {
          "base_uri": "https://localhost:8080/"
        },
        "id": "U8-Ua9DNiegQ",
        "outputId": "931caa7c-4d66-479f-8944-d225b1e314e2"
      },
      "source": [
        "print(t1)"
      ],
      "execution_count": null,
      "outputs": [
        {
          "output_type": "stream",
          "name": "stdout",
          "text": [
            "HELlo\n"
          ]
        }
      ]
    },
    {
      "cell_type": "code",
      "metadata": {
        "id": "YyhAH1YLirQJ"
      },
      "source": [
        "class A:\n",
        "  pass"
      ],
      "execution_count": null,
      "outputs": []
    },
    {
      "cell_type": "code",
      "metadata": {
        "id": "AqtwtVZWi5JB"
      },
      "source": [
        "a = A()"
      ],
      "execution_count": null,
      "outputs": []
    },
    {
      "cell_type": "code",
      "metadata": {
        "colab": {
          "base_uri": "https://localhost:8080/"
        },
        "id": "P584CPIei_5q",
        "outputId": "8aa6a493-823d-464f-d3cb-b29c241d0bfe"
      },
      "source": [
        "a"
      ],
      "execution_count": null,
      "outputs": [
        {
          "output_type": "execute_result",
          "data": {
            "text/plain": [
              "<__main__.A at 0x7fc3223568d0>"
            ]
          },
          "metadata": {},
          "execution_count": 85
        }
      ]
    },
    {
      "cell_type": "code",
      "metadata": {
        "colab": {
          "base_uri": "https://localhost:8080/"
        },
        "id": "F054OPWZjAaY",
        "outputId": "c62fce77-3c79-4ded-fa16-6d03d4541d9d"
      },
      "source": [
        "print(a)"
      ],
      "execution_count": null,
      "outputs": [
        {
          "output_type": "stream",
          "name": "stdout",
          "text": [
            "<__main__.A object at 0x7fc3223568d0>\n"
          ]
        }
      ]
    },
    {
      "cell_type": "code",
      "metadata": {
        "id": "jM-_wkAljDRQ"
      },
      "source": [
        ""
      ],
      "execution_count": null,
      "outputs": []
    }
  ]
}