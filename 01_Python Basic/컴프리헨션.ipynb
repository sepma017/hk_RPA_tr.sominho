{
  "cells": [
    {
      "cell_type": "markdown",
      "id": "5eff7e5e",
      "metadata": {
        "id": "5eff7e5e"
      },
      "source": [
        "# 컴프리헨션\n",
        "- 반복문을 통한 컬렉션(`list`, `set`, `dict`)을 만들기 위함\n",
        "- 복잡하지 않은 조건문을 사용 할 때"
      ]
    },
    {
      "cell_type": "code",
      "execution_count": null,
      "id": "ea2c948a",
      "metadata": {
        "id": "ea2c948a",
        "outputId": "dfd09cd3-2896-4612-a51c-2f8984b95a3b"
      },
      "outputs": [
        {
          "data": {
            "text/plain": [
              "[1, 2, 3, 4, 5, 6, 7, 8, 9, 10]"
            ]
          },
          "execution_count": 1,
          "metadata": {},
          "output_type": "execute_result"
        }
      ],
      "source": [
        "# 1 ~ 10 까지 각 숫자에 대해 3로 나눴을 때의 나머지를 저장\n",
        "lst = list(range(1, 11))\n",
        "lst"
      ]
    },
    {
      "cell_type": "code",
      "execution_count": null,
      "id": "30ef24e5",
      "metadata": {
        "id": "30ef24e5",
        "outputId": "87a39a82-2166-442d-c19d-645a8a236a7b"
      },
      "outputs": [
        {
          "data": {
            "text/plain": [
              "[1, 2, 0, 1, 2, 0, 1, 2, 0, 1]"
            ]
          },
          "execution_count": 3,
          "metadata": {},
          "output_type": "execute_result"
        }
      ],
      "source": [
        "# 각 숫자를 3으로 나눴을 때의 나머지를 저장할 리스트\n",
        "result = []\n",
        "\n",
        "for num in lst:\n",
        "    result.append( num % 3 )\n",
        "    \n",
        "result"
      ]
    },
    {
      "cell_type": "markdown",
      "id": "96189360",
      "metadata": {
        "id": "96189360"
      },
      "source": [
        "위와 똑같은 리스트를 컴프리헨션으로 만들면?"
      ]
    },
    {
      "cell_type": "code",
      "execution_count": null,
      "id": "a223b7e7",
      "metadata": {
        "id": "a223b7e7",
        "outputId": "ab47d8e7-266f-4e5f-869c-68718f309998"
      },
      "outputs": [
        {
          "data": {
            "text/plain": [
              "[1, 2, 0, 1, 2, 0, 1, 2, 0, 1]"
            ]
          },
          "execution_count": 4,
          "metadata": {},
          "output_type": "execute_result"
        }
      ],
      "source": [
        "result = [ num % 3 for num in lst ]\n",
        "result"
      ]
    },
    {
      "cell_type": "markdown",
      "id": "b42cde0b",
      "metadata": {
        "id": "b42cde0b"
      },
      "source": [
        "조건문이 있는 컴프리헨션"
      ]
    },
    {
      "cell_type": "code",
      "execution_count": null,
      "id": "eb6d9274",
      "metadata": {
        "id": "eb6d9274",
        "outputId": "62931549-9c9a-44a0-be93-ce29d0f00979"
      },
      "outputs": [
        {
          "data": {
            "text/plain": [
              "['홀', '짝', '홀', '짝', '홀', '짝', '홀', '짝', '홀', '짝']"
            ]
          },
          "execution_count": 7,
          "metadata": {},
          "output_type": "execute_result"
        }
      ],
      "source": [
        "# 1 ~ 10까지 리스트를 만들어서 홀 / 짝 리스트 만들기\n",
        "# lst = [1, 2, ,3, 4, 5, 6, 7, 9, 10]\n",
        "# even_odd_lst = [\"홀\", \"짝\", \"홀\", \"짝\", \"홀\", \"짝\", \"홀\", \"짝\", \"홀\", \"짝\"]\n",
        "\n",
        "even_odd_lst = []\n",
        "\n",
        "for num in lst:\n",
        "    if num % 2 == 0:\n",
        "        even_odd_lst.append(\"짝\")\n",
        "    else:\n",
        "        even_odd_lst.append(\"홀\")\n",
        "        \n",
        "even_odd_lst"
      ]
    },
    {
      "cell_type": "code",
      "execution_count": null,
      "id": "ed7c06a8",
      "metadata": {
        "id": "ed7c06a8",
        "outputId": "1fbde79d-fe9d-4581-d437-cb2880a74961"
      },
      "outputs": [
        {
          "data": {
            "text/plain": [
              "'Bye'"
            ]
          },
          "execution_count": 12,
          "metadata": {},
          "output_type": "execute_result"
        }
      ],
      "source": [
        "# 삼항연산자\n",
        "a = 10\n",
        "b = 20\n",
        "\n",
        "result = \"Hello\" if a > b else \"Bye\"\n",
        "result"
      ]
    },
    {
      "cell_type": "code",
      "execution_count": null,
      "id": "d3aef87f",
      "metadata": {
        "id": "d3aef87f",
        "outputId": "1b96c70d-96be-403d-c094-39c6e0ef2490"
      },
      "outputs": [
        {
          "data": {
            "text/plain": [
              "['홀', '짝', '홀', '짝', '홀', '짝', '홀', '짝', '홀', '짝']"
            ]
          },
          "execution_count": 14,
          "metadata": {},
          "output_type": "execute_result"
        }
      ],
      "source": [
        "even_odd_lst = [ \"짝\" if num % 2 == 0 else \"홀\" for num in lst ]\n",
        "even_odd_lst"
      ]
    },
    {
      "cell_type": "markdown",
      "id": "231e9882",
      "metadata": {
        "id": "231e9882"
      },
      "source": [
        "데이터 추가에 대한 조건 생성"
      ]
    },
    {
      "cell_type": "code",
      "execution_count": null,
      "id": "0e73baee",
      "metadata": {
        "id": "0e73baee",
        "outputId": "ce672024-104f-48e4-e19f-b39d2025f0e3"
      },
      "outputs": [
        {
          "data": {
            "text/plain": [
              "['홀', '짝', '홀']"
            ]
          },
          "execution_count": 17,
          "metadata": {},
          "output_type": "execute_result"
        }
      ],
      "source": [
        "even_odd_lst_3time = [ \"짝\" if num % 2 == 0 else \"홀\" for num in lst if num % 3 == 0 ]\n",
        "even_odd_lst_3time"
      ]
    },
    {
      "cell_type": "markdown",
      "id": "260c113e",
      "metadata": {
        "id": "260c113e"
      },
      "source": [
        "중괄호 `{}`를 활용하면 set 컴프리헨션이 된다."
      ]
    },
    {
      "cell_type": "code",
      "execution_count": null,
      "id": "9a995959",
      "metadata": {
        "id": "9a995959",
        "outputId": "891f08d1-8259-4a0f-ba47-908f48b7ef27"
      },
      "outputs": [
        {
          "data": {
            "text/plain": [
              "{'짝', '홀'}"
            ]
          },
          "execution_count": 18,
          "metadata": {},
          "output_type": "execute_result"
        }
      ],
      "source": [
        "even_odd_set_3time = { \"짝\" if num % 2 == 0 else \"홀\" for num in lst if num % 3 == 0 }\n",
        "even_odd_set_3time"
      ]
    },
    {
      "cell_type": "markdown",
      "id": "beb38b74",
      "metadata": {
        "id": "beb38b74"
      },
      "source": [
        "딕셔너리 컴프리헨션 : `{}`를 활용해서 만든다. 단 `key : value` 형식으로 구성"
      ]
    },
    {
      "cell_type": "code",
      "execution_count": null,
      "id": "588103e8",
      "metadata": {
        "id": "588103e8",
        "outputId": "fad0cce5-368d-4ccd-e491-7066735a98cc"
      },
      "outputs": [
        {
          "data": {
            "text/plain": [
              "{'아침': '샐러드', '점심': '구내식당', '저녁': '삼겹살'}"
            ]
          },
          "execution_count": 19,
          "metadata": {},
          "output_type": "execute_result"
        }
      ],
      "source": [
        "a = [\"아침\", \"점심\", \"저녁\"]\n",
        "b = [\"샐러드\", \"구내식당\", \"삼겹살\"]\n",
        "\n",
        "result = {}\n",
        "\n",
        "for meal, food in zip(a, b):\n",
        "    result[meal] = food\n",
        "\n",
        "result"
      ]
    },
    {
      "cell_type": "code",
      "execution_count": null,
      "id": "911d2221",
      "metadata": {
        "id": "911d2221",
        "outputId": "bc64ada2-26d6-43cf-f383-5480a703bd08"
      },
      "outputs": [
        {
          "data": {
            "text/plain": [
              "{'아침': '샐러드', '점심': '구내식당', '저녁': '삼겹살'}"
            ]
          },
          "execution_count": 20,
          "metadata": {},
          "output_type": "execute_result"
        }
      ],
      "source": [
        "result = { meal : food for meal, food in zip(a, b) }\n",
        "result"
      ]
    },
    {
      "cell_type": "markdown",
      "id": "bf54fed8",
      "metadata": {
        "id": "bf54fed8"
      },
      "source": [
        "딕셔너리 컴프리헨션 실습\n",
        "1. 단어의 글자가 몇 번 등장했는지에 대한 딕셔너리 만들기\n",
        "    * `letter --> {'l' : 1, 'e' : 2, 't' : 2, 'r' : 1}`\n",
        "2. 특정 문장에 단어가 몇 번 등장했는지에 대한 딕셔너리 만들기\n",
        "    * `hello hi bye hello --> {'hello' : 2, 'hi' : 1, 'bye' : 1}`"
      ]
    },
    {
      "cell_type": "code",
      "execution_count": null,
      "id": "97f067d9",
      "metadata": {
        "id": "97f067d9",
        "outputId": "fccb5aa2-dda4-459f-8c4e-00f198dd3cf1"
      },
      "outputs": [
        {
          "data": {
            "text/plain": [
              "2"
            ]
          },
          "execution_count": 26,
          "metadata": {},
          "output_type": "execute_result"
        }
      ],
      "source": [
        "# 1번 문제 힌트 : count()\n",
        "\"hello hell\".count(\"h\")"
      ]
    },
    {
      "cell_type": "code",
      "execution_count": null,
      "id": "3962b1a1",
      "metadata": {
        "id": "3962b1a1",
        "outputId": "4b9e9af7-97c9-474f-eaef-24cfe75c39e9"
      },
      "outputs": [
        {
          "data": {
            "text/plain": [
              "1"
            ]
          },
          "execution_count": 28,
          "metadata": {},
          "output_type": "execute_result"
        }
      ],
      "source": [
        "# 2번 문제 힌트 : list에도 count가 있다\n",
        "lst = [\"Hello\", \"Bye\", \"Hello\"]\n",
        "lst.count(\"Bye\")"
      ]
    },
    {
      "cell_type": "markdown",
      "id": "9fab915f",
      "metadata": {
        "id": "9fab915f"
      },
      "source": [
        "`letter --> {'l' : 1, 'e' : 2, 't' : 2, 'r' : 1}`"
      ]
    },
    {
      "cell_type": "code",
      "execution_count": null,
      "id": "41d5a8a2",
      "metadata": {
        "id": "41d5a8a2",
        "outputId": "79866c51-105f-461d-f560-9ffad3b247e0"
      },
      "outputs": [
        {
          "data": {
            "text/plain": [
              "{'t': 2, 'l': 1, 'r': 1, 'e': 2}"
            ]
          },
          "execution_count": 33,
          "metadata": {},
          "output_type": "execute_result"
        }
      ],
      "source": [
        "term = \"letter\"\n",
        "\n",
        "result1 = { char : term.count(char) for char in set(term) }\n",
        "result1"
      ]
    },
    {
      "cell_type": "markdown",
      "id": "346041c5",
      "metadata": {
        "id": "346041c5"
      },
      "source": [
        "`hello hi bye hello --> {'hello' : 2, 'hi' : 1, 'bye' : 1}`"
      ]
    },
    {
      "cell_type": "code",
      "execution_count": null,
      "id": "8e55746a",
      "metadata": {
        "id": "8e55746a",
        "outputId": "3d4e940d-495f-4880-e37b-77f30584bd28"
      },
      "outputs": [
        {
          "data": {
            "text/plain": [
              "{'hi': 1, 'hello': 2, 'bye': 1}"
            ]
          },
          "execution_count": 36,
          "metadata": {},
          "output_type": "execute_result"
        }
      ],
      "source": [
        "sentence = \"hello hi bye hello\"\n",
        "result2 = { term : sentence.count(term) for term in set(sentence.split()) }\n",
        "\n",
        "result2"
      ]
    },
    {
      "cell_type": "code",
      "execution_count": null,
      "id": "2b2ca2fd",
      "metadata": {
        "id": "2b2ca2fd"
      },
      "outputs": [],
      "source": [
        ""
      ]
    }
  ],
  "metadata": {
    "kernelspec": {
      "display_name": "Python 3",
      "language": "python",
      "name": "python3"
    },
    "language_info": {
      "codemirror_mode": {
        "name": "ipython",
        "version": 3
      },
      "file_extension": ".py",
      "mimetype": "text/x-python",
      "name": "python",
      "nbconvert_exporter": "python",
      "pygments_lexer": "ipython3",
      "version": "3.8.8"
    },
    "colab": {
      "name": "컴프리헨션.ipynb",
      "provenance": []
    }
  },
  "nbformat": 4,
  "nbformat_minor": 5
}