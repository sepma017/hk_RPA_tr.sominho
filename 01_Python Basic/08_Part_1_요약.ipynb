{
  "nbformat": 4,
  "nbformat_minor": 0,
  "metadata": {
    "colab": {
      "name": "08. Part 1 요약",
      "provenance": [],
      "collapsed_sections": [],
      "toc_visible": true
    },
    "kernelspec": {
      "name": "python3",
      "display_name": "Python 3"
    },
    "language_info": {
      "name": "python"
    }
  },
  "cells": [
    {
      "cell_type": "markdown",
      "metadata": {
        "id": "XVyyxWartZmm"
      },
      "source": [
        "# Jupyter Notebook\n",
        "* mode : markdown, code\n",
        "  * markdown : 설명을 적어내는 부분( 레포트 용도 )\n",
        "  * code : 파이썬 코드가 작성되는 부분\n",
        "* 단축키\n",
        "  * 셀 실행 : `shift + enter`\n",
        "  * 셀을 밑에 추가 : `ctrl + m, b`\n",
        "  * 셀을 위에 추가 : `ctrl + m, a`\n",
        "  * 셀 삭제 : `ctrl + m, d`\n",
        "  * markdown 셀로 변경 : `ctrl + m, m`\n",
        "  * code 셀로 변경 : `ctrl + m, y`\n",
        "  * 셀 단위 실행 취소 : `ctrl + m, z`\n",
        "  * 셀 단위 다시 실행 : `ctrl + shift + y`\n",
        "  * code 셀에서 주석걸기 : `ctrl + /`\n",
        "  * **MAC**에서는 ctrl을 cmd로 바꿔주시면 됩니다.\n"
      ]
    },
    {
      "cell_type": "markdown",
      "metadata": {
        "id": "zicSEmEru4yG"
      },
      "source": [
        "# Python 기본 문법"
      ]
    },
    {
      "cell_type": "markdown",
      "metadata": {
        "id": "f7Lt3_P4vVl4"
      },
      "source": [
        "# 변수\n",
        "\n",
        "### 변수 기초\n",
        "* 변수 : 값을 저장하기 위한 공간\n",
        "* 변수 선언 : RAM에 값을 저장하기 위한 공간을 만드는 행위\n",
        "* 변수 할당 : 변수에 값을 집어 넣는 행위\n",
        "* ```python\n",
        "  a = 10 # a라는 변수를 선언하고 10이라는 값을 할당\n",
        "```\n",
        "\n",
        "### 식별자 규칙\n",
        "식별자란? 변수, 함수, 클래스를 만들기 위한 **이름**\n",
        "* 대문자, 소문자, 숫자, `_`만 사용이 가능\n",
        "* 가장 앞 글자에 숫자가 올 수 없다.\n",
        "* 예약어 사용 불가 : `def, class, if, for, while ... `\n",
        "  * 문법적인 특징을 가지고 있는 키워드는 사용 불가\n",
        "* snake_case(변수, 함수), CamelCase(클래스)\n",
        "\n",
        "### 데이터 타입\n",
        "* 기본 데이터 타입 : `int`,`float`,`str`,`bool`\n",
        "* 컬렉션 타입 : `list`, `tuple`, `set`, `dict`\n",
        "* 동적 타이핑\n",
        "  * 자동으로 저장공간의 데이터 타입이 결정\n"
      ]
    },
    {
      "cell_type": "markdown",
      "metadata": {
        "id": "85a1bOzRvuw3"
      },
      "source": [
        "# 컬렉션(Collection)\n",
        "* `list`, `tuple`\n",
        "  * 데이터 중복을 허용\n",
        "  * 데이터 **추가**의 순서가 유지\n",
        "    * Sequence!\n",
        "* `set`, `dict`\n",
        "  * Sequence가 아니다.\n",
        "  * `set`은 값의 중복을 허용하지 않고, 데이터 추가의 순서도 유지되지 않는다.\n",
        "  * `dict`는 `key-value`구조. `key`를 집어 넣어서 `value`를 찾아내는 컬렉션 구조\n",
        "\n",
        "### offset index\n",
        "* 특정 위치의 데이터를 출력할 때 사용\n",
        "* `list`와 `tuple`에서만 사용이 가능\n",
        "* 0부터 시작하며, 정수만 사용이 가능하다.\n",
        "* 데이터에 접근하기 위해 `[]`를 사용\n",
        "  * `[idx]` : `idx`위치의 데이터를 출력\n",
        "  * `[start : end]` : `start`부터 `end-1`까지 잘라내기\n",
        "  * `[start : end : step]` : step 만큼 건너 뛰면서 잘라내기\n"
      ]
    },
    {
      "cell_type": "markdown",
      "metadata": {
        "id": "pNQthHtbxp5O"
      },
      "source": [
        "# 형 변환( Type Casting )\n",
        "* 변수에 할당된 값을 원하는 데이터 타입으로 변경하는 행위\n",
        "  * ex )`int` -> `float`, `str`, `bool`\n",
        "\n",
        "### 파싱 ( Parsing) \n",
        "  * 어떤 문자열(`str`)을 다른 데이터 타입으로 바꾸는 행위\n",
        "  * `str \"1.5\"` -> `float 1.5`\n",
        "  * `str \"안녕하세요` -> `float`, `int`로 변경이 불가\n",
        "  * 바꿀 데이터 타입의 모양을 정확히 가져야지만 파싱이 가능하다.\n",
        "    * `\"1.5\"` -> 정수로 가능? 안된다!\n",
        "    * `\"1.5 점` -> 실수로 파싱 안된다\n",
        "    "
      ]
    },
    {
      "cell_type": "markdown",
      "metadata": {
        "id": "oqrorwACy7bu"
      },
      "source": [
        "# 연산자 ( Operator )\n",
        "* 산술 : `+, -, *, /, //, %, **`\n",
        "* 할당(대입) : `=, +=, -=, ...`\n",
        "* 비교 : `<, >, <= , >=, ==, !=`\n",
        "* 논리 : `and, or, not`\n",
        "* 멤버 : `in, not in`"
      ]
    }
  ]
}