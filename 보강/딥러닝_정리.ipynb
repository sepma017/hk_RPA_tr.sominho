{
  "nbformat": 4,
  "nbformat_minor": 0,
  "metadata": {
    "colab": {
      "name": "딥러닝 정리",
      "provenance": []
    },
    "kernelspec": {
      "name": "python3",
      "display_name": "Python 3"
    },
    "language_info": {
      "name": "python"
    },
    "accelerator": "GPU"
  },
  "cells": [
    {
      "cell_type": "markdown",
      "source": [
        "# 딥러닝\n",
        "- MLP (ANN)\n",
        "- CNN\n",
        "- RNN"
      ],
      "metadata": {
        "id": "JB90Ww3vrPJ8"
      }
    },
    {
      "cell_type": "code",
      "source": [
        "import numpy as np\n",
        "def mse(y, t):\n",
        "  loss = 0.5 * (np.sum((y-t)**2))\n",
        "  return loss"
      ],
      "metadata": {
        "id": "9VpKhlpCtKwC"
      },
      "execution_count": null,
      "outputs": []
    },
    {
      "cell_type": "code",
      "source": [
        "y = np.array([0.1, 0.8, 0.1])\n",
        "t = np.array([1, 0, 0])\n",
        "\n",
        "print(\"{:.6f}\".format(mse(y, t)))"
      ],
      "metadata": {
        "colab": {
          "base_uri": "https://localhost:8080/"
        },
        "id": "vq0_eUHURrs4",
        "outputId": "b399234b-3d88-479d-ad45-d4b062f6b594"
      },
      "execution_count": null,
      "outputs": [
        {
          "output_type": "stream",
          "name": "stdout",
          "text": [
            "0.730000\n"
          ]
        }
      ]
    },
    {
      "cell_type": "markdown",
      "source": [
        "## MLP (Multi Layer Perceptron)\n",
        "- ANN ( Affine Neural Network )\n",
        "- **Fully Connected Layer**\n"
      ],
      "metadata": {
        "id": "dX15o2ipR7q_"
      }
    },
    {
      "cell_type": "code",
      "source": [
        "# 사용할 레이어 불러오기 - Fully Connected Layer 구현 Dense 레이어를 위주로 활용한다.\n",
        "from tensorflow.keras.layers import Dense\n",
        "\n",
        "# 사용할 레이어를 조합해서 model 만들기\n",
        "from tensorflow.keras.models import Sequential"
      ],
      "metadata": {
        "id": "52lwuU9o2sjU"
      },
      "execution_count": null,
      "outputs": []
    },
    {
      "cell_type": "code",
      "source": [
        "# 데이터 만들어 보기\n",
        "import numpy as np\n",
        "\n",
        "x = np.array([1.0, 2.0, 3.0, 4.0], dtype=float)\n",
        "y = np.array([3.0, 5.0, 7.0, 9.0], dtype=float)"
      ],
      "metadata": {
        "id": "aND2RAgs4mqR"
      },
      "execution_count": null,
      "outputs": []
    },
    {
      "cell_type": "code",
      "source": [
        "# 모델 정의하기\n",
        "model = Sequential([\n",
        "  Dense(1)\n",
        "])"
      ],
      "metadata": {
        "id": "xMdEW09K5j3y"
      },
      "execution_count": null,
      "outputs": []
    },
    {
      "cell_type": "code",
      "source": [
        "# 모델 생성(compile)\n",
        "#  - loss 함수 지정\n",
        "#  - 최적화(Optimizer) 함수 지정\n",
        "#  - 평가방법(metric) 지정\n",
        "\n",
        "model.compile(\n",
        "    loss='mse',\n",
        "    optimizer='sgd'\n",
        ")"
      ],
      "metadata": {
        "id": "j5hy4NYV5t0P"
      },
      "execution_count": null,
      "outputs": []
    },
    {
      "cell_type": "code",
      "source": [
        "x = x.reshape(-1, 1)"
      ],
      "metadata": {
        "id": "WNP6dCHo6KJ-"
      },
      "execution_count": null,
      "outputs": []
    },
    {
      "cell_type": "code",
      "source": [
        "# 학습(fit)\n",
        "model.fit(\n",
        "    x,\n",
        "    y,\n",
        "    epochs=1200\n",
        ")"
      ],
      "metadata": {
        "id": "y_a18CRd6ae3"
      },
      "execution_count": null,
      "outputs": []
    },
    {
      "cell_type": "code",
      "source": [
        "model.predict([[10]])"
      ],
      "metadata": {
        "colab": {
          "base_uri": "https://localhost:8080/"
        },
        "id": "b4LFgVSt640m",
        "outputId": "725296de-329d-49c5-93af-12fdaec53399"
      },
      "execution_count": null,
      "outputs": [
        {
          "output_type": "execute_result",
          "data": {
            "text/plain": [
              "array([[21.02715]], dtype=float32)"
            ]
          },
          "metadata": {},
          "execution_count": 12
        }
      ]
    },
    {
      "cell_type": "markdown",
      "source": [
        "## 딥러닝으로 붓꽃(iris) 분류하기\n",
        "- feature, target 확인하기"
      ],
      "metadata": {
        "id": "Ma0mMxFb7Qo2"
      }
    },
    {
      "cell_type": "code",
      "source": [
        "from sklearn.datasets import load_iris\n",
        "iris = load_iris()"
      ],
      "metadata": {
        "id": "tXSW-9g3_LSe"
      },
      "execution_count": null,
      "outputs": []
    },
    {
      "cell_type": "markdown",
      "source": [
        "`feature`는 `data` 필드 사용"
      ],
      "metadata": {
        "id": "TD6OJkDO_OIN"
      }
    },
    {
      "cell_type": "code",
      "source": [
        "feature = iris['data']\n",
        "feature.shape"
      ],
      "metadata": {
        "colab": {
          "base_uri": "https://localhost:8080/"
        },
        "id": "YHULkKTe_ccd",
        "outputId": "a78f51bf-4c1e-44a4-bece-faabe669f2c9"
      },
      "execution_count": null,
      "outputs": [
        {
          "output_type": "execute_result",
          "data": {
            "text/plain": [
              "(150, 4)"
            ]
          },
          "metadata": {},
          "execution_count": 16
        }
      ]
    },
    {
      "cell_type": "markdown",
      "source": [
        "`target`은 `target` 필드 사용"
      ],
      "metadata": {
        "id": "lQSsOBLzAJ5s"
      }
    },
    {
      "cell_type": "code",
      "source": [
        "target = iris['target']\n",
        "target.shape"
      ],
      "metadata": {
        "colab": {
          "base_uri": "https://localhost:8080/"
        },
        "id": "cLldVAzK_gW0",
        "outputId": "04f9645f-70be-4bc7-bfac-d0514770d8b5"
      },
      "execution_count": null,
      "outputs": [
        {
          "output_type": "execute_result",
          "data": {
            "text/plain": [
              "(150,)"
            ]
          },
          "metadata": {},
          "execution_count": 18
        }
      ]
    },
    {
      "cell_type": "markdown",
      "source": [
        "`scikit-learn`의 `train_test_split`을 활용"
      ],
      "metadata": {
        "id": "knPUAekFAByd"
      }
    },
    {
      "cell_type": "code",
      "source": [
        "from sklearn.model_selection import train_test_split\n",
        "\n",
        "X_train, X_test, t_train, t_test = train_test_split(\n",
        "    feature, target,\n",
        "    random_state=42,\n",
        "    stratify=target\n",
        ")"
      ],
      "metadata": {
        "id": "kyDuIDoyASLV"
      },
      "execution_count": null,
      "outputs": []
    },
    {
      "cell_type": "code",
      "source": [
        "X_train.shape, X_test.shape"
      ],
      "metadata": {
        "colab": {
          "base_uri": "https://localhost:8080/"
        },
        "id": "qFyV5HKOA7OT",
        "outputId": "65fb27ed-525a-4b2d-8252-73fc732f0b38"
      },
      "execution_count": null,
      "outputs": [
        {
          "output_type": "execute_result",
          "data": {
            "text/plain": [
              "((112, 4), (38, 4))"
            ]
          },
          "metadata": {},
          "execution_count": 20
        }
      ]
    },
    {
      "cell_type": "code",
      "source": [
        "t_train.shape, t_test.shape"
      ],
      "metadata": {
        "colab": {
          "base_uri": "https://localhost:8080/"
        },
        "id": "VvOjUZQTA90b",
        "outputId": "e3373398-a16d-4f0e-f6a5-4ce1bacfb577"
      },
      "execution_count": null,
      "outputs": [
        {
          "output_type": "execute_result",
          "data": {
            "text/plain": [
              "((112,), (38,))"
            ]
          },
          "metadata": {},
          "execution_count": 21
        }
      ]
    },
    {
      "cell_type": "markdown",
      "source": [
        "Fully Connected Layer 모델링"
      ],
      "metadata": {
        "id": "vl9vD4o8BAAS"
      }
    },
    {
      "cell_type": "code",
      "source": [
        "from tensorflow.keras.layers import Dense, Activation, Input\n",
        "from tensorflow.keras.models import Sequential"
      ],
      "metadata": {
        "id": "1rl_OhPfBF9z"
      },
      "execution_count": null,
      "outputs": []
    },
    {
      "cell_type": "code",
      "source": [
        "# 모델 생성\n",
        "model = Sequential([\n",
        "  # 입력층 설정\n",
        "  Input(shape=(4, )), # 입력될 feature의 shape이 (4, )\n",
        "\n",
        "  # 은닉층 설정\n",
        "  Dense(512, activation='relu'),\n",
        "  Dense(256, activation='relu'),\n",
        "  Dense(128, activation='relu'),\n",
        "  Dense(64, activation='relu'),\n",
        "  Dense(32),\n",
        "  Activation(\"relu\"),\n",
        "\n",
        "  # 출력층 설정. 클래스의 개수가 3개니까 출력층의 뉴런 개수도 3개\n",
        "  Dense(3, activation='softmax')\n",
        "])\n",
        "\n",
        "# 모델 요약\n",
        "model.summary()"
      ],
      "metadata": {
        "colab": {
          "base_uri": "https://localhost:8080/"
        },
        "id": "CMrQ8R2MB2ey",
        "outputId": "e94bfd61-6d4a-4801-c2da-18c0beeeca91"
      },
      "execution_count": null,
      "outputs": [
        {
          "output_type": "stream",
          "name": "stdout",
          "text": [
            "Model: \"sequential_1\"\n",
            "_________________________________________________________________\n",
            " Layer (type)                Output Shape              Param #   \n",
            "=================================================================\n",
            " dense_1 (Dense)             (None, 512)               2560      \n",
            "                                                                 \n",
            " dense_2 (Dense)             (None, 256)               131328    \n",
            "                                                                 \n",
            " dense_3 (Dense)             (None, 128)               32896     \n",
            "                                                                 \n",
            " dense_4 (Dense)             (None, 64)                8256      \n",
            "                                                                 \n",
            " dense_5 (Dense)             (None, 32)                2080      \n",
            "                                                                 \n",
            " activation (Activation)     (None, 32)                0         \n",
            "                                                                 \n",
            " dense_6 (Dense)             (None, 3)                 99        \n",
            "                                                                 \n",
            "=================================================================\n",
            "Total params: 177,219\n",
            "Trainable params: 177,219\n",
            "Non-trainable params: 0\n",
            "_________________________________________________________________\n"
          ]
        }
      ]
    },
    {
      "cell_type": "code",
      "source": [
        "# 모델 생성\n",
        "#  - 분류 문제\n",
        "# loss : 레이블이 [0, 1, 2, 2, 1, 2] Ordinal Encoding 형식\n",
        "#   - sparse_categorical_crossentropy\n",
        "# optimizer : adam\n",
        "# metrics : ['acc']\n",
        "model.compile(\n",
        "    loss='sparse_categorical_crossentropy',\n",
        "    optimizer='adam',\n",
        "    metrics=['acc']\n",
        ")"
      ],
      "metadata": {
        "id": "3qkn-r-UExXJ"
      },
      "execution_count": null,
      "outputs": []
    },
    {
      "cell_type": "code",
      "source": [
        "# 훈련\n",
        "model.fit(\n",
        "    X_train,\n",
        "    t_train,\n",
        "    epochs=30,\n",
        "    batch_size=16,\n",
        "    validation_split=0.15 # 훈련 세트에서 사용할 검증 세트의 비율\n",
        ")"
      ],
      "metadata": {
        "colab": {
          "base_uri": "https://localhost:8080/"
        },
        "id": "jBk2a6bmF2H7",
        "outputId": "e152a0e3-5048-4e43-fa29-69efbce658a0"
      },
      "execution_count": null,
      "outputs": [
        {
          "output_type": "stream",
          "name": "stdout",
          "text": [
            "Epoch 1/30\n",
            "6/6 [==============================] - 1s 95ms/step - loss: 1.0223 - acc: 0.3053 - val_loss: 0.9539 - val_acc: 0.5294\n",
            "Epoch 2/30\n",
            "6/6 [==============================] - 0s 20ms/step - loss: 0.7697 - acc: 0.6737 - val_loss: 0.7726 - val_acc: 0.5882\n",
            "Epoch 3/30\n",
            "6/6 [==============================] - 0s 18ms/step - loss: 0.6407 - acc: 0.7368 - val_loss: 0.5242 - val_acc: 0.8824\n",
            "Epoch 4/30\n",
            "6/6 [==============================] - 0s 18ms/step - loss: 0.4893 - acc: 0.8632 - val_loss: 0.6229 - val_acc: 0.5882\n",
            "Epoch 5/30\n",
            "6/6 [==============================] - 0s 18ms/step - loss: 0.3728 - acc: 0.8421 - val_loss: 0.2670 - val_acc: 1.0000\n",
            "Epoch 6/30\n",
            "6/6 [==============================] - 0s 15ms/step - loss: 0.2866 - acc: 0.8842 - val_loss: 0.1803 - val_acc: 1.0000\n",
            "Epoch 7/30\n",
            "6/6 [==============================] - 0s 19ms/step - loss: 0.3117 - acc: 0.8105 - val_loss: 0.6519 - val_acc: 0.5882\n",
            "Epoch 8/30\n",
            "6/6 [==============================] - 0s 18ms/step - loss: 0.2620 - acc: 0.8737 - val_loss: 0.1064 - val_acc: 1.0000\n",
            "Epoch 9/30\n",
            "6/6 [==============================] - 0s 18ms/step - loss: 0.2705 - acc: 0.8316 - val_loss: 0.1258 - val_acc: 0.9412\n",
            "Epoch 10/30\n",
            "6/6 [==============================] - 0s 19ms/step - loss: 0.2248 - acc: 0.8842 - val_loss: 0.2867 - val_acc: 0.8235\n",
            "Epoch 11/30\n",
            "6/6 [==============================] - 0s 17ms/step - loss: 0.1446 - acc: 0.9579 - val_loss: 0.0818 - val_acc: 1.0000\n",
            "Epoch 12/30\n",
            "6/6 [==============================] - 0s 18ms/step - loss: 0.1319 - acc: 0.9579 - val_loss: 0.1310 - val_acc: 0.9412\n",
            "Epoch 13/30\n",
            "6/6 [==============================] - 0s 21ms/step - loss: 0.1299 - acc: 0.9474 - val_loss: 0.1412 - val_acc: 0.9412\n",
            "Epoch 14/30\n",
            "6/6 [==============================] - 0s 18ms/step - loss: 0.1459 - acc: 0.9263 - val_loss: 0.0665 - val_acc: 1.0000\n",
            "Epoch 15/30\n",
            "6/6 [==============================] - 0s 21ms/step - loss: 0.2073 - acc: 0.9368 - val_loss: 0.2660 - val_acc: 0.9412\n",
            "Epoch 16/30\n",
            "6/6 [==============================] - 0s 18ms/step - loss: 0.1414 - acc: 0.9368 - val_loss: 0.0903 - val_acc: 0.9412\n",
            "Epoch 17/30\n",
            "6/6 [==============================] - 0s 19ms/step - loss: 0.1002 - acc: 0.9684 - val_loss: 0.0777 - val_acc: 0.9412\n",
            "Epoch 18/30\n",
            "6/6 [==============================] - 0s 19ms/step - loss: 0.1038 - acc: 0.9474 - val_loss: 0.1587 - val_acc: 0.9412\n",
            "Epoch 19/30\n",
            "6/6 [==============================] - 0s 15ms/step - loss: 0.0904 - acc: 0.9579 - val_loss: 0.0560 - val_acc: 1.0000\n",
            "Epoch 20/30\n",
            "6/6 [==============================] - 0s 19ms/step - loss: 0.1492 - acc: 0.9263 - val_loss: 0.0893 - val_acc: 0.9412\n",
            "Epoch 21/30\n",
            "6/6 [==============================] - 0s 17ms/step - loss: 0.1048 - acc: 0.9474 - val_loss: 0.1938 - val_acc: 0.9412\n",
            "Epoch 22/30\n",
            "6/6 [==============================] - 0s 16ms/step - loss: 0.2098 - acc: 0.9263 - val_loss: 0.0749 - val_acc: 0.9412\n",
            "Epoch 23/30\n",
            "6/6 [==============================] - 0s 23ms/step - loss: 0.1598 - acc: 0.9474 - val_loss: 0.2116 - val_acc: 0.9412\n",
            "Epoch 24/30\n",
            "6/6 [==============================] - 0s 18ms/step - loss: 0.1239 - acc: 0.9579 - val_loss: 0.0805 - val_acc: 0.9412\n",
            "Epoch 25/30\n",
            "6/6 [==============================] - 0s 16ms/step - loss: 0.1007 - acc: 0.9579 - val_loss: 0.1514 - val_acc: 0.9412\n",
            "Epoch 26/30\n",
            "6/6 [==============================] - 0s 14ms/step - loss: 0.0995 - acc: 0.9684 - val_loss: 0.0943 - val_acc: 0.9412\n",
            "Epoch 27/30\n",
            "6/6 [==============================] - 0s 18ms/step - loss: 0.0797 - acc: 0.9895 - val_loss: 0.1121 - val_acc: 0.9412\n",
            "Epoch 28/30\n",
            "6/6 [==============================] - 0s 18ms/step - loss: 0.0970 - acc: 0.9684 - val_loss: 0.0674 - val_acc: 0.9412\n",
            "Epoch 29/30\n",
            "6/6 [==============================] - 0s 17ms/step - loss: 0.0972 - acc: 0.9579 - val_loss: 0.1010 - val_acc: 0.9412\n",
            "Epoch 30/30\n",
            "6/6 [==============================] - 0s 17ms/step - loss: 0.0928 - acc: 0.9684 - val_loss: 0.0900 - val_acc: 0.9412\n"
          ]
        },
        {
          "output_type": "execute_result",
          "data": {
            "text/plain": [
              "<keras.callbacks.History at 0x7f518a336bd0>"
            ]
          },
          "metadata": {},
          "execution_count": 29
        }
      ]
    },
    {
      "cell_type": "code",
      "source": [
        "# 평가 - evaluate\n",
        "#  테스트 데이터를 이용해서 평가\n",
        "model.evaluate(X_test, t_test)"
      ],
      "metadata": {
        "colab": {
          "base_uri": "https://localhost:8080/"
        },
        "id": "5sLzgXebHS7x",
        "outputId": "9d4e2c24-f292-4b6d-c51c-e0aad16aadcf"
      },
      "execution_count": null,
      "outputs": [
        {
          "output_type": "stream",
          "name": "stdout",
          "text": [
            "2/2 [==============================] - 0s 15ms/step - loss: 0.0535 - acc: 1.0000\n"
          ]
        },
        {
          "output_type": "execute_result",
          "data": {
            "text/plain": [
              "[0.0535159669816494, 1.0]"
            ]
          },
          "metadata": {},
          "execution_count": 30
        }
      ]
    },
    {
      "cell_type": "code",
      "source": [
        ""
      ],
      "metadata": {
        "id": "dMQyg_CXI06Y"
      },
      "execution_count": null,
      "outputs": []
    }
  ]
}