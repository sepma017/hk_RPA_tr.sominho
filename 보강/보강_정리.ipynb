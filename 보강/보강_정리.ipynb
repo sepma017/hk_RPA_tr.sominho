{
  "nbformat": 4,
  "nbformat_minor": 0,
  "metadata": {
    "colab": {
      "name": "보강 정리",
      "provenance": [],
      "collapsed_sections": []
    },
    "kernelspec": {
      "name": "python3",
      "display_name": "Python 3"
    },
    "language_info": {
      "name": "python"
    }
  },
  "cells": [
    {
      "cell_type": "markdown",
      "metadata": {
        "id": "F2Rd03ultUzv"
      },
      "source": [
        "# #1. 변수, 자료형, 변수 네이밍"
      ]
    },
    {
      "cell_type": "code",
      "metadata": {
        "id": "pT_wYS7UcaH1"
      },
      "source": [
        ""
      ],
      "execution_count": null,
      "outputs": []
    },
    {
      "cell_type": "markdown",
      "metadata": {
        "id": "7Wn5V9inuQL4"
      },
      "source": [
        "## 변수란?\n",
        "공간! 값을 저장 하기 위한 공간"
      ]
    },
    {
      "cell_type": "code",
      "metadata": {
        "id": "hNwEmgz8uhyi"
      },
      "source": [
        "a = 10"
      ],
      "execution_count": null,
      "outputs": []
    },
    {
      "cell_type": "markdown",
      "metadata": {
        "id": "4zkZAh4fu03W"
      },
      "source": [
        "## 자료형 (Data Type)\n",
        "데이터의 타입. 파이썬에서 사용하는 기본적인 4가지 형식\n",
        "* 정수 ( `int` )\n",
        "  * 3은 정수\n",
        "* 실수 ( `float` )\n",
        "  * 3.0은 실수!\n",
        "* 문자열 ( `str` )\n",
        "  * 문자들을 열거 하면 문자열\n",
        "* 논리 ( `bool` )\n",
        "  * `True` / `False`"
      ]
    },
    {
      "cell_type": "code",
      "metadata": {
        "colab": {
          "base_uri": "https://localhost:8080/"
        },
        "id": "9bbO-h6TwbiI",
        "outputId": "20df447c-3f5b-4e88-a035-68fef40be5a0"
      },
      "source": [
        "a = 1\n",
        "type(a) # 변수에 어떠한 자료형의 데이터가 들어갔는지?"
      ],
      "execution_count": null,
      "outputs": [
        {
          "output_type": "execute_result",
          "data": {
            "text/plain": [
              "int"
            ]
          },
          "metadata": {},
          "execution_count": 92
        }
      ]
    },
    {
      "cell_type": "code",
      "metadata": {
        "colab": {
          "base_uri": "https://localhost:8080/"
        },
        "id": "7Zyyv3QmwtIt",
        "outputId": "2ae05795-b0f4-43dd-febf-87048ee99a65"
      },
      "source": [
        "a = 3.14\n",
        "type(a)"
      ],
      "execution_count": null,
      "outputs": [
        {
          "output_type": "execute_result",
          "data": {
            "text/plain": [
              "float"
            ]
          },
          "metadata": {},
          "execution_count": 93
        }
      ]
    },
    {
      "cell_type": "code",
      "metadata": {
        "colab": {
          "base_uri": "https://localhost:8080/"
        },
        "id": "Yt2714tuwv7g",
        "outputId": "799635a1-f32f-4c55-ea0b-a8d5e10a8521"
      },
      "source": [
        "a = \"Hello~!~!\"\n",
        "type(a)"
      ],
      "execution_count": null,
      "outputs": [
        {
          "output_type": "execute_result",
          "data": {
            "text/plain": [
              "str"
            ]
          },
          "metadata": {},
          "execution_count": 94
        }
      ]
    },
    {
      "cell_type": "code",
      "metadata": {
        "colab": {
          "base_uri": "https://localhost:8080/"
        },
        "id": "26vVBJKIw0gq",
        "outputId": "68879141-f1d2-47ac-f3d6-93c843d91552"
      },
      "source": [
        "a = True\n",
        "type(a)"
      ],
      "execution_count": null,
      "outputs": [
        {
          "output_type": "execute_result",
          "data": {
            "text/plain": [
              "bool"
            ]
          },
          "metadata": {},
          "execution_count": 95
        }
      ]
    },
    {
      "cell_type": "markdown",
      "metadata": {
        "id": "l7uZUxOFyTH-"
      },
      "source": [
        "### None\n",
        "비워져 있는 값"
      ]
    },
    {
      "cell_type": "code",
      "metadata": {
        "id": "byeY-rWpyx7e"
      },
      "source": [
        "tissue = 0 # 휴지걸이에 휴지가 없는거\n",
        "tissue = None # 휴지걸이에 휴지심 조차 없는거"
      ],
      "execution_count": null,
      "outputs": []
    },
    {
      "cell_type": "markdown",
      "metadata": {
        "id": "XHxQQcnuw30X"
      },
      "source": [
        "## 변수 이름 규칙 (variable naming)\n",
        "변수를 만들 때 의미 없이 만드는게 아닌, 의미를 부여하기 위한 방안\n",
        "* `CamelCase`\n",
        "  * `studentName` : 변수, 함수를 만들 때 사용됨  ( 파이썬에서 잘 쓰이진 않음 )\n",
        "  * `PersonName` : 클래스의 이름을 붙여주는 방법 ( 파이썬에서 클래스 만들 때 사용)\n",
        "* `snake_case`\n",
        "  * `student_name` : 변수, 함수를 만들 때 사용됨 ( **파이썬에서 제일 많이** 쓰이는 방법 )"
      ]
    },
    {
      "cell_type": "code",
      "metadata": {
        "id": "KunweGPYxra9"
      },
      "source": [
        "# 돈이라는 변수를 만들 때..\n",
        "a = 10000\n",
        "money = 10000"
      ],
      "execution_count": null,
      "outputs": []
    },
    {
      "cell_type": "code",
      "metadata": {
        "id": "kNTpbDMryBl-"
      },
      "source": [
        "# 학생의 이름 이라는 변수를 만들 때\n",
        "student_name = \"소민호\""
      ],
      "execution_count": null,
      "outputs": []
    },
    {
      "cell_type": "markdown",
      "metadata": {
        "id": "KL-fiJ2J4TS1"
      },
      "source": [
        "## 잘못된 변수명( 에러 )\n",
        "* 특수 문자가 있는 경우 오류\n",
        "  * `^a$$ = 10`, `**a^ = 10` : 오류\n",
        "  * 단, 언더바(`_`)는 사용 가능\n",
        "* 숫자가 제일 앞에 오는 경우 에러\n",
        "  * `1a = 3` : 오류"
      ]
    },
    {
      "cell_type": "markdown",
      "metadata": {
        "id": "gI8xFlPW4YP9"
      },
      "source": [
        "### 사용하면 안되는 변수의 이름\n",
        "* reserved keywords (예약어)\n",
        "  * 파이썬에서 미리 선점하여 사용중인 키워드\n",
        "  * 변수, 함수, 클래스 등등의 **사용자 정의 이름**으로 사용이 불가\n",
        "  \n",
        "```python\n",
        "# 절대 외우지 마세요!!!\n",
        "#  문법적인 키워드\n",
        "for\n",
        "while \n",
        "if\n",
        "elif \n",
        "else \n",
        "class\n",
        "try\n",
        "except\n",
        "```"
      ]
    },
    {
      "cell_type": "markdown",
      "metadata": {
        "id": "RifWhLhv5tzT"
      },
      "source": [
        "# #2. 문자열(`str`)\n",
        "문자(`character`)들이 순서대로 열거 되어있으면 문자열(`str`)\n",
        "\n",
        "* 열거가 되어있다 : 연속되어 있다. 순서가 있다.\n",
        "  * Sequence라고 한다!\n",
        "* 여러 개의 문자를 순서대로 나열한 것\n",
        "* 순서가 있다라는 이야기 - **순번**이 있다"
      ]
    },
    {
      "cell_type": "code",
      "metadata": {
        "id": "SyE6L44T3_x3",
        "colab": {
          "base_uri": "https://localhost:8080/"
        },
        "outputId": "8a6c4173-1e27-49cb-b251-5914e1be8273"
      },
      "source": [
        "# 문자열은 작은 따옴표 (') 또는 큰 따옴표(\"\") 사이에 작성\n",
        "my_name1 = \"minho1\"\n",
        "my_name2 = 'minho2'\n",
        "\n",
        "print(my_name1, my_name2)"
      ],
      "execution_count": null,
      "outputs": [
        {
          "output_type": "stream",
          "name": "stdout",
          "text": [
            "minho1 minho2\n"
          ]
        }
      ]
    },
    {
      "cell_type": "markdown",
      "metadata": {
        "id": "LzkB29NA7uVK"
      },
      "source": [
        "I'm Student를 출력하려면?"
      ]
    },
    {
      "cell_type": "code",
      "metadata": {
        "colab": {
          "base_uri": "https://localhost:8080/"
        },
        "id": "z1BLgKmH79xI",
        "outputId": "e4229486-f06a-4bf0-9d5e-0bef4b793ef6"
      },
      "source": [
        "text = \"I'm Student\"\n",
        "print(text)"
      ],
      "execution_count": null,
      "outputs": [
        {
          "output_type": "stream",
          "name": "stdout",
          "text": [
            "I'm Student\n"
          ]
        }
      ]
    },
    {
      "cell_type": "markdown",
      "metadata": {
        "id": "0WaWu6Xa8CFg"
      },
      "source": [
        "나는 말했다. \"안녕하세요\""
      ]
    },
    {
      "cell_type": "code",
      "metadata": {
        "colab": {
          "base_uri": "https://localhost:8080/"
        },
        "id": "0GSAXD128Nax",
        "outputId": "728ef6a6-eae5-4a91-858e-9bf80d45d58a"
      },
      "source": [
        "text = '나는 말했다. \"안녕하세요\"'\n",
        "print(text)"
      ],
      "execution_count": null,
      "outputs": [
        {
          "output_type": "stream",
          "name": "stdout",
          "text": [
            "나는 말했다. \"안녕하세요\"\n"
          ]
        }
      ]
    },
    {
      "cell_type": "markdown",
      "metadata": {
        "id": "z2oi9DZD8QOf"
      },
      "source": [
        "## 이스케이프 문자\n",
        "따옴표를 표현하기 위해서 `escape character(\\)`사용이 가능\n",
        "\n",
        "* `\\n` : 줄바꿈\t개행문자(캐리지 리턴)\n",
        "* `\\t` : 탭( 8칸을 띄워준다. )\n",
        "* `\\'` : 작은 따옴표 표현\n",
        "* `\\\"` : 큰 따옴표 표현\n"
      ]
    },
    {
      "cell_type": "code",
      "metadata": {
        "colab": {
          "base_uri": "https://localhost:8080/"
        },
        "id": "KfOxYcFt8bYm",
        "outputId": "61ddc532-c5f1-44a0-9cc7-674254fc0c5e"
      },
      "source": [
        "# I'm Student\n",
        "text = 'I\\'m Student'\n",
        "print(text)"
      ],
      "execution_count": null,
      "outputs": [
        {
          "output_type": "stream",
          "name": "stdout",
          "text": [
            "I'm Student\n"
          ]
        }
      ]
    },
    {
      "cell_type": "code",
      "metadata": {
        "colab": {
          "base_uri": "https://localhost:8080/"
        },
        "id": "b0tTQd-W9Ypl",
        "outputId": "543b49e2-a888-48f1-eb05-de95cd5546db"
      },
      "source": [
        "# I said. \"I'm Student\"\n",
        "text = \"I said. \\\"I'm Student\\\"\"\n",
        "print(text)"
      ],
      "execution_count": null,
      "outputs": [
        {
          "output_type": "stream",
          "name": "stdout",
          "text": [
            "I said. \"I'm Student\"\n"
          ]
        }
      ]
    },
    {
      "cell_type": "code",
      "metadata": {
        "colab": {
          "base_uri": "https://localhost:8080/"
        },
        "id": "viI1C6S19q0c",
        "outputId": "1481ea59-ae6b-4127-c0fc-8bf28a6f30c5"
      },
      "source": [
        "text = '''I said. \"I'm Student\"'''\n",
        "print(text)"
      ],
      "execution_count": null,
      "outputs": [
        {
          "output_type": "stream",
          "name": "stdout",
          "text": [
            "I said. \"I'm Student\"\n"
          ]
        }
      ]
    },
    {
      "cell_type": "markdown",
      "metadata": {
        "id": "THazv6nk-JM0"
      },
      "source": [
        "## 문자열 다루기\n",
        "* 문자열은 문자가 순서대로 있기 때문에 순서가 있다.\n",
        "  * 순번이 있다! - **offset index**"
      ]
    },
    {
      "cell_type": "markdown",
      "metadata": {
        "id": "73O9AH-B-qG8"
      },
      "source": [
        "### Offset Index\n",
        "* 시퀀스 원소의 **순번(위치)**을 의미한다.\n",
        "* 양수 인덱스 : 0부터 시작하며, 왼쪽에서 오른쪽으로 1씩 증가\n",
        "* 음수 인덱스 : -1부터 시작하며, 오른쪽에서 왼쪽으로 1씩 감소\n",
        "* Offset Index는 무조건 **정수**"
      ]
    },
    {
      "cell_type": "code",
      "metadata": {
        "colab": {
          "base_uri": "https://localhost:8080/"
        },
        "id": "nV4Lk2Oz-7bg",
        "outputId": "c13fbbf7-d35d-4b54-ca95-c306f545b669"
      },
      "source": [
        "text = \"Hello\"\n",
        "print(text)"
      ],
      "execution_count": null,
      "outputs": [
        {
          "output_type": "stream",
          "name": "stdout",
          "text": [
            "Hello\n"
          ]
        }
      ]
    },
    {
      "cell_type": "code",
      "metadata": {
        "colab": {
          "base_uri": "https://localhost:8080/",
          "height": 35
        },
        "id": "a-vfUZRA_aIZ",
        "outputId": "b44bc6ea-a312-408c-9f26-f73c2a6141e4"
      },
      "source": [
        "text[4] # Offset Index 0번을 선택"
      ],
      "execution_count": null,
      "outputs": [
        {
          "output_type": "execute_result",
          "data": {
            "application/vnd.google.colaboratory.intrinsic+json": {
              "type": "string"
            },
            "text/plain": [
              "'o'"
            ]
          },
          "metadata": {},
          "execution_count": 106
        }
      ]
    },
    {
      "cell_type": "code",
      "metadata": {
        "colab": {
          "base_uri": "https://localhost:8080/",
          "height": 35
        },
        "id": "_70GhVGdE8Dx",
        "outputId": "be6378c5-2363-41d4-bb29-66e8b8f9d52e"
      },
      "source": [
        "text[-4]"
      ],
      "execution_count": null,
      "outputs": [
        {
          "output_type": "execute_result",
          "data": {
            "application/vnd.google.colaboratory.intrinsic+json": {
              "type": "string"
            },
            "text/plain": [
              "'e'"
            ]
          },
          "metadata": {},
          "execution_count": 107
        }
      ]
    },
    {
      "cell_type": "markdown",
      "metadata": {
        "id": "KPS0UqRGFSXz"
      },
      "source": [
        "## 슬라이싱(slicing) ★★★★★\n",
        "* 인덱스를 사용해서 시퀀스를 **잘라낸다**\n",
        "* 잘라서 새로운 시퀀스를 만들어 낸다.\n",
        "* `[start : end : step]`"
      ]
    },
    {
      "cell_type": "code",
      "metadata": {
        "colab": {
          "base_uri": "https://localhost:8080/"
        },
        "id": "G_wiDz1HFgeJ",
        "outputId": "affdc4b9-9615-46f3-f761-5a24c573286f"
      },
      "source": [
        "text=\"ABCDEFGHIJ\"\n",
        "print(text)"
      ],
      "execution_count": null,
      "outputs": [
        {
          "output_type": "stream",
          "name": "stdout",
          "text": [
            "ABCDEFGHIJ\n"
          ]
        }
      ]
    },
    {
      "cell_type": "markdown",
      "metadata": {
        "id": "wJQp4sMyGeXs"
      },
      "source": [
        "`[start : end]`로 입력 하지만 실제로는 \n",
        "* 양수 `step`을 사용하면 `end-1` 까지만 추출한다.\n",
        "* 음수 `step`을 사용하면 `end+1` 까지만 추출한다."
      ]
    },
    {
      "cell_type": "code",
      "metadata": {
        "colab": {
          "base_uri": "https://localhost:8080/",
          "height": 35
        },
        "id": "l93UcN9pG6kr",
        "outputId": "1df34c5d-33d0-406d-ea03-41a704f89ce3"
      },
      "source": [
        "text[3 : 8] # DEFGH"
      ],
      "execution_count": null,
      "outputs": [
        {
          "output_type": "execute_result",
          "data": {
            "application/vnd.google.colaboratory.intrinsic+json": {
              "type": "string"
            },
            "text/plain": [
              "'DEFGH'"
            ]
          },
          "metadata": {},
          "execution_count": 109
        }
      ]
    },
    {
      "cell_type": "code",
      "metadata": {
        "colab": {
          "base_uri": "https://localhost:8080/",
          "height": 35
        },
        "id": "m2VbnQyvHSFz",
        "outputId": "fc4daf4b-67e8-4bd5-846a-6558a7c6afbe"
      },
      "source": [
        "# start를 생략하면 자동으로 0으로 세팅\n",
        "# end를 생각하면 문자열의 길이로 세팅 - 문자열에 있는 문자의 개수\n",
        "text[ : ] # 전체 문자열"
      ],
      "execution_count": null,
      "outputs": [
        {
          "output_type": "execute_result",
          "data": {
            "application/vnd.google.colaboratory.intrinsic+json": {
              "type": "string"
            },
            "text/plain": [
              "'ABCDEFGHIJ'"
            ]
          },
          "metadata": {},
          "execution_count": 110
        }
      ]
    },
    {
      "cell_type": "code",
      "metadata": {
        "colab": {
          "base_uri": "https://localhost:8080/",
          "height": 35
        },
        "id": "TzIZdSjdHe_0",
        "outputId": "c48a915b-09b8-4d3d-ebd4-77ea5e72bf6f"
      },
      "source": [
        "text[-10 : -5] # "
      ],
      "execution_count": null,
      "outputs": [
        {
          "output_type": "execute_result",
          "data": {
            "application/vnd.google.colaboratory.intrinsic+json": {
              "type": "string"
            },
            "text/plain": [
              "'ABCDE'"
            ]
          },
          "metadata": {},
          "execution_count": 111
        }
      ]
    },
    {
      "cell_type": "markdown",
      "metadata": {
        "id": "BD4aR3qSIF2L"
      },
      "source": [
        "`step`은 생략하면 기본으로 `1`이 들어가 있는 상태"
      ]
    },
    {
      "cell_type": "code",
      "metadata": {
        "colab": {
          "base_uri": "https://localhost:8080/",
          "height": 35
        },
        "id": "L46juArFIb6d",
        "outputId": "41f5c2e5-f2c3-4500-e886-91bf193d11c4"
      },
      "source": [
        "text[3:8:2]"
      ],
      "execution_count": null,
      "outputs": [
        {
          "output_type": "execute_result",
          "data": {
            "application/vnd.google.colaboratory.intrinsic+json": {
              "type": "string"
            },
            "text/plain": [
              "'DFH'"
            ]
          },
          "metadata": {},
          "execution_count": 112
        }
      ]
    },
    {
      "cell_type": "markdown",
      "metadata": {
        "id": "hSsERUGNIuxH"
      },
      "source": [
        "음수 `step`을 사용하면 방향이 역방향으로 바뀐다"
      ]
    },
    {
      "cell_type": "code",
      "metadata": {
        "colab": {
          "base_uri": "https://localhost:8080/",
          "height": 35
        },
        "id": "KMntt_VOJTfW",
        "outputId": "4873468d-81cb-48b0-ea0d-0a35f359520b"
      },
      "source": [
        "text[-4:-7:-1]"
      ],
      "execution_count": null,
      "outputs": [
        {
          "output_type": "execute_result",
          "data": {
            "application/vnd.google.colaboratory.intrinsic+json": {
              "type": "string"
            },
            "text/plain": [
              "'GFE'"
            ]
          },
          "metadata": {},
          "execution_count": 113
        }
      ]
    },
    {
      "cell_type": "code",
      "metadata": {
        "colab": {
          "base_uri": "https://localhost:8080/",
          "height": 35
        },
        "id": "TJPJQGrOJXd_",
        "outputId": "f4273c73-553c-4a08-cb84-cee0e3eebf55"
      },
      "source": [
        "text[6:3:-1]"
      ],
      "execution_count": null,
      "outputs": [
        {
          "output_type": "execute_result",
          "data": {
            "application/vnd.google.colaboratory.intrinsic+json": {
              "type": "string"
            },
            "text/plain": [
              "'GFE'"
            ]
          },
          "metadata": {},
          "execution_count": 114
        }
      ]
    },
    {
      "cell_type": "markdown",
      "metadata": {
        "id": "KmA9FZUuiE5K"
      },
      "source": [
        "## 문자열 함수\n",
        "* 문자열은 여러 기능 제공을 위한 함수가 내장 되어 있다."
      ]
    },
    {
      "cell_type": "code",
      "metadata": {
        "id": "CXqSsrQS3nLk"
      },
      "source": [
        "text1 = \"hello\"\n",
        "text2 = \"world\""
      ],
      "execution_count": null,
      "outputs": []
    },
    {
      "cell_type": "markdown",
      "metadata": {
        "id": "e6BiWtAr43du"
      },
      "source": [
        "### 문자열 이어 붙이기"
      ]
    },
    {
      "cell_type": "code",
      "metadata": {
        "colab": {
          "base_uri": "https://localhost:8080/",
          "height": 35
        },
        "id": "DLrqieAT4-GP",
        "outputId": "8c828e44-244b-44a2-cd54-687920cf01c7"
      },
      "source": [
        "text1 + text2"
      ],
      "execution_count": null,
      "outputs": [
        {
          "output_type": "execute_result",
          "data": {
            "application/vnd.google.colaboratory.intrinsic+json": {
              "type": "string"
            },
            "text/plain": [
              "'helloworld'"
            ]
          },
          "metadata": {},
          "execution_count": 116
        }
      ]
    },
    {
      "cell_type": "markdown",
      "metadata": {
        "id": "n7YttqQ15DZ0"
      },
      "source": [
        "문자열 끼리만 이어 붙일 수 있다."
      ]
    },
    {
      "cell_type": "code",
      "metadata": {
        "colab": {
          "base_uri": "https://localhost:8080/",
          "height": 171
        },
        "id": "T_aOhwXg5Jjk",
        "outputId": "af7471ba-04b4-469e-d91e-af2060635eb2"
      },
      "source": [
        "text1 + 10"
      ],
      "execution_count": null,
      "outputs": [
        {
          "output_type": "error",
          "ename": "TypeError",
          "evalue": "ignored",
          "traceback": [
            "\u001b[0;31m---------------------------------------------------------------------------\u001b[0m",
            "\u001b[0;31mTypeError\u001b[0m                                 Traceback (most recent call last)",
            "\u001b[0;32m<ipython-input-117-6f9a2725a7e6>\u001b[0m in \u001b[0;36m<module>\u001b[0;34m()\u001b[0m\n\u001b[0;32m----> 1\u001b[0;31m \u001b[0mtext1\u001b[0m \u001b[0;34m+\u001b[0m \u001b[0;36m10\u001b[0m\u001b[0;34m\u001b[0m\u001b[0;34m\u001b[0m\u001b[0m\n\u001b[0m",
            "\u001b[0;31mTypeError\u001b[0m: can only concatenate str (not \"int\") to str"
          ]
        }
      ]
    },
    {
      "cell_type": "code",
      "metadata": {
        "colab": {
          "base_uri": "https://localhost:8080/",
          "height": 35
        },
        "id": "45dEB6vV5Qoc",
        "outputId": "bd961c7b-b37b-41c1-a5c6-602ad164fdbf"
      },
      "source": [
        "text1 + str(10)"
      ],
      "execution_count": null,
      "outputs": [
        {
          "output_type": "execute_result",
          "data": {
            "application/vnd.google.colaboratory.intrinsic+json": {
              "type": "string"
            },
            "text/plain": [
              "'hello10'"
            ]
          },
          "metadata": {},
          "execution_count": 118
        }
      ]
    },
    {
      "cell_type": "markdown",
      "metadata": {
        "id": "x2NMofn65s9G"
      },
      "source": [
        "### 문자열 반복하기"
      ]
    },
    {
      "cell_type": "code",
      "metadata": {
        "colab": {
          "base_uri": "https://localhost:8080/",
          "height": 35
        },
        "id": "DyQSPnz35yxe",
        "outputId": "95c0560b-baf4-4eb1-dd29-a351a3a823c1"
      },
      "source": [
        "text1 * 10"
      ],
      "execution_count": null,
      "outputs": [
        {
          "output_type": "execute_result",
          "data": {
            "application/vnd.google.colaboratory.intrinsic+json": {
              "type": "string"
            },
            "text/plain": [
              "'hellohellohellohellohellohellohellohellohellohello'"
            ]
          },
          "metadata": {},
          "execution_count": 119
        }
      ]
    },
    {
      "cell_type": "code",
      "metadata": {
        "colab": {
          "base_uri": "https://localhost:8080/",
          "height": 171
        },
        "id": "f96waKRD55nU",
        "outputId": "4595f131-b701-423f-f994-149614e72250"
      },
      "source": [
        "text1 * 0.8"
      ],
      "execution_count": null,
      "outputs": [
        {
          "output_type": "error",
          "ename": "TypeError",
          "evalue": "ignored",
          "traceback": [
            "\u001b[0;31m---------------------------------------------------------------------------\u001b[0m",
            "\u001b[0;31mTypeError\u001b[0m                                 Traceback (most recent call last)",
            "\u001b[0;32m<ipython-input-120-18eaf8e8cac9>\u001b[0m in \u001b[0;36m<module>\u001b[0;34m()\u001b[0m\n\u001b[0;32m----> 1\u001b[0;31m \u001b[0mtext1\u001b[0m \u001b[0;34m*\u001b[0m \u001b[0;36m0.8\u001b[0m\u001b[0;34m\u001b[0m\u001b[0;34m\u001b[0m\u001b[0m\n\u001b[0m",
            "\u001b[0;31mTypeError\u001b[0m: can't multiply sequence by non-int of type 'float'"
          ]
        }
      ]
    },
    {
      "cell_type": "code",
      "metadata": {
        "colab": {
          "base_uri": "https://localhost:8080/",
          "height": 35
        },
        "id": "Eor-6D0N5_nc",
        "outputId": "5d0c4d82-faf7-46b9-a635-4e672265204d"
      },
      "source": [
        "text1 * 0"
      ],
      "execution_count": null,
      "outputs": [
        {
          "output_type": "execute_result",
          "data": {
            "application/vnd.google.colaboratory.intrinsic+json": {
              "type": "string"
            },
            "text/plain": [
              "''"
            ]
          },
          "metadata": {},
          "execution_count": 121
        }
      ]
    },
    {
      "cell_type": "markdown",
      "metadata": {
        "id": "5PS0fQ4w6DrU"
      },
      "source": [
        "### 대 소문자화 하기★"
      ]
    },
    {
      "cell_type": "code",
      "metadata": {
        "colab": {
          "base_uri": "https://localhost:8080/",
          "height": 35
        },
        "id": "5CmmYHHf6OtG",
        "outputId": "93636f9a-b2f3-4278-fdba-11808ad76dfc"
      },
      "source": [
        "# 모든 문자를 대문자로 만들기 - upper()\n",
        "text2.upper()"
      ],
      "execution_count": null,
      "outputs": [
        {
          "output_type": "execute_result",
          "data": {
            "application/vnd.google.colaboratory.intrinsic+json": {
              "type": "string"
            },
            "text/plain": [
              "'WORLD'"
            ]
          },
          "metadata": {},
          "execution_count": 122
        }
      ]
    },
    {
      "cell_type": "code",
      "metadata": {
        "colab": {
          "base_uri": "https://localhost:8080/",
          "height": 35
        },
        "id": "17BEdJiq6bn8",
        "outputId": "2835312b-c13c-45e1-802f-3a61144dc477"
      },
      "source": [
        "# 모든 문자를 소문자로 만들기 - lower()\n",
        "text3 = \"HELLO!!!\"\n",
        "text3.lower()"
      ],
      "execution_count": null,
      "outputs": [
        {
          "output_type": "execute_result",
          "data": {
            "application/vnd.google.colaboratory.intrinsic+json": {
              "type": "string"
            },
            "text/plain": [
              "'hello!!!'"
            ]
          },
          "metadata": {},
          "execution_count": 123
        }
      ]
    },
    {
      "cell_type": "markdown",
      "metadata": {
        "id": "pYjdjreV6umu"
      },
      "source": [
        "### 문자열 치환★★★\n",
        "치환 : a를 b로 바꾸는 것(`replace`)"
      ]
    },
    {
      "cell_type": "code",
      "metadata": {
        "colab": {
          "base_uri": "https://localhost:8080/",
          "height": 35
        },
        "id": "Zi0ax3kl70ZO",
        "outputId": "fb06004a-541d-4f17-814a-1e736d482ce1"
      },
      "source": [
        "# 치환 - replace()\n",
        "\n",
        "text = \"Hello World!\"\n",
        "text.replace(\"H\", \"j\")"
      ],
      "execution_count": null,
      "outputs": [
        {
          "output_type": "execute_result",
          "data": {
            "application/vnd.google.colaboratory.intrinsic+json": {
              "type": "string"
            },
            "text/plain": [
              "'jello World!'"
            ]
          },
          "metadata": {},
          "execution_count": 124
        }
      ]
    },
    {
      "cell_type": "code",
      "metadata": {
        "colab": {
          "base_uri": "https://localhost:8080/",
          "height": 35
        },
        "id": "Bpo3aWrU8L2t",
        "outputId": "4a3102bd-4fda-4efa-df2f-def7cb5fdef8"
      },
      "source": [
        "text.replace(\"He\", \"Bye\")"
      ],
      "execution_count": null,
      "outputs": [
        {
          "output_type": "execute_result",
          "data": {
            "application/vnd.google.colaboratory.intrinsic+json": {
              "type": "string"
            },
            "text/plain": [
              "'Byello World!'"
            ]
          },
          "metadata": {},
          "execution_count": 125
        }
      ]
    },
    {
      "cell_type": "code",
      "metadata": {
        "colab": {
          "base_uri": "https://localhost:8080/",
          "height": 35
        },
        "id": "IKfDnLUW8Xhs",
        "outputId": "f5b9e15e-86b2-4d6b-b8ec-9e0b3dcf1759"
      },
      "source": [
        "text.replace(\"o\", \"a\")"
      ],
      "execution_count": null,
      "outputs": [
        {
          "output_type": "execute_result",
          "data": {
            "application/vnd.google.colaboratory.intrinsic+json": {
              "type": "string"
            },
            "text/plain": [
              "'Hella Warld!'"
            ]
          },
          "metadata": {},
          "execution_count": 126
        }
      ]
    },
    {
      "cell_type": "markdown",
      "metadata": {
        "id": "3nB-6gej8hXk"
      },
      "source": [
        "### 문자열 포매팅★★★★★\n",
        "문자열 내의 **특정한 값**을 **변수로**부터 초기화하여 동적으로 문자열을 생성 "
      ]
    },
    {
      "cell_type": "code",
      "metadata": {
        "colab": {
          "base_uri": "https://localhost:8080/",
          "height": 35
        },
        "id": "3ATNSMbq8rZO",
        "outputId": "52f3d3e2-91a8-43f6-9bc4-7db6ad0affc5"
      },
      "source": [
        "name = \"ㅋㅋㅋㅋ\"\n",
        "height = 185\n",
        "\n",
        "# text = \"제 이름은 소민호 구요, 키는180이 에요\" # 정적 텍스트(static text)\n",
        "text = \"제 이름은 \" + name + \"구요, 키는\" + str(height) + \"이에요\"\n",
        "text"
      ],
      "execution_count": null,
      "outputs": [
        {
          "output_type": "execute_result",
          "data": {
            "application/vnd.google.colaboratory.intrinsic+json": {
              "type": "string"
            },
            "text/plain": [
              "'제 이름은 ㅋㅋㅋㅋ구요, 키는185이에요'"
            ]
          },
          "metadata": {},
          "execution_count": 127
        }
      ]
    },
    {
      "cell_type": "code",
      "metadata": {
        "colab": {
          "base_uri": "https://localhost:8080/",
          "height": 35
        },
        "id": "Oud4-MXt_Mam",
        "outputId": "7c7eb40b-623f-46b2-ed08-b54b65b99ce1"
      },
      "source": [
        "# 문자열 포매팅 :  문자열의 형식(format)을 미리 지정해놓고, 필요할 때만 특정 부분만 바꿔주는 것\n",
        "text = \"제 이름은 {}구요, 키는 {}이에요\"\n",
        "text"
      ],
      "execution_count": null,
      "outputs": [
        {
          "output_type": "execute_result",
          "data": {
            "application/vnd.google.colaboratory.intrinsic+json": {
              "type": "string"
            },
            "text/plain": [
              "'제 이름은 {}구요, 키는 {}이에요'"
            ]
          },
          "metadata": {},
          "execution_count": 128
        }
      ]
    },
    {
      "cell_type": "code",
      "metadata": {
        "colab": {
          "base_uri": "https://localhost:8080/",
          "height": 35
        },
        "id": "thj8wPj4__JO",
        "outputId": "87a747fc-c79a-41b0-f4d6-353136196218"
      },
      "source": [
        "name = \"김땡땡\"\n",
        "height = 165.15165\n",
        "\n",
        "\"제 이름은 {}구요, 키는 {}이에요\".format(name, height)"
      ],
      "execution_count": null,
      "outputs": [
        {
          "output_type": "execute_result",
          "data": {
            "application/vnd.google.colaboratory.intrinsic+json": {
              "type": "string"
            },
            "text/plain": [
              "'제 이름은 김땡땡구요, 키는 165.15165이에요'"
            ]
          },
          "metadata": {},
          "execution_count": 129
        }
      ]
    },
    {
      "cell_type": "code",
      "metadata": {
        "colab": {
          "base_uri": "https://localhost:8080/",
          "height": 35
        },
        "id": "EadtLLkuAWZU",
        "outputId": "bf92b17a-ad30-46b1-82e9-57cf064a911c"
      },
      "source": [
        "text = f\"제 이름은 {name}구요, 키는 {height}이에요\"\n",
        "text"
      ],
      "execution_count": null,
      "outputs": [
        {
          "output_type": "execute_result",
          "data": {
            "application/vnd.google.colaboratory.intrinsic+json": {
              "type": "string"
            },
            "text/plain": [
              "'제 이름은 김땡땡구요, 키는 165.15165이에요'"
            ]
          },
          "metadata": {},
          "execution_count": 130
        }
      ]
    },
    {
      "cell_type": "markdown",
      "metadata": {
        "id": "kYohWQN2A2-M"
      },
      "source": [
        "### 문자열 분리하기 ★★★★★\n",
        "* slice : 특정 부분을 인덱스를 사용해 **잘라내기**\n",
        "* split : 특정한 구분자를 이용해서 문자열을 분리"
      ]
    },
    {
      "cell_type": "code",
      "metadata": {
        "colab": {
          "base_uri": "https://localhost:8080/"
        },
        "id": "GKnfwnhIEmiA",
        "outputId": "535722f6-e0a9-48c4-b94b-0c9fd2281860"
      },
      "source": [
        "text = \"오늘 비가 너무 많이 오네요\"\n",
        "text.split(\" \") # 공백 문자를 기준으로 분리하기"
      ],
      "execution_count": null,
      "outputs": [
        {
          "output_type": "execute_result",
          "data": {
            "text/plain": [
              "['오늘', '비가', '너무', '많이', '오네요']"
            ]
          },
          "metadata": {},
          "execution_count": 131
        }
      ]
    },
    {
      "cell_type": "code",
      "metadata": {
        "colab": {
          "base_uri": "https://localhost:8080/"
        },
        "id": "ppSXWBwcE7XF",
        "outputId": "3b3d663f-6dbe-48b1-d6f5-f8a33dd95578"
      },
      "source": [
        "text = \"#8시간#하루종일#파이썬#하고있음#빡셈\"\n",
        "result = text.split(\"#\")\n",
        "result"
      ],
      "execution_count": null,
      "outputs": [
        {
          "output_type": "execute_result",
          "data": {
            "text/plain": [
              "['', '8시간', '하루종일', '파이썬', '하고있음', '빡셈']"
            ]
          },
          "metadata": {},
          "execution_count": 132
        }
      ]
    },
    {
      "cell_type": "code",
      "metadata": {
        "colab": {
          "base_uri": "https://localhost:8080/",
          "height": 35
        },
        "id": "8-fr5p9TFPk9",
        "outputId": "ae4709d7-c8e5-48ff-918a-d276a4d8530e"
      },
      "source": [
        "result[1]"
      ],
      "execution_count": null,
      "outputs": [
        {
          "output_type": "execute_result",
          "data": {
            "application/vnd.google.colaboratory.intrinsic+json": {
              "type": "string"
            },
            "text/plain": [
              "'8시간'"
            ]
          },
          "metadata": {},
          "execution_count": 133
        }
      ]
    },
    {
      "cell_type": "code",
      "metadata": {
        "colab": {
          "base_uri": "https://localhost:8080/"
        },
        "id": "xTWRrmyjFplN",
        "outputId": "1b4ba86c-9cbf-4d0a-98ed-98730696dc87"
      },
      "source": [
        "result[1:]"
      ],
      "execution_count": null,
      "outputs": [
        {
          "output_type": "execute_result",
          "data": {
            "text/plain": [
              "['8시간', '하루종일', '파이썬', '하고있음', '빡셈']"
            ]
          },
          "metadata": {},
          "execution_count": 134
        }
      ]
    },
    {
      "cell_type": "code",
      "metadata": {
        "colab": {
          "base_uri": "https://localhost:8080/"
        },
        "id": "Dfc6xQHLFwTk",
        "outputId": "b886fde3-db63-4aa1-9b64-be4101119a49"
      },
      "source": [
        "text = \"느그    서장     남천동         살제\"\n",
        "# text.split(\" \")\n",
        "text.split()"
      ],
      "execution_count": null,
      "outputs": [
        {
          "output_type": "execute_result",
          "data": {
            "text/plain": [
              "['느그', '서장', '남천동', '살제']"
            ]
          },
          "metadata": {},
          "execution_count": 135
        }
      ]
    },
    {
      "cell_type": "markdown",
      "metadata": {
        "id": "cnslObmzGXDE"
      },
      "source": [
        "### 문자열 합치기\n",
        "* split과 반대 개념"
      ]
    },
    {
      "cell_type": "code",
      "metadata": {
        "colab": {
          "base_uri": "https://localhost:8080/"
        },
        "id": "4sNixp6JG9dV",
        "outputId": "31dd4328-f9f5-46ba-e863-1243ca9a0da4"
      },
      "source": [
        "result = text.split()\n",
        "result"
      ],
      "execution_count": null,
      "outputs": [
        {
          "output_type": "execute_result",
          "data": {
            "text/plain": [
              "['느그', '서장', '남천동', '살제']"
            ]
          },
          "metadata": {},
          "execution_count": 136
        }
      ]
    },
    {
      "cell_type": "code",
      "metadata": {
        "colab": {
          "base_uri": "https://localhost:8080/",
          "height": 35
        },
        "id": "d5EmSzcbHGWd",
        "outputId": "576a9299-bcba-4d80-cf5f-2a3981e46180"
      },
      "source": [
        "# join() : 특정한 문자열을 기준으로 리스트 내에 있는 문자열들을 합쳐준다.\n",
        "\"#\".join(result)"
      ],
      "execution_count": null,
      "outputs": [
        {
          "output_type": "execute_result",
          "data": {
            "application/vnd.google.colaboratory.intrinsic+json": {
              "type": "string"
            },
            "text/plain": [
              "'느그#서장#남천동#살제'"
            ]
          },
          "metadata": {},
          "execution_count": 137
        }
      ]
    },
    {
      "cell_type": "code",
      "metadata": {
        "colab": {
          "base_uri": "https://localhost:8080/",
          "height": 35
        },
        "id": "7sHQpzeBHXK9",
        "outputId": "141be705-1a4f-41f3-99d0-7a7bfe9cf865"
      },
      "source": [
        "\"😊\".join(result)"
      ],
      "execution_count": null,
      "outputs": [
        {
          "output_type": "execute_result",
          "data": {
            "application/vnd.google.colaboratory.intrinsic+json": {
              "type": "string"
            },
            "text/plain": [
              "'느그😊서장😊남천동😊살제'"
            ]
          },
          "metadata": {},
          "execution_count": 138
        }
      ]
    },
    {
      "cell_type": "markdown",
      "metadata": {
        "id": "S2GIaX47glUU"
      },
      "source": [
        "## 문자열 형 변환 (Type Casting)과 Parsing\n"
      ]
    },
    {
      "cell_type": "markdown",
      "metadata": {
        "id": "0yC7SbA_gvrq"
      },
      "source": [
        "### Type Casting\n",
        "데이터 타입을 변경 하는 작업"
      ]
    },
    {
      "cell_type": "code",
      "metadata": {
        "colab": {
          "base_uri": "https://localhost:8080/"
        },
        "id": "pvsDNBLOgz-S",
        "outputId": "2f9d05e8-3a8e-45d6-94ef-b672398bab5c"
      },
      "source": [
        "int_a = 10 # 정수\n",
        "float_b = 10.3 # 실수\n",
        "\n",
        "casting_a = float(int_a) # 정수를 실수로 바꿈\n",
        "print(casting_a, type(casting_a))\n",
        "\n",
        "casting_b = int(float_b) # 실수를 정수로 바꿈\n",
        "print(casting_b, type(casting_b))"
      ],
      "execution_count": null,
      "outputs": [
        {
          "output_type": "stream",
          "name": "stdout",
          "text": [
            "10.0 <class 'float'>\n",
            "10 <class 'int'>\n"
          ]
        }
      ]
    },
    {
      "cell_type": "code",
      "metadata": {
        "colab": {
          "base_uri": "https://localhost:8080/"
        },
        "id": "8VhH1nVGhEda",
        "outputId": "a54c382f-8bcf-4cd0-e7dc-14dbf0ca42ac"
      },
      "source": [
        "print(str(int_a), type(str(int_a)))\n",
        "print(str(float_b), type(str(float_b)))"
      ],
      "execution_count": null,
      "outputs": [
        {
          "output_type": "stream",
          "name": "stdout",
          "text": [
            "10 <class 'str'>\n",
            "10.3 <class 'str'>\n"
          ]
        }
      ]
    },
    {
      "cell_type": "markdown",
      "metadata": {
        "id": "TRwqdYUFhwiU"
      },
      "source": [
        "비어있지 않은 값이면 `bool` 타입으로 변경 했을 때 무조건 `True`"
      ]
    },
    {
      "cell_type": "code",
      "metadata": {
        "colab": {
          "base_uri": "https://localhost:8080/"
        },
        "id": "BvwuWBirhdwj",
        "outputId": "730de9d2-6260-453e-8ac9-60be9a5b5828"
      },
      "source": [
        "bool(1), bool(0)"
      ],
      "execution_count": null,
      "outputs": [
        {
          "output_type": "execute_result",
          "data": {
            "text/plain": [
              "(True, False)"
            ]
          },
          "metadata": {},
          "execution_count": 145
        }
      ]
    },
    {
      "cell_type": "code",
      "metadata": {
        "colab": {
          "base_uri": "https://localhost:8080/"
        },
        "id": "SuFLjia2hq-c",
        "outputId": "2f53e7bb-6dcd-471a-aad6-1a839bc26475"
      },
      "source": [
        "bool(2), bool(1)"
      ],
      "execution_count": null,
      "outputs": [
        {
          "output_type": "execute_result",
          "data": {
            "text/plain": [
              "(True, True)"
            ]
          },
          "metadata": {},
          "execution_count": 146
        }
      ]
    },
    {
      "cell_type": "code",
      "metadata": {
        "colab": {
          "base_uri": "https://localhost:8080/"
        },
        "id": "IE4TahwwhvSg",
        "outputId": "7e2d2e50-c835-43b6-923c-3da3f27d2c6c"
      },
      "source": [
        "bool(\"hello\"), bool(\"\"), bool(\" \")"
      ],
      "execution_count": null,
      "outputs": [
        {
          "output_type": "execute_result",
          "data": {
            "text/plain": [
              "(True, False, True)"
            ]
          },
          "metadata": {},
          "execution_count": 147
        }
      ]
    },
    {
      "cell_type": "markdown",
      "metadata": {
        "id": "P-rd9re5h9M-"
      },
      "source": [
        "### Parsing\n",
        "문자열 데이터를 다른 데이터 타입으로 바꾸는 것을 의미"
      ]
    },
    {
      "cell_type": "code",
      "metadata": {
        "colab": {
          "base_uri": "https://localhost:8080/"
        },
        "id": "3NxIfDAviUAj",
        "outputId": "9cbbb596-b0f5-481f-bdf0-f31b78e6c3a5"
      },
      "source": [
        "movie_score = \"7.87\" # 크롤링을 하게 되면 실수 모양으로 되어있는 문자열을 받을 때도 있다!\n",
        "\n",
        "parsed_score = float(movie_score) # 문자열 \"7.87\"을 실수 7.87로 파싱\n",
        "parsed_score, type(parsed_score)"
      ],
      "execution_count": null,
      "outputs": [
        {
          "output_type": "execute_result",
          "data": {
            "text/plain": [
              "(7.87, float)"
            ]
          },
          "metadata": {},
          "execution_count": 148
        }
      ]
    },
    {
      "cell_type": "markdown",
      "metadata": {
        "id": "kx24zeQZi-0y"
      },
      "source": [
        "단, 바꾸고자 하는 데이터 타입이 아닌 문자열 형식일 경우 오류가 발생"
      ]
    },
    {
      "cell_type": "code",
      "metadata": {
        "colab": {
          "base_uri": "https://localhost:8080/",
          "height": 189
        },
        "id": "wFQdHHhojF3M",
        "outputId": "0146635e-f702-4a35-8234-47ba9aa450f0"
      },
      "source": [
        "movie_score = \"7.87\" # 실수의 모양을 하고 있는 문자열\n",
        "parsed_score_int = int(movie_score)"
      ],
      "execution_count": null,
      "outputs": [
        {
          "output_type": "error",
          "ename": "ValueError",
          "evalue": "ignored",
          "traceback": [
            "\u001b[0;31m---------------------------------------------------------------------------\u001b[0m",
            "\u001b[0;31mValueError\u001b[0m                                Traceback (most recent call last)",
            "\u001b[0;32m<ipython-input-149-f4a95dd8de47>\u001b[0m in \u001b[0;36m<module>\u001b[0;34m()\u001b[0m\n\u001b[1;32m      1\u001b[0m \u001b[0mmovie_score\u001b[0m \u001b[0;34m=\u001b[0m \u001b[0;34m\"7.87\"\u001b[0m \u001b[0;31m# 실수의 모양을 하고 있는 문자열\u001b[0m\u001b[0;34m\u001b[0m\u001b[0;34m\u001b[0m\u001b[0m\n\u001b[0;32m----> 2\u001b[0;31m \u001b[0mparsed_score_int\u001b[0m \u001b[0;34m=\u001b[0m \u001b[0mint\u001b[0m\u001b[0;34m(\u001b[0m\u001b[0mmovie_score\u001b[0m\u001b[0;34m)\u001b[0m\u001b[0;34m\u001b[0m\u001b[0;34m\u001b[0m\u001b[0m\n\u001b[0m",
            "\u001b[0;31mValueError\u001b[0m: invalid literal for int() with base 10: '7.87'"
          ]
        }
      ]
    },
    {
      "cell_type": "code",
      "metadata": {
        "colab": {
          "base_uri": "https://localhost:8080/"
        },
        "id": "Z8pEGRbIjYuB",
        "outputId": "6b95da58-e0e7-4aa2-e9dc-a0bcbcae4fda"
      },
      "source": [
        "movie_score = \"7\" # 문자열이 정수 모양으로 되어 있음!\n",
        "parsed_score_int = int(movie_score)\n",
        "\n",
        "parsed_score_int"
      ],
      "execution_count": null,
      "outputs": [
        {
          "output_type": "execute_result",
          "data": {
            "text/plain": [
              "7"
            ]
          },
          "metadata": {},
          "execution_count": 151
        }
      ]
    },
    {
      "cell_type": "markdown",
      "metadata": {
        "id": "2j_nt0LAj32E"
      },
      "source": [
        "# #3. 컬렉션 데이터 타입\n",
        "* 무엇인가를 모았다!\n",
        "* 파이썬의 컬렉션은 **파이썬에 존재하는 모든 것을** 모을 수 있다.\n",
        "* 어떠한 데이터를 모아낸 구조\n",
        "  * **자료구조**"
      ]
    },
    {
      "cell_type": "markdown",
      "metadata": {
        "id": "A1P5nn6Vkbz8"
      },
      "source": [
        "## `list`\n",
        "* list\n",
        "  * Sequence\n",
        "  * 데이터에 대한 수정이 가능하다.\n",
        "  * 중복 데이터 저장도 가능하다.\n",
        "  * `[]` 또는 `list()` 를 이용해서 만든다."
      ]
    },
    {
      "cell_type": "code",
      "metadata": {
        "colab": {
          "base_uri": "https://localhost:8080/"
        },
        "id": "8IjEENHfkpIn",
        "outputId": "2261be0a-7f32-41a7-f98a-3152242a7493"
      },
      "source": [
        "# list - 데이터 추가, 삭제, 수정 - mutable\n",
        "lst = [1,2,3,3,4,\"four\", [5, 6], 7.0, True]\n",
        "lst"
      ],
      "execution_count": null,
      "outputs": [
        {
          "output_type": "execute_result",
          "data": {
            "text/plain": [
              "[1, 2, 3, 3, 4, 'four', [5, 6], 7.0, True]"
            ]
          },
          "metadata": {},
          "execution_count": 153
        }
      ]
    },
    {
      "cell_type": "markdown",
      "metadata": {
        "id": "cA3JDa7el76G"
      },
      "source": [
        "`lst`에는 몇 개의 아이템?"
      ]
    },
    {
      "cell_type": "code",
      "metadata": {
        "colab": {
          "base_uri": "https://localhost:8080/"
        },
        "id": "cPez4FTwmENw",
        "outputId": "28217eed-7bee-4d71-f35a-f2eedbf0578f"
      },
      "source": [
        "len(lst)"
      ],
      "execution_count": null,
      "outputs": [
        {
          "output_type": "execute_result",
          "data": {
            "text/plain": [
              "9"
            ]
          },
          "metadata": {},
          "execution_count": 154
        }
      ]
    },
    {
      "cell_type": "markdown",
      "metadata": {
        "id": "R5pvvtoMmpxT"
      },
      "source": [
        "리스트는 시퀀스 이기 때문에 `offset index`를 사용 할 수 있다"
      ]
    },
    {
      "cell_type": "code",
      "metadata": {
        "colab": {
          "base_uri": "https://localhost:8080/"
        },
        "id": "hzqtF9Ymmwdo",
        "outputId": "9e46583d-5983-4b7a-8bfe-f7725a94cae3"
      },
      "source": [
        "print(lst[3]) # 3\n",
        "print(lst[6]) # [5, 6]\n",
        "print(lst[2 : 5]) # [3, 3, 4]"
      ],
      "execution_count": null,
      "outputs": [
        {
          "output_type": "stream",
          "name": "stdout",
          "text": [
            "3\n",
            "[5, 6]\n",
            "[3, 3, 4]\n"
          ]
        }
      ]
    },
    {
      "cell_type": "code",
      "metadata": {
        "colab": {
          "base_uri": "https://localhost:8080/"
        },
        "id": "NhxKHUVfnGBk",
        "outputId": "f6de2775-cf02-4dc9-c862-5cd2b712272b"
      },
      "source": [
        "print(lst[6][0])"
      ],
      "execution_count": null,
      "outputs": [
        {
          "output_type": "stream",
          "name": "stdout",
          "text": [
            "5\n"
          ]
        }
      ]
    },
    {
      "cell_type": "markdown",
      "metadata": {
        "id": "OlxYCVsmnpQo"
      },
      "source": [
        "### list 함수들\n",
        "* `append()` ★★★★★\n",
        "  * 리스트의 제일 뒤에 값을 추가한다.\n",
        "* `sort()`\n",
        "  * 오름차순 정렬\n",
        "  * `reverse=True` 설정하면 내림차순 정렬\n",
        "* `pop()`\n",
        "  * 제일 뒤에 있는 데이터를 꺼내고 삭제"
      ]
    },
    {
      "cell_type": "markdown",
      "metadata": {
        "id": "xkY7YYH-oZnc"
      },
      "source": [
        "#### `append()`"
      ]
    },
    {
      "cell_type": "code",
      "metadata": {
        "colab": {
          "base_uri": "https://localhost:8080/"
        },
        "id": "2IPp2zXCn20i",
        "outputId": "c7ee2836-7e9b-497c-ea29-089b042c1dcf"
      },
      "source": [
        "lst = [3, 5]\n",
        "print(lst)\n",
        "\n",
        "lst.append(12)\n",
        "print(lst)"
      ],
      "execution_count": null,
      "outputs": [
        {
          "output_type": "stream",
          "name": "stdout",
          "text": [
            "[3, 5]\n",
            "[3, 5, 12]\n"
          ]
        }
      ]
    },
    {
      "cell_type": "code",
      "metadata": {
        "colab": {
          "base_uri": "https://localhost:8080/"
        },
        "id": "5zaTXUDSoPQY",
        "outputId": "9fc03e58-0c6a-45f0-dd2c-21f042f58a2c"
      },
      "source": [
        "lst.append(\"hi\")\n",
        "lst.append(\"hello\")\n",
        "\n",
        "print(lst)"
      ],
      "execution_count": null,
      "outputs": [
        {
          "output_type": "stream",
          "name": "stdout",
          "text": [
            "[3, 5, 12, 'hi', 'hello']\n"
          ]
        }
      ]
    },
    {
      "cell_type": "markdown",
      "metadata": {
        "id": "VJdwuHBnoWUG"
      },
      "source": [
        "#### `sort()`\n",
        "* `reverse=True` 내림차순 정렬\n",
        "* `reverse=False` 오름차순 정렬 (기본)"
      ]
    },
    {
      "cell_type": "code",
      "metadata": {
        "colab": {
          "base_uri": "https://localhost:8080/"
        },
        "id": "irPLzvn0olgN",
        "outputId": "8660334c-9e0b-4674-fdbb-2a9040e31f36"
      },
      "source": [
        "lst = [4, 1, 3, 2, 6, 5]\n",
        "lst.sort(reverse=True) # 내림차순 정렬\n",
        "print(lst)"
      ],
      "execution_count": null,
      "outputs": [
        {
          "output_type": "stream",
          "name": "stdout",
          "text": [
            "[6, 5, 4, 3, 2, 1]\n"
          ]
        }
      ]
    },
    {
      "cell_type": "code",
      "metadata": {
        "colab": {
          "base_uri": "https://localhost:8080/"
        },
        "id": "H88vrkukox4F",
        "outputId": "d0edbfb8-a91e-4cc0-8433-923d020edff6"
      },
      "source": [
        "lst = [4, 1, 3, 2, 6, 5]\n",
        "lst.sort(reverse=False) # 오름차순 정렬\n",
        "print(lst)"
      ],
      "execution_count": null,
      "outputs": [
        {
          "output_type": "stream",
          "name": "stdout",
          "text": [
            "[1, 2, 3, 4, 5, 6]\n"
          ]
        }
      ]
    },
    {
      "cell_type": "code",
      "metadata": {
        "colab": {
          "base_uri": "https://localhost:8080/"
        },
        "id": "GcfOah2Io1Uw",
        "outputId": "98d1ce87-5d6d-4c24-ae01-a6c85abcee4c"
      },
      "source": [
        "lst = [\"banana\", \"apple\", \"cherry\", \"orange\", \"mango\"]\n",
        "lst.sort()\n",
        "print(lst)"
      ],
      "execution_count": null,
      "outputs": [
        {
          "output_type": "stream",
          "name": "stdout",
          "text": [
            "['apple', 'banana', 'cherry', 'mango', 'orange']\n"
          ]
        }
      ]
    },
    {
      "cell_type": "markdown",
      "metadata": {
        "id": "Cpjt207lpEw-"
      },
      "source": [
        "## `tuple`\n",
        "  * Sequence\n",
        "  * 데이터에 대한 수정이 **불가능**하다.\n",
        "  * 중복 데이터 저장도 가능하다.\n",
        "  * `()`를 활용하거나 단순하게 데이터를 나열해서 만든다."
      ]
    },
    {
      "cell_type": "code",
      "metadata": {
        "colab": {
          "base_uri": "https://localhost:8080/"
        },
        "id": "jtzcErUfpNTd",
        "outputId": "7b5954fa-87d0-41a0-bd46-33a36a93dc10"
      },
      "source": [
        "# list는 아이템의 추가, 삭제, 수정이 가능하다\n",
        "lst = [1, 2, 3]\n",
        "lst[1] = \"hahaha\"\n",
        "print(lst)"
      ],
      "execution_count": null,
      "outputs": [
        {
          "output_type": "stream",
          "name": "stdout",
          "text": [
            "[1, 'hahaha', 3]\n"
          ]
        }
      ]
    },
    {
      "cell_type": "code",
      "metadata": {
        "colab": {
          "base_uri": "https://localhost:8080/",
          "height": 225
        },
        "id": "oVVQAxJkpoG9",
        "outputId": "cf19654d-f4cb-45b3-b667-2e18150d3143"
      },
      "source": [
        "# tuple은 아이템의 추가, 삭제, 수정이 불가능!\n",
        "tup = (1, 2, 3) # tup = 1, 2, 3\n",
        "print(tup)\n",
        "tup[1] = \"hahaha\""
      ],
      "execution_count": null,
      "outputs": [
        {
          "output_type": "stream",
          "name": "stdout",
          "text": [
            "(1, 2, 3)\n"
          ]
        },
        {
          "output_type": "error",
          "ename": "TypeError",
          "evalue": "ignored",
          "traceback": [
            "\u001b[0;31m---------------------------------------------------------------------------\u001b[0m",
            "\u001b[0;31mTypeError\u001b[0m                                 Traceback (most recent call last)",
            "\u001b[0;32m<ipython-input-166-ecfaaf2d827b>\u001b[0m in \u001b[0;36m<module>\u001b[0;34m()\u001b[0m\n\u001b[1;32m      2\u001b[0m \u001b[0mtup\u001b[0m \u001b[0;34m=\u001b[0m \u001b[0;34m(\u001b[0m\u001b[0;36m1\u001b[0m\u001b[0;34m,\u001b[0m \u001b[0;36m2\u001b[0m\u001b[0;34m,\u001b[0m \u001b[0;36m3\u001b[0m\u001b[0;34m)\u001b[0m \u001b[0;31m# tup = 1, 2, 3\u001b[0m\u001b[0;34m\u001b[0m\u001b[0;34m\u001b[0m\u001b[0m\n\u001b[1;32m      3\u001b[0m \u001b[0mprint\u001b[0m\u001b[0;34m(\u001b[0m\u001b[0mtup\u001b[0m\u001b[0;34m)\u001b[0m\u001b[0;34m\u001b[0m\u001b[0;34m\u001b[0m\u001b[0m\n\u001b[0;32m----> 4\u001b[0;31m \u001b[0mtup\u001b[0m\u001b[0;34m[\u001b[0m\u001b[0;36m1\u001b[0m\u001b[0;34m]\u001b[0m \u001b[0;34m=\u001b[0m \u001b[0;34m\"hahaha\"\u001b[0m\u001b[0;34m\u001b[0m\u001b[0;34m\u001b[0m\u001b[0m\n\u001b[0m",
            "\u001b[0;31mTypeError\u001b[0m: 'tuple' object does not support item assignment"
          ]
        }
      ]
    },
    {
      "cell_type": "code",
      "metadata": {
        "colab": {
          "base_uri": "https://localhost:8080/"
        },
        "id": "CJMZ2uDTp6ny",
        "outputId": "d4786168-73bd-411a-ee8d-c54c5d7fb3f4"
      },
      "source": [
        "tup = ( 1, 2, 3, 4, 5 )\n",
        "print(tup[3]) # 선택\n",
        "print(tup[1 : 4]) # 슬라이싱"
      ],
      "execution_count": null,
      "outputs": [
        {
          "output_type": "stream",
          "name": "stdout",
          "text": [
            "4\n",
            "(2, 3, 4)\n"
          ]
        }
      ]
    },
    {
      "cell_type": "markdown",
      "metadata": {
        "id": "Ko19ySRHqJ65"
      },
      "source": [
        "튜플은 리스트보다 사용하는 공간이 작아요"
      ]
    },
    {
      "cell_type": "code",
      "metadata": {
        "colab": {
          "base_uri": "https://localhost:8080/"
        },
        "id": "rhXQZrIoqVEa",
        "outputId": "de8518f1-e35f-4b5b-f475-00156fc4d767"
      },
      "source": [
        "# 그냥 공부하지 마시고 참고만 하세요~~~\n",
        "# 리스트와 튜플의 저장공간 크기 비교\n",
        "import sys\n",
        "\n",
        "lst = [1, 2, 3]\n",
        "tup = 1, 2, 3 # 소괄호 생략 가능\n",
        "\n",
        "print(sys.getsizeof(lst))\n",
        "print(sys.getsizeof(tup))"
      ],
      "execution_count": null,
      "outputs": [
        {
          "output_type": "stream",
          "name": "stdout",
          "text": [
            "96\n",
            "80\n"
          ]
        }
      ]
    },
    {
      "cell_type": "markdown",
      "metadata": {
        "id": "tsaPU_qTqViR"
      },
      "source": [
        "### 패킹(Packing), 언패킹(Unpacking) ★★★★★\n",
        "* 패킹 : 데이터를 모아 놓는 작업\n",
        "* **언패킹** : 모아 낸 데이터를 풀어 놓는 작업"
      ]
    },
    {
      "cell_type": "code",
      "metadata": {
        "colab": {
          "base_uri": "https://localhost:8080/"
        },
        "id": "aEjiv0YHqmqA",
        "outputId": "aa4c341e-394d-4e53-84cf-d20e9dd11bac"
      },
      "source": [
        "# 패킹\n",
        "tup = 1, 'two', 3 # 튜플에 데이터를 3개 모아 놨음\n",
        "\n",
        "# 언패킹\n",
        "item1, item2, item3 = tup\n",
        "\n",
        "print(item1, item2, item3)"
      ],
      "execution_count": null,
      "outputs": [
        {
          "output_type": "stream",
          "name": "stdout",
          "text": [
            "1 two 3\n"
          ]
        }
      ]
    },
    {
      "cell_type": "code",
      "metadata": {
        "colab": {
          "base_uri": "https://localhost:8080/",
          "height": 189
        },
        "id": "ZZjYGqXNq5QZ",
        "outputId": "87b7ecba-1057-43ef-c900-2b15c528f37b"
      },
      "source": [
        "# 언패킹할 변수의 개수가 맞지 않으면 오류 발생!\n",
        "item1, item2 = tup"
      ],
      "execution_count": null,
      "outputs": [
        {
          "output_type": "error",
          "ename": "ValueError",
          "evalue": "ignored",
          "traceback": [
            "\u001b[0;31m---------------------------------------------------------------------------\u001b[0m",
            "\u001b[0;31mValueError\u001b[0m                                Traceback (most recent call last)",
            "\u001b[0;32m<ipython-input-171-ea9c2696af9e>\u001b[0m in \u001b[0;36m<module>\u001b[0;34m()\u001b[0m\n\u001b[1;32m      1\u001b[0m \u001b[0;31m# 언패킹할 변수의 개수가 맞지 않으면 오류 발생!\u001b[0m\u001b[0;34m\u001b[0m\u001b[0;34m\u001b[0m\u001b[0;34m\u001b[0m\u001b[0m\n\u001b[0;32m----> 2\u001b[0;31m \u001b[0mitem1\u001b[0m\u001b[0;34m,\u001b[0m \u001b[0mitem2\u001b[0m \u001b[0;34m=\u001b[0m \u001b[0mtup\u001b[0m\u001b[0;34m\u001b[0m\u001b[0;34m\u001b[0m\u001b[0m\n\u001b[0m",
            "\u001b[0;31mValueError\u001b[0m: too many values to unpack (expected 2)"
          ]
        }
      ]
    },
    {
      "cell_type": "code",
      "metadata": {
        "colab": {
          "base_uri": "https://localhost:8080/",
          "height": 207
        },
        "id": "tvURQSD1rAYX",
        "outputId": "e8a8019a-759c-469e-917a-1de5249759a7"
      },
      "source": [
        "tup = 1, 2\n",
        "\n",
        "item1, item2, item3 = tup"
      ],
      "execution_count": null,
      "outputs": [
        {
          "output_type": "error",
          "ename": "ValueError",
          "evalue": "ignored",
          "traceback": [
            "\u001b[0;31m---------------------------------------------------------------------------\u001b[0m",
            "\u001b[0;31mValueError\u001b[0m                                Traceback (most recent call last)",
            "\u001b[0;32m<ipython-input-172-9454a9bef7dd>\u001b[0m in \u001b[0;36m<module>\u001b[0;34m()\u001b[0m\n\u001b[1;32m      1\u001b[0m \u001b[0mtup\u001b[0m \u001b[0;34m=\u001b[0m \u001b[0;36m1\u001b[0m\u001b[0;34m,\u001b[0m \u001b[0;36m2\u001b[0m\u001b[0;34m\u001b[0m\u001b[0;34m\u001b[0m\u001b[0m\n\u001b[1;32m      2\u001b[0m \u001b[0;34m\u001b[0m\u001b[0m\n\u001b[0;32m----> 3\u001b[0;31m \u001b[0mitem1\u001b[0m\u001b[0;34m,\u001b[0m \u001b[0mitem2\u001b[0m\u001b[0;34m,\u001b[0m \u001b[0mitem3\u001b[0m \u001b[0;34m=\u001b[0m \u001b[0mtup\u001b[0m\u001b[0;34m\u001b[0m\u001b[0;34m\u001b[0m\u001b[0m\n\u001b[0m",
            "\u001b[0;31mValueError\u001b[0m: not enough values to unpack (expected 3, got 2)"
          ]
        }
      ]
    },
    {
      "cell_type": "markdown",
      "metadata": {
        "id": "6ZhGMXqKrREF"
      },
      "source": [
        "## `Set`\n",
        "* Sequence가 아니다\n",
        "* 데이터 저장의 순서가 없음.\n",
        "* 중복 데이터의 저장도 허용하지 않는다.\n",
        "\n",
        "**집합**"
      ]
    },
    {
      "cell_type": "code",
      "metadata": {
        "colab": {
          "base_uri": "https://localhost:8080/"
        },
        "id": "pTSdV2DIuu3N",
        "outputId": "b9ae4aab-ebcb-432d-ac68-9fc56749fa9b"
      },
      "source": [
        "# set 생성\n",
        "set1 = {1, 1, 1, 2, 2, 2, 2, 3, 3, 3, 3, 4, 4, 4, 5, 5, 5, 5, 6, 6, 6}\n",
        "lst1 = [1, 1, 1, 2, 2, 2, 2, 3, 3, 3, 3, 4, 4, 4, 5, 5, 5, 5, 6, 6, 6]\n",
        "\n",
        "print(set1) # set은 중복 데이터가 제거가 된다.\n",
        "print(lst1)"
      ],
      "execution_count": null,
      "outputs": [
        {
          "output_type": "stream",
          "name": "stdout",
          "text": [
            "{1, 2, 3, 4, 5, 6}\n",
            "[1, 1, 1, 2, 2, 2, 2, 3, 3, 3, 3, 4, 4, 4, 5, 5, 5, 5, 6, 6, 6]\n"
          ]
        }
      ]
    },
    {
      "cell_type": "code",
      "metadata": {
        "colab": {
          "base_uri": "https://localhost:8080/"
        },
        "id": "5NSRfEXNvXd5",
        "outputId": "aabad8a3-beb9-47b9-bb40-7116e12ada46"
      },
      "source": [
        "set2 = {\"apple\", \"banana\", \"mango\", \"cherry\", \"orange\"} # hash라는 알고리즘에 의해 배치가 되긴 해요.\n",
        "lst2 = [\"apple\", \"banana\", \"mango\", \"cherry\", \"orange\"]\n",
        "\n",
        "print(set2) # set은 데이터 입력의 순서를 보장 하지 않는다.\n",
        "print(lst2)"
      ],
      "execution_count": null,
      "outputs": [
        {
          "output_type": "stream",
          "name": "stdout",
          "text": [
            "{'apple', 'orange', 'banana', 'cherry', 'mango'}\n",
            "['apple', 'banana', 'mango', 'cherry', 'orange']\n"
          ]
        }
      ]
    },
    {
      "cell_type": "markdown",
      "metadata": {
        "id": "Y4S4d8-3vdEO"
      },
      "source": [
        "## `dict`\n",
        "* `{ key : value } 구조`\n",
        "  * key-value 구조\n",
        "  * `{ key1 : value1, key2 : value2, ...}`\n",
        "* `key`의 특징\n",
        "  * `key`는 `set`의 형태로 저장 된다.\n",
        "  * 입력한 순서가 유지가 안된다. ( 최신 파이썬 에서는 유지가 되는 거 같기도...? )\n",
        "  * 중복된 데이터도 가질 수가 없다.\n",
        "  * 반드시 정수 또는 문자열로만 지정이 가능\n",
        "* `dict`에 데이터를 입력하기 위해서는 `key`와 `value`가 모두 필요하다.\n"
      ]
    },
    {
      "cell_type": "code",
      "metadata": {
        "colab": {
          "base_uri": "https://localhost:8080/"
        },
        "id": "pls7T_Kbw6lv",
        "outputId": "08d975a4-9411-41d2-ec58-3862e8ca6b07"
      },
      "source": [
        "fruit_dict = {\n",
        "    \n",
        "    \"apple\"  : \"사과입니다.\",\n",
        "    \"mango\"  : \"망고는 달아요\",\n",
        "    \"banana\" : \"바나나는 깁니다.\",\n",
        "    \"cherry\" : \"체리는 맛있어요.\"\n",
        "}\n",
        "\n",
        "fruit_dict"
      ],
      "execution_count": null,
      "outputs": [
        {
          "output_type": "execute_result",
          "data": {
            "text/plain": [
              "{'apple': '사과입니다.',\n",
              " 'banana': '바나나는 깁니다.',\n",
              " 'cherry': '체리는 맛있어요.',\n",
              " 'mango': '망고는 달아요'}"
            ]
          },
          "metadata": {},
          "execution_count": 182
        }
      ]
    },
    {
      "cell_type": "code",
      "metadata": {
        "colab": {
          "base_uri": "https://localhost:8080/"
        },
        "id": "qFyZcj0zxnon",
        "outputId": "554ee11a-3974-4852-f354-c9a607c44ca1"
      },
      "source": [
        "print(fruit_dict[\"apple\"]) # 사과입니다.\n",
        "print(fruit_dict[\"mango\"]) # 망고는 달아요"
      ],
      "execution_count": null,
      "outputs": [
        {
          "output_type": "stream",
          "name": "stdout",
          "text": [
            "사과입니다.\n",
            "망고는 달아요\n"
          ]
        }
      ]
    },
    {
      "cell_type": "markdown",
      "metadata": {
        "id": "dkPzDQ8Px2va"
      },
      "source": [
        "### `dict`에 원소를 추가, 변경"
      ]
    },
    {
      "cell_type": "code",
      "metadata": {
        "colab": {
          "base_uri": "https://localhost:8080/"
        },
        "id": "JvkWNVLByCgA",
        "outputId": "a1bb0b55-1009-4889-d19f-183f12d9353e"
      },
      "source": [
        "# 추가와 변경은 문법이 똑같다.\n",
        "# 키가 없으면 추가, 키가 있으면 수정\n",
        "\n",
        "fruit_dict[\"orange\"] = \"오렌지는 주황색이에요\"\n",
        "print(fruit_dict)\n",
        "\n",
        "fruit_dict[\"orange\"] = \"맛있어요~~\"\n",
        "print(fruit_dict)"
      ],
      "execution_count": null,
      "outputs": [
        {
          "output_type": "stream",
          "name": "stdout",
          "text": [
            "{'apple': '사과입니다.', 'mango': '망고는 달아요', 'banana': '바나나는 깁니다.', 'cherry': '체리는 맛있어요.', 'orange': '오렌지는 주황색이에요'}\n",
            "{'apple': '사과입니다.', 'mango': '망고는 달아요', 'banana': '바나나는 깁니다.', 'cherry': '체리는 맛있어요.', 'orange': '맛있어요~~'}\n"
          ]
        }
      ]
    },
    {
      "cell_type": "markdown",
      "metadata": {
        "id": "DVwkt0__yODU"
      },
      "source": [
        "### `dict`의 원소 삭제\n",
        "* `del` 키워드 사용"
      ]
    },
    {
      "cell_type": "code",
      "metadata": {
        "colab": {
          "base_uri": "https://localhost:8080/"
        },
        "id": "eVB6bCY4yfDf",
        "outputId": "8870f2e3-d270-455c-affc-7c7a712ba1e4"
      },
      "source": [
        "del fruit_dict[\"orange\"]\n",
        "print(fruit_dict)"
      ],
      "execution_count": null,
      "outputs": [
        {
          "output_type": "stream",
          "name": "stdout",
          "text": [
            "{'apple': '사과입니다.', 'mango': '망고는 달아요', 'banana': '바나나는 깁니다.', 'cherry': '체리는 맛있어요.'}\n"
          ]
        }
      ]
    },
    {
      "cell_type": "markdown",
      "metadata": {
        "id": "IB5e-qZxyi8T"
      },
      "source": [
        "### `dict`의 정보를 확인\n",
        "* `key`, `value`"
      ]
    },
    {
      "cell_type": "code",
      "metadata": {
        "colab": {
          "base_uri": "https://localhost:8080/"
        },
        "id": "gsaxUQ7iytau",
        "outputId": "69c09322-d104-490c-faab-747fd37aae95"
      },
      "source": [
        "# keys() : 딕셔너리 내의 전체 key를 확인\n",
        "print(fruit_dict.keys())"
      ],
      "execution_count": null,
      "outputs": [
        {
          "output_type": "stream",
          "name": "stdout",
          "text": [
            "dict_keys(['apple', 'mango', 'banana', 'cherry'])\n"
          ]
        }
      ]
    },
    {
      "cell_type": "code",
      "metadata": {
        "colab": {
          "base_uri": "https://localhost:8080/"
        },
        "id": "R8x111nJyyHj",
        "outputId": "4845824f-1687-48ee-ff0b-3b103234042d"
      },
      "source": [
        "# values() : 딕셔너리 내의 전체 value를 확인\n",
        "print(fruit_dict.values())"
      ],
      "execution_count": null,
      "outputs": [
        {
          "output_type": "stream",
          "name": "stdout",
          "text": [
            "dict_values(['사과입니다.', '망고는 달아요', '바나나는 깁니다.', '체리는 맛있어요.'])\n"
          ]
        }
      ]
    },
    {
      "cell_type": "code",
      "metadata": {
        "colab": {
          "base_uri": "https://localhost:8080/"
        },
        "id": "wMPzjphMy3pI",
        "outputId": "1fababb7-58b1-4b75-91ca-114e1a442bd5"
      },
      "source": [
        "# items() : 딕셔너리 내의 전체 key, value를 튜플 형태로 확인\n",
        "print(fruit_dict.items())"
      ],
      "execution_count": null,
      "outputs": [
        {
          "output_type": "stream",
          "name": "stdout",
          "text": [
            "dict_items([('apple', '사과입니다.'), ('mango', '망고는 달아요'), ('banana', '바나나는 깁니다.'), ('cherry', '체리는 맛있어요.')])\n"
          ]
        }
      ]
    },
    {
      "cell_type": "markdown",
      "metadata": {
        "id": "gwKfcQJ3y_4A"
      },
      "source": [
        "# #4. 연산자(Operator)"
      ]
    },
    {
      "cell_type": "markdown",
      "metadata": {
        "id": "D15c6pvWz0i9"
      },
      "source": [
        "## 산술연산자\n",
        "* `+, -, *, /, //, %, **`\n",
        "* `*` : 곱하기\n",
        "* `/` : 나누기 ( 소숫점 단위 까지 나옴 )\n",
        "* `//` : 몫 구하기\n",
        "* `%` : 나머지 구하기\n",
        "* `**` : 제곱"
      ]
    },
    {
      "cell_type": "code",
      "metadata": {
        "colab": {
          "base_uri": "https://localhost:8080/"
        },
        "id": "8v9Y-I9G0Ae2",
        "outputId": "2f46ad0c-a197-4657-d7a7-c1d6ae4d49b2"
      },
      "source": [
        "print( 5 + 2 ) # 7\n",
        "print( 5 - 2 ) # 3\n",
        "print( 5 * 3 ) # 15\n",
        "print( 5 / 2 ) # 2.5\n",
        "print( 5 // 2 ) # 2 ( 5를 2로 나눴을 때의 몫 )\n",
        "print( 5 % 2 ) # 1 ( 5를 2로 나눴을 때의 나머지 )\n",
        "print( 5 ** 2 ) # 25 ( 5의 2승 )"
      ],
      "execution_count": null,
      "outputs": [
        {
          "output_type": "stream",
          "name": "stdout",
          "text": [
            "7\n",
            "3\n",
            "15\n",
            "2.5\n",
            "2\n",
            "1\n",
            "25\n"
          ]
        }
      ]
    },
    {
      "cell_type": "markdown",
      "metadata": {
        "id": "Ftkjn76-0vFh"
      },
      "source": [
        "## 할당(대입)연산자\n",
        "* 특정 변수에 들어있는 값에 특정 연산의 결과물을 누적해서 저장\n",
        "* `=, +=, -=, *=, ...`"
      ]
    },
    {
      "cell_type": "code",
      "metadata": {
        "colab": {
          "base_uri": "https://localhost:8080/"
        },
        "id": "QUVjxhlz1Pd4",
        "outputId": "851956b2-045c-4758-cdc8-fbfb0e4439c8"
      },
      "source": [
        "num = 10\n",
        "print(num) # 10\n",
        "\n",
        "num = num + 5\n",
        "print(num) # 15\n",
        "\n",
        "num += 5 # num = num + 5\n",
        "print(num)"
      ],
      "execution_count": null,
      "outputs": [
        {
          "output_type": "stream",
          "name": "stdout",
          "text": [
            "10\n",
            "15\n",
            "20\n"
          ]
        }
      ]
    },
    {
      "cell_type": "markdown",
      "metadata": {
        "id": "hgcKeUOq1nTg"
      },
      "source": [
        "## 비교연산자\n",
        "  * 값이나 변수 끼리 비교\n",
        "  * 보통은 크기를 비교한다.\n",
        "  * `>, <, >=, <=, !=, ==`\n",
        "    * `a > b` : a가 b보다 크다\n",
        "    * `a < b` : a가 b보다 작다\n",
        "    * `a <= b` : a가 b보다 작거나 같다.\n",
        "    * `a >= b` : a가 b보다 크거나 같다.\n",
        "    * `a != b` : `!`는 부정(`not`)을 의미한다.\n",
        "      * a와 b가 같지 않다.\n",
        "    * `a == b` : a와 b가 같다.\n",
        "      * `=` : 할당(대입)\n",
        "      * `==` : 비교\n",
        "      \n",
        "**비교 연산자의 결과물은 무조건 True / False**"
      ]
    },
    {
      "cell_type": "code",
      "metadata": {
        "colab": {
          "base_uri": "https://localhost:8080/"
        },
        "id": "t0kpn2lI1xiK",
        "outputId": "9261e546-3573-482e-c1b8-9b890c4a20bb"
      },
      "source": [
        "a, b = 3, 5\n",
        "\n",
        "a < b, b > a, a > b, a != b, a == b"
      ],
      "execution_count": null,
      "outputs": [
        {
          "output_type": "execute_result",
          "data": {
            "text/plain": [
              "(True, True, False, True, False)"
            ]
          },
          "metadata": {},
          "execution_count": 193
        }
      ]
    },
    {
      "cell_type": "markdown",
      "metadata": {
        "id": "ERp7Z1IS2O6J"
      },
      "source": [
        "## 논리연산자\n",
        "* 논리 자료형인 `bool`을 연산\n",
        "* `and`, `or`, `not`\n",
        "\n",
        "**and**\n",
        "  * `A and B` : A가 `True`, B도 `True`면 결과물이 `True`\n",
        "\n",
        "**or**\n",
        "  * `A or B` : A와 B 둘 중에 하나만 `True`여도 결과물이 `True`\n",
        "\n",
        "**not**\n",
        "  * `not A` : A가 `True`면 `False`가 되고, `False`면 `True`가 된다.\n"
      ]
    },
    {
      "cell_type": "markdown",
      "metadata": {
        "id": "SbKMKMnB3sKn"
      },
      "source": [
        "and"
      ]
    },
    {
      "cell_type": "code",
      "metadata": {
        "colab": {
          "base_uri": "https://localhost:8080/"
        },
        "id": "8Ylx70J623cg",
        "outputId": "8485bcfe-4534-4a15-f6fa-1ea68273232b"
      },
      "source": [
        "1 < 3 and 7 > 6"
      ],
      "execution_count": null,
      "outputs": [
        {
          "output_type": "execute_result",
          "data": {
            "text/plain": [
              "True"
            ]
          },
          "metadata": {},
          "execution_count": 194
        }
      ]
    },
    {
      "cell_type": "code",
      "metadata": {
        "colab": {
          "base_uri": "https://localhost:8080/"
        },
        "id": "z3qgplXG3Sbh",
        "outputId": "6403aa57-1302-4754-cd42-e72e77f5ab93"
      },
      "source": [
        "1 > 3 and 7 > 6"
      ],
      "execution_count": null,
      "outputs": [
        {
          "output_type": "execute_result",
          "data": {
            "text/plain": [
              "False"
            ]
          },
          "metadata": {},
          "execution_count": 195
        }
      ]
    },
    {
      "cell_type": "code",
      "metadata": {
        "colab": {
          "base_uri": "https://localhost:8080/"
        },
        "id": "m14j-MW03Xpd",
        "outputId": "77acfc53-1123-4489-b430-5791a63723ba"
      },
      "source": [
        "1 > 3 and 1 > 3"
      ],
      "execution_count": null,
      "outputs": [
        {
          "output_type": "execute_result",
          "data": {
            "text/plain": [
              "False"
            ]
          },
          "metadata": {},
          "execution_count": 196
        }
      ]
    },
    {
      "cell_type": "markdown",
      "metadata": {
        "id": "wHXJRWZm3tUz"
      },
      "source": [
        "or"
      ]
    },
    {
      "cell_type": "code",
      "metadata": {
        "colab": {
          "base_uri": "https://localhost:8080/"
        },
        "id": "46P2r8u73eh2",
        "outputId": "71fb4898-bec2-467b-f55e-89f272f39505"
      },
      "source": [
        "3 > 1 or 4 < 3"
      ],
      "execution_count": null,
      "outputs": [
        {
          "output_type": "execute_result",
          "data": {
            "text/plain": [
              "True"
            ]
          },
          "metadata": {},
          "execution_count": 197
        }
      ]
    },
    {
      "cell_type": "code",
      "metadata": {
        "colab": {
          "base_uri": "https://localhost:8080/"
        },
        "id": "6hzKXnz13ocw",
        "outputId": "808ec9a7-314d-47a7-baf7-3c8c38dc062d"
      },
      "source": [
        "1 > 3 or 5 < 1"
      ],
      "execution_count": null,
      "outputs": [
        {
          "output_type": "execute_result",
          "data": {
            "text/plain": [
              "False"
            ]
          },
          "metadata": {},
          "execution_count": 198
        }
      ]
    },
    {
      "cell_type": "markdown",
      "metadata": {
        "id": "wYt6j8583uPi"
      },
      "source": [
        "not"
      ]
    },
    {
      "cell_type": "code",
      "metadata": {
        "colab": {
          "base_uri": "https://localhost:8080/"
        },
        "id": "zFJ17xLu3zJo",
        "outputId": "762cf49f-6276-4809-c591-6a45841e4e1d"
      },
      "source": [
        "not 1 > 3 # 1이 3보다 크지 않다."
      ],
      "execution_count": null,
      "outputs": [
        {
          "output_type": "execute_result",
          "data": {
            "text/plain": [
              "True"
            ]
          },
          "metadata": {},
          "execution_count": 199
        }
      ]
    },
    {
      "cell_type": "code",
      "metadata": {
        "colab": {
          "base_uri": "https://localhost:8080/"
        },
        "id": "GpXW0_lr32eq",
        "outputId": "4c9d39ba-8443-4ecc-83b6-4460fb493e54"
      },
      "source": [
        "not 2 < 3 # 2가 3보다 작지 않다."
      ],
      "execution_count": null,
      "outputs": [
        {
          "output_type": "execute_result",
          "data": {
            "text/plain": [
              "False"
            ]
          },
          "metadata": {},
          "execution_count": 200
        }
      ]
    },
    {
      "cell_type": "markdown",
      "metadata": {
        "id": "OltZtR5c36pd"
      },
      "source": [
        "## 멤버 연산자\n",
        "* 멤버 : 컬렉션 내에 있는 아이템\n",
        "* 컬렉션에 원하는 원소가 존재하는지 여부를 판단\n",
        "* `in, not in`"
      ]
    },
    {
      "cell_type": "code",
      "metadata": {
        "colab": {
          "base_uri": "https://localhost:8080/"
        },
        "id": "DHXtPElG4Rwd",
        "outputId": "98341516-a938-464c-8ee8-9ff556e380fc"
      },
      "source": [
        "lst = [\"a\", 1, 3]\n",
        "\"a\" in lst # \"a\"가 lst에 들어있는가?"
      ],
      "execution_count": null,
      "outputs": [
        {
          "output_type": "execute_result",
          "data": {
            "text/plain": [
              "True"
            ]
          },
          "metadata": {},
          "execution_count": 201
        }
      ]
    },
    {
      "cell_type": "code",
      "metadata": {
        "colab": {
          "base_uri": "https://localhost:8080/"
        },
        "id": "rebxcZ6a4YF6",
        "outputId": "f9d93810-b864-4617-b776-5b2b7879050d"
      },
      "source": [
        "2 in lst"
      ],
      "execution_count": null,
      "outputs": [
        {
          "output_type": "execute_result",
          "data": {
            "text/plain": [
              "False"
            ]
          },
          "metadata": {},
          "execution_count": 202
        }
      ]
    },
    {
      "cell_type": "code",
      "metadata": {
        "colab": {
          "base_uri": "https://localhost:8080/"
        },
        "id": "Y6TkBNE34bFG",
        "outputId": "7f9a33ca-33cc-46e5-b0ca-00475aad9005"
      },
      "source": [
        "2 not in lst # 2가 lst에 들어있지 않다."
      ],
      "execution_count": null,
      "outputs": [
        {
          "output_type": "execute_result",
          "data": {
            "text/plain": [
              "True"
            ]
          },
          "metadata": {},
          "execution_count": 203
        }
      ]
    },
    {
      "cell_type": "markdown",
      "metadata": {
        "id": "y7_zlBer7ric"
      },
      "source": [
        "# #5. 제어문"
      ]
    },
    {
      "cell_type": "markdown",
      "metadata": {
        "id": "fvgOtDe88meR"
      },
      "source": [
        "## Code Context\n",
        "* Code Context : 문맥, 구문\n",
        "* 구문이란?\n",
        "  * 실행해야 할 코드들\n",
        "* 파이썬에서는 Context를 `indent(들여쓰기)`로 구분\n",
        "  * `indent`는 스페이스 바 2칸이나 4칸으로 설정\n",
        "  * `indent`를 2칸으로 했으면 계속 2칸으로, 4칸으로 했으면 계속 4칸으로 해야 한다.\n",
        "  * 개발툴(IDE)에서 자동으로 2칸 or 4칸을 처리 해 준다.\n"
      ]
    },
    {
      "cell_type": "markdown",
      "metadata": {
        "id": "WYA0XpD09HrY"
      },
      "source": [
        "## 조건문( Condition )\n",
        "* 특정한 조건을 만족하면 코드를 실행\n",
        "* `if, elif, else`\n",
        "  * `if` : 만약에 ~ 라면 ~을 하겠다.\n",
        "  * `elif(else if)` : 그게 아니라 ~라면 ~을 하겠다.\n",
        "  * `else` : 그게 아니면 ~을 하겠다.\n",
        "\n",
        "\n",
        "```python\n",
        "if [condition]:\n",
        "  code context\n",
        "elif [condition]:\n",
        "  code context\n",
        "elif [condition]:\n",
        "  code context\n",
        "...\n",
        "else:\n",
        "  code context\n",
        "```\n",
        "* 조건 부분에 bool 타입 데이터(True / False)가 온다."
      ]
    },
    {
      "cell_type": "code",
      "metadata": {
        "colab": {
          "base_uri": "https://localhost:8080/"
        },
        "id": "mGD-oaIa9Mlc",
        "outputId": "e866ce48-44c2-4547-d6ba-59b11c3cc0a3"
      },
      "source": [
        "a = 3\n",
        "b = 2\n",
        "\n",
        "if a > b:\n",
        "  print(\"Hi\")\n",
        "  print(\"Bye\")\n",
        "\n",
        "print(\"done\")"
      ],
      "execution_count": null,
      "outputs": [
        {
          "output_type": "stream",
          "name": "stdout",
          "text": [
            "Hi\n",
            "Bye\n",
            "done\n"
          ]
        }
      ]
    },
    {
      "cell_type": "markdown",
      "metadata": {
        "id": "dL4BVeHM96U3"
      },
      "source": [
        "`elif, else`는 `if`에서의 조건이 `False`가 되어서 Code Context가 실행이 되지 않았을 때 연속적으로 조건검사를 해야 할 때에 사용한다.\n",
        "\n",
        "> 만약에 12000원 이상 있으면 택시 타고, 8000 ~ 12000 이면 버스 타고, 그게 아니면 걸어간다."
      ]
    },
    {
      "cell_type": "code",
      "metadata": {
        "colab": {
          "base_uri": "https://localhost:8080/"
        },
        "id": "FP9o3ybr-zNW",
        "outputId": "1187af9a-066b-4293-a575-281984c20539"
      },
      "source": [
        "money = 10000\n",
        "\n",
        "if money >= 12000:\n",
        "  print(\"택시 타기\")\n",
        "elif 8000 <= money < 12000:\n",
        "  print(\"버스 타기\")\n",
        "else:\n",
        "  print(\"걸어가기\")"
      ],
      "execution_count": null,
      "outputs": [
        {
          "output_type": "stream",
          "name": "stdout",
          "text": [
            "버스 타기\n"
          ]
        }
      ]
    },
    {
      "cell_type": "markdown",
      "metadata": {
        "id": "meZXgSmL_kHD"
      },
      "source": [
        "## 반복문(Loop)\n",
        "특정 Code Context를 반복"
      ]
    },
    {
      "cell_type": "markdown",
      "metadata": {
        "id": "Jklm69AiAKut"
      },
      "source": [
        "### `while` - 조건제 반복\n",
        "* ~할 때 반복\n",
        "\n",
        "```python\n",
        "while [condition]:\n",
        "  code context\n",
        "```"
      ]
    },
    {
      "cell_type": "code",
      "metadata": {
        "colab": {
          "base_uri": "https://localhost:8080/"
        },
        "id": "cKDxZYBPAXrn",
        "outputId": "2c7f56cc-a6ee-47ab-e576-831b05f1f9ef"
      },
      "source": [
        "data = 5\n",
        "\n",
        "# 조건이 False가 될 때 까지 구문의 코드를 실행\n",
        "while data:\n",
        "  # 반복 되는 코드\n",
        "  print(data)\n",
        "  data -= 1\n",
        "\n",
        "print(\"done\")"
      ],
      "execution_count": null,
      "outputs": [
        {
          "output_type": "stream",
          "name": "stdout",
          "text": [
            "5\n",
            "4\n",
            "3\n",
            "2\n",
            "1\n",
            "done\n"
          ]
        }
      ]
    },
    {
      "cell_type": "markdown",
      "metadata": {
        "id": "blh46kAjA4U5"
      },
      "source": [
        "#### 무한루프\n",
        "`while`의 조건이 항상 `True`여서 반복이 무한하게 되는 현상"
      ]
    },
    {
      "cell_type": "code",
      "metadata": {
        "id": "VxKEZnuDBatl"
      },
      "source": [
        "# result = 1\n",
        "\n",
        "# while result:\n",
        "#   print(\"hello\")\n",
        "\n",
        "# print(\"done\")"
      ],
      "execution_count": null,
      "outputs": []
    },
    {
      "cell_type": "markdown",
      "metadata": {
        "id": "Vzdb-KkiB7IY"
      },
      "source": [
        "### `for`\n",
        "\n",
        "컬렉션에 있는 데이터를 하나씩 꺼내면서 반복 하다가, 더 이상 꺼낼 아이템이 없으면 반복을 종료\n",
        "\n",
        "```python\n",
        "for <variable> in <iterable>:\n",
        "  code context\n",
        "```\n",
        "\n",
        "* iterable : 순회가 가능한 컬렉션\n",
        "* variable : for문에 의해 순회되는 원소(item)이 저장될 변수"
      ]
    },
    {
      "cell_type": "code",
      "metadata": {
        "colab": {
          "base_uri": "https://localhost:8080/"
        },
        "id": "NbF2LriQCLQp",
        "outputId": "bc825483-a70a-441c-faa2-8124387c64f6"
      },
      "source": [
        "lst = [\"Hello\", 123, \"Bye\", 3.14]\n",
        "\n",
        "for item in lst:\n",
        "  print(item)\n",
        "  print(\"--------\")\n",
        "\n",
        "print(\"done\")"
      ],
      "execution_count": null,
      "outputs": [
        {
          "output_type": "stream",
          "name": "stdout",
          "text": [
            "Hello\n",
            "--------\n",
            "123\n",
            "--------\n",
            "Bye\n",
            "--------\n",
            "3.14\n",
            "--------\n",
            "done\n"
          ]
        }
      ]
    },
    {
      "cell_type": "markdown",
      "metadata": {
        "id": "tXTsuIBzDAv-"
      },
      "source": [
        "### `zip` 함수 ★★★\n",
        "여러 개의 컬렉션을 하나로 모아서 병렬로 순회가 가능하도록 함"
      ]
    },
    {
      "cell_type": "code",
      "metadata": {
        "id": "xTBUrWiLDZpB"
      },
      "source": [
        "lst1 = [\"A\", \"B\", \"C\"]\n",
        "lst2 = [10, 20, 30]"
      ],
      "execution_count": null,
      "outputs": []
    },
    {
      "cell_type": "markdown",
      "metadata": {
        "id": "mLD9xQogDgBA"
      },
      "source": [
        "```\n",
        "A의 점수는 10점\n",
        "B의 점수는 20점\n",
        "C의 점수는 30점\n",
        "```\n",
        "로 출력 하려면?"
      ]
    },
    {
      "cell_type": "code",
      "metadata": {
        "colab": {
          "base_uri": "https://localhost:8080/"
        },
        "id": "t3LU6zknDjM-",
        "outputId": "4fc77365-b81d-4db6-b6e1-066a6308a7b6"
      },
      "source": [
        "for name, score in zip(lst1, lst2):\n",
        "  print(f\"{name}의 점수는 {score}점\")"
      ],
      "execution_count": null,
      "outputs": [
        {
          "output_type": "stream",
          "name": "stdout",
          "text": [
            "A의 점수는 10점\n",
            "B의 점수는 20점\n",
            "C의 점수는 30점\n"
          ]
        }
      ]
    },
    {
      "cell_type": "markdown",
      "metadata": {
        "id": "RC_WzWyoEISQ"
      },
      "source": [
        "컬렉션의 크기가 다른 경우 크기가 작은 컬렉션이 기준이 된다."
      ]
    },
    {
      "cell_type": "code",
      "metadata": {
        "colab": {
          "base_uri": "https://localhost:8080/"
        },
        "id": "ruhAtCfOEQJF",
        "outputId": "68bbefcd-6502-4042-c538-d888a33e748e"
      },
      "source": [
        "lst1 = [10, 20, 30, 40]\n",
        "lst2 = [\"A\", \"B\", \"C\"]\n",
        "\n",
        "for item1, item2 in zip(lst1, lst2):\n",
        "  print(item1, item2)"
      ],
      "execution_count": null,
      "outputs": [
        {
          "output_type": "stream",
          "name": "stdout",
          "text": [
            "10 A\n",
            "20 B\n",
            "30 C\n"
          ]
        }
      ]
    },
    {
      "cell_type": "markdown",
      "metadata": {
        "id": "8BsRt9sTEQcC"
      },
      "source": [
        "### `range`함수 ★★★\n",
        "`range(start, end, step)`\n",
        "\n",
        "정수 리스트를 만들어 낸다."
      ]
    },
    {
      "cell_type": "code",
      "metadata": {
        "colab": {
          "base_uri": "https://localhost:8080/"
        },
        "id": "Jm_Zg11uEp6B",
        "outputId": "33155cec-4c2c-4b22-867b-abedd056d5b0"
      },
      "source": [
        "# 1 ~ 100 까지 리스트에 넣어서 for문을 이용해서 출력\n",
        "# numbers = [1, 2, 3, 4, 5, 6, 7]\n",
        "numbers = range(1, 101)\n",
        "numbers"
      ],
      "execution_count": null,
      "outputs": [
        {
          "output_type": "execute_result",
          "data": {
            "text/plain": [
              "range(1, 101)"
            ]
          },
          "metadata": {},
          "execution_count": 221
        }
      ]
    },
    {
      "cell_type": "code",
      "metadata": {
        "colab": {
          "base_uri": "https://localhost:8080/"
        },
        "id": "EdDroePCFAAv",
        "outputId": "1b91dcf1-53df-46fe-a233-81723c03bdcd"
      },
      "source": [
        "print(list(numbers))"
      ],
      "execution_count": null,
      "outputs": [
        {
          "output_type": "stream",
          "name": "stdout",
          "text": [
            "[1, 2, 3, 4, 5, 6, 7, 8, 9, 10, 11, 12, 13, 14, 15, 16, 17, 18, 19, 20, 21, 22, 23, 24, 25, 26, 27, 28, 29, 30, 31, 32, 33, 34, 35, 36, 37, 38, 39, 40, 41, 42, 43, 44, 45, 46, 47, 48, 49, 50, 51, 52, 53, 54, 55, 56, 57, 58, 59, 60, 61, 62, 63, 64, 65, 66, 67, 68, 69, 70, 71, 72, 73, 74, 75, 76, 77, 78, 79, 80, 81, 82, 83, 84, 85, 86, 87, 88, 89, 90, 91, 92, 93, 94, 95, 96, 97, 98, 99, 100]\n"
          ]
        }
      ]
    },
    {
      "cell_type": "code",
      "metadata": {
        "colab": {
          "base_uri": "https://localhost:8080/"
        },
        "id": "hTpToxB8FCRA",
        "outputId": "0726d661-ff41-4b5f-f982-00dbd342157f"
      },
      "source": [
        "for i in range(1, 50, 5):\n",
        "  print(i)"
      ],
      "execution_count": null,
      "outputs": [
        {
          "output_type": "stream",
          "name": "stdout",
          "text": [
            "1\n",
            "6\n",
            "11\n",
            "16\n",
            "21\n",
            "26\n",
            "31\n",
            "36\n",
            "41\n",
            "46\n"
          ]
        }
      ]
    },
    {
      "cell_type": "code",
      "metadata": {
        "colab": {
          "base_uri": "https://localhost:8080/"
        },
        "id": "7YD5jVYlKMQy",
        "outputId": "d5f1c5ff-f929-4654-9da7-767f2d0e53f7"
      },
      "source": [
        "numbers = list(range(10)) # 0 ~ 9\n",
        "numbers"
      ],
      "execution_count": null,
      "outputs": [
        {
          "output_type": "execute_result",
          "data": {
            "text/plain": [
              "[0, 1, 2, 3, 4, 5, 6, 7, 8, 9]"
            ]
          },
          "metadata": {},
          "execution_count": 225
        }
      ]
    },
    {
      "cell_type": "code",
      "metadata": {
        "colab": {
          "base_uri": "https://localhost:8080/"
        },
        "id": "sSd3VyxMKS5w",
        "outputId": "4825d4d4-22b3-4642-9b09-ee3f7e08086e"
      },
      "source": [
        "numbers = list(range(0, 10)) # 0 ~ 9\n",
        "numbers"
      ],
      "execution_count": null,
      "outputs": [
        {
          "output_type": "execute_result",
          "data": {
            "text/plain": [
              "[0, 1, 2, 3, 4, 5, 6, 7, 8, 9]"
            ]
          },
          "metadata": {},
          "execution_count": 226
        }
      ]
    },
    {
      "cell_type": "code",
      "metadata": {
        "id": "2a87SEMhKXWg",
        "colab": {
          "base_uri": "https://localhost:8080/"
        },
        "outputId": "d68c2832-f7d4-4cf1-998e-b4e5968bceea"
      },
      "source": [
        "numbers = list(range(0, 10, 2))\n",
        "numbers"
      ],
      "execution_count": null,
      "outputs": [
        {
          "output_type": "execute_result",
          "data": {
            "text/plain": [
              "[0, 2, 4, 6, 8]"
            ]
          },
          "metadata": {},
          "execution_count": 227
        }
      ]
    },
    {
      "cell_type": "code",
      "metadata": {
        "colab": {
          "base_uri": "https://localhost:8080/"
        },
        "id": "r-ezS-0IK0Pw",
        "outputId": "679d7a17-9c17-42e6-8132-2b491e82f53a"
      },
      "source": [
        "numbers = list(range(100, 105))\n",
        "numbers"
      ],
      "execution_count": null,
      "outputs": [
        {
          "output_type": "execute_result",
          "data": {
            "text/plain": [
              "[100, 101, 102, 103, 104]"
            ]
          },
          "metadata": {},
          "execution_count": 229
        }
      ]
    },
    {
      "cell_type": "markdown",
      "metadata": {
        "id": "l7pW5FzsFGJP"
      },
      "source": [
        "# #6. 함수(function)\n",
        "* 반복되는 코드를 묶음\n",
        "* 코드를 **재사용** 할 수 있게 해준다.\n"
      ]
    },
    {
      "cell_type": "code",
      "metadata": {
        "colab": {
          "base_uri": "https://localhost:8080/"
        },
        "id": "qO57f-yAKEo7",
        "outputId": "fb9e9127-479a-47f9-c257-c7d26b0140b5"
      },
      "source": [
        "# 점수가 90점 이상이면 A, 80점 이상이면 B, 그 외 C\n",
        "score = 88\n",
        "\n",
        "if score >= 90:\n",
        "  print(\"A\")\n",
        "elif score >= 80:\n",
        "  print(\"B\")\n",
        "else:\n",
        "  print(\"C\")\n"
      ],
      "execution_count": null,
      "outputs": [
        {
          "output_type": "stream",
          "name": "stdout",
          "text": [
            "B\n"
          ]
        }
      ]
    },
    {
      "cell_type": "code",
      "metadata": {
        "colab": {
          "base_uri": "https://localhost:8080/"
        },
        "id": "NfWikZm7Lngr",
        "outputId": "1ef5f14d-fb56-4591-fe79-92fbd3352215"
      },
      "source": [
        "score = 100\n",
        "\n",
        "if score >= 90:\n",
        "  print(\"A\")\n",
        "elif score >= 80:\n",
        "  print(\"B\")\n",
        "else:\n",
        "  print(\"C\")"
      ],
      "execution_count": null,
      "outputs": [
        {
          "output_type": "stream",
          "name": "stdout",
          "text": [
            "A\n"
          ]
        }
      ]
    },
    {
      "cell_type": "code",
      "metadata": {
        "colab": {
          "base_uri": "https://localhost:8080/"
        },
        "id": "d-LG4mhWLtI6",
        "outputId": "c6fb2872-7860-4d09-e712-0ae3979406af"
      },
      "source": [
        "score = 50\n",
        "\n",
        "if score >= 90:\n",
        "  print(\"A\")\n",
        "elif score >= 80:\n",
        "  print(\"B\")\n",
        "else:\n",
        "  print(\"C\")"
      ],
      "execution_count": null,
      "outputs": [
        {
          "output_type": "stream",
          "name": "stdout",
          "text": [
            "C\n"
          ]
        }
      ]
    },
    {
      "cell_type": "markdown",
      "metadata": {
        "id": "QYk6lHI3LvTV"
      },
      "source": [
        "매번 ctrl + c, v 하면서 그 때 그 때 마다 필요한 코드를 작성하는게 과연 좋은 방법일까?"
      ]
    },
    {
      "cell_type": "code",
      "metadata": {
        "id": "lwsk66tZL4cl"
      },
      "source": [
        "# 계속 사용해야 하는 코드 뭉치(code context)를 정의를 해 놓고 필요할 때마다 사용\n",
        "# 정의 : def - 함수를 만드는 과정\n",
        "def print_grade(score):\n",
        "  if score >= 90:\n",
        "    print(\"A\")\n",
        "  elif score >= 80:\n",
        "    print(\"B\")\n",
        "  else:\n",
        "    print(\"C\")"
      ],
      "execution_count": null,
      "outputs": []
    },
    {
      "cell_type": "code",
      "metadata": {
        "colab": {
          "base_uri": "https://localhost:8080/"
        },
        "id": "DIoAdQmyMdes",
        "outputId": "ff7ece38-9e20-4078-e2f8-bc38ac82be2f"
      },
      "source": [
        "print_grade"
      ],
      "execution_count": null,
      "outputs": [
        {
          "output_type": "execute_result",
          "data": {
            "text/plain": [
              "<function __main__.print_grade>"
            ]
          },
          "metadata": {},
          "execution_count": 236
        }
      ]
    },
    {
      "cell_type": "code",
      "metadata": {
        "colab": {
          "base_uri": "https://localhost:8080/"
        },
        "id": "zfz9xFXRMfEi",
        "outputId": "fd6a3d41-35b3-45c5-8a3f-2278470d57ee"
      },
      "source": [
        "# 사용(호출) : call\n",
        "print_grade(60)"
      ],
      "execution_count": null,
      "outputs": [
        {
          "output_type": "stream",
          "name": "stdout",
          "text": [
            "C\n"
          ]
        }
      ]
    },
    {
      "cell_type": "code",
      "metadata": {
        "colab": {
          "base_uri": "https://localhost:8080/"
        },
        "id": "B3cc4EqXMnhr",
        "outputId": "9ceede2e-a84d-45e5-c8fa-832e8336983c"
      },
      "source": [
        "print_grade(100)"
      ],
      "execution_count": null,
      "outputs": [
        {
          "output_type": "stream",
          "name": "stdout",
          "text": [
            "A\n"
          ]
        }
      ]
    },
    {
      "cell_type": "code",
      "metadata": {
        "colab": {
          "base_uri": "https://localhost:8080/"
        },
        "id": "SaKDIicMMpBK",
        "outputId": "931cdbc3-ad7a-4205-b04f-29bd7502a7dc"
      },
      "source": [
        "print_grade(85)"
      ],
      "execution_count": null,
      "outputs": [
        {
          "output_type": "stream",
          "name": "stdout",
          "text": [
            "B\n"
          ]
        }
      ]
    },
    {
      "cell_type": "markdown",
      "metadata": {
        "id": "2Ud6yhmnMp2h"
      },
      "source": [
        "## 함수의 정의 방법\n",
        "```python\n",
        "def <function_name>([parameter1, parameter2, ...]):\n",
        "  ...\n",
        "  code\n",
        "  ...\n",
        "```\n",
        "* 파라미터(Parameter) : 함수 **선언**할 때 호출하는 곳에서 입력해주는 **데이터를 저장할 변수**\n",
        "* 아규먼트(Argument) : 함수를 호출하는 곳에서 함수에 **넣어주는 데이터**\n",
        "\n",
        "파라미터의 변수명과 아규먼트의 변수명은 항상 일치해야 할까요?\n",
        "  * NO!"
      ]
    },
    {
      "cell_type": "code",
      "metadata": {
        "colab": {
          "base_uri": "https://localhost:8080/"
        },
        "id": "IhXwyCO7M2or",
        "outputId": "bca79eb1-a3f2-4062-abc6-0dbe35318336"
      },
      "source": [
        "# 1. Argument( Parameter ) X, Return X\n",
        "def foo(): # Parameter가 없음!\n",
        "  print(\"Here is foo\")\n",
        "  print(\"Parameter X, Return X\")\n",
        "\n",
        "# Parameter가 없으니까 Argument를 안 넣어 준다.\n",
        "foo()"
      ],
      "execution_count": null,
      "outputs": [
        {
          "output_type": "stream",
          "name": "stdout",
          "text": [
            "Here is foo\n",
            "Parameter X, Return X\n"
          ]
        }
      ]
    },
    {
      "cell_type": "code",
      "metadata": {
        "colab": {
          "base_uri": "https://localhost:8080/"
        },
        "id": "MywYr17BPJr2",
        "outputId": "c1916c99-4370-4604-9e03-951a06f41f08"
      },
      "source": [
        "# 2. Argument(Parameter) O, Return X\n",
        "def goo(num1, num2): # num1, num2 Paramter가 있다!\n",
        "  if num1 + num2 > 10:\n",
        "    print(\"Big\")\n",
        "  else:\n",
        "    print(\"Small\")\n",
        "\n",
        "goo(1, 2) # 1, 2는 goo 함수의 Argument\n",
        "goo(10, 20) # 10, 20은 goo 함수의 Argument"
      ],
      "execution_count": null,
      "outputs": [
        {
          "output_type": "stream",
          "name": "stdout",
          "text": [
            "Small\n",
            "Big\n"
          ]
        }
      ]
    },
    {
      "cell_type": "code",
      "metadata": {
        "colab": {
          "base_uri": "https://localhost:8080/"
        },
        "id": "J9kGagkQQAvq",
        "outputId": "0747b9d7-b937-4ae2-dc2f-7895d161f12d"
      },
      "source": [
        "# 3. Argument(Parameter) X, Return O\n",
        "def hoo():\n",
        "  print(\"hoo is called\")\n",
        "  lst = range(1, 10) # 1 ~ 9 까지 정수가 만들어 짐\n",
        "  total = sum(lst)\n",
        "\n",
        "  return total # Return 값이 존재!\n",
        "\n",
        "hoo_result = hoo() # 함수 hoo는 리턴을 하기 때문에 호출 할 때 값을 변수로 받아낼 수가 있다.\n",
        "print(f\"결과 : {hoo_result}\")"
      ],
      "execution_count": null,
      "outputs": [
        {
          "output_type": "stream",
          "name": "stdout",
          "text": [
            "hoo is called\n",
            "결과 : 45\n"
          ]
        }
      ]
    },
    {
      "cell_type": "code",
      "metadata": {
        "colab": {
          "base_uri": "https://localhost:8080/"
        },
        "id": "RmyrkRe7QoDO",
        "outputId": "21745957-340c-4cc1-b3b6-4080194a33a3"
      },
      "source": [
        "# 4. Argument( Parameter ) O, Return O\n",
        "def moo(num1, num2): # Parameter 있음!\n",
        "  print(\"moo is called\")\n",
        "  return num1 + num2 # Return 있음!\n",
        "\n",
        "a = 10\n",
        "b = 20\n",
        "\n",
        "moo_result = moo(a, b)\n",
        "print(moo_result)"
      ],
      "execution_count": null,
      "outputs": [
        {
          "output_type": "stream",
          "name": "stdout",
          "text": [
            "moo is called\n",
            "30\n"
          ]
        }
      ]
    },
    {
      "cell_type": "markdown",
      "metadata": {
        "id": "KCRdcWweR2dp"
      },
      "source": [
        "## Parameter를 정의하는 방법\n",
        "1. `default parameter`\n",
        "2. 여러 아규먼트를 동시에 받기\n",
        "  * `*args`\n",
        "3. 키워드 아규먼트 사용하기\n",
        "  * `**kwargs`"
      ]
    },
    {
      "cell_type": "markdown",
      "metadata": {
        "id": "o1M7jU8ZS3kp"
      },
      "source": [
        "### Default Parameter ★★★★★\n",
        "* 함수를 호출 할 때 Argument를 넣어주지 않아도 기본적으로 파라미터가 가지고 있어야 하는 값을 지정"
      ]
    },
    {
      "cell_type": "code",
      "metadata": {
        "colab": {
          "base_uri": "https://localhost:8080/"
        },
        "id": "o3xhxzZxXX4O",
        "outputId": "c58787ba-26c5-4c17-af04-8f5bae758b02"
      },
      "source": [
        "# c에 default parameter가 설정\n",
        "# 파라미터 c에서 기본적으로 갖는 값은 30\n",
        "def koo(a, b, c=30):\n",
        "  print(a, b, c)\n",
        "\n",
        "koo(10, 20)"
      ],
      "execution_count": null,
      "outputs": [
        {
          "output_type": "stream",
          "name": "stdout",
          "text": [
            "10 20 30\n"
          ]
        }
      ]
    },
    {
      "cell_type": "code",
      "metadata": {
        "colab": {
          "base_uri": "https://localhost:8080/"
        },
        "id": "1-FYy6-dXpIr",
        "outputId": "baf842f7-a408-4d42-fc2f-d41111b7b2a2"
      },
      "source": [
        "koo(10, 20, \"Hello\") # c에 값 넣어줄 수 있다."
      ],
      "execution_count": null,
      "outputs": [
        {
          "output_type": "stream",
          "name": "stdout",
          "text": [
            "10 20 Hello\n"
          ]
        }
      ]
    },
    {
      "cell_type": "markdown",
      "metadata": {
        "id": "rtFo7GlNXyjt"
      },
      "source": [
        "### `*args`\n",
        "* 함수를 정의하면서 Argument가 `n`개가 들어 올 수도 있음...\n",
        "* `*`을 `asterisk`\n",
        "* `n`개의 positional argument를 튜플 형태로 받는다"
      ]
    },
    {
      "cell_type": "code",
      "metadata": {
        "colab": {
          "base_uri": "https://localhost:8080/"
        },
        "id": "D0NCzlhYYOW0",
        "outputId": "ca0acf7c-c26c-45b2-c553-b52e9085331d"
      },
      "source": [
        "print(1,2,3,4,1,2,3,1,2,3,1,23,1,23,1,23,123,1,12,3,767,897)"
      ],
      "execution_count": null,
      "outputs": [
        {
          "output_type": "stream",
          "name": "stdout",
          "text": [
            "1 2 3 4 1 2 3 1 2 3 1 23 1 23 1 23 123 1 12 3 767 897\n"
          ]
        }
      ]
    },
    {
      "cell_type": "code",
      "metadata": {
        "colab": {
          "base_uri": "https://localhost:8080/"
        },
        "id": "cgY-Nj81YUPw",
        "outputId": "cad06325-a0e7-438e-c25e-86e125677008"
      },
      "source": [
        "def add2(a, b):\n",
        "  return a + b\n",
        "\n",
        "add2(10, 20)"
      ],
      "execution_count": null,
      "outputs": [
        {
          "output_type": "execute_result",
          "data": {
            "text/plain": [
              "30"
            ]
          },
          "metadata": {},
          "execution_count": 255
        }
      ]
    },
    {
      "cell_type": "code",
      "metadata": {
        "colab": {
          "base_uri": "https://localhost:8080/"
        },
        "id": "KYF67goEYhoy",
        "outputId": "8a2f148e-b576-4a79-8b02-9df9baae0d45"
      },
      "source": [
        "def add3(a, b, c):\n",
        "  return a + b + c\n",
        "\n",
        "add3(10, 20, 30)"
      ],
      "execution_count": null,
      "outputs": [
        {
          "output_type": "execute_result",
          "data": {
            "text/plain": [
              "60"
            ]
          },
          "metadata": {},
          "execution_count": 256
        }
      ]
    },
    {
      "cell_type": "markdown",
      "metadata": {
        "id": "nPOeo61uY9T7"
      },
      "source": [
        "100개의 아규먼트를 받아서 더하고 싶으면?"
      ]
    },
    {
      "cell_type": "code",
      "metadata": {
        "colab": {
          "base_uri": "https://localhost:8080/"
        },
        "id": "u3jaTLNuZBom",
        "outputId": "229ed5c8-3a7c-4e06-a47e-b3f6a8720156"
      },
      "source": [
        "def add_args(*args):\n",
        "  # print(type(args), args)\n",
        "  total = sum(args) # 튜플에 있는 모든 아이템을 더하고\n",
        "  return total # 리턴\n",
        "\n",
        "add_args(1,2,3,4,5,6,7,8,9,10,1,1,1,2,3,4,1,2,3,1,2,3,1,2,31,2,3,1,2,3,6,1,2,3,1,2,3,1,2,3,5,8,9,0)"
      ],
      "execution_count": null,
      "outputs": [
        {
          "output_type": "execute_result",
          "data": {
            "text/plain": [
              "170"
            ]
          },
          "metadata": {},
          "execution_count": 259
        }
      ]
    },
    {
      "cell_type": "markdown",
      "metadata": {
        "id": "ls84LIRgZS3e"
      },
      "source": [
        "### `**kwargs`\n",
        "`n`개의 keyword argument를 `dict`형태로 받는다.\n"
      ]
    },
    {
      "cell_type": "code",
      "metadata": {
        "id": "Oki6ApXEbX7O"
      },
      "source": [
        "def yoo(a, b, **kwargs):\n",
        "  print(a)\n",
        "  print(b)\n",
        "  print(kwargs)"
      ],
      "execution_count": null,
      "outputs": []
    },
    {
      "cell_type": "code",
      "metadata": {
        "colab": {
          "base_uri": "https://localhost:8080/"
        },
        "id": "W6ScxTInbdzm",
        "outputId": "85dc0353-97c7-46f9-882c-3ece9af168f8"
      },
      "source": [
        "yoo(10, 20, c=30, d=40, e=50)"
      ],
      "execution_count": null,
      "outputs": [
        {
          "output_type": "stream",
          "name": "stdout",
          "text": [
            "10\n",
            "20\n",
            "{'c': 30, 'd': 40, 'e': 50}\n"
          ]
        }
      ]
    },
    {
      "cell_type": "code",
      "metadata": {
        "id": "pYHU45klbr0K"
      },
      "source": [
        ""
      ],
      "execution_count": null,
      "outputs": []
    }
  ]
}