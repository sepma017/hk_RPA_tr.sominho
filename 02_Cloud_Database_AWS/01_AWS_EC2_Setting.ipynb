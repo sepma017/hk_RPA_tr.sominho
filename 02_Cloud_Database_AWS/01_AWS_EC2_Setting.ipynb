{
  "nbformat": 4,
  "nbformat_minor": 0,
  "metadata": {
    "colab": {
      "name": "01. AWS EC2 Setting.ipynb",
      "provenance": [],
      "collapsed_sections": [
        "Rrj0gBiGVyyU",
        "JiEWfZ0UWch3"
      ]
    },
    "kernelspec": {
      "name": "python3",
      "display_name": "Python 3"
    },
    "language_info": {
      "name": "python"
    }
  },
  "cells": [
    {
      "cell_type": "markdown",
      "metadata": {
        "id": "U8O2XNNURDn3"
      },
      "source": [
        "# 0. 시작하기 전에...\n",
        "[아마존 AWS Console](https://aws.amazon.com/ko/) 로 들어가서 회원 가입 해주세요 😁. 준비물은 다음과 같습니다\n",
        "\n",
        "1. email\n",
        "2. 해외 결제가 가능한 신용카드\n",
        "  - 해외 결제가 가능한 신용카드가 있어야지만 가입이 가능합니다.\n",
        "  - 저희는 프리티어를 사용할 예정이라 따로 요금이 부과되진 않아요!"
      ]
    },
    {
      "cell_type": "markdown",
      "metadata": {
        "id": "tkCPsBFNRQH_"
      },
      "source": [
        "# #1. Amazon EC2 만들기\n",
        "### **EC2란?**\n",
        "\n",
        "Amazon Elastic Compute Cloud(Amazon EC2)는 Amazon Web Services(AWS) 클라우드에서 확장가능한 컴퓨터 입니다. 간단하게 이야기 하자면 **아마존에서 제공하는 컴퓨터**로 정리 할 수 있겠네요.\n",
        "\n",
        "보통 회사나 개인이 서버를 구성할 때 비용과 시간이 매우 많이 들어갑니다. 특히 개인과 신생 벤처기업 등이 서버를 만들어서 사용자들에게 서비스 하기란 쉽지 않죠.\n",
        "\n",
        "AWS EC2를 이용하면 아마존에서 미리 제공하는 서버 컴퓨터를 이용해 서비스를 위한 각종 세팅을 저렴한 비용으로 매우 빠르게 구성이 가능합니다."
      ]
    },
    {
      "cell_type": "markdown",
      "metadata": {
        "id": "Rrj0gBiGVyyU"
      },
      "source": [
        "### **EC2 인스턴스 만들기**\n",
        "\n",
        "인스턴스는 클라우드에 만들어진 컴퓨터를 의미합니다. 한번 만들어 보죠! `AWS Console`에 로그인 해주세요😁\n",
        "\n",
        "만드는 순서는 다음과 같습니다.\n",
        "\n",
        "1. ec2 콘솔 메뉴 클릭\n",
        "  * [ec2 관리](https://ap-northeast-2.console.aws.amazon.com/ec2/v2/) 로 들어오셔도 됩니다.\n",
        "2. 오른쪽 위에 있는 **인스턴스 시작** 버튼 클릭\n",
        "3. 검색창에 Ubuntu를 검색\n",
        "4. **`Ubuntu Server 20.04 LTS (HVM)`**를 찾고 오른쪽에 선택 버튼 클릭\n",
        "5. 자동으로 `t2.micro` 인스턴스가 선택 되어 있을거에요!\n",
        "  * `프리 티어 사용 가능` 배너가 붙어 있을거에요!\n",
        "  * `t2.micro`인스턴스를 선택해야 **과금이 되지 않습니다**\n",
        "6. 오른쪽 아래에 **검토 및 시작** 버튼 클릭\n",
        "7. 간단한 인스턴스 정보 확인 후에 오른쪽 아래에 **시작하기** 버튼 클릭\n",
        "8. **새 키 페어 생성** 선택 후 **키 페어 이름** 입력하기\n",
        "  * 그리고 **키 페어 다운로드** 버튼을 눌러야 다음 단계로 이동이 가능합니다.\n",
        "    * **주의⚠️ : 다운 받은 키 페어 파일을 잃어버리면 인스턴스를 처음부터 만들어야 하니, 관리에 유의하세요**\n",
        "  * 키 페어 이름은 마음대로 정해주셔도 됩니다. 단 영어, 언더바(_), 숫자만 활용하는 것을 추천해요.\n",
        "9. **인스턴스 시작** 버튼 클릭\n",
        "  * **키 페어를 다운 받지 않으면 인스턴스 시작 버튼이 비활성화 되어 있습니다.**\n",
        "\n",
        "\n"
      ]
    },
    {
      "cell_type": "markdown",
      "metadata": {
        "id": "JiEWfZ0UWch3"
      },
      "source": [
        "### **EC2 인스턴스 확인하기**\n",
        "설정 완료 후 **인스턴스 보기** 버튼을 누르면 방금 만든 인스턴스 및 이전에 만들어 놨던 인스턴스들의 목록이 보입니다."
      ]
    },
    {
      "cell_type": "markdown",
      "metadata": {
        "id": "WibqVZhiddjE"
      },
      "source": [
        "# #2. Amazon EC2에 접속하기\n",
        "\n",
        "접속 하기 전에 몇 가지 확인해야 할 사항들이 있습니다. 방금 만든 인스턴스를 클릭하면 **인스턴스 세부 정보**를 확인 할 수 있습니다.\n",
        "\n",
        "무엇을 확인해야 하는지 살펴볼까요?\n",
        "\n",
        "1. 퍼블릭 IPv4 주소\n",
        "  * 외부에서 접속할 IP 주소 입니다. 이 IP 주소를 이용하면 여러분이 어디에 계시든 EC2에 접속이 가능합니다.\n",
        "  * 인스턴스 정지 후 다시 시작(재 부팅) 하면 퍼블릭 IPv4 주소가 바뀌게 됩니다. AWS에서 하나의 인스턴스가 정지 되더라도 IP 주소를 독점하는 것을 방지하기 위함인데요, 이를 방지하기 위해 **탄력적 IP**설정을 고려해 볼 수 있습니다. (과금이 있어요!)\n",
        "2. 프라이빗 IPv4 주소\n",
        "  * EC2 내의 서비스들 끼리 통신 할 때 필요한 주소 입니다.\n",
        "  * 같은 EC2내에 MySQL 서버와 Django 서버가 통신해야 한다면 이 프라이빗 IPv4 주소를 사용하게 됩니다.\n",
        "  * 즉 하나의 컴퓨터 내부에서 통신을 하기 위해 필요한 IP 주소입니다.\n",
        "3. `.pem` 파일\n",
        "  * 인스턴스 생성 시에 다운 받았던 `.pem` 파일은 열쇠의 역할을 합니다. 아무나 여러분들이 만든 인스턴스에 접속하면 안되겠죠? 따라서 인스턴스로의 보안접속(`ssh`)을 하기 위해 반드시 필요한 파일입니다."
      ]
    },
    {
      "cell_type": "markdown",
      "metadata": {
        "id": "rD0DN3MMd5hS"
      },
      "source": [
        "## 2-1. Windows에서 EC2에 접속하기\n",
        "\n",
        "Windows10을 사용하는 경우엔 `Putty`, `Cmder`, `Power Shell`을 사용하여 접속이 가능합니다. `Power Shell`은 Windows 10에 자동으로 설치가 되어 있으며, `cmder`와 `Putty`는 다운로드를 받아야 합니다.\n",
        "\n",
        "* `cmder` : [cmder 다운로드](https://github.com/cmderdev/cmder/releases/download/v1.3.18/cmder.zip)\n",
        "\n",
        "`Putty`는 보안접속을 위해 설정할 내용이 있어서 `cmder`로 하시는 것을 추천 드립니다😅\n",
        "\n",
        "`cmder`를 다운 받고 실행 하고, 다음 코드를 입력해 주세요.\n",
        "\n",
        "```\n",
        "C:/User/[사용자명]\n",
        "ƛ mv ~/Downloads/[pem 파일 이름].pem ~/.ssh\n",
        "```\n",
        "위 코드는 `.pem` 파일을 `.ssh` 폴더로 옮겨주게 됩니다. 이어서 다음과 같이 입력해 보세요\n",
        "\n",
        "```\n",
        "C:/User/[사용자명]\n",
        "ƛ ssh ~/.ssh/[pem 파일 이름].pem ubuntu@[퍼블릭 IP]\n",
        "```\n",
        "\n",
        "위 코드를 최초로 입력하면 접속을 위한 pem 파일을 등록하는 메세지가 등장합니다.\n",
        "```\n",
        "The authenticity of host '퍼블릭 IP (퍼블릭 IP)' can't be established.\n",
        "ECDSA key fingerprint is SHA256:WqNP3cGFzziM2MIoh/Fh1NNc91tMj2W9MCCVdIw6lfU.\n",
        "Are you sure you want to continue connecting (yes/no/[fingerprint])?\n",
        "```\n",
        "\n",
        "이 메세지가 뜨면 **반드시 `yes`**를 입력해 주세요\n",
        "\n",
        "```\n",
        "...\n",
        "Are you sure you want to continue connecting (yes/no/[fingerprint])? yes\n",
        "```\n",
        "\n",
        "다음과 같이 뜨면 성공입니다!\n",
        "```\n",
        "...생략...\n",
        "ubuntu@[ip-프라이빗 IP]:~$\n",
        "```"
      ]
    },
    {
      "cell_type": "markdown",
      "metadata": {
        "id": "tpV-loMRisAp"
      },
      "source": [
        "## 2-2. Mac에서 EC2에 접속하기\n",
        "\n",
        "Mac과 리눅스 운영체제는 기본 `Terminal`이나 `iterm`( with `zshrc` )를 이용하면 손쉽게 `ssh` 접속이 가능합니다. 둘 중 아무거나 열고 다음과 같이 입력해 주세요\n",
        "\n",
        "```\n",
        "$ mv ~/Downloads/[pem 파일 이름].pem ~/.ssh\n",
        "```\n",
        "위 코드는 `.pem` 파일을 `.ssh` 폴더로 옮겨주게 됩니다. 이어서 다음과 같이 입력해 보세요\n",
        "\n",
        "```\n",
        "$ chmod 400 ~/.ssh/[pem 파일 이름].pem\n",
        "```\n",
        "위 코드는 `.pem` 파일을 사용할 수 있도록 권한으르 부여합니다. 이어서 EC2로 접속해 보겠습니다.\n",
        "\n",
        "```\n",
        "$ ssh - i~/.ssh/[pem 파일 이름].pem ubuntu@[퍼블릭 IP]\n",
        "```\n",
        "\n",
        "위 코드를 최초로 입력하면 접속을 위한 pem 파일을 등록하는 메세지가 등장합니다.\n",
        "```\n",
        "The authenticity of host '퍼블릭 IP (퍼블릭 IP)' can't be established.\n",
        "ECDSA key fingerprint is SHA256:WqNP3cGFzziM2MIoh/Fh1NNc91tMj2W9MCCVdIw6lfU.\n",
        "Are you sure you want to continue connecting (yes/no/[fingerprint])?\n",
        "```\n",
        "\n",
        "이 메세지가 뜨면 **반드시 `yes`**를 입력해 주세요\n",
        "\n",
        "```\n",
        "...\n",
        "Are you sure you want to continue connecting (yes/no/[fingerprint])? yes\n",
        "```\n",
        "\n",
        "다음과 같이 뜨면 성공입니다!\n",
        "```\n",
        "...생략...\n",
        "ubuntu@ip-[프라이빗 IP]:~$\n",
        "```"
      ]
    },
    {
      "cell_type": "markdown",
      "metadata": {
        "id": "wQXXH16hmJxL"
      },
      "source": [
        "# #3. EC2에 MySQL 설치 및 설정하기\n",
        "\n",
        "EC2를 이용하면 어디에서든 `ssh`를 이용해 접속할 수 있게 됩니다. 마찬가지로 EC2에 `MySQL`을 설치하여 어디에서든 데이터베이스를 사용할 수 있도록 해보겠습니다.\n",
        "\n",
        "---\n",
        "\n",
        "### `apt-get update`하기\n",
        "최신 버전의 프로그램을 다운로드 하기 위해 `apt-get`을 업데이트 합니다\n",
        "  * `sudo apt-get update`\n",
        "\n",
        "---\n",
        "\n",
        "### `mysql-server`, `mysql-client` 설치\n",
        "웹에서 mysql을 다운로드 하고 설치합니다.\n",
        "* `$ sudo apt install mysql-server`\n",
        "* `mysql 8.x`이 설치됩니다.\n",
        "---\n",
        "\n",
        "### `MySQL` 보안 설정 ( n-y-n-y-y 순으로 입력해줍니다. ) \n",
        "\n",
        "각종 보안을 위해 설정합니다. 실무와 수업은 다르기 때문에 보안을 약하게 하고, 외부에서 접속이 가능하도록 설정할 예정입니다. 잘못 입력하면 `mysql`을 지우고 다시 설치해야 하기 때문에 반드시 **천천히** 해주세요\n",
        "\n",
        "* `$ sudo mysql_secure_installation`\n",
        "\n",
        "**설정 방법**\n",
        "\n",
        "1. 패스워드를 단순하게 설정할 수 있게합니다. **n**을 입력합니다.\n",
        "\n",
        "  * ```\n",
        "    Would you like to setup VALIDATE PASSWORD plugin? Press y|Y for Yes, any other key for No: n\n",
        "패스워드 설정 : 1111\n",
        "  ```\n",
        "2. 기본적으로 설정 되어있는 익명 사용자를 삭제합니다. **y**를 입력합니다.\n",
        "\n",
        "  * ```\n",
        "Remove anonymous users? (Press y|Y for Yes, any other key for No) : y\n",
        "```\n",
        "3. 내부에서만 로그인 할 수 있도록 설정합니다. **n**을 입력합니다.\n",
        " * ```\n",
        "Disallow root login remotely? (Press y|Y for Yes, any other key for No) : n\n",
        "```\n",
        "4. 테스트 데이터베이스를 제거합니다. **y**를 입력합니다.\n",
        "  * ```\n",
        " Remove test database and access to it? (Press y|Y for Yes, any other key for No) : y\n",
        "```\n",
        "5. 변경된 설정을 다시 불러옵니다. **y**를 입력합니다.\n",
        " * ```\n",
        "Reload privilege tables now? (Press y|Y for Yes, any other key for No) : y\n",
        "```"
      ]
    },
    {
      "cell_type": "markdown",
      "metadata": {
        "id": "qDqaiOQ3rJYn"
      },
      "source": [
        "# #4. MySQL 권한 설정\n",
        "```\n",
        "ubuntu@ip-<YOUR PRIVATE IP>:~$ sudo mysql -u root -p\n",
        "mysql> SELECT user,authentication_string,plugin,host FROM mysql.user;\n",
        "mysql> ALTER USER 'root'@'localhost' IDENTIFIED WITH mysql_native_password BY '1111';\n",
        "mysql> FLUSH PRIVILEGES;\n",
        "mysql> exit\n",
        "ubuntu@ip-<YOUR PRIVATE IP>:~$ mysql -u root -p\n",
        "ubuntu@ip-<YOUR PRIVATE IP>:~$ sudo vi /etc/mysql/mysql.conf.d/mysqld.cnf\n",
        "  bind-address 찾아서 0.0.0.0으로 설정\n",
        "\n",
        "ubuntu@ip-<YOUR PRIVATE IP>:~$ mysql -u root -p\n",
        "mysql> CREATE USER '<계정명>'@'%' IDENTIFIED BY '<비밀번호>';\n",
        "mysql> GRANT ALL PRIVILEGES ON *.* to 'mhso'@'%';\n",
        "mysql> FLUSH PRIVILEGES;\n",
        "mysql> exit\n",
        "ubuntu@ip-<YOUR PRIVATE IP>:~$ sudo systemctl restart mysql.service\n",
        "```"
      ]
    },
    {
      "cell_type": "code",
      "metadata": {
        "id": "1ChnqjnvMueY"
      },
      "source": [
        ""
      ],
      "execution_count": null,
      "outputs": []
    }
  ]
}